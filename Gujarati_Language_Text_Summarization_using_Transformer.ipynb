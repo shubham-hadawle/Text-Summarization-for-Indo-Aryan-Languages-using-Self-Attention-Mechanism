{
  "nbformat": 4,
  "nbformat_minor": 0,
  "metadata": {
    "colab": {
      "provenance": [],
      "gpuType": "T4",
      "collapsed_sections": [
        "26YA1Ta-f1li",
        "5G0mqcrPwuFI",
        "xn0bOX9Jygju",
        "okbKsZjd3qIg",
        "SX2v535D7aFh",
        "ZopRw5uTLHx1",
        "12m5eijBNuxp",
        "ugwS5_VDNzdp"
      ]
    },
    "kernelspec": {
      "name": "python3",
      "display_name": "Python 3"
    },
    "language_info": {
      "name": "python"
    },
    "accelerator": "GPU"
  },
  "cells": [
    {
      "cell_type": "markdown",
      "source": [
        "# Loading Data"
      ],
      "metadata": {
        "id": "26YA1Ta-f1li"
      }
    },
    {
      "cell_type": "code",
      "execution_count": null,
      "metadata": {
        "colab": {
          "base_uri": "https://localhost:8080/"
        },
        "id": "WGWAneqTrwcl",
        "outputId": "f1272294-3d04-480e-8b6e-f3073c35086a"
      },
      "outputs": [
        {
          "output_type": "stream",
          "name": "stdout",
          "text": [
            "Mounted at /content/drive\n"
          ]
        }
      ],
      "source": [
        "from google.colab import drive\n",
        "drive.mount('/content/drive')"
      ]
    },
    {
      "cell_type": "code",
      "source": [
        "import pandas as pd\n",
        "import torch\n",
        "import random\n",
        "import numpy as np\n",
        "import matplotlib.pyplot as plt"
      ],
      "metadata": {
        "id": "sZa8IaKYugey"
      },
      "execution_count": null,
      "outputs": []
    },
    {
      "cell_type": "code",
      "source": [
        "filePathTrain = '/content/drive/MyDrive/Indic Language Dataset/Guj_train.csv'\n",
        "df_train = pd.read_csv(filePathTrain)\n",
        "df_train.head()"
      ],
      "metadata": {
        "colab": {
          "base_uri": "https://localhost:8080/"
        },
        "id": "1zxKxZBZuhy8",
        "outputId": "d73d4197-cdfa-46d7-ed5f-e1c251ea33dc"
      },
      "execution_count": null,
      "outputs": [
        {
          "output_type": "execute_result",
          "data": {
            "text/plain": [
              "                                 id  \\\n",
              "0  b65e86e963ba642d1c4eb8d0d31c9edc   \n",
              "1  656c3c9240508df5e761077b49c2ae3b   \n",
              "2  b7e01e0d967b32358e89304a757154f1   \n",
              "3  b1957ae63894b028fc4b3da17453f694   \n",
              "4  7c248d053dfe28ab92350f2099bca134   \n",
              "\n",
              "                                                Link  \\\n",
              "0  https://www.divyabhaskar.co.in/local/gujarat/s...   \n",
              "1  https://www.divyabhaskar.co.in/local/gujarat/m...   \n",
              "2  https://www.divyabhaskar.co.in/local/gujarat/s...   \n",
              "3  https://www.divyabhaskar.co.in/local/gujarat/v...   \n",
              "4  https://gujarati.news18.com/news/madhya-gujara...   \n",
              "\n",
              "                                             Heading  \\\n",
              "0  ગેરરીતિ મામલે કાર્યવાહી:મોરબીમાં ઈમ્પેક્ટ ફી વ...   \n",
              "1  રજૂઆત:ભાગીને લગ્ન કરતી દીકરી માટે લગ્ન નોંધણીમ...   \n",
              "2  રજૂઆત:લખતરથી ખેરવા જતી માઇનોર કેનાલ બિસ્માર હા...   \n",
              "3  વડોદરામાં નર્સની ફરજ નિષ્ઠા:પતિ સરહદ પર દેશની ...   \n",
              "4  Ahmedabad crime news: મંદિરના ગેટ આગળ બહાર દાર...   \n",
              "\n",
              "                                             Summary  \\\n",
              "0  વસુલાતનું સઘળું રેકોર્ડ રજૂ કરવા કર્મચારીઓને ત...   \n",
              "1  ચોરાસી કડવા પાટીદાર સમાજની કારોબારીમાં સરકારમા...   \n",
              "2  અવારનવાર કેનાલ તૂટી જતી હોવાથી ખેતરોમાં પાણી વ...   \n",
              "3  કારેલીબાગ વિસ્તારની ધનંજય સ્કૂલમાં દીકરીને સાથ...   \n",
              "4  Ahmedabad crime news: સામાન્ય બાબતે ઉગ્ર સ્વરુ...   \n",
              "\n",
              "                                             Article  \n",
              "0  વિશ્વના બીજા નંબરના સૌથી મોટા સિરામીક ઉદ્યોગનુ...  \n",
              "1  ચોરાસી કડવા પાટીદાર સમાજની કારોબારી સભામાં ભાગ...  \n",
              "2  ધ્રાંગધ્રા- સોખડા ગામ પાસેથી લખતરથી ખેરવા જતી ...  \n",
              "3  જૂન-2020માં કોરોનાની મહામારી પરાકાષ્ઠાએ હતી, ત...  \n",
              "4  અમદાવાદઃ સુરતના (surat news) અમરોલીમાં પોલીસ સ...  "
            ],
            "text/html": [
              "\n",
              "  <div id=\"df-a3ddf68c-a7d8-4a11-a97c-106ea746a9a8\" class=\"colab-df-container\">\n",
              "    <div>\n",
              "<style scoped>\n",
              "    .dataframe tbody tr th:only-of-type {\n",
              "        vertical-align: middle;\n",
              "    }\n",
              "\n",
              "    .dataframe tbody tr th {\n",
              "        vertical-align: top;\n",
              "    }\n",
              "\n",
              "    .dataframe thead th {\n",
              "        text-align: right;\n",
              "    }\n",
              "</style>\n",
              "<table border=\"1\" class=\"dataframe\">\n",
              "  <thead>\n",
              "    <tr style=\"text-align: right;\">\n",
              "      <th></th>\n",
              "      <th>id</th>\n",
              "      <th>Link</th>\n",
              "      <th>Heading</th>\n",
              "      <th>Summary</th>\n",
              "      <th>Article</th>\n",
              "    </tr>\n",
              "  </thead>\n",
              "  <tbody>\n",
              "    <tr>\n",
              "      <th>0</th>\n",
              "      <td>b65e86e963ba642d1c4eb8d0d31c9edc</td>\n",
              "      <td>https://www.divyabhaskar.co.in/local/gujarat/s...</td>\n",
              "      <td>ગેરરીતિ મામલે કાર્યવાહી:મોરબીમાં ઈમ્પેક્ટ ફી વ...</td>\n",
              "      <td>વસુલાતનું સઘળું રેકોર્ડ રજૂ કરવા કર્મચારીઓને ત...</td>\n",
              "      <td>વિશ્વના બીજા નંબરના સૌથી મોટા સિરામીક ઉદ્યોગનુ...</td>\n",
              "    </tr>\n",
              "    <tr>\n",
              "      <th>1</th>\n",
              "      <td>656c3c9240508df5e761077b49c2ae3b</td>\n",
              "      <td>https://www.divyabhaskar.co.in/local/gujarat/m...</td>\n",
              "      <td>રજૂઆત:ભાગીને લગ્ન કરતી દીકરી માટે લગ્ન નોંધણીમ...</td>\n",
              "      <td>ચોરાસી કડવા પાટીદાર સમાજની કારોબારીમાં સરકારમા...</td>\n",
              "      <td>ચોરાસી કડવા પાટીદાર સમાજની કારોબારી સભામાં ભાગ...</td>\n",
              "    </tr>\n",
              "    <tr>\n",
              "      <th>2</th>\n",
              "      <td>b7e01e0d967b32358e89304a757154f1</td>\n",
              "      <td>https://www.divyabhaskar.co.in/local/gujarat/s...</td>\n",
              "      <td>રજૂઆત:લખતરથી ખેરવા જતી માઇનોર કેનાલ બિસ્માર હા...</td>\n",
              "      <td>અવારનવાર કેનાલ તૂટી જતી હોવાથી ખેતરોમાં પાણી વ...</td>\n",
              "      <td>ધ્રાંગધ્રા- સોખડા ગામ પાસેથી લખતરથી ખેરવા જતી ...</td>\n",
              "    </tr>\n",
              "    <tr>\n",
              "      <th>3</th>\n",
              "      <td>b1957ae63894b028fc4b3da17453f694</td>\n",
              "      <td>https://www.divyabhaskar.co.in/local/gujarat/v...</td>\n",
              "      <td>વડોદરામાં નર્સની ફરજ નિષ્ઠા:પતિ સરહદ પર દેશની ...</td>\n",
              "      <td>કારેલીબાગ વિસ્તારની ધનંજય સ્કૂલમાં દીકરીને સાથ...</td>\n",
              "      <td>જૂન-2020માં કોરોનાની મહામારી પરાકાષ્ઠાએ હતી, ત...</td>\n",
              "    </tr>\n",
              "    <tr>\n",
              "      <th>4</th>\n",
              "      <td>7c248d053dfe28ab92350f2099bca134</td>\n",
              "      <td>https://gujarati.news18.com/news/madhya-gujara...</td>\n",
              "      <td>Ahmedabad crime news: મંદિરના ગેટ આગળ બહાર દાર...</td>\n",
              "      <td>Ahmedabad crime news: સામાન્ય બાબતે ઉગ્ર સ્વરુ...</td>\n",
              "      <td>અમદાવાદઃ સુરતના (surat news) અમરોલીમાં પોલીસ સ...</td>\n",
              "    </tr>\n",
              "  </tbody>\n",
              "</table>\n",
              "</div>\n",
              "    <div class=\"colab-df-buttons\">\n",
              "\n",
              "  <div class=\"colab-df-container\">\n",
              "    <button class=\"colab-df-convert\" onclick=\"convertToInteractive('df-a3ddf68c-a7d8-4a11-a97c-106ea746a9a8')\"\n",
              "            title=\"Convert this dataframe to an interactive table.\"\n",
              "            style=\"display:none;\">\n",
              "\n",
              "  <svg xmlns=\"http://www.w3.org/2000/svg\" height=\"24px\" viewBox=\"0 -960 960 960\">\n",
              "    <path d=\"M120-120v-720h720v720H120Zm60-500h600v-160H180v160Zm220 220h160v-160H400v160Zm0 220h160v-160H400v160ZM180-400h160v-160H180v160Zm440 0h160v-160H620v160ZM180-180h160v-160H180v160Zm440 0h160v-160H620v160Z\"/>\n",
              "  </svg>\n",
              "    </button>\n",
              "\n",
              "  <style>\n",
              "    .colab-df-container {\n",
              "      display:flex;\n",
              "      gap: 12px;\n",
              "    }\n",
              "\n",
              "    .colab-df-convert {\n",
              "      background-color: #E8F0FE;\n",
              "      border: none;\n",
              "      border-radius: 50%;\n",
              "      cursor: pointer;\n",
              "      display: none;\n",
              "      fill: #1967D2;\n",
              "      height: 32px;\n",
              "      padding: 0 0 0 0;\n",
              "      width: 32px;\n",
              "    }\n",
              "\n",
              "    .colab-df-convert:hover {\n",
              "      background-color: #E2EBFA;\n",
              "      box-shadow: 0px 1px 2px rgba(60, 64, 67, 0.3), 0px 1px 3px 1px rgba(60, 64, 67, 0.15);\n",
              "      fill: #174EA6;\n",
              "    }\n",
              "\n",
              "    .colab-df-buttons div {\n",
              "      margin-bottom: 4px;\n",
              "    }\n",
              "\n",
              "    [theme=dark] .colab-df-convert {\n",
              "      background-color: #3B4455;\n",
              "      fill: #D2E3FC;\n",
              "    }\n",
              "\n",
              "    [theme=dark] .colab-df-convert:hover {\n",
              "      background-color: #434B5C;\n",
              "      box-shadow: 0px 1px 3px 1px rgba(0, 0, 0, 0.15);\n",
              "      filter: drop-shadow(0px 1px 2px rgba(0, 0, 0, 0.3));\n",
              "      fill: #FFFFFF;\n",
              "    }\n",
              "  </style>\n",
              "\n",
              "    <script>\n",
              "      const buttonEl =\n",
              "        document.querySelector('#df-a3ddf68c-a7d8-4a11-a97c-106ea746a9a8 button.colab-df-convert');\n",
              "      buttonEl.style.display =\n",
              "        google.colab.kernel.accessAllowed ? 'block' : 'none';\n",
              "\n",
              "      async function convertToInteractive(key) {\n",
              "        const element = document.querySelector('#df-a3ddf68c-a7d8-4a11-a97c-106ea746a9a8');\n",
              "        const dataTable =\n",
              "          await google.colab.kernel.invokeFunction('convertToInteractive',\n",
              "                                                    [key], {});\n",
              "        if (!dataTable) return;\n",
              "\n",
              "        const docLinkHtml = 'Like what you see? Visit the ' +\n",
              "          '<a target=\"_blank\" href=https://colab.research.google.com/notebooks/data_table.ipynb>data table notebook</a>'\n",
              "          + ' to learn more about interactive tables.';\n",
              "        element.innerHTML = '';\n",
              "        dataTable['output_type'] = 'display_data';\n",
              "        await google.colab.output.renderOutput(dataTable, element);\n",
              "        const docLink = document.createElement('div');\n",
              "        docLink.innerHTML = docLinkHtml;\n",
              "        element.appendChild(docLink);\n",
              "      }\n",
              "    </script>\n",
              "  </div>\n",
              "\n",
              "\n",
              "<div id=\"df-3885e1c0-1f9a-4eed-9cf4-7c2e5a1b06c3\">\n",
              "  <button class=\"colab-df-quickchart\" onclick=\"quickchart('df-3885e1c0-1f9a-4eed-9cf4-7c2e5a1b06c3')\"\n",
              "            title=\"Suggest charts\"\n",
              "            style=\"display:none;\">\n",
              "\n",
              "<svg xmlns=\"http://www.w3.org/2000/svg\" height=\"24px\"viewBox=\"0 0 24 24\"\n",
              "     width=\"24px\">\n",
              "    <g>\n",
              "        <path d=\"M19 3H5c-1.1 0-2 .9-2 2v14c0 1.1.9 2 2 2h14c1.1 0 2-.9 2-2V5c0-1.1-.9-2-2-2zM9 17H7v-7h2v7zm4 0h-2V7h2v10zm4 0h-2v-4h2v4z\"/>\n",
              "    </g>\n",
              "</svg>\n",
              "  </button>\n",
              "\n",
              "<style>\n",
              "  .colab-df-quickchart {\n",
              "      --bg-color: #E8F0FE;\n",
              "      --fill-color: #1967D2;\n",
              "      --hover-bg-color: #E2EBFA;\n",
              "      --hover-fill-color: #174EA6;\n",
              "      --disabled-fill-color: #AAA;\n",
              "      --disabled-bg-color: #DDD;\n",
              "  }\n",
              "\n",
              "  [theme=dark] .colab-df-quickchart {\n",
              "      --bg-color: #3B4455;\n",
              "      --fill-color: #D2E3FC;\n",
              "      --hover-bg-color: #434B5C;\n",
              "      --hover-fill-color: #FFFFFF;\n",
              "      --disabled-bg-color: #3B4455;\n",
              "      --disabled-fill-color: #666;\n",
              "  }\n",
              "\n",
              "  .colab-df-quickchart {\n",
              "    background-color: var(--bg-color);\n",
              "    border: none;\n",
              "    border-radius: 50%;\n",
              "    cursor: pointer;\n",
              "    display: none;\n",
              "    fill: var(--fill-color);\n",
              "    height: 32px;\n",
              "    padding: 0;\n",
              "    width: 32px;\n",
              "  }\n",
              "\n",
              "  .colab-df-quickchart:hover {\n",
              "    background-color: var(--hover-bg-color);\n",
              "    box-shadow: 0 1px 2px rgba(60, 64, 67, 0.3), 0 1px 3px 1px rgba(60, 64, 67, 0.15);\n",
              "    fill: var(--button-hover-fill-color);\n",
              "  }\n",
              "\n",
              "  .colab-df-quickchart-complete:disabled,\n",
              "  .colab-df-quickchart-complete:disabled:hover {\n",
              "    background-color: var(--disabled-bg-color);\n",
              "    fill: var(--disabled-fill-color);\n",
              "    box-shadow: none;\n",
              "  }\n",
              "\n",
              "  .colab-df-spinner {\n",
              "    border: 2px solid var(--fill-color);\n",
              "    border-color: transparent;\n",
              "    border-bottom-color: var(--fill-color);\n",
              "    animation:\n",
              "      spin 1s steps(1) infinite;\n",
              "  }\n",
              "\n",
              "  @keyframes spin {\n",
              "    0% {\n",
              "      border-color: transparent;\n",
              "      border-bottom-color: var(--fill-color);\n",
              "      border-left-color: var(--fill-color);\n",
              "    }\n",
              "    20% {\n",
              "      border-color: transparent;\n",
              "      border-left-color: var(--fill-color);\n",
              "      border-top-color: var(--fill-color);\n",
              "    }\n",
              "    30% {\n",
              "      border-color: transparent;\n",
              "      border-left-color: var(--fill-color);\n",
              "      border-top-color: var(--fill-color);\n",
              "      border-right-color: var(--fill-color);\n",
              "    }\n",
              "    40% {\n",
              "      border-color: transparent;\n",
              "      border-right-color: var(--fill-color);\n",
              "      border-top-color: var(--fill-color);\n",
              "    }\n",
              "    60% {\n",
              "      border-color: transparent;\n",
              "      border-right-color: var(--fill-color);\n",
              "    }\n",
              "    80% {\n",
              "      border-color: transparent;\n",
              "      border-right-color: var(--fill-color);\n",
              "      border-bottom-color: var(--fill-color);\n",
              "    }\n",
              "    90% {\n",
              "      border-color: transparent;\n",
              "      border-bottom-color: var(--fill-color);\n",
              "    }\n",
              "  }\n",
              "</style>\n",
              "\n",
              "  <script>\n",
              "    async function quickchart(key) {\n",
              "      const quickchartButtonEl =\n",
              "        document.querySelector('#' + key + ' button');\n",
              "      quickchartButtonEl.disabled = true;  // To prevent multiple clicks.\n",
              "      quickchartButtonEl.classList.add('colab-df-spinner');\n",
              "      try {\n",
              "        const charts = await google.colab.kernel.invokeFunction(\n",
              "            'suggestCharts', [key], {});\n",
              "      } catch (error) {\n",
              "        console.error('Error during call to suggestCharts:', error);\n",
              "      }\n",
              "      quickchartButtonEl.classList.remove('colab-df-spinner');\n",
              "      quickchartButtonEl.classList.add('colab-df-quickchart-complete');\n",
              "    }\n",
              "    (() => {\n",
              "      let quickchartButtonEl =\n",
              "        document.querySelector('#df-3885e1c0-1f9a-4eed-9cf4-7c2e5a1b06c3 button');\n",
              "      quickchartButtonEl.style.display =\n",
              "        google.colab.kernel.accessAllowed ? 'block' : 'none';\n",
              "    })();\n",
              "  </script>\n",
              "</div>\n",
              "\n",
              "    </div>\n",
              "  </div>\n"
            ],
            "application/vnd.google.colaboratory.intrinsic+json": {
              "type": "dataframe",
              "variable_name": "df_train",
              "summary": "{\n  \"name\": \"df_train\",\n  \"rows\": 8457,\n  \"fields\": [\n    {\n      \"column\": \"id\",\n      \"properties\": {\n        \"dtype\": \"string\",\n        \"num_unique_values\": 8457,\n        \"samples\": [\n          \"91cb25f878d437272a0172763405846e\",\n          \"85576ca73871ca1a01c67c38115bab7a\",\n          \"68c673846424bd5f56efa4e57a15cc23\"\n        ],\n        \"semantic_type\": \"\",\n        \"description\": \"\"\n      }\n    },\n    {\n      \"column\": \"Link\",\n      \"properties\": {\n        \"dtype\": \"string\",\n        \"num_unique_values\": 8457,\n        \"samples\": [\n          \"https://gujarati.news18.com/news/madhya-gujarat/vadodara-19-year-old-national-player-sakshi-rawal-died-due-to-dengue-in-vadodara-vz-1121429.html\",\n          \"https://www.divyabhaskar.co.in/international/news/200-clusters-active-in-france-cases-of-transition-to-schools-and-universities-growing-rapidly-356-million-cases-of-corona-in-the-world-127785805.html\",\n          \"https://www.divyabhaskar.co.in/local/gujarat/rajkot/news/made-128-houses-at-a-cost-of-rs-691-crore-3-years-ago-to-prevent-poor-families-from-becoming-homeless-in-case-of-demolition-neither-demolition-nor-flat-129766550.html\"\n        ],\n        \"semantic_type\": \"\",\n        \"description\": \"\"\n      }\n    },\n    {\n      \"column\": \"Heading\",\n      \"properties\": {\n        \"dtype\": \"string\",\n        \"num_unique_values\": 8457,\n        \"samples\": [\n          \"\\u0ab5\\u0aa1\\u0acb\\u0aa6\\u0ab0\\u0abe: 19 \\u0ab5\\u0ab0\\u0acd\\u0ab7\\u0ac0\\u0aaf \\u0a86\\u0ab6\\u0abe\\u0ab8\\u0acd\\u0aaa\\u0aa6 \\u0aa8\\u0ac7\\u0ab6\\u0aa8\\u0ab2 \\u0aaa\\u0acd\\u0ab2\\u0ac7\\u0aaf\\u0ab0 \\u0ab8\\u0abe\\u0a95\\u0acd\\u0ab7\\u0ac0 \\u0ab0\\u0abe\\u0ab5\\u0ab2\\u0aa8\\u0ac1 \\u0aa1\\u0ac7\\u0a82\\u0a97\\u0acd\\u0aaf\\u0ac2\\u0aa5\\u0ac0 \\u0aae\\u0acb\\u0aa4\",\n          \"\\u0a95\\u0acb\\u0ab0\\u0acb\\u0aa8\\u0abe \\u0aa6\\u0ac1\\u0aa8\\u0abf\\u0aaf\\u0abe\\u0aae\\u0abe\\u0a82:\\u0a88\\u0a9f\\u0abe\\u0ab2\\u0ac0\\u0aae\\u0abe\\u0a82 \\u0a88\\u0aae\\u0ab0\\u0a9c\\u0aa8\\u0acd\\u0ab8\\u0ac0 31 \\u0a9c\\u0abe\\u0aa8\\u0acd\\u0aaf\\u0ac1\\u0a86\\u0ab0\\u0ac0 \\u0ab8\\u0ac1\\u0aa7\\u0ac0 \\u0ab5\\u0aa7\\u0abe\\u0ab0\\u0ab5\\u0abe\\u0aae\\u0abe\\u0a82 \\u0a86\\u0ab5\\u0acd\\u0aaf\\u0ac1\\u0a82; \\u0aa1\\u0aac\\u0acd\\u0ab2\\u0acd\\u0aaf\\u0ac2\\u0a8f\\u0a9a\\u0a93\\u0a8f \\u0a95\\u0ab9\\u0acd\\u0aaf\\u0ac1\\u0a82- \\u0ab5\\u0ac7\\u0a95\\u0acd\\u0ab8\\u0abf\\u0aa8 \\u0ab5\\u0ab0\\u0acd\\u0ab7\\u0aa8\\u0abe \\u0a85\\u0a82\\u0aa4 \\u0ab8\\u0ac1\\u0aa7\\u0ac0\\u0aae\\u0abe\\u0a82 \\u0aa4\\u0ac8\\u0aaf\\u0abe\\u0ab0 \\u0aa5\\u0a88 \\u0ab6\\u0a95\\u0ac7 \\u0a9b\\u0ac7; \\u0ab5\\u0abf\\u0ab6\\u0acd\\u0ab5\\u0aae\\u0abe\\u0a82 3.59 \\u0a95\\u0ab0\\u0acb\\u0aa1 \\u0a95\\u0ac7\\u0ab8\",\n          \"\\u0ab8\\u0ac1\\u0a86\\u0aaf\\u0acb\\u0a9c\\u0abf\\u0aa4 \\u0ab7\\u0aa1\\u0aaf\\u0a82\\u0aa4\\u0acd\\u0ab0\\u0aa8\\u0acb \\u0aaa\\u0ab0\\u0acd\\u0aa6\\u0abe\\u0aab\\u0abe\\u0ab6:\\u0aa1\\u0abf\\u0aae\\u0acb\\u0ab2\\u0abf\\u0ab6\\u0aa8 \\u0aa5\\u0abe\\u0aaf \\u0aa4\\u0acb \\u0a97\\u0ab0\\u0ac0\\u0aac \\u0aaa\\u0ab0\\u0abf\\u0ab5\\u0abe\\u0ab0 \\u0aac\\u0ac7\\u0a98\\u0ab0 \\u0aa8 \\u0aac\\u0aa8\\u0ac7 \\u0aa4\\u0ac7 \\u0aae\\u0abe\\u0a9f\\u0ac7 3 \\u0ab5\\u0ab0\\u0acd\\u0ab7 \\u0aaa\\u0ab9\\u0ac7\\u0ab2\\u0abe 6.91 \\u0a95\\u0ab0\\u0acb\\u0aa1\\u0aa8\\u0abe \\u0a96\\u0ab0\\u0acd\\u0a9a\\u0ac7 128 \\u0a86\\u0ab5\\u0abe\\u0ab8 \\u0aac\\u0aa8\\u0abe\\u0ab5\\u0acd\\u0aaf\\u0abe\\u0a82; \\u0aa8 \\u0aa1\\u0abf\\u0aae\\u0acb\\u0ab2\\u0abf\\u0ab6\\u0aa8 \\u0aa5\\u0aaf\\u0ac1\\u0a82 \\u0aa8 \\u0aab\\u0acd\\u0ab2\\u0ac7\\u0a9f \\u0aab\\u0abe\\u0ab3\\u0ab5\\u0abe\\u0aaf\\u0abe\"\n        ],\n        \"semantic_type\": \"\",\n        \"description\": \"\"\n      }\n    },\n    {\n      \"column\": \"Summary\",\n      \"properties\": {\n        \"dtype\": \"string\",\n        \"num_unique_values\": 8453,\n        \"samples\": [\n          \"Corona Update: \\u0ab0\\u0abe\\u0a9c\\u0acd\\u0aaf\\u0aae\\u0abe\\u0a82 \\u0a86\\u0a9c\\u0ac7 \\u0ab8\\u0abe\\u0a82\\u0a9c\\u0ac7 19\\u0aae\\u0ac0 \\u0aae\\u0ac7\\u0aa8\\u0abe \\u0ab0\\u0acb\\u0a9c (22-5-2022) \\u0a95\\u0acb\\u0ab0\\u0acb\\u0aa8\\u0abe \\u0ab5\\u0abe\\u0aaf\\u0ab0\\u0ab8\\u0aa8\\u0abe (Gujarat Corona Cases) \\u0aa8\\u0ab5\\u0abe \\u0a95\\u0ac7\\u0ab8\\u0aa8\\u0ac0 \\u0ab8\\u0a82\\u0a96\\u0acd\\u0aaf\\u0abe, \\u0ab8\\u0abe\\u0a9c\\u0abe \\u0aa5\\u0aaf\\u0ac7\\u0ab2\\u0abe \\u0aa6\\u0ab0\\u0acd\\u0aa6\\u0ac0 \\u0a85\\u0aa8\\u0ac7 \\u0ab0\\u0ab8\\u0ac0\\u0a95\\u0ab0\\u0aa3\\u0aa8\\u0ac0 \\u0ab5\\u0abf\\u0a97\\u0aa4\\u0acb \\u0ab8\\u0abe\\u0aa5\\u0ac7 \\u0a86\\u0a9c\\u0aa8\\u0ac1\\u0a82 \\u0a95\\u0acb\\u0ab0\\u0acb\\u0aa8\\u0abe \\u0aac\\u0ac2\\u0ab2\\u0ac7\\u0a9f\\u0abf\\u0aa8. \\u0a9c\\u0abe\\u0aa3\\u0acb \\u0a85\\u0aae\\u0aa6\\u0abe\\u0ab5\\u0abe\\u0aa6\\u0aae\\u0abe\\u0a82 \\u0ab6\\u0ac1\\u0a82 \\u0a9b\\u0ac7 \\u0a95\\u0acb\\u0ab0\\u0acb\\u0aa8\\u0abe\\u0aa8\\u0ac0 \\u0ab8\\u0acd\\u0aa5\\u0abf\\u0aa4\\u0abf\",\n          \"#\\u0ab0\\u0ac2\\u0aae\\u0aa8\\u0ac1\\u0a82\\u0ab8\\u0ac7\\u0a9f\\u0abf\\u0a82\\u0a97 \\u0a9f\\u0acd\\u0ab5\\u0ac0\\u0a9f\\u0ab0 \\u0aaa\\u0ab0 \\u0a9f\\u0acd\\u0ab0\\u0ac7\\u0aa8\\u0acd\\u0aa1 \\u0aa5\\u0aaf\\u0acb, \\u0a86 \\u0a95\\u0acd\\u0ab2\\u0abf\\u0aaa\\u0aa8\\u0ac0 \\u0ab5\\u0abe\\u0ab8\\u0acd\\u0aa4\\u0ab5\\u0abf\\u0a95\\u0aa4\\u0abe \\u0aad\\u0ac7\\u0aa6\\u0ac0 \\u0aaa\\u0aa3 \\u0aac\\u0ab9\\u0abe\\u0ab0 \\u0a85\\u0aad\\u0acd\\u0aaf\\u0abe\\u0ab8 \\u0a95\\u0ab0\\u0aa4\\u0abe \\u0ab5\\u0abf\\u0aa6\\u0acd\\u0aaf\\u0abe\\u0ab0\\u0acd\\u0aa5\\u0ac0\\u0a93\\u0aa8\\u0abe\\u0a82 \\u0ab5\\u0abe\\u0ab2\\u0ac0\\u0a93 \\u0aae\\u0abe\\u0a9f\\u0ac7 \\u0ab2\\u0abe\\u0ab2\\u0aac\\u0aa4\\u0acd\\u0aa4\\u0ac0 \\u0ab8\\u0aae\\u0abe\\u0aa8 \\u0a95\\u0abf\\u0ab8\\u0acd\\u0ab8\\u0acb\",\n          \"\\u0aa8\\u0aa6\\u0ac0, \\u0aa4\\u0ab3\\u0abe\\u0ab5 \\u0a85\\u0aa8\\u0ac7 \\u0ab5\\u0acb\\u0a82\\u0a95\\u0ab3\\u0abe\\u0a95\\u0abe\\u0a82\\u0aa0\\u0abe\\u0aa8\\u0abe \\u0ab5\\u0abf\\u0a95\\u0abe\\u0ab8 \\u0aae\\u0abe\\u0a9f\\u0ac7 \\u0a9c\\u0ab0\\u0ac2\\u0ab0\\u0ac0 \\u0aa1\\u0abf\\u0aae\\u0acb\\u0ab2\\u0abf\\u0ab6\\u0aa8 \\u0a95\\u0ab0\\u0ac0 \\u0aa4\\u0ac7 \\u0aa1\\u0abf\\u0aae\\u0acb\\u0ab2\\u0abf\\u0ab6\\u0aa8\\u0aa8\\u0abe \\u0a85\\u0ab8\\u0ab0\\u0a97\\u0acd\\u0ab0\\u0ab8\\u0acd\\u0aa4\\u0acb\\u0aa8\\u0ac7 \\u0a86\\u0ab5\\u0abe\\u0ab8 \\u0aab\\u0abe\\u0ab3\\u0ab5\\u0ab5\\u0abe \\u0aaa\\u0acd\\u0ab0\\u0acb\\u0a9c\\u0ac7\\u0a95\\u0acd\\u0a9f \\u0aa4\\u0ac8\\u0aaf\\u0abe\\u0ab0 \\u0a95\\u0ab0\\u0abe\\u0aaf\\u0acb \\u0ab9\\u0aa4\\u0acb\\u0a9a\\u0abe\\u0ab0\\u0ac7\\u0aaf \\u0aaa\\u0acd\\u0ab0\\u0acb\\u0a9c\\u0ac7\\u0a95\\u0acd\\u0a9f\\u0aae\\u0abe\\u0a82 \\u0aa1\\u0abf\\u0aae\\u0acb\\u0ab2\\u0abf\\u0ab6\\u0aa8 \\u0aa8\\u0aa5\\u0ac0 \\u0aa5\\u0aaf\\u0ac1\\u0a82 \\u0a9b\\u0aa4\\u0abe\\u0a82 \\u0aa4\\u0acd\\u0ab0\\u0aa3 \\u0ab5\\u0ab0\\u0acd\\u0ab7 \\u0aaa\\u0ac2\\u0ab0\\u0acd\\u0ab5\\u0ac7 \\u0a86\\u0ab5\\u0abe\\u0ab8 \\u0aac\\u0aa8\\u0abe\\u0ab5\\u0acd\\u0aaf\\u0abe\\u0a82\\u0a86\\u0ab5\\u0abe\\u0ab8\\u0aa8\\u0ac0 \\u0ab8\\u0abe\\u0aa5\\u0ac7 \\u0a86\\u0a82\\u0a97\\u0aa3\\u0ab5\\u0abe\\u0aa1\\u0ac0 \\u0aaa\\u0aa3 \\u0aac\\u0aa8\\u0abe\\u0ab5\\u0ac0 \\u0aa6\\u0ac7\\u0ab5\\u0abe\\u0a88\"\n        ],\n        \"semantic_type\": \"\",\n        \"description\": \"\"\n      }\n    },\n    {\n      \"column\": \"Article\",\n      \"properties\": {\n        \"dtype\": \"string\",\n        \"num_unique_values\": 8457,\n        \"samples\": [\n          \"\\u0ab5\\u0aa1\\u0acb\\u0aa6\\u0ab0\\u0abe: \\u0ab5\\u0aa1\\u0acb\\u0aa6\\u0ab0\\u0abe \\u0ab6\\u0ab9\\u0ac7\\u0ab0\\u0aae\\u0abe\\u0a82 \\u0a8f\\u0a95 19 \\u0ab5\\u0ab0\\u0acd\\u0ab7\\u0ac0\\u0aaf \\u0a86\\u0ab6\\u0abe\\u0ab8\\u0acd\\u0aaa\\u0aa6 \\u0a96\\u0ac7\\u0ab2\\u0abe\\u0aa1\\u0ac0\\u0aa8\\u0ac1\\u0a82 \\u0aa1\\u0ac7\\u0a82\\u0a97\\u0acd\\u0aaf\\u0ac2\\u0aa5\\u0ac0 \\u0aa8\\u0abf\\u0aa7\\u0aa8 \\u0aa5\\u0aaf\\u0ac1\\u0a82 \\u0a9b\\u0ac7. \\u0ab6\\u0ab9\\u0ac7\\u0ab0\\u0aa8\\u0abe \\u0a86\\u0a9c\\u0ab5\\u0abe \\u0ab0\\u0acb\\u0aa1 \\u0a96\\u0abe\\u0aa4\\u0ac7 \\u0ab0\\u0ab9\\u0ac7\\u0aa4\\u0ac0 19 \\u0ab5\\u0ab0\\u0acd\\u0ab7\\u0ac0\\u0aaf \\u0ab8\\u0abe\\u0a95\\u0acd\\u0ab7\\u0ac0 \\u0ab0\\u0abe\\u0ab5\\u0ab2 (Sakshi Rawal)\\u0aa8\\u0ac1\\u0a82 \\u0aa8\\u0abf\\u0aa7\\u0aa8 \\u0aa5\\u0aaf\\u0ac1\\u0a82 \\u0a9b\\u0ac7. \\u0ab8\\u0abe\\u0a95\\u0acd\\u0ab7\\u0ac0\\u0a8f \\u0ab5\\u0ab0\\u0acd\\u0ab7 2019\\u0aae\\u0abe\\u0a82 \\u0a9d\\u0abe\\u0ab0\\u0a96\\u0a82\\u0aa1 (Jharkhand) \\u0a96\\u0abe\\u0aa4\\u0ac7 \\u0aaf\\u0acb\\u0a9c\\u0abe\\u0aaf\\u0ac7\\u0ab2\\u0ac0 \\u0a9c\\u0ac1\\u0aa1\\u0acb\\u0aa8\\u0ac0 \\u0ab8\\u0ac1\\u0ab0\\u0abe\\u0ab6 \\u0a95\\u0acb\\u0aae\\u0acd\\u0aaa\\u0abf\\u0a9f\\u0abf\\u0ab6\\u0aa8\\u0aae\\u0abe\\u0a82 \\u0aac\\u0acd\\u0ab0\\u0acb\\u0aa8\\u0acd\\u0a9d \\u0aae\\u0ac7\\u0aa1\\u0ab2 \\u0aae\\u0ac7\\u0ab3\\u0ab5\\u0acd\\u0aaf\\u0acb \\u0ab9\\u0aa4\\u0acb. \\u0ab5\\u0aa1\\u0acb\\u0aa6\\u0ab0\\u0abe \\u0ab6\\u0ab9\\u0ac7\\u0ab0 (Vadodara city)\\u0aae\\u0abe\\u0a82 \\u0ab5\\u0a95\\u0ab0\\u0ac7\\u0ab2\\u0abe \\u0aaa\\u0abe\\u0aa3\\u0ac0\\u0a9c\\u0aa8\\u0acd\\u0aaf \\u0ab0\\u0acb\\u0a97\\u0a9a\\u0abe\\u0ab3\\u0abe\\u0a8f \\u0a8f\\u0a95 \\u0aa8\\u0ac7\\u0ab6\\u0aa8\\u0ab2 \\u0aaa\\u0acd\\u0ab2\\u0ac7\\u0aaf\\u0ab0\\u0aa8\\u0acb \\u0aad\\u0acb\\u0a97 \\u0ab2\\u0ac0\\u0aa7\\u0acb \\u0a9b\\u0ac7. \\u0aa8\\u0ac7\\u0ab6\\u0aa8\\u0ab2 \\u0aaa\\u0acd\\u0ab2\\u0ac7\\u0aaf\\u0ab0 \\u0a8f\\u0ab5\\u0ac0 \\u0ab8\\u0abe\\u0a95\\u0acd\\u0ab7\\u0ac0\\u0aa8\\u0abe \\u0aa8\\u0abf\\u0aa7\\u0aa8\\u0aa5\\u0ac0 \\u0aaa\\u0ab0\\u0abf\\u0ab5\\u0abe\\u0ab0\\u0aae\\u0abe\\u0a82 \\u0ab6\\u0acb\\u0a95 \\u0ab5\\u0acd\\u0aaf\\u0abe\\u0aaa\\u0ac0 \\u0a97\\u0aaf\\u0acb \\u0a9b\\u0ac7. 19 \\u0ab5\\u0ab0\\u0acd\\u0ab7\\u0aa8\\u0ac0 \\u0a89\\u0a82\\u0aae\\u0ab0\\u0ac7 \\u0aa6\\u0ac0\\u0a95\\u0ab0\\u0ac0 \\u0a97\\u0ac1\\u0aae\\u0abe\\u0ab5\\u0aa4\\u0abe \\u0aaa\\u0ab0\\u0abf\\u0ab5\\u0abe\\u0ab0\\u0aa8\\u0abe \\u0ab8\\u0aad\\u0acd\\u0aaf\\u0acb \\u0aad\\u0abe\\u0a82\\u0a97\\u0ac0 \\u0aaa\\u0aa1\\u0acd\\u0aaf\\u0abe\\u0a82 \\u0ab9\\u0aa4\\u0abe\\u0a82. \\u0a85\\u0a82\\u0aa4\\u0abf\\u0aae \\u0ab8\\u0a82\\u0ab8\\u0acd\\u0a95\\u0abe\\u0ab0 \\u0ab5\\u0a96\\u0aa4\\u0ac7 \\u0ab9\\u0abe\\u0a9c\\u0ab0 \\u0aa4\\u0aae\\u0abe\\u0aae \\u0ab2\\u0acb\\u0a95\\u0acb\\u0aa8\\u0ac0 \\u0a86\\u0a82\\u0a96\\u0aae\\u0abe\\u0a82 \\u0a86\\u0a82\\u0ab8\\u0ac1 \\u0a9c\\u0acb\\u0ab5\\u0abe \\u0aae\\u0ab3\\u0acd\\u0aaf\\u0abe \\u0ab9\\u0aa4\\u0abe. \\u0aaa\\u0ab0\\u0abf\\u0ab5\\u0abe\\u0ab0\\u0ac7 \\u0a86\\u0a95\\u0acd\\u0ab7\\u0ac7\\u0aaa \\u0ab2\\u0a97\\u0abe\\u0ab5\\u0acd\\u0aaf\\u0acb \\u0ab9\\u0aa4\\u0acb \\u0a95\\u0ac7 \\u0aa4\\u0a82\\u0aa4\\u0acd\\u0ab0\\u0aa8\\u0abe \\u0aaa\\u0abe\\u0aaa\\u0ac7 \\u0a85\\u0aae\\u0abe\\u0ab0\\u0ac7 \\u0aa6\\u0ac0\\u0a95\\u0ab0\\u0ac0 \\u0a97\\u0ac1\\u0aae\\u0abe\\u0ab5\\u0ab5\\u0abe\\u0aa8\\u0acb \\u0ab5\\u0abe\\u0ab0\\u0acb \\u0a86\\u0ab5\\u0acd\\u0aaf\\u0acb \\u0a9b\\u0ac7. \\u0a89\\u0ab2\\u0acd\\u0ab2\\u0ac7\\u0a96\\u0aa8\\u0ac0\\u0aaf \\u0a9b\\u0ac7 \\u0a95\\u0ac7 \\u0ab5\\u0aa1\\u0acb\\u0aa6\\u0ab0\\u0abe \\u0ab6\\u0ab9\\u0ac7\\u0ab0\\u0aae\\u0abe\\u0a82 \\u0ab9\\u0abe\\u0ab2 \\u0aaa\\u0abe\\u0aa3\\u0ac0\\u0a9c\\u0aa8\\u0acd\\u0aaf \\u0ab0\\u0acb\\u0a97\\u0a9a\\u0abe\\u0ab3\\u0abe\\u0a8f \\u0aad\\u0ab0\\u0aa1\\u0acb \\u0ab2\\u0ac0\\u0aa7\\u0acb \\u0a9b\\u0ac7. \\u0ab6\\u0ab9\\u0ac7\\u0ab0\\u0aa8\\u0abe \\u0a85\\u0aa8\\u0ac7\\u0a95 \\u0ab5\\u0abf\\u0ab8\\u0acd\\u0aa4\\u0abe\\u0ab0\\u0acb \\u0ab0\\u0acb\\u0a97\\u0a9a\\u0abe\\u0ab3\\u0abe\\u0aa8\\u0abe \\u0aad\\u0ab0\\u0aa1\\u0ab5\\u0abe\\u0aae\\u0abe\\u0a82 \\u0a86\\u0ab5\\u0ac0 \\u0a97\\u0aaf\\u0abe \\u0a9b\\u0ac7. \\u0ab6\\u0ab9\\u0ac7\\u0ab0\\u0aae\\u0abe\\u0a82 \\u0aaa\\u0abe\\u0aa3\\u0ac0\\u0a9c\\u0aa8\\u0acd\\u0aaf \\u0ab0\\u0acb\\u0a97\\u0a9a\\u0abe\\u0ab3\\u0abe\\u0aa8\\u0acb \\u0a95\\u0ab9\\u0ac7\\u0ab0 \\u0ab5\\u0aa1\\u0acb\\u0aa6\\u0ab0\\u0abe \\u0aaa\\u0abe\\u0aa3\\u0ac0\\u0a9c\\u0aa8\\u0acd\\u0aaf \\u0ab0\\u0acb\\u0a97\\u0a9a\\u0abe\\u0ab3\\u0abe\\u0aa8\\u0acb \\u0a95\\u0ab9\\u0ac7\\u0ab0 \\u0a9c\\u0acb\\u0ab5\\u0abe \\u0aae\\u0ab3\\u0acd\\u0aaf\\u0acb \\u0a9b\\u0ac7. \\u0a9b\\u0ac7\\u0ab2\\u0acd\\u0ab2\\u0abe 15 \\u0aa6\\u0abf\\u0ab5\\u0ab8\\u0aae\\u0abe\\u0a82 \\u0aaa\\u0abe\\u0ab2\\u0abf\\u0a95\\u0abe\\u0aa8\\u0abe \\u0a9a\\u0acb\\u0aaa\\u0aa1\\u0ac7 \\u0aa1\\u0ac7\\u0a82\\u0a97\\u0acd\\u0aaf\\u0ac2\\u0aa8\\u0abe 83 \\u0a85\\u0aa8\\u0ac7 \\u0a9a\\u0abf\\u0a95\\u0aa8\\u0a97\\u0ac1\\u0aa8\\u0abf\\u0aaf\\u0abe\\u0aa8\\u0abe 35 \\u0a95\\u0ac7\\u0ab8 \\u0aa8\\u0acb\\u0a82\\u0aa7\\u0abe\\u0aaf\\u0abe \\u0a9b\\u0ac7. \\u0a86 \\u0aaa\\u0ab9\\u0ac7\\u0ab2\\u0abe \\u0aaa\\u0abe\\u0aa3\\u0ac0\\u0a9c\\u0aa8\\u0acd\\u0aaf \\u0ab0\\u0acb\\u0a97\\u0a9a\\u0abe\\u0ab3\\u0abe\\u0aa8\\u0abe \\u0a95\\u0abe\\u0ab0\\u0aa3\\u0ac7 \\u0aa8\\u0abe\\u0a97\\u0ab0\\u0ab5\\u0abe\\u0aa1\\u0abe\\u0aae\\u0abe\\u0a82 \\u0aa4\\u0acd\\u0ab0\\u0aa3 \\u0aae\\u0ab9\\u0abf\\u0ab2\\u0abe\\u0aa8\\u0abe\\u0a82 \\u0aae\\u0acb\\u0aa4 \\u0aa5\\u0aaf\\u0abe \\u0ab9\\u0aa4\\u0abe, \\u0ab9\\u0ab5\\u0ac7 \\u0aa8\\u0ac7\\u0ab6\\u0aa8\\u0ab2 \\u0aaa\\u0acd\\u0ab2\\u0ac7\\u0aaf\\u0ab0\\u0aa8\\u0ac1\\u0a82 \\u0aae\\u0acb\\u0aa4 \\u0aa8\\u0ac0\\u0aaa\\u0a9c\\u0acd\\u0aaf\\u0ac1\\u0a82 \\u0a9b\\u0ac7. \\u0ab6\\u0ab9\\u0ac7\\u0ab0\\u0aae\\u0abe\\u0a82 \\u0aa4\\u0a82\\u0aa4\\u0acd\\u0ab0\\u0aa8\\u0ac0 \\u0aac\\u0ac7\\u0aa6\\u0ab0\\u0a95\\u0abe\\u0ab0\\u0ac0\\u0aa8\\u0ac7 \\u0a95\\u0abe\\u0ab0\\u0aa3\\u0ac7 \\u0a86\\u0a9c\\u0ac7 \\u0aaa\\u0aa3 \\u0a85\\u0aa8\\u0ac7\\u0a95 \\u0ab5\\u0abf\\u0ab8\\u0acd\\u0aa4\\u0abe\\u0ab0\\u0acb\\u0aae\\u0abe\\u0a82 \\u0aa6\\u0ac1\\u0ab7\\u0abf\\u0aa4 \\u0aaa\\u0abe\\u0aa3\\u0ac0 \\u0a86\\u0ab5\\u0ac0 \\u0ab0\\u0ab9\\u0acd\\u0aaf\\u0ac1\\u0a82 \\u0a9b\\u0ac7 \\u0a9b\\u0ac7. \\u0a9c\\u0ac7\\u0aa8\\u0abe \\u0aaa\\u0a97\\u0ab2\\u0ac7 \\u0ab6\\u0ab9\\u0ac7\\u0ab0\\u0aae\\u0abe\\u0a82 \\u0ab0\\u0acb\\u0a97\\u0a9a\\u0abe\\u0ab3\\u0acb \\u0ab5\\u0a95\\u0ab0\\u0ac0 \\u0ab0\\u0ab9\\u0acd\\u0aaf\\u0acb \\u0a9b\\u0ac7. \\u0a89\\u0ab2\\u0acd\\u0ab2\\u0ac7\\u0a96\\u0aa8\\u0ac0\\u0aaf \\u0a9b\\u0ac7 \\u0a95\\u0ac7 \\u0ab5\\u0ab0\\u0acd\\u0ab7 \\u0ab5\\u0ab0\\u0acd\\u0ab7 2019\\u0aae\\u0abe\\u0a82 \\u0ab6\\u0ab9\\u0ac7\\u0ab0\\u0aae\\u0abe\\u0a82 \\u0aa1\\u0ac7\\u0a82\\u0a97\\u0acd\\u0aaf\\u0ac2\\u0aa8\\u0abe 1,247 \\u0a85\\u0aa8\\u0ac7 \\u0a9a\\u0abf\\u0a95\\u0aa8\\u0a97\\u0ac1\\u0aa8\\u0abf\\u0aaf\\u0abe\\u0aa8\\u0abe 231 \\u0a95\\u0ac7\\u0ab8 \\u0aaa\\u0abe\\u0ab2\\u0abf\\u0a95\\u0abe\\u0aa8\\u0abe \\u0a9a\\u0acb\\u0aaa\\u0aa1\\u0ac7 \\u0aa8\\u0acb\\u0a82\\u0aa7\\u0abe\\u0aaf\\u0abe \\u0ab9\\u0aa4\\u0abe \\u0ab9\\u0aa4\\u0abe. \\u0a9c\\u0acd\\u0aaf\\u0abe\\u0ab0\\u0ac7 2021\\u0aae\\u0abe\\u0a82 \\u0aac\\u0ac7 \\u0a85\\u0aa0\\u0ab5\\u0abe\\u0aa1\\u0abf\\u0aaf\\u0abe \\u0aaa\\u0ab9\\u0ac7\\u0ab2\\u0abe \\u0aa1\\u0ac7\\u0a82\\u0a97\\u0acd\\u0aaf\\u0ac2\\u0aa8\\u0abe 16 \\u0a95\\u0ac7\\u0ab8 \\u0aa8\\u0acb\\u0a82\\u0aa7\\u0abe\\u0aaf\\u0abe \\u0ab9\\u0aa4\\u0abe, \\u0ab9\\u0ab5\\u0ac7 \\u0aa4\\u0ac7\\u0aae\\u0abe\\u0a82 \\u0ab8\\u0ac0\\u0aa7\\u0acb \\u0a9c 44 \\u0a95\\u0ac7\\u0ab8\\u0aa8\\u0acb \\u0ab5\\u0aa7\\u0abe\\u0ab0\\u0acb \\u0aa5\\u0aaf\\u0acb \\u0a9b\\u0ac7. \\u0a86 \\u0aaa\\u0aa3 \\u0ab5\\u0abe\\u0a82\\u0a9a\\u0acb: \\u0aae\\u0ab9\\u0ac0\\u0ab8\\u0abe\\u0a97\\u0ab0: \\u0aac\\u0ac0\\u0a9c\\u0ac7\\u0aaa\\u0ac0 \\u0aa8\\u0ac7\\u0aa4\\u0abe \\u0a85\\u0aa8\\u0ac7 \\u0aa4\\u0ac7\\u0aae\\u0aa8\\u0abe \\u0aaa\\u0aa4\\u0acd\\u0aa8\\u0ac0\\u0aa8\\u0ac0 \\u0ab9\\u0aa4\\u0acd\\u0aaf\\u0abe\\u0aa8\\u0ac1\\u0a82 \\u0a95\\u0abe\\u0ab0\\u0aa3 \\u0a85\\u0a95\\u0aac\\u0a82\\u0aa7, \\u0ab6\\u0ac1\\u0a82 \\u0aae\\u0acb\\u0aac\\u0abe\\u0a87\\u0ab2\\u0aae\\u0abe\\u0a82\\u0aa5\\u0ac0 \\u0a96\\u0ac1\\u0ab2\\u0ab6\\u0ac7 \\u0aad\\u0ac7\\u0aa6?  \\u0a86 \\u0ab5\\u0abf\\u0ab8\\u0acd\\u0aa4\\u0abe\\u0ab0\\u0acb\\u0aae\\u0abe\\u0a82 \\u0ab0\\u0acb\\u0a97\\u0a9a\\u0abe\\u0ab3\\u0acb \\u0ab5\\u0a95\\u0ab0\\u0acd\\u0aaf\\u0acb \\u0ab5\\u0aa1\\u0acb\\u0aa6\\u0ab0\\u0abe \\u0ab6\\u0ab9\\u0ac7\\u0ab0\\u0aa8\\u0abe \\u0ab5\\u0abe\\u0ab8\\u0aa3\\u0abe \\u0aad\\u0abe\\u0aaf\\u0ab2\\u0ac0 \\u0ab0\\u0acb\\u0aa1, \\u0ab8\\u0ac7\\u0ab5\\u0abe\\u0ab8\\u0ac0, \\u0aa8\\u0acd\\u0aaf\\u0ac1 \\u0ab8\\u0aae\\u0abe, \\u0a9b\\u0abe\\u0aa3\\u0ac0, \\u0aa8\\u0ab5\\u0abe\\u0aaf\\u0abe\\u0ab0\\u0acd\\u0aa1, \\u0ab5\\u0abe\\u0aa1\\u0ac0, \\u0a95\\u0abe\\u0ab0\\u0ac7\\u0ab2\\u0ac0\\u0aac\\u0abe\\u0a97, \\u0a9a\\u0abe\\u0ab0 \\u0aa6\\u0ab0\\u0ab5\\u0abe\\u0a9c\\u0abe, \\u0aae\\u0a95\\u0ab0\\u0aaa\\u0ac1\\u0ab0\\u0abe \\u0a85\\u0aa8\\u0ac7 \\u0a86\\u0a9c\\u0ab5\\u0abe \\u0ab0\\u0acb\\u0aa1 \\u0ab5\\u0abf\\u0ab8\\u0acd\\u0aa4\\u0abe\\u0ab0\\u0acb\\u0aae\\u0abe\\u0a82 \\u0ab0\\u0acb\\u0a97\\u0a9a\\u0abe\\u0ab3\\u0acb \\u0a96\\u0ac2\\u0aac \\u0ab5\\u0a95\\u0ab0\\u0acd\\u0aaf\\u0acb \\u0a9b\\u0ac7. \\u0a86 \\u0aaa\\u0aa3 \\u0ab5\\u0abe\\u0a82\\u0a9a\\u0acb: \\u0ab8\\u0ac1\\u0ab0\\u0aa4: CA \\u0aaf\\u0ac1\\u0ab5\\u0aa4\\u0ac0\\u0aa8\\u0ac7 \\u0aad\\u0a97\\u0abe\\u0aa1\\u0ac0 \\u0a9c\\u0a88\\u0aa8\\u0ac7 \\u0aa4\\u0ac7\\u0aa8\\u0abe \\u0aaa\\u0abf\\u0aa4\\u0abe \\u0aaa\\u0abe\\u0ab8\\u0ac7 \\u0aae\\u0abe\\u0a82\\u0a97\\u0ac0 10 \\u0ab2\\u0abe\\u0a96\\u0aa8\\u0ac0 \\u0a96\\u0a82\\u0aa1\\u0aa3\\u0ac0, \\u0aaa\\u0acb\\u0ab2\\u0ac0\\u0ab8\\u0ac7 \\u0aac\\u0a82\\u0aa8\\u0ac7\\u0aa8\\u0ac7 \\u0a9d\\u0aa1\\u0aaa\\u0ac0 \\u0aaa\\u0abe\\u0aa1\\u0acd\\u0aaf\\u0abe\\u0a82 \\u0ab5\\u0abe\\u0aa6\\u0ab3\\u0a9b\\u0abe\\u0aaf\\u0abe \\u0ab5\\u0abe\\u0aa4\\u0abe\\u0ab5\\u0ab0\\u0aa3\\u0aa5\\u0ac0 \\u0aac\\u0ac0\\u0aae\\u0abe\\u0ab0\\u0ac0\\u0aa8\\u0abe \\u0ab5\\u0abe\\u0ab5\\u0ab0 \\u0a89\\u0ab2\\u0acd\\u0ab2\\u0ac7\\u0a96\\u0ac0\\u0aaf \\u0a9b\\u0ac7 \\u0a95\\u0ac7 \\u0a9b\\u0ac7\\u0ab2\\u0acd\\u0ab2\\u0abe \\u0a9b\\u0ac7\\u0ab2\\u0acd\\u0ab2\\u0abe 10 \\u0aa6\\u0abf\\u0ab5\\u0ab8\\u0aa5\\u0ac0 \\u0ab8\\u0aa4\\u0aa4 \\u0ab5\\u0abe\\u0aa6\\u0ab3\\u0a9b\\u0abe\\u0aaf\\u0abe \\u0ab5\\u0abe\\u0aa4\\u0abe\\u0ab5\\u0ab0\\u0aa3\\u0aa5\\u0ac0 \\u0aac\\u0ac0\\u0aae\\u0abe\\u0ab0\\u0ac0\\u0aa8\\u0acb \\u0ab5\\u0abe\\u0ab5\\u0ab0 \\u0ab5\\u0aa7\\u0acd\\u0aaf\\u0acb \\u0a9b\\u0ac7. \\u0ab6\\u0ab9\\u0ac7\\u0ab0\\u0aa8\\u0abe \\u0aa6\\u0ab5\\u0abe\\u0a96\\u0abe\\u0aa8\\u0abe \\u0aa6\\u0ab0\\u0acd\\u0aa6\\u0ac0\\u0a93\\u0aa5\\u0ac0 \\u0a8a\\u0aad\\u0ab0\\u0abe\\u0a88 \\u0ab0\\u0ab9\\u0acd\\u0aaf\\u0abe \\u0a9b\\u0ac7. \\u0ab8\\u0ab0\\u0a95\\u0abe\\u0ab0\\u0ac0 \\u0ab9\\u0ac9\\u0ab8\\u0acd\\u0aaa\\u0abf\\u0a9f\\u0ab2\\u0aae\\u0abe\\u0a82 \\u0a93\\u0aaa\\u0ac0\\u0aa1\\u0ac0\\u0aae\\u0abe\\u0a82 \\u0aad\\u0abe\\u0ab0\\u0ac7 \\u0aa7\\u0ab8\\u0abe\\u0ab0\\u0acb \\u0a9c\\u0acb\\u0ab5\\u0abe \\u0aae\\u0ab3\\u0ac0 \\u0ab0\\u0ab9\\u0acd\\u0aaf\\u0acb \\u0a9b\\u0ac7. \\u0a96\\u0abe\\u0aa8\\u0a97\\u0ac0 \\u0aa6\\u0ab5\\u0abe\\u0a96\\u0abe\\u0aa8\\u0abe\\u0aae\\u0abe\\u0a82 \\u0aa6\\u0ab0 10 \\u0aa6\\u0ab0\\u0acd\\u0aa6\\u0ac0\\u0aae\\u0abe\\u0a82 8 \\u0aa6\\u0ab0\\u0acd\\u0aa6\\u0ac0 \\u0ab5\\u0abe\\u0aaf\\u0ab0\\u0ab2 \\u0a87\\u0aa8\\u0acd\\u0aab\\u0ac7\\u0a95\\u0ab6\\u0aa8\\u0aa8\\u0abe \\u0a85\\u0aa8\\u0ac7 2 \\u0aa1\\u0ac7\\u0a82\\u0a97\\u0acd\\u0aaf\\u0ac2\\u0aa8\\u0abe \\u0ab8\\u0abe\\u0aae\\u0ac7 \\u0a86\\u0ab5\\u0ac0 \\u0ab0\\u0ab9\\u0acd\\u0aaf\\u0abe \\u0a9b\\u0ac7.\",\n          \"\\u0a88\\u0a9f\\u0abe\\u0ab2\\u0ac0\\u0aa8\\u0abe \\u0ab8\\u0acd\\u0ab5\\u0abe\\u0ab8\\u0acd\\u0aa5\\u0acd\\u0aaf \\u0aae\\u0a82\\u0aa4\\u0acd\\u0ab0\\u0ac0 \\u0ab0\\u0acb\\u0aac\\u0ac7\\u0ab0\\u0acd\\u0a9f\\u0abe \\u0ab8\\u0acd\\u0aaa\\u0ac7\\u0ab0\\u0ac7\\u0aa8\\u0acd\\u0a9c\\u0abe\\u0a8f \\u0aae\\u0a82\\u0a97\\u0ab3\\u0ab5\\u0abe\\u0ab0\\u0ac7 \\u0a95\\u0ab9\\u0acd\\u0aaf\\u0ac1\\u0a82 \\u0a95\\u0ac7 \\u0aa6\\u0ac7\\u0ab6\\u0aae\\u0abe\\u0a82 \\u0a88\\u0aae\\u0ab0\\u0a9c\\u0aa8\\u0acd\\u0ab8\\u0ac0 31 \\u0a9c\\u0abe\\u0aa8\\u0acd\\u0aaf\\u0ac1\\u0a86\\u0ab0\\u0ac0 \\u0ab8\\u0ac1\\u0aa7\\u0ac0 \\u0ab5\\u0aa7\\u0abe\\u0ab0\\u0ab5\\u0abe\\u0aae\\u0abe\\u0a82 \\u0a86\\u0ab5\\u0acd\\u0aaf\\u0ac1\\u0a82 \\u0a9b\\u0ac7. \\u0ab8\\u0ab0\\u0a95\\u0abe\\u0ab0 \\u0a88\\u0aae\\u0ab0\\u0a9c\\u0aa8\\u0acd\\u0ab8\\u0ac0 \\u0a85\\u0a82\\u0aa4\\u0ab0\\u0acd\\u0a97\\u0aa4 \\u0a95\\u0acb\\u0ab0\\u0acb\\u0aa8\\u0abe\\u0aa8\\u0ac7 \\u0ab2\\u0a88\\u0aa8\\u0ac7 \\u0a95\\u0acb\\u0a88 \\u0aa8\\u0abf\\u0ab0\\u0acd\\u0aa3\\u0aaf \\u0a95\\u0ab0\\u0ab5\\u0abe \\u0aae\\u0abe\\u0a9f\\u0ac7 \\u0ab8\\u0a82\\u0ab8\\u0aa6\\u0aa8\\u0ac0 \\u0aae\\u0a82\\u0a9c\\u0ac2\\u0ab0\\u0ac0 \\u0ab2\\u0ac7\\u0ab5\\u0abe \\u0aae\\u0abe\\u0a9f\\u0ac7 \\u0aac\\u0abe\\u0aa7\\u0acd\\u0aaf \\u0aa8\\u0aa5\\u0ac0. \\u0aa4\\u0acb, \\u0ab8\\u0acd\\u0ab5\\u0abe\\u0ab8\\u0acd\\u0aa5\\u0acd\\u0aaf \\u0aae\\u0a82\\u0aa4\\u0acd\\u0ab0\\u0ac0\\u0a8f \\u0a95\\u0ab9\\u0acd\\u0aaf\\u0ac1\\u0a82 \\u0a95\\u0ac7 \\u0aa6\\u0ac7\\u0ab6\\u0aae\\u0abe\\u0a82 \\u0a98\\u0ab0\\u0aa5\\u0ac0 \\u0aac\\u0ab9\\u0abe\\u0ab0 \\u0aae\\u0abe\\u0ab8\\u0acd\\u0a95 \\u0aaa\\u0ab9\\u0ac7\\u0ab0\\u0ab5\\u0ac1\\u0a82 \\u0a9c\\u0ab0\\u0ac2\\u0ab0\\u0ac0 \\u0a9b\\u0ac7. \\u0a95\\u0acb\\u0ab0\\u0acb\\u0aa8\\u0abe\\u0aa5\\u0ac0 \\u0aac\\u0a9a\\u0ab5\\u0abe \\u0aae\\u0abe\\u0a9f\\u0ac7 \\u0a86 \\u0a98\\u0aa3\\u0ac1\\u0a82 \\u0a9c \\u0a9c\\u0ab0\\u0ac2\\u0ab0\\u0ac0 \\u0a9b\\u0ac7. \\u0ab6\\u0ac1\\u0a95\\u0acd\\u0ab0\\u0ab5\\u0abe\\u0ab0\\u0aa5\\u0ac0 \\u0a86 \\u0aa8\\u0abf\\u0aaf\\u0aae \\u0ab2\\u0abe\\u0a97\\u0ac1 \\u0a95\\u0ab0\\u0ac0 \\u0aa6\\u0ac7\\u0ab5\\u0abe\\u0aae\\u0abe\\u0a82 \\u0a86\\u0ab5\\u0ab6\\u0ac7. \\u0a85\\u0ab9\\u0ac0\\u0a82 3.27 \\u0ab2\\u0abe\\u0a96\\u0aa5\\u0ac0 \\u0ab5\\u0aa7\\u0ac1 \\u0aa6\\u0ab0\\u0acd\\u0aa6\\u0ac0\\u0a93 \\u0a9b\\u0ac7.\\u0aa1\\u0aac\\u0acd\\u0ab2\\u0acd\\u0aaf\\u0ac1\\u0a8f\\u0a9a\\u0a93\\u0aa8\\u0abe \\u0aaa\\u0acd\\u0ab0\\u0aae\\u0ac1\\u0a96 \\u0a9f\\u0ac7\\u0aa1\\u0acd\\u0ab0\\u0acb\\u0ab8 \\u0a8f\\u0aa1\\u0ab9\\u0acb\\u0aa8\\u0aae \\u0a97\\u0ac7\\u0aac\\u0acd\\u0ab0\\u0ac7\\u0ab8\\u0abf\\u0aaf\\u0ab8\\u0ac7 \\u0a95\\u0ab9\\u0acd\\u0aaf\\u0ac1\\u0a82 \\u0a95\\u0ac7 \\u0a95\\u0acb\\u0ab0\\u0acb\\u0aa8\\u0abe \\u0ab5\\u0ac7\\u0a95\\u0acd\\u0ab8\\u0abf\\u0aa8 \\u0a86 \\u0ab5\\u0ab0\\u0acd\\u0ab7\\u0aa8\\u0abe \\u0a85\\u0a82\\u0aa4 \\u0ab8\\u0ac1\\u0aa7\\u0ac0\\u0aae\\u0abe\\u0a82 \\u0a86\\u0ab5\\u0ac7 \\u0aa4\\u0ac7\\u0ab5\\u0ac0 \\u0ab6\\u0a95\\u0acd\\u0aaf\\u0aa4\\u0abe \\u0a9b\\u0ac7. \\u0aa4\\u0ac7\\u0a93\\u0a8f \\u0ab5\\u0abf\\u0ab6\\u0acd\\u0ab5\\u0aad\\u0ab0\\u0aa8\\u0abe \\u0aa8\\u0ac7\\u0aa4\\u0abe\\u0a93\\u0aa8\\u0ac7 \\u0a8f\\u0a95\\u0a9c\\u0ac2\\u0aa5\\u0aa4\\u0abe \\u0a85\\u0aa8\\u0ac7 \\u0ab0\\u0abe\\u0a9c\\u0a95\\u0ac0\\u0aaf \\u0aaa\\u0acd\\u0ab0\\u0aa4\\u0abf\\u0aac\\u0aa6\\u0acd\\u0aa7\\u0aa4\\u0abe\\u0aa8\\u0ac1\\u0a82 \\u0a86\\u0ab9\\u0acd\\u0ab5\\u0abe\\u0aa8 \\u0a95\\u0ab0\\u0acd\\u0aaf\\u0ac1 \\u0a9b\\u0ac7, \\u0a95\\u0ac7 \\u0a9c\\u0ac7\\u0aa5\\u0ac0 \\u0ab5\\u0ac7\\u0a95\\u0acd\\u0ab8\\u0abf\\u0aa8 \\u0aac\\u0aa8\\u0acd\\u0aaf\\u0abe\\u0a82 \\u0aac\\u0abe\\u0aa6 \\u0aa6\\u0ab0\\u0ac7\\u0a95 \\u0aa6\\u0ac7\\u0ab6\\u0aae\\u0abe\\u0a82 \\u0aa4\\u0ac7\\u0aa8\\u0ac1\\u0a82 \\u0ab8\\u0aae\\u0abe\\u0aa8 \\u0ab5\\u0abf\\u0aa4\\u0ab0\\u0aa3 \\u0aa5\\u0a88 \\u0ab6\\u0a95\\u0ac7. \\u0aa1\\u0aac\\u0acd\\u0ab2\\u0acd\\u0aaf\\u0ac2\\u0a8f\\u0a9a\\u0a93\\u0aa8\\u0ac0 \\u0a95\\u0acb\\u0ab5\\u0ac8\\u0a95\\u0acd\\u0ab8 \\u0a97\\u0acd\\u0ab2\\u0acb\\u0aac\\u0ab2 \\u0ab5\\u0ac7\\u0a95\\u0acd\\u0ab8\\u0abf\\u0aa8 \\u0aab\\u0ac7\\u0ab8\\u0abf\\u0ab2\\u0abf\\u0a9f\\u0ac0\\u0aa8\\u0abe \\u0aa8\\u0ab5 \\u0a8f\\u0a95\\u0acd\\u0ab8\\u0aaa\\u0ac7\\u0ab0\\u0abf\\u0aae\\u0ac7\\u0aa8\\u0acd\\u0a9f \\u0ab5\\u0ac7\\u0a95\\u0acd\\u0ab8\\u0abf\\u0aa8 \\u0aaa\\u0abe\\u0a88\\u0aaa\\u0ab2\\u0abe\\u0a88\\u0aa8\\u0aae\\u0abe\\u0a82 \\u0a9b\\u0ac7. \\u0a9c\\u0ac7\\u0aa8\\u0acb \\u0a89\\u0aa6\\u0acd\\u0aa6\\u0ac7\\u0ab6\\u0acd\\u0aaf 2021\\u0aa8\\u0abe \\u0a85\\u0a82\\u0aa4 \\u0ab8\\u0ac1\\u0aa7\\u0ac0\\u0aae\\u0abe\\u0a82 200 \\u0a95\\u0ab0\\u0acb\\u0aa1 \\u0aa1\\u0acb\\u0a9d \\u0ab5\\u0abf\\u0aa4\\u0ab0\\u0abf\\u0aa4 \\u0a95\\u0ab0\\u0ab5\\u0abe\\u0aa8\\u0acb \\u0a9b\\u0ac7.\\u0ab5\\u0abf\\u0ab6\\u0acd\\u0ab5\\u0aae\\u0abe\\u0a82 \\u0a95\\u0acb\\u0ab0\\u0acb\\u0aa8\\u0abe\\u0aa8\\u0abe \\u0a95\\u0ac7\\u0ab8\\u0aa8\\u0ac0 \\u0ab8\\u0a82\\u0a96\\u0acd\\u0aaf\\u0abe 3.56 \\u0a95\\u0ab0\\u0acb\\u0aa1\\u0aa5\\u0ac0 \\u0ab5\\u0aa7\\u0ac1 \\u0aa5\\u0a87 \\u0a97\\u0aaf \\u0a9b\\u0ac7. \\u0ab8\\u0abe\\u0a9c\\u0abe \\u0aa5\\u0aa8\\u0abe\\u0ab0 \\u0aa6\\u0ab0\\u0acd\\u0aa6\\u0ac0\\u0a93\\u0aa8\\u0ac0 \\u0ab8\\u0a82\\u0a96\\u0acd\\u0aaf\\u0abe 2 \\u0a95\\u0ab0\\u0acb\\u0aa1 68 \\u0ab2\\u0abe\\u0a96 59 \\u0ab9\\u0a9c\\u0abe\\u0ab0 709 \\u0aa5\\u0ac0 \\u0ab5\\u0aa7\\u0ac1 \\u0a9b\\u0ac7. \\u0aae\\u0ac3\\u0aa4\\u0acd\\u0aaf\\u0ac1\\u0a86\\u0a82\\u0a95 10.33 \\u0ab2\\u0abe\\u0a96\\u0aa8\\u0ac7 \\u0aaa\\u0abe\\u0ab0 \\u0aa5\\u0a88 \\u0a97\\u0aaf\\u0acb \\u0a9b\\u0ac7. \\u0a86 \\u0a86\\u0a82\\u0a95\\u0aa1\\u0abe www.worldometers.info/coronavirus \\u0a85\\u0aa8\\u0ac1\\u0ab8\\u0abe\\u0ab0 \\u0a9b\\u0ac7. \\u0aaf\\u0ac1\\u0ab0\\u0acb\\u0aaa\\u0abf\\u0aaf\\u0aa8 \\u0aa6\\u0ac7\\u0ab6\\u0acb\\u0aae\\u0abe\\u0a82 \\u0ab8\\u0a82\\u0a95\\u0acd\\u0ab0\\u0aae\\u0aa3\\u0aa8\\u0ac0 \\u0aac\\u0ac0\\u0a9c\\u0ac0 \\u0ab2\\u0ab9\\u0ac7\\u0ab0 \\u0a9c\\u0ac0\\u0ab5\\u0ab2\\u0ac7\\u0aa3 \\u0ab8\\u0abe\\u0aac\\u0abf\\u0aa4 \\u0aa5\\u0a88 \\u0ab0\\u0ab9\\u0ac0 \\u0a9b\\u0ac7. \\u0aab\\u0acd\\u0ab0\\u0abe\\u0aa8\\u0acd\\u0ab8 \\u0a95\\u0acb\\u0ab0\\u0acb\\u0aa8\\u0abe\\u0aa5\\u0ac0 \\u0ab8\\u0acc\\u0aa5\\u0ac0 \\u0ab5\\u0aa7\\u0ac1 \\u0a85\\u0ab8\\u0ab0\\u0a97\\u0acd\\u0ab0\\u0ab8\\u0acd\\u0aa4 \\u0a9b\\u0ac7. \\u0a86\\u0ab0\\u0acb\\u0a97\\u0acd\\u0aaf \\u0a8f\\u0a9c\\u0aa8\\u0acd\\u0ab8\\u0ac0 \\u0a95\\u0ab9\\u0ac7 \\u0a9b\\u0ac7 \\u0a95\\u0ac7 \\u0aa8\\u0ab5\\u0abe \\u0a95\\u0ac7\\u0ab8\\u0acb\\u0aae\\u0abe\\u0a82 40 \\u0a9f\\u0a95\\u0abe \\u0ab6\\u0abe\\u0ab3\\u0abe\\u0a93 \\u0a85\\u0aa8\\u0ac7 \\u0aaf\\u0ac1\\u0aa8\\u0abf\\u0ab5\\u0ab0\\u0acd\\u0ab8\\u0abf\\u0a9f\\u0ac0\\u0a93 \\u0ab8\\u0abe\\u0aa5\\u0ac7\\u0aa8\\u0abe \\u0ab8\\u0a82\\u0aac\\u0a82\\u0aa7\\u0abf\\u0aa4 \\u0a9b\\u0ac7.\\u0a86 10 \\u0aa6\\u0ac7\\u0ab6\\u0acb\\u0aae\\u0abe\\u0a82 \\u0a95\\u0acb\\u0ab0\\u0acb\\u0aa8\\u0abe\\u0aa8\\u0ac0 \\u0a85\\u0ab8\\u0ab0 \\u0ab8\\u0acc\\u0aa5\\u0ac0 \\u0ab5\\u0aa7\\u0ac1\\u0aa6\\u0ac7\\u0ab6\\u0ab8\\u0a82\\u0a95\\u0acd\\u0ab0\\u0aae\\u0aa3\\u0aae\\u0ac3\\u0aa4\\u0acd\\u0aaf\\u0ac1\\u0ab8\\u0abe\\u0a9c\\u0abe \\u0aa5\\u0aaf\\u0abe\\u0a85\\u0aae\\u0ac7\\u0ab0\\u0abf\\u0a95\\u0abe76,79,6442,15,03248,95,078\\u0aad\\u0abe\\u0ab0\\u0aa466,85,0821,03,60056,62,490\\u0aac\\u0acd\\u0ab0\\u0abe\\u0a9d\\u0ac0\\u0ab249,40,4991,46,77342,95,302\\u0ab0\\u0ab6\\u0abf\\u0aaf\\u0abe12,37,50421,6639,88,576\\u0a95\\u0acb\\u0ab2\\u0a82\\u0aac\\u0abf\\u0aaf\\u0abe8,62,15826,8447,66,300\\u0aaa\\u0ac7\\u0ab0\\u0ac28,52,83832,225\\u0a89\\u0aaa\\u0ab2\\u0aac\\u0acd\\u0aa7 \\u0aa8\\u0ab9\\u0ac0\\u0a82\\u0ab8\\u0acd\\u0aaa\\u0ac7\\u0aa88,29,99932,8347,12,888\\u0a85\\u0ab0\\u0acd\\u0a9c\\u0ac7\\u0a82\\u0a9f\\u0ac0\\u0aa8\\u0abe8,09,72821,4686,49,017\\u0aae\\u0ac7\\u0a95\\u0acd\\u0ab8\\u0abf\\u0a95\\u0acb7,61,66579,0885,50,053\\u0ab8\\u0abe\\u0a89\\u0aa5 \\u0a86\\u0aab\\u0acd\\u0ab0\\u0abf\\u0a95\\u0abe6,82,21517,0166,15,684\\u0aab\\u0acd\\u0ab0\\u0abe\\u0aa8\\u0acd\\u0ab8 : \\u0aa8\\u0ab5\\u0abe \\u0a86\\u0a82\\u0a95\\u0aa1\\u0abe \\u0a9c\\u0abe\\u0ab9\\u0ac7\\u0ab0 \\u0aa8\\u0aa5\\u0ac0\\u0aab\\u0acd\\u0ab0\\u0abe\\u0aa8\\u0acd\\u0ab8\\u0aae\\u0abe\\u0a82 \\u0ab6\\u0aa8\\u0abf\\u0ab5\\u0abe\\u0ab0\\u0ac7 17 \\u0ab9\\u0a9c\\u0abe\\u0ab0 \\u0aa8\\u0ab5\\u0abe \\u0a95\\u0ac7\\u0ab8 \\u0ab8\\u0abe\\u0aae\\u0ac7 \\u0a86\\u0ab5\\u0acd\\u0aaf\\u0abe \\u0ab9\\u0aa4\\u0abe. \\u0aa4\\u0acd\\u0aaf\\u0abe\\u0ab0 \\u0aac\\u0abe\\u0aa6 \\u0ab8\\u0ab0\\u0a95\\u0abe\\u0ab0\\u0ac7 \\u0ab0\\u0ab5\\u0abf\\u0ab5\\u0abe\\u0ab0 \\u0a85\\u0aa8\\u0ac7 \\u0ab8\\u0acb\\u0aae\\u0ab5\\u0abe\\u0ab0\\u0ac7 \\u0aa8\\u0ab5\\u0abe \\u0a86\\u0a82\\u0a95\\u0aa1\\u0abe \\u0a9c\\u0abe\\u0ab9\\u0ac7\\u0ab0 \\u0a95\\u0ab0\\u0acd\\u0aaf\\u0abe \\u0aa8\\u0aa5\\u0ac0. \\u0aaa\\u0acd\\u0ab0\\u0abe\\u0aa6\\u0ac7\\u0ab6\\u0abf\\u0a95 \\u0a86\\u0ab0\\u0acb\\u0a97\\u0acd\\u0aaf \\u0a8f\\u0a9c\\u0aa8\\u0acd\\u0ab8\\u0ac0\\u0aa8\\u0abe \\u0aa1\\u0abf\\u0ab0\\u0ac7\\u0a95\\u0acd\\u0a9f\\u0ab0 \\u0a8f\\u0ab0\\u0acb\\u0ab2\\u0abf\\u0aa8 \\u0ab0\\u0acb\\u0ab8\\u0acb\\u0a89\\u0a8f \\u0a95\\u0ab9\\u0acd\\u0aaf\\u0ac1\\u0a82- \\u0aaa\\u0ac7\\u0ab0\\u0abf\\u0ab8\\u0aa8\\u0abe \\u0a89\\u0aaa\\u0aa8\\u0a97\\u0ab0\\u0ac0\\u0aaf \\u0ab5\\u0abf\\u0ab8\\u0acd\\u0aa4\\u0abe\\u0ab0\\u0acb\\u0aae\\u0abe\\u0a82 \\u0aa6\\u0ab0\\u0ab0\\u0acb\\u0a9c \\u0ab8\\u0ab0\\u0ac7\\u0ab0\\u0abe\\u0ab6 3500 \\u0a95\\u0ac7\\u0ab8 \\u0aa8\\u0acb\\u0a82\\u0aa7\\u0abe\\u0aaf \\u0a9b\\u0ac7. \\u0a85\\u0aae\\u0ac7 200 \\u0aa8\\u0ab5\\u0abe \\u0aaa\\u0acd\\u0ab0\\u0abe\\u0aa6\\u0ac7\\u0ab6\\u0abf\\u0a95 \\u0a95\\u0acd\\u0ab2\\u0ab8\\u0acd\\u0a9f\\u0ab0\\u0acb \\u0a93\\u0ab3\\u0a96\\u0acd\\u0aaf\\u0abe \\u0a9b\\u0ac7. \\u0a9a\\u0abf\\u0a82\\u0aa4\\u0abe\\u0aa8\\u0ac0 \\u0ab5\\u0abe\\u0aa4 \\u0a9b\\u0ac7 \\u0a95\\u0ac7 40 \\u0a9f\\u0a95\\u0abe \\u0a95\\u0ac7\\u0ab8 \\u0ab6\\u0abe\\u0ab3\\u0abe\\u0a93 \\u0a85\\u0aa8\\u0ac7 \\u0aaf\\u0ac1\\u0aa8\\u0abf\\u0ab5\\u0ab0\\u0acd\\u0ab8\\u0abf\\u0a9f\\u0ac0\\u0a93\\u0aae\\u0abe\\u0a82\\u0aa5\\u0ac0 \\u0ab8\\u0abe\\u0aae\\u0ac7 \\u0a86\\u0ab5\\u0ac0 \\u0ab0\\u0ab9\\u0acd\\u0aaf\\u0abe \\u0a9b\\u0ac7. 26 \\u0a9f\\u0a95\\u0abe \\u0ab2\\u0acb\\u0a95\\u0acb \\u0a95\\u0abe\\u0aae\\u0aa8\\u0abe \\u0ab8\\u0acd\\u0aa5\\u0ab3\\u0acb\\u0aa5\\u0ac0 \\u0a85\\u0aa8\\u0ac7 10 \\u0a9f\\u0a95\\u0abe \\u0ab2\\u0acb\\u0a95\\u0acb \\u0a8f\\u0a95\\u0aa0\\u0abe \\u0aa5\\u0ab5\\u0abe\\u0aa8\\u0abe \\u0a95\\u0abe\\u0ab0\\u0aa3\\u0ac7 \\u0a95\\u0acb\\u0ab0\\u0acb\\u0aa8\\u0abe \\u0ab8\\u0a82\\u0a95\\u0acd\\u0ab0\\u0aae\\u0aa3 \\u0aa5\\u0abe\\u0aaf \\u0a9b\\u0ac7. \\u0a85\\u0aae\\u0ac7 \\u0aa8\\u0abf\\u0ab0\\u0acd\\u0aa3\\u0aaf \\u0ab2\\u0ac0\\u0aa7\\u0acb \\u0a9b\\u0ac7 \\u0a95\\u0ac7 \\u0aa8\\u0abf\\u0aaf\\u0a82\\u0aa4\\u0acd\\u0ab0\\u0aa3\\u0acb \\u0ab5\\u0aa7\\u0ac1 \\u0a95\\u0aa1\\u0a95 \\u0ab0\\u0ac0\\u0aa4\\u0ac7 \\u0ab2\\u0abe\\u0a97\\u0ac1 \\u0a95\\u0ab0\\u0ab5\\u0abe\\u0aae\\u0abe\\u0a82 \\u0a86\\u0ab5\\u0ab6\\u0ac7. \\u0a95\\u0abe\\u0ab0\\u0aa3 \\u0a95\\u0ac7 \\u0a86 \\u0ab8\\u0abf\\u0ab5\\u0abe\\u0aaf \\u0a85\\u0aae\\u0abe\\u0ab0\\u0ac0 \\u0aaa\\u0abe\\u0ab8\\u0ac7 \\u0a85\\u0aa4\\u0acd\\u0aaf\\u0abe\\u0ab0\\u0ac7 \\u0a95\\u0acb\\u0a88 \\u0a85\\u0aa8\\u0acd\\u0aaf \\u0a89\\u0aaa\\u0abe\\u0aaf \\u0aa8\\u0aa5\\u0ac0.\\u0aae\\u0ac7\\u0a95\\u0acd\\u0ab8\\u0abf\\u0a95\\u0acb\\u0aae\\u0abe\\u0a82 \\u0ab8\\u0acb\\u0aae\\u0ab5\\u0abe\\u0ab0\\u0ac7 \\u0aa8\\u0ab5\\u0abe \\u0a95\\u0ac7\\u0ab8\\u0acb\\u0a8f \\u0ab8\\u0acc\\u0aa8\\u0ac7 \\u0ab9\\u0ac7\\u0ab0\\u0abe\\u0aa8 \\u0a95\\u0ab0\\u0ac0 \\u0aa6\\u0ac0\\u0aa7\\u0abe. \\u0a85\\u0ab9\\u0abf\\u0aaf\\u0abe\\u0a82 \\u0a8f\\u0a95 \\u0a9c \\u0aa6\\u0abf\\u0ab5\\u0ab8\\u0aae\\u0abe\\u0a82 28 \\u0ab9\\u0a9c\\u0abe\\u0ab0 115 \\u0aa8\\u0ab5\\u0abe \\u0a95\\u0ac7\\u0ab8 \\u0ab8\\u0abe\\u0aae\\u0ac7 \\u0a86\\u0ab5\\u0acd\\u0aaf\\u0abe \\u0a9b\\u0ac7. \\u0a8f\\u0a9f\\u0ab2\\u0ac1\\u0a82 \\u0a9c \\u0aa8\\u0ab9\\u0ac0\\u0a82, \\u0a86 \\u0aa6\\u0ab0\\u0aae\\u0abf\\u0aaf\\u0abe\\u0aa8 2789 \\u0ab2\\u0acb\\u0a95\\u0acb\\u0aa8\\u0abe \\u0aae\\u0ac3\\u0aa4\\u0acd\\u0aaf\\u0ac1 \\u0aaa\\u0aa3 \\u0aa5\\u0aaf\\u0abe \\u0a9b\\u0ac7. \\u0ab8\\u0ab0\\u0a95\\u0abe\\u0ab0\\u0aa8\\u0ac1\\u0a82 \\u0a95\\u0ab9\\u0ac7\\u0ab5\\u0ac1\\u0a82 \\u0a9b\\u0ac7 \\u0a95\\u0ac7 \\u0aa8\\u0ab5\\u0abe \\u0a95\\u0ac7\\u0ab8\\u0aae\\u0abe\\u0a82 \\u0a9d\\u0aa1\\u0aaa\\u0ac0 \\u0ab5\\u0aa7\\u0abe\\u0ab0\\u0abe\\u0aa8\\u0abe \\u0a95\\u0abe\\u0ab0\\u0aa3\\u0ac7 \\u0a9c\\u0abe\\u0ab9\\u0ac7\\u0ab0 \\u0ab8\\u0acd\\u0aa5\\u0ab3\\u0acb \\u0aaa\\u0ab0 \\u0aaa\\u0acd\\u0ab0\\u0aa4\\u0abf\\u0aac\\u0a82\\u0aa7 \\u0ab2\\u0a97\\u0abe\\u0ab5\\u0ab5\\u0acb \\u0aa4\\u0ac7 \\u0a9c\\u0ab0\\u0ac2\\u0ab0\\u0ac0 \\u0aac\\u0aa8\\u0ac0 \\u0a97\\u0aaf\\u0ac1\\u0a82 \\u0a9b\\u0ac7. \\u0ab8\\u0ab0\\u0a95\\u0abe\\u0ab0\\u0ac7 \\u0a8f\\u0a95 \\u0ab0\\u0abf\\u0aaa\\u0acb\\u0ab0\\u0acd\\u0a9f \\u0aa4\\u0ac8\\u0aaf\\u0abe\\u0ab0 \\u0a95\\u0ab0\\u0acd\\u0aaf\\u0acb \\u0a9b\\u0ac7. \\u0a86 \\u0ab0\\u0abf\\u0aaa\\u0acb\\u0ab0\\u0acd\\u0a9f WHO\\u0aa8\\u0ac7 \\u0aaa\\u0aa3 \\u0aae\\u0acb\\u0a95\\u0ab2\\u0ab5\\u0abe\\u0aae\\u0abe\\u0a82 \\u0a86\\u0ab5\\u0ab6\\u0ac7. \\u0ab8\\u0a82\\u0a97\\u0aa0\\u0aa8\\u0aa8\\u0abe \\u0ab5\\u0abf\\u0ab6\\u0ac7\\u0ab7\\u0a9c\\u0acd\\u0a9e \\u0a86 \\u0aac\\u0abe\\u0aac\\u0aa4\\u0ac7 \\u0ab8\\u0ab0\\u0a95\\u0abe\\u0ab0\\u0aa8\\u0ac7 \\u0ab8\\u0ab2\\u0abe\\u0ab9 \\u0a86\\u0aaa\\u0ab6\\u0ac7. \\u0a9c\\u0acb \\u0ab6\\u0a95\\u0ac0 \\u0aac\\u0aa8\\u0ab6\\u0ac7 \\u0aa4\\u0acb \\u0a8f\\u0a95 \\u0a9f\\u0ac0\\u0aae \\u0aae\\u0ac7\\u0a95\\u0acd\\u0ab8\\u0abf\\u0a95\\u0acb \\u0aaa\\u0aa3 \\u0aae\\u0acb\\u0a95\\u0ab2\\u0ab5\\u0abe\\u0aae\\u0abe\\u0a82 \\u0a86\\u0ab5\\u0ab6\\u0ac7.\\u0aab\\u0acd\\u0ab0\\u0abe\\u0aa8\\u0acd\\u0ab8 : \\u0aaa\\u0ac7\\u0ab0\\u0abf\\u0ab8\\u0aae\\u0abe\\u0a82 \\u0aac\\u0abe\\u0ab0 \\u0a85\\u0aa8\\u0ac7 \\u0a95\\u0ac7\\u0aab\\u0ac7 \\u0aac\\u0a82\\u0aa7\\u0aab\\u0acd\\u0ab0\\u0abe\\u0aa8\\u0acd\\u0ab8\\u0aa8\\u0ac0 \\u0ab0\\u0abe\\u0a9c\\u0aa7\\u0abe\\u0aa8\\u0ac0 \\u0aaa\\u0ac7\\u0ab0\\u0abf\\u0ab8\\u0aae\\u0abe\\u0a82 \\u0ab8\\u0acb\\u0aae\\u0ab5\\u0abe\\u0ab0\\u0ac7 \\u0aa4\\u0aae\\u0abe\\u0aae \\u0aac\\u0abe\\u0ab0 \\u0a85\\u0aa8\\u0ac7 \\u0a95\\u0ac7\\u0aab\\u0ac7\\u0aa8\\u0ac7 \\u0aac\\u0a82\\u0aa7 \\u0a95\\u0ab0\\u0ab5\\u0abe\\u0aae\\u0abe\\u0a82 \\u0a95\\u0ab9\\u0ac7\\u0ab5\\u0abe\\u0aae\\u0abe \\u0a86\\u0ab5\\u0acd\\u0aaf\\u0ac1\\u0a82 \\u0a9b\\u0ac7. \\u0aa6\\u0ac7\\u0ab6\\u0aa8\\u0abe \\u0a86\\u0ab0\\u0acb\\u0a97\\u0acd\\u0aaf \\u0aae\\u0a82\\u0aa4\\u0acd\\u0ab0\\u0ac0 \\u0a93\\u0ab2\\u0abf\\u0ab5\\u0abf\\u0aaf\\u0ab0 \\u0ab5\\u0ac7\\u0ab0\\u0aa8\\u0ac7 \\u0ab0\\u0ab5\\u0abf\\u0ab5\\u0abe\\u0ab0\\u0ac7 \\u0a86 \\u0aac\\u0abe\\u0aac\\u0aa4\\u0aa8\\u0ac0 \\u0a9c\\u0abe\\u0aa3\\u0a95\\u0abe\\u0ab0\\u0ac0 \\u0a86\\u0aaa\\u0ac0 \\u0ab9\\u0aa4\\u0ac0. \\u0aa4\\u0ac7\\u0aae\\u0aa3\\u0ac7 \\u0a95\\u0ab9\\u0acd\\u0aaf\\u0ac1\\u0a82 \\u0a95\\u0ac7 \\u0ab0\\u0abe\\u0a9c\\u0aa7\\u0abe\\u0aa8\\u0ac0 \\u0aaa\\u0ac7\\u0ab0\\u0abf\\u0ab8\\u0aae\\u0abe\\u0a82 \\u0ab8\\u0a82\\u0a95\\u0acd\\u0ab0\\u0aae\\u0aa3 \\u0aa6\\u0ab0\\u0aa8\\u0ac7 \\u0a98\\u0a9f\\u0abe\\u0aa1\\u0ab5\\u0acb \\u0a9c\\u0ab0\\u0ac2\\u0ab0\\u0ac0 \\u0a9b\\u0ac7. \\u0a86\\u0ab5\\u0ac1\\u0a82 \\u0aa8\\u0ab9\\u0ac0\\u0a82 \\u0a95\\u0ab0\\u0ab5\\u0abe\\u0aae\\u0abe\\u0a82 \\u0a86\\u0ab5\\u0ac7 \\u0aa4\\u0acb \\u0ab6\\u0ab9\\u0ac7\\u0ab0\\u0aa8\\u0ac7 \\u0aab\\u0ab0\\u0ac0 \\u0ab2\\u0acb\\u0a95\\u0aa1\\u0abe\\u0a89\\u0aa8 \\u0a95\\u0ab0\\u0ab5\\u0abe\\u0aae\\u0abe\\u0a82 \\u0a86\\u0ab5\\u0ac0 \\u0ab6\\u0a95\\u0ac7 \\u0a9b\\u0ac7.\\u0aa8\\u0acd\\u0aaf\\u0ac2\\u0a9d\\u0ac0\\u0ab2\\u0ac7\\u0aa8\\u0acd\\u0aa1 : \\u0ab2\\u0acb\\u0a95\\u0aa1\\u0abe\\u0a89\\u0aa8 \\u0ab9\\u0a9f\\u0abe\\u0ab5\\u0abe\\u0aaf\\u0ac1\\u0a82\\u0aa8\\u0acd\\u0aaf\\u0ac2\\u0a9d\\u0ac0\\u0ab2\\u0ac7\\u0aa8\\u0acd\\u0aa1\\u0aa8\\u0abe \\u0ab5\\u0aa1\\u0abe\\u0aaa\\u0acd\\u0ab0\\u0aa7\\u0abe\\u0aa8 \\u0a9c\\u0ac7\\u0ab8\\u0abf\\u0a82\\u0aa8\\u0acd\\u0aa1\\u0abe\\u0a8f \\u0ab8\\u0acb\\u0aae\\u0ab5\\u0abe\\u0ab0\\u0ac7 \\u0a91\\u0a95\\u0ab2\\u0ac7\\u0aa8\\u0acd\\u0aa1\\u0aae\\u0abe\\u0aa5\\u0ac0 \\u0ab2\\u0acb\\u0a95\\u0aa1\\u0abe\\u0a89\\u0aa8 \\u0ab9\\u0a9f\\u0abe\\u0ab5\\u0ab5\\u0abe\\u0aa8\\u0ac1\\u0a82 \\u0a8f\\u0ab2\\u0abe\\u0aa8 \\u0a95\\u0ab0\\u0acd\\u0aaf\\u0ac1\\u0a82 \\u0ab9\\u0aa4\\u0ac1\\u0a82. \\u0aa4\\u0ac7\\u0aae\\u0aa3\\u0ac7 \\u0a95\\u0ab9\\u0acd\\u0aaf\\u0ac1\\u0a82 \\u0a95\\u0ac7 \\u0a85\\u0aae\\u0ac7 \\u0aac\\u0ac0\\u0a9c\\u0ac0 \\u0ab5\\u0a96\\u0aa4 \\u0aaa\\u0aa3 \\u0a95\\u0acb\\u0ab0\\u0acb\\u0aa8\\u0abe \\u0ab5\\u0abe\\u0aaf\\u0ab0\\u0ab8\\u0aa8\\u0ac7 \\u0ab9\\u0ab0\\u0abe\\u0ab5\\u0ac0 \\u0aa6\\u0ac0\\u0aa7\\u0acb \\u0a9b\\u0ac7. \\u0a9c\\u0acb \\u0a95\\u0ac7 \\u0ab8\\u0abe\\u0ab5\\u0aa7\\u0abe\\u0aa8\\u0ac0 \\u0ab0\\u0abe\\u0a96\\u0aa4\\u0abe \\u0ab2\\u0ac7\\u0ab5\\u0ab2 \\u0ab5\\u0aa8\\u0aa8\\u0ac1\\u0a82 \\u0a8f\\u0ab2\\u0ab0\\u0acd\\u0a9f \\u0a9c\\u0abe\\u0ab9\\u0ac7\\u0ab0 \\u0a95\\u0ab0\\u0ab5\\u0abe\\u0aae\\u0abe\\u0a82 \\u0a86\\u0ab5\\u0ab6\\u0ac7. \\u0ab9\\u0ab5\\u0ac7 \\u0ab8\\u0a82\\u0a95\\u0acd\\u0ab0\\u0aae\\u0aa3 \\u0aaa\\u0ab0 95% \\u0a95\\u0abe\\u0aac\\u0ac2 \\u0aae\\u0ac7\\u0ab3\\u0ab5\\u0abe\\u0aaf\\u0abe\\u0aa8\\u0ac0 \\u0ab8\\u0a82\\u0aad\\u0abe\\u0ab5\\u0aa8\\u0abe \\u0a9b\\u0ac7. \\u0aa4\\u0ac7\\u0aae\\u0aa3\\u0ac7 \\u0a95\\u0ab9\\u0acd\\u0aaf\\u0ac1\\u0a82 \\u0a95\\u0ac7 \\u0ab9\\u0a9c\\u0ac0 \\u0aae\\u0ab9\\u0abf\\u0aa8\\u0abe\\u0a93 \\u0ab8\\u0ac1\\u0aa7\\u0ac0 \\u0a95\\u0acb\\u0ab0\\u0acb\\u0aa8\\u0abe \\u0a86\\u0aaa\\u0aa8\\u0ac0 \\u0ab8\\u0abe\\u0aa5\\u0ac7 \\u0ab0\\u0ab9\\u0ac7\\u0ab6\\u0ac7, \\u0aaa\\u0ab0\\u0a82\\u0aa4\\u0ac1 \\u0a86\\u0aaa\\u0aa3\\u0ac7 \\u0aa4\\u0ac7\\u0aa8\\u0ac7 \\u0a8f\\u0a95 \\u0aae\\u0ab9\\u0aa4\\u0acd\\u0ab5\\u0aaa\\u0ac2\\u0ab0\\u0acd\\u0aa3 \\u0ab8\\u0abf\\u0aa6\\u0acd\\u0aa7\\u0abf \\u0aa4\\u0ab0\\u0ac0\\u0a95\\u0ac7 \\u0ab2\\u0ac7\\u0ab5\\u0ac1\\u0a82 \\u0a9c\\u0acb\\u0a88\\u0a8f. \\u0aa6\\u0ac7\\u0ab6\\u0aae\\u0abe\\u0a82 \\u0a85\\u0aa4\\u0acd\\u0aaf\\u0abe\\u0ab0 \\u0ab8\\u0ac1\\u0aa7\\u0ac0\\u0aae\\u0abe\\u0a82 1855 \\u0a95\\u0ac7\\u0ab8 \\u0aa8\\u0acb\\u0a82\\u0aa7\\u0abe\\u0aaf\\u0abe \\u0a9b\\u0ac7 \\u0a85\\u0aa8\\u0ac7 25 \\u0ab2\\u0acb\\u0a95\\u0acb\\u0aa8\\u0abe\\u0a82 \\u0aae\\u0ac3\\u0aa4\\u0acd\\u0aaf\\u0ac1 \\u0aa8\\u0ac0\\u0aaa\\u0a9c\\u0acd\\u0aaf\\u0abe\\u0a82 \\u0a9b\\u0ac7.\",\n          \"\\u0a9a\\u0acb\\u0a95\\u0acd\\u0a95\\u0ab8 \\u0a87\\u0ab0\\u0abe\\u0aa6\\u0acb \\u0aaa\\u0abe\\u0ab0 \\u0aaa\\u0abe\\u0aa1\\u0ab5\\u0abe \\u0aaa\\u0acd\\u0ab0\\u0a9c\\u0abe\\u0aa8\\u0ac7 \\u0a89\\u0ab2\\u0acd\\u0a9f\\u0abe \\u0a9a\\u0ab6\\u0acd\\u0aae\\u0abe \\u0aaa\\u0ab9\\u0ac7\\u0ab0\\u0abe\\u0ab5\\u0ab5\\u0abe\\u0aae\\u0abe\\u0a82 \\u0aae\\u0abe\\u0ab9\\u0abf\\u0ab0 \\u0ab0\\u0abe\\u0a9c\\u0a95\\u0acb\\u0a9f \\u0aae\\u0ab9\\u0abe\\u0aa8\\u0a97\\u0ab0\\u0aaa\\u0abe\\u0ab2\\u0abf\\u0a95\\u0abe\\u0aa8\\u0abe \\u0ab5\\u0aa7\\u0ac1 \\u0a8f\\u0a95 \\u0ab8\\u0ac1\\u0a86\\u0aaf\\u0acb\\u0a9c\\u0abf\\u0aa4 \\u0ab7\\u0aa1\\u0aaf\\u0a82\\u0aa4\\u0acd\\u0ab0\\u0aa8\\u0acb \\u0aaa\\u0ab0\\u0acd\\u0aa6\\u0abe\\u0aab\\u0abe\\u0ab6 \\u0aa5\\u0aaf\\u0acb \\u0a9b\\u0ac7. \\u0ab6\\u0ab9\\u0ac7\\u0ab0\\u0aa8\\u0abe \\u0ab8\\u0acd\\u0ab2\\u0aae \\u0ab5\\u0abf\\u0ab8\\u0acd\\u0aa4\\u0abe\\u0ab0\\u0aae\\u0abe\\u0a82 \\u0aa8\\u0aa6\\u0ac0, \\u0aa4\\u0ab3\\u0abe\\u0ab5 \\u0a85\\u0aa8\\u0ac7 \\u0ab5\\u0acb\\u0a82\\u0a95\\u0ab3\\u0abe \\u0a95\\u0abe\\u0a82\\u0aa0\\u0ac7 \\u0ab5\\u0abf\\u0a95\\u0abe\\u0ab8\\u0a95\\u0abe\\u0aae\\u0acb \\u0a95\\u0ab0\\u0ab5\\u0abe \\u0aa4\\u0ac7 \\u0ab5\\u0abf\\u0ab8\\u0acd\\u0aa4\\u0abe\\u0ab0\\u0aae\\u0abe\\u0a82 \\u0aa1\\u0abf\\u0aae\\u0acb\\u0ab2\\u0abf\\u0ab6\\u0aa8 \\u0a95\\u0ab0\\u0ab5\\u0abe\\u0aae\\u0abe\\u0a82 \\u0a86\\u0ab5\\u0ac7 \\u0aa4\\u0acd\\u0aaf\\u0abe\\u0ab0\\u0ac7 \\u0aa4\\u0acd\\u0aaf\\u0abe\\u0a82 \\u0ab0\\u0ab9\\u0ac7\\u0aa4\\u0abe \\u0ab2\\u0acb\\u0a95\\u0acb\\u0aa8\\u0ac7 \\u0a86\\u0ab6\\u0ab0\\u0acb \\u0aae\\u0ab3\\u0ac0 \\u0ab0\\u0ab9\\u0ac7 \\u0aa4\\u0ac7 \\u0aae\\u0abe\\u0a9f\\u0ac7 \\u0aae\\u0aa8\\u0aaa\\u0abe \\u0aa6\\u0acd\\u0ab5\\u0abe\\u0ab0\\u0abe \\u0a86\\u0ab5\\u0abe\\u0ab8 \\u0aac\\u0aa8\\u0abe\\u0ab5\\u0ab5\\u0abe\\u0aa8\\u0acb \\u0aaa\\u0acd\\u0ab0\\u0acb\\u0a9c\\u0ac7\\u0a95\\u0acd\\u0a9f \\u0a9b \\u0ab5\\u0ab0\\u0acd\\u0ab7 \\u0aaa\\u0ac2\\u0ab0\\u0acd\\u0ab5\\u0ac7 \\u0ab8\\u0ab0\\u0a95\\u0abe\\u0ab0\\u0aae\\u0abe\\u0a82 \\u0aae\\u0ac1\\u0a95\\u0ab5\\u0abe\\u0aae\\u0abe\\u0a82 \\u0a86\\u0ab5\\u0acd\\u0aaf\\u0acb \\u0ab9\\u0aa4\\u0acb. \\u0aaa\\u0acd\\u0ab0\\u0acb\\u0a9c\\u0ac7\\u0a95\\u0acd\\u0a9f \\u0aae\\u0a82\\u0a9c\\u0ac2\\u0ab0 \\u0aa5\\u0aaf\\u0abe \\u0aac\\u0abe\\u0aa6 \\u0a89\\u0aaa\\u0ab2\\u0abe\\u0a95\\u0abe\\u0a82\\u0aa0\\u0abe \\u0ab5\\u0abf\\u0ab8\\u0acd\\u0aa4\\u0abe\\u0ab0\\u0aae\\u0abe\\u0a82 \\u0ab0\\u0ac2.6.91 \\u0a95\\u0ab0\\u0acb\\u0aa1\\u0aa8\\u0abe \\u0a96\\u0ab0\\u0acd\\u0a9a\\u0ac7 128 \\u0ab8\\u0acd\\u0aae\\u0abe\\u0ab0\\u0acd\\u0a9f \\u0a98\\u0ab0 \\u0aac\\u0aa8\\u0abe\\u0ab5\\u0ac0 \\u0aa6\\u0ac7\\u0ab5\\u0abe\\u0aae\\u0abe\\u0a82 \\u0a86\\u0ab5\\u0acd\\u0aaf\\u0abe\\u0a82 \\u0ab9\\u0aa4\\u0abe\\u0a82.\\u0aa4\\u0acd\\u0ab0\\u0aa3 \\u0ab5\\u0ab0\\u0acd\\u0ab7\\u0aa5\\u0ac0 \\u0a86 \\u0aae\\u0a95\\u0abe\\u0aa8 \\u0a96\\u0abe\\u0ab2\\u0ac0\\u0a96\\u0aae\\u0acd\\u0aae \\u0a8a\\u0aad\\u0abe \\u0a9b\\u0ac7, \\u0aae\\u0aa8\\u0aaa\\u0abe\\u0a8f \\u0a86 \\u0a9b \\u0ab5\\u0ab0\\u0acd\\u0ab7 \\u0aa6\\u0ab0\\u0aae\\u0abf\\u0aaf\\u0abe\\u0aa8 \\u0aa8\\u0aa6\\u0ac0, \\u0aa4\\u0ab3\\u0abe\\u0ab5 \\u0a95\\u0abe\\u0a82\\u0aa0\\u0ac7 \\u0aa8 \\u0aa4\\u0acb \\u0aa1\\u0abf\\u0aae\\u0acb\\u0ab2\\u0abf\\u0ab6\\u0aa8 \\u0a95\\u0ab0\\u0acd\\u0aaf\\u0ac1\\u0a82 \\u0a9b\\u0ac7 \\u0a85\\u0aa8\\u0ac7 \\u0aa8 \\u0aa4\\u0acb \\u0a95\\u0acb\\u0a87\\u0aa8\\u0ac7 \\u0aae\\u0a95\\u0abe\\u0aa8 \\u0aab\\u0abe\\u0ab3\\u0ab5\\u0acd\\u0aaf\\u0ac1\\u0a82 \\u0a9b\\u0ac7, \\u0aae\\u0abe\\u0aa4\\u0acd\\u0ab0 \\u0aaa\\u0acd\\u0ab0\\u0acb\\u0a9c\\u0ac7\\u0a95\\u0acd\\u0a9f\\u0aa8\\u0acb \\u0a96\\u0ab0\\u0acd\\u0a9a \\u0a9c \\u0a95\\u0ab0\\u0ac0\\u0aa8\\u0ac7 \\u0aaa\\u0acb\\u0aa4\\u0abe\\u0aa8\\u0abe \\u0a9a\\u0acb\\u0a95\\u0acd\\u0a95\\u0acd\\u0ab8 \\u0a87\\u0ab0\\u0abe\\u0aa6\\u0abe \\u0aaa\\u0abe\\u0ab0 \\u0aaa\\u0abe\\u0aa1\\u0ab5\\u0abe \\u0aaa\\u0acd\\u0ab0\\u0a9c\\u0abe\\u0aa8\\u0abe \\u0aaa\\u0ac8\\u0ab8\\u0abe\\u0aa8\\u0acb \\u0aa7\\u0ac1\\u0aae\\u0abe\\u0aa1\\u0acb \\u0a95\\u0ab0\\u0ab5\\u0abe\\u0aa8\\u0ac0 \\u0ab5\\u0aa7\\u0ac1 \\u0a8f\\u0a95 \\u0ab5\\u0ac3\\u0aa4\\u0acd\\u0aa4\\u0abf \\u0ab8\\u0abe\\u0aae\\u0ac7 \\u0a86\\u0ab5\\u0ac0 \\u0a9b\\u0ac7 \\u0a9c\\u0ac7\\u0aae\\u0abe\\u0a82 \\u0a85\\u0a97\\u0abe\\u0a89 \\u0ab5\\u0a97\\u0acb\\u0ab5\\u0abe\\u0aaf\\u0ac7\\u0ab2\\u0abe \\u0a8f\\u0a95 \\u0a85\\u0aa7\\u0abf\\u0a95\\u0abe\\u0ab0\\u0ac0\\u0aa8\\u0ac0 \\u0a9c \\u0aad\\u0ac2\\u0aae\\u0abf\\u0a95\\u0abe \\u0ab5\\u0aa7\\u0ac1 \\u0a8f\\u0a95 \\u0ab5\\u0a96\\u0aa4 \\u0aaa\\u0acd\\u0ab0\\u0a95\\u0abe\\u0ab6\\u0aae\\u0abe\\u0a82 \\u0a86\\u0ab5\\u0ac0 \\u0ab9\\u0aa4\\u0ac0.\\u0aae\\u0aa8\\u0aaa\\u0abe\\u0a8f \\u0aaa\\u0acd\\u0ab0\\u0acb\\u0a9c\\u0ac7\\u0a95\\u0acd\\u0a9f \\u0ab5\\u0ab0\\u0acd\\u0ab7 2016\\u0aae\\u0abe\\u0a82 \\u0aa4\\u0ac8\\u0aaf\\u0abe\\u0ab0 \\u0a95\\u0ab0\\u0acd\\u0aaf\\u0acb \\u0ab9\\u0aa4\\u0acb\\u0aaa\\u0acd\\u0ab0\\u0aa7\\u0abe\\u0aa8\\u0aae\\u0a82\\u0aa4\\u0acd\\u0ab0\\u0ac0 \\u0a86\\u0ab5\\u0abe\\u0ab8 \\u0aaf\\u0acb\\u0a9c\\u0aa8\\u0abe \\u0a85\\u0a82\\u0aa4\\u0ab0\\u0acd\\u0a97\\u0aa4 \\u0a9f\\u0ac7\\u0aa8\\u0ac7\\u0aac\\u0ab2 \\u0a86\\u0ab5\\u0abe\\u0ab8 \\u0ab8\\u0acd\\u0a95\\u0abf\\u0aae \\u0aaa\\u0aa3 \\u0ab8\\u0ab0\\u0a95\\u0abe\\u0ab0 \\u0aa6\\u0acd\\u0ab5\\u0abe\\u0ab0\\u0abe \\u0aae\\u0ac1\\u0a95\\u0ab5\\u0abe\\u0aae\\u0abe\\u0a82 \\u0a86\\u0ab5\\u0ac0 \\u0ab9\\u0aa4\\u0ac0, \\u0a9c\\u0ac7\\u0aae\\u0abe\\u0a82 \\u0aa8\\u0aa6\\u0ac0, \\u0aa4\\u0ab3\\u0abe\\u0ab5 \\u0a85\\u0aa8\\u0ac7 \\u0ab5\\u0acb\\u0a82\\u0a95\\u0ab3\\u0abe \\u0a95\\u0abe\\u0a82\\u0aa0\\u0abe\\u0aa8\\u0acb \\u0ab5\\u0abf\\u0a95\\u0abe\\u0ab8 \\u0a95\\u0ab0\\u0ab5\\u0abe\\u0aa8\\u0acb \\u0ab9\\u0acb\\u0aaf \\u0a85\\u0aa8\\u0ac7 \\u0a9c\\u0acb \\u0aa4\\u0ac7 \\u0ab8\\u0acd\\u0aa5\\u0ab3\\u0ac7 \\u0a97\\u0ac7\\u0ab0\\u0a95\\u0abe\\u0aaf\\u0aa6\\u0ac7 \\u0aae\\u0a95\\u0abe\\u0aa8\\u0acb \\u0aac\\u0aa8\\u0ac0 \\u0a97\\u0aaf\\u0abe \\u0ab9\\u0acb\\u0aaf \\u0aa4\\u0acb \\u0aa4\\u0acd\\u0aaf\\u0abe\\u0a82 \\u0aa6\\u0aac\\u0abe\\u0aa3 \\u0ab9\\u0a9f\\u0abe\\u0ab5\\u0ac0 \\u0aa4\\u0ac7 \\u0aa6\\u0aac\\u0abe\\u0aa3\\u0a95\\u0ab0\\u0acd\\u0aa4\\u0abe\\u0a93\\u0aa8\\u0ac7 \\u0a86\\u0ab5\\u0abe\\u0ab8 \\u0a86\\u0aaa\\u0ab5\\u0abe\\u0aa8\\u0ac0 \\u0aaf\\u0acb\\u0a9c\\u0aa8\\u0abe \\u0a85\\u0aae\\u0ab2\\u0ac0 \\u0aac\\u0aa8\\u0abe\\u0ab5\\u0ab5\\u0abe\\u0aae\\u0abe\\u0a82 \\u0a86\\u0ab5\\u0ac0 \\u0ab9\\u0aa4\\u0ac0, \\u0ab8\\u0ab0\\u0a95\\u0abe\\u0ab0\\u0aa8\\u0ac0 \\u0a86 \\u0aaf\\u0acb\\u0a9c\\u0aa8\\u0abe \\u0ab9\\u0ac7\\u0aa0\\u0ab3 \\u0a95\\u0ab0\\u0acb\\u0aa1\\u0acb\\u0aa8\\u0ac0 \\u0a86\\u0ab5\\u0a95 \\u0aae\\u0ac7\\u0ab3\\u0ab5\\u0ac0 \\u0a9a\\u0acb\\u0a95\\u0acd\\u0a95\\u0ab8 \\u0a87\\u0ab0\\u0abe\\u0aa6\\u0acb \\u0aaa\\u0abe\\u0ab0 \\u0aaa\\u0abe\\u0aa1\\u0ab5\\u0abe \\u0aae\\u0abe\\u0a9f\\u0ac7 \\u0ab0\\u0abe\\u0a9c\\u0a95\\u0acb\\u0a9f \\u0aae\\u0ab9\\u0abe\\u0aa8\\u0a97\\u0ab0\\u0aaa\\u0abe\\u0ab2\\u0abf\\u0a95\\u0abe\\u0aa8\\u0ac0 \\u0a86\\u0ab5\\u0abe\\u0ab8 \\u0ab6\\u0abe\\u0a96\\u0abe\\u0aa8\\u0abe \\u0a9f\\u0ac7\\u0a95\\u0acd\\u0aa8\\u0abf\\u0a95\\u0ab2 \\u0ab5\\u0abf\\u0aad\\u0abe\\u0a97\\u0aa8\\u0abe \\u0aa4\\u0aa4\\u0acd\\u0a95\\u0abe\\u0ab2\\u0ac0\\u0aa8 \\u0ab8\\u0abf\\u0a9f\\u0ac0 \\u0a8f\\u0aa8\\u0acd\\u0a9c\\u0abf\\u0aa8\\u0abf\\u0aaf\\u0ab0 \\u0a85\\u0ab2\\u0acd\\u0aaa\\u0aa8\\u0abe \\u0aae\\u0abf\\u0aa4\\u0acd\\u0ab0\\u0abe\\u0a8f \\u0a8f\\u0a95 \\u0a8f\\u0a95 \\u0aaa\\u0acd\\u0ab0\\u0acb\\u0a9c\\u0ac7\\u0a95\\u0acd\\u0a9f \\u0aa4\\u0ac8\\u0aaf\\u0abe\\u0ab0 \\u0a95\\u0ab0\\u0acd\\u0aaf\\u0acb \\u0ab9\\u0aa4\\u0acb.\\u0aaa\\u0acd\\u0ab0\\u0acb\\u0a9c\\u0ac7\\u0a95\\u0acd\\u0a9f \\u0aae\\u0ac1\\u0a9c\\u0aac \\u0ab0\\u0abe\\u0a9c\\u0a95\\u0acb\\u0a9f\\u0aa8\\u0abe \\u0ab2\\u0abe\\u0ab2\\u0aaa\\u0ab0\\u0ac0 \\u0a85\\u0aa8\\u0ac7 \\u0ab0\\u0abe\\u0a82\\u0aa6\\u0ab0\\u0aa1\\u0abe \\u0aa4\\u0ab3\\u0abe\\u0ab5 \\u0ab0\\u0ac0\\u0aa1\\u0ac7\\u0ab5\\u0ab2\\u0aaa\\u0aae\\u0ac7\\u0aa8\\u0acd\\u0a9f \\u0aaa\\u0acd\\u0ab0\\u0acb\\u0a9c\\u0ac7\\u0a95\\u0acd\\u0a9f, \\u0ab2\\u0ab2\\u0ac2\\u0aa1\\u0ac0 \\u0ab5\\u0acb\\u0a82\\u0a95\\u0ab3\\u0ac0 \\u0aaa\\u0ab9\\u0acb\\u0ab3\\u0ac0 \\u0a95\\u0ab0\\u0ab5\\u0abe\\u0aa8\\u0acb \\u0aaa\\u0acd\\u0ab0\\u0acb\\u0a9c\\u0ac7\\u0a95\\u0acd\\u0a9f \\u0a85\\u0aa8\\u0ac7 \\u0a86\\u0a9c\\u0ac0 \\u0ab0\\u0abf\\u0ab5\\u0ab0\\u0aab\\u0acd\\u0ab0\\u0aa8\\u0acd\\u0a9f \\u0aaa\\u0acd\\u0ab0\\u0acb\\u0a9c\\u0ac7\\u0a95\\u0acd\\u0a9f \\u0aad\\u0ab5\\u0abf\\u0ab7\\u0acd\\u0aaf\\u0aae\\u0abe\\u0a82 \\u0a85\\u0aae\\u0ab2\\u0ac0 \\u0aac\\u0aa8\\u0abe\\u0ab5\\u0ab5\\u0abe\\u0aae\\u0abe\\u0a82 \\u0a86\\u0ab5\\u0ac7 \\u0aa4\\u0acb \\u0aa4\\u0ac7 \\u0aaa\\u0acd\\u0ab0\\u0acb\\u0a9c\\u0ac7\\u0a95\\u0acd\\u0a9f \\u0ab5\\u0abf\\u0ab8\\u0acd\\u0aa4\\u0abe\\u0ab0\\u0aae\\u0abe\\u0a82 \\u0a97\\u0ac7\\u0ab0\\u0a95\\u0abe\\u0aaf\\u0aa6\\u0ac7 \\u0aac\\u0aa8\\u0abe\\u0ab5\\u0abe\\u0aaf\\u0ac7\\u0ab2\\u0abe \\u0aae\\u0a95\\u0abe\\u0aa8\\u0acb \\u0aa6\\u0ac2\\u0ab0 \\u0a95\\u0ab0\\u0ab5\\u0abe \\u0aaa\\u0aa1\\u0ac7 \\u0a85\\u0aa8\\u0ac7 \\u0aa4\\u0ac7\\u0aa8\\u0abe \\u0a85\\u0ab8\\u0ab0\\u0a97\\u0acd\\u0ab0\\u0ab8\\u0acd\\u0aa4\\u0acb\\u0aa8\\u0ac7 \\u0aae\\u0abe\\u0ab0\\u0acd\\u0a95\\u0ac7\\u0a9f\\u0abf\\u0a82\\u0a97\\u0aaf\\u0abe\\u0ab0\\u0acd\\u0aa1 \\u0aa8\\u0a9c\\u0ac0\\u0a95 \\u0ab9\\u0abe\\u0a89\\u0ab8\\u0abf\\u0a82\\u0a97 \\u0aac\\u0acb\\u0ab0\\u0acd\\u0aa1 \\u0aaa\\u0abe\\u0ab8\\u0ac7\\u0aa8\\u0ac0 \\u0a86\\u0a82\\u0aac\\u0abe\\u0ab5\\u0abe\\u0aa1\\u0ac0\\u0aae\\u0abe\\u0a82 \\u0a86\\u0ab5\\u0abe\\u0ab8 \\u0a86\\u0aaa\\u0ab5\\u0abe\\u0aa8\\u0acb \\u0aaa\\u0acd\\u0ab0\\u0acb\\u0a9c\\u0ac7\\u0a95\\u0acd\\u0a9f \\u0ab5\\u0ab0\\u0acd\\u0ab7 2016\\u0aae\\u0abe\\u0a82 \\u0aa4\\u0ac8\\u0aaf\\u0abe\\u0ab0 \\u0a95\\u0ab0\\u0ab5\\u0abe\\u0aae\\u0abe\\u0a82 \\u0a86\\u0ab5\\u0acd\\u0aaf\\u0acb \\u0ab9\\u0aa4\\u0acb \\u0a85\\u0aa8\\u0ac7 \\u0a86 \\u0aaa\\u0acd\\u0ab0\\u0acb\\u0a9c\\u0ac7\\u0a95\\u0acd\\u0a9f \\u0aae\\u0aa8\\u0aaa\\u0abe\\u0a8f \\u0ab8\\u0ab0\\u0a95\\u0abe\\u0ab0\\u0aae\\u0abe\\u0a82 \\u0aae\\u0acb\\u0a95\\u0ab2\\u0acd\\u0aaf\\u0acb \\u0ab9\\u0aa4\\u0acb. \\u0aae\\u0aa8\\u0aaa\\u0abe\\u0aa8\\u0abe \\u0a86 \\u0aaa\\u0acd\\u0ab0\\u0acb\\u0a9c\\u0ac7\\u0a95\\u0acd\\u0a9f\\u0aa8\\u0ac7 \\u0aae\\u0a82\\u0a9c\\u0ac2\\u0ab0\\u0ac0 \\u0a86\\u0aaa\\u0ab5\\u0abe\\u0aae\\u0abe\\u0a82 \\u0a86\\u0ab5\\u0ac0 \\u0ab9\\u0aa4\\u0ac0.\\u0aae\\u0aa8\\u0aaa\\u0abe\\u0a8f \\u0a95\\u0ab0\\u0acb\\u0aa1\\u0acb\\u0aa8\\u0abe \\u0a96\\u0ab0\\u0acd\\u0a9a\\u0ac7 \\u0aac\\u0aa8\\u0abe\\u0ab5\\u0ac7\\u0ab2 \\u0a86\\u0ab5\\u0abe\\u0ab8 \\u0ab9\\u0abe\\u0ab2\\u0aae\\u0abe\\u0a82 \\u0aa7\\u0ac2\\u0ab3 \\u0a96\\u0abe\\u0a87 \\u0ab0\\u0ab9\\u0acd\\u0aaf\\u0abe \\u0a9b\\u0ac7\\u0a86\\u0a82\\u0aac\\u0abe\\u0ab5\\u0abe\\u0aa1\\u0ac0\\u0aae\\u0abe\\u0a82 \\u0ab0\\u0ac2.6.91 \\u0a95\\u0ab0\\u0acb\\u0aa1\\u0aa8\\u0abe \\u0a96\\u0ab0\\u0acd\\u0a9a\\u0ac7 128 \\u0ab8\\u0acd\\u0aae\\u0abe\\u0ab0\\u0acd\\u0a9f \\u0a98\\u0ab0 \\u0aac\\u0aa8\\u0abe\\u0ab5\\u0ab5\\u0abe\\u0aa8\\u0ac0 \\u0a95\\u0abe\\u0aae\\u0a97\\u0ac0\\u0ab0\\u0ac0 \\u0ab6\\u0ab0\\u0ac2 \\u0a95\\u0ab0\\u0ab5\\u0abe\\u0aae\\u0abe\\u0a82 \\u0a86\\u0ab5\\u0ac0 \\u0ab9\\u0aa4\\u0ac0 \\u0a85\\u0aa8\\u0ac7 \\u0aa1\\u0abf\\u0ab8\\u0ac7\\u0aae\\u0acd\\u0aac\\u0ab0 2019\\u0aae\\u0abe\\u0a82 \\u0aa4\\u0aae\\u0abe\\u0aae 128 \\u0a86\\u0ab5\\u0abe\\u0ab8 \\u0aac\\u0aa8\\u0ac0\\u0aa8\\u0ac7 \\u0aa4\\u0ac8\\u0aaf\\u0abe\\u0ab0 \\u0aa5\\u0a87 \\u0a97\\u0aaf\\u0abe \\u0ab9\\u0aa4\\u0abe. \\u0a9c\\u0ac7 \\u0aaa\\u0acd\\u0ab0\\u0acb\\u0a9c\\u0ac7\\u0a95\\u0acd\\u0a9f \\u0aad\\u0ab5\\u0abf\\u0ab7\\u0acd\\u0aaf\\u0aae\\u0abe\\u0a82 \\u0a85\\u0aae\\u0ab2\\u0ac0 \\u0aac\\u0aa8\\u0ab6\\u0ac7 \\u0aa4\\u0ac7\\u0aa8\\u0ac1\\u0a82 \\u0a86\\u0a97\\u0acb\\u0aa4\\u0ab0\\u0ac1\\u0a82 \\u0a86\\u0aaf\\u0acb\\u0a9c\\u0aa8 \\u0a85\\u0ab2\\u0acd\\u0aaa\\u0aa8\\u0abe \\u0aae\\u0abf\\u0aa4\\u0acd\\u0ab0\\u0abe \\u0a85\\u0aa8\\u0ac7 \\u0aa4\\u0ac7\\u0aa8\\u0ac0 \\u0a9f\\u0ac0\\u0aae\\u0ac7 \\u0a95\\u0ab0\\u0acd\\u0aaf\\u0ac1\\u0a82 \\u0ab9\\u0aa4\\u0ac1\\u0a82 \\u0a85\\u0aa8\\u0ac7 \\u0ab8\\u0ab0\\u0a95\\u0abe\\u0ab0\\u0aa8\\u0ac0 6.91 \\u0a95\\u0ab0\\u0acb\\u0aa1\\u0aa8\\u0ac0 \\u0a97\\u0acd\\u0ab0\\u0abe\\u0aa8\\u0acd\\u0a9f \\u0aae\\u0ac7\\u0ab3\\u0ab5\\u0ac0 \\u0a86\\u0ab5\\u0abe\\u0ab8 \\u0aac\\u0aa8\\u0abe\\u0ab5\\u0ac0 \\u0aa6\\u0ac0\\u0aa7\\u0abe \\u0ab9\\u0aa4\\u0abe, \\u0aaa\\u0ab0\\u0a82\\u0aa4\\u0ac1 \\u0a86 \\u0a86\\u0ab5\\u0abe\\u0ab8 \\u0aac\\u0aa8\\u0ac0 \\u0a97\\u0aaf\\u0abe\\u0aa8\\u0abe \\u0a85\\u0aa2\\u0ac0 \\u0ab5\\u0ab0\\u0acd\\u0ab7 \\u0ab5\\u0abf\\u0aa4\\u0ac0 \\u0a97\\u0aaf\\u0abe \\u0ab9\\u0acb\\u0ab5\\u0abe \\u0a9b\\u0aa4\\u0abe\\u0a82 \\u0a86 \\u0a86\\u0ab5\\u0abe\\u0ab8\\u0aa8\\u0ac1\\u0a82 \\u0a8f\\u0a95 \\u0aaa\\u0aa3 \\u0a95\\u0acd\\u0ab5\\u0abe\\u0a9f\\u0ab0\\u0acd\\u0ab8 \\u0a95\\u0acb\\u0a87\\u0aa8\\u0ac7 \\u0aab\\u0abe\\u0ab3\\u0ab5\\u0ab5\\u0abe\\u0aae\\u0abe\\u0a82 \\u0a86\\u0ab5\\u0acd\\u0aaf\\u0ac1\\u0a82 \\u0aa8\\u0aa5\\u0ac0, \\u0a8f\\u0a9f\\u0ab2\\u0ac1\\u0a82 \\u0a9c \\u0aa8\\u0ab9\\u0ac0\\u0a82, \\u0a89\\u0aaa\\u0ab0\\u0acb\\u0a95\\u0acd\\u0aa4 \\u0a9a\\u0abe\\u0ab0\\u0ac7\\u0aaf \\u0ab8\\u0acd\\u0aa5\\u0ab3\\u0ac7 \\u0ab9\\u0a9c\\u0ac1 \\u0ab8\\u0ac1\\u0aa7\\u0ac0 \\u0aa1\\u0abf\\u0aae\\u0acb\\u0ab2\\u0abf\\u0ab6\\u0aa8 \\u0aaa\\u0aa3 \\u0a95\\u0ab0\\u0ab5\\u0abe\\u0aae\\u0abe\\u0a82 \\u0a86\\u0ab5\\u0acd\\u0aaf\\u0ac1\\u0a82 \\u0aa8\\u0aa5\\u0ac0.\\u0aae\\u0aa8\\u0aaa\\u0abe\\u0a8f \\u0a95\\u0ab0\\u0acb\\u0aa1\\u0acb\\u0aa8\\u0abe \\u0a96\\u0ab0\\u0acd\\u0a9a\\u0ac7 \\u0a86\\u0ab5\\u0abe\\u0ab8 \\u0aa4\\u0acb \\u0aac\\u0aa8\\u0abe\\u0ab5\\u0ac0 \\u0aa6\\u0ac0\\u0aa7\\u0abe \\u0aaa\\u0ab0\\u0a82\\u0aa4\\u0ac1 \\u0a95\\u0ab0\\u0acb\\u0aa1\\u0acb\\u0aa8\\u0abe \\u0a96\\u0ab0\\u0acd\\u0a9a\\u0ac7 \\u0aac\\u0aa8\\u0ac7\\u0ab2\\u0abe \\u0aa4\\u0ac7 \\u0a86\\u0ab5\\u0abe\\u0ab8 \\u0ab9\\u0abe\\u0ab2\\u0aae\\u0abe\\u0a82 \\u0aa7\\u0ac2\\u0ab3 \\u0a96\\u0abe\\u0a87 \\u0ab0\\u0ab9\\u0acd\\u0aaf\\u0abe \\u0a9b\\u0ac7, \\u0a85\\u0aa8\\u0ac7 \\u0ab9\\u0a9c\\u0ac1 \\u0aaa\\u0aa3 \\u0aa4\\u0ac7 \\u0aab\\u0abe\\u0ab3\\u0ab5\\u0ab5\\u0abe\\u0aae\\u0abe\\u0a82 \\u0aa8\\u0ab9\\u0ac0 \\u0a86\\u0ab5\\u0ac7 \\u0aa4\\u0acb \\u0a96\\u0ab0\\u0ac7\\u0a96\\u0ab0 \\u0aa1\\u0abf\\u0aae\\u0acb\\u0ab2\\u0abf\\u0ab6\\u0aa8 \\u0aa5\\u0ab6\\u0ac7 \\u0aa4\\u0acd\\u0aaf\\u0abe\\u0ab0\\u0ac7 \\u0aa4\\u0ac7 \\u0a86\\u0ab5\\u0abe\\u0ab8 \\u0ab0\\u0ab9\\u0ac7\\u0ab5\\u0abe\\u0ab2\\u0abe\\u0aaf\\u0a95 \\u0ab0\\u0ab9\\u0ac7\\u0ab6\\u0ac7 \\u0a95\\u0ac7 \\u0a95\\u0ac7\\u0aae \\u0aa4\\u0ac7 \\u0aaa\\u0aa3 \\u0a8f\\u0a95 \\u0aaa\\u0acd\\u0ab0\\u0ab6\\u0acd\\u0aa8 \\u0a9b\\u0ac7. \\u0a97\\u0acb\\u0a95\\u0ac1\\u0ab2\\u0aa8\\u0a97\\u0ab0 \\u0a86\\u0ab5\\u0abe\\u0ab8 \\u0aaf\\u0acb\\u0a9c\\u0aa8\\u0abe \\u0ab9\\u0abe\\u0ab2\\u0aae\\u0abe\\u0a82 \\u0ab6\\u0ab9\\u0ac7\\u0ab0\\u0aae\\u0abe\\u0a82 \\u0a9f\\u0acb\\u0a95 \\u0a93\\u0aab \\u0aa7 \\u0a9f\\u0abe\\u0a89\\u0aa8 \\u0aac\\u0aa8\\u0ac0 \\u0a9b\\u0ac7, \\u0aa4\\u0ac7\\u0aae\\u0abe\\u0a82 \\u0aaa\\u0aa3 \\u0a85\\u0ab2\\u0acd\\u0aaa\\u0aa8\\u0abe \\u0aae\\u0abf\\u0aa4\\u0acd\\u0ab0\\u0abe \\u0a85\\u0aa8\\u0ac7 \\u0aa4\\u0ac7\\u0aa8\\u0ac0 \\u0a9f\\u0ac0\\u0aae\\u0ac7 \\u0a95\\u0ab0\\u0ac7\\u0ab2\\u0abe \\u0a97\\u0acb\\u0ab0\\u0a96\\u0aa7\\u0a82\\u0aa7\\u0abe\\u0aa8\\u0acb \\u0a85\\u0a97\\u0abe\\u0a89 \\u0aa6\\u0abf\\u0ab5\\u0acd\\u0aaf \\u0aad\\u0abe\\u0ab8\\u0acd\\u0a95\\u0ab0\\u0ac7 \\u0aaa\\u0ab0\\u0acd\\u0aa6\\u0abe\\u0aab\\u0abe\\u0ab6 \\u0a95\\u0ab0\\u0acd\\u0aaf\\u0acb \\u0ab9\\u0aa4\\u0acb, \\u0aa4\\u0acd\\u0aaf\\u0abe\\u0ab0\\u0ac7 \\u0a86\\u0a82\\u0aac\\u0abe\\u0ab5\\u0abe\\u0aa1\\u0ac0\\u0aa8\\u0abe \\u0ab8\\u0acd\\u0aae\\u0abe\\u0ab0\\u0acd\\u0a9f \\u0a98\\u0ab0\\u0aae\\u0abe\\u0a82 \\u0aaa\\u0aa3 \\u0aaa\\u0acb\\u0aa4\\u0abe\\u0aa8\\u0acb \\u0a9c \\u0a87\\u0ab0\\u0abe\\u0aa6\\u0acb \\u0aaa\\u0abe\\u0ab0 \\u0aaa\\u0abe\\u0aa1\\u0ab5\\u0abe \\u0aac\\u0aa8\\u0abe\\u0ab5\\u0abe\\u0aaf\\u0abe\\u0aa8\\u0ac0 \\u0ab5\\u0abe\\u0aa4 \\u0ab6\\u0ab0\\u0ac2 \\u0aa5\\u0a87 \\u0a9b\\u0ac7, \\u0aae\\u0aa8\\u0aaa\\u0abe\\u0aa8\\u0abe \\u0ab9\\u0abe\\u0ab2\\u0aa8\\u0abe \\u0a85\\u0aa7\\u0abf\\u0a95\\u0abe\\u0ab0\\u0ac0\\u0a93 \\u0a9c\\u0acb \\u0a86 \\u0aae\\u0abe\\u0aae\\u0ab2\\u0ac7 \\u0a8a\\u0a82\\u0aa1\\u0abe\\u0aa3\\u0aaa\\u0ac2\\u0acd\\u0ab0\\u0acd\\u0ab5\\u0a95 \\u0aa4\\u0aaa\\u0abe\\u0ab8 \\u0a95\\u0ab0\\u0ab6\\u0ac7 \\u0aa4\\u0acb \\u0a86\\u0aa8\\u0acb \\u0ab0\\u0ac7\\u0ab2\\u0acb \\u0a85\\u0aa7\\u0abf\\u0a95\\u0abe\\u0ab0\\u0ac0\\u0a93 \\u0a85\\u0aa8\\u0ac7 \\u0aa4\\u0ac7 \\u0ab8\\u0aae\\u0aaf\\u0aa8\\u0abe \\u0aaa\\u0aa6\\u0abe\\u0aa7\\u0abf\\u0a95\\u0abe\\u0ab0\\u0ac0\\u0a93 \\u0ab8\\u0ac1\\u0aa7\\u0ac0 \\u0aaa\\u0ab9\\u0acb\\u0a82\\u0a9a\\u0ab5\\u0abe\\u0aa8\\u0abe \\u0aaa\\u0aa3 \\u0aa8\\u0abf\\u0ab0\\u0acd\\u0aa6\\u0ac7\\u0ab7\\u0acb \\u0aae\\u0ab3\\u0ac0 \\u0ab0\\u0ab9\\u0acd\\u0aaf\\u0abe \\u0a9b\\u0ac7.\"\n        ],\n        \"semantic_type\": \"\",\n        \"description\": \"\"\n      }\n    }\n  ]\n}"
            }
          },
          "metadata": {},
          "execution_count": 3
        }
      ]
    },
    {
      "cell_type": "code",
      "source": [
        "df_train = df_train[['Article',  'Heading']]\n",
        "df_train.head()"
      ],
      "metadata": {
        "colab": {
          "base_uri": "https://localhost:8080/"
        },
        "id": "ppe6QMEfuyns",
        "outputId": "2ff3c45d-0f2d-41ec-b8df-9523cc27e42d"
      },
      "execution_count": null,
      "outputs": [
        {
          "output_type": "execute_result",
          "data": {
            "text/plain": [
              "                                             Article  \\\n",
              "0  વિશ્વના બીજા નંબરના સૌથી મોટા સિરામીક ઉદ્યોગનુ...   \n",
              "1  ચોરાસી કડવા પાટીદાર સમાજની કારોબારી સભામાં ભાગ...   \n",
              "2  ધ્રાંગધ્રા- સોખડા ગામ પાસેથી લખતરથી ખેરવા જતી ...   \n",
              "3  જૂન-2020માં કોરોનાની મહામારી પરાકાષ્ઠાએ હતી, ત...   \n",
              "4  અમદાવાદઃ સુરતના (surat news) અમરોલીમાં પોલીસ સ...   \n",
              "\n",
              "                                             Heading  \n",
              "0  ગેરરીતિ મામલે કાર્યવાહી:મોરબીમાં ઈમ્પેક્ટ ફી વ...  \n",
              "1  રજૂઆત:ભાગીને લગ્ન કરતી દીકરી માટે લગ્ન નોંધણીમ...  \n",
              "2  રજૂઆત:લખતરથી ખેરવા જતી માઇનોર કેનાલ બિસ્માર હા...  \n",
              "3  વડોદરામાં નર્સની ફરજ નિષ્ઠા:પતિ સરહદ પર દેશની ...  \n",
              "4  Ahmedabad crime news: મંદિરના ગેટ આગળ બહાર દાર...  "
            ],
            "text/html": [
              "\n",
              "  <div id=\"df-5b23ce5d-6075-4ec6-b4a6-a35dc5c25e7f\" class=\"colab-df-container\">\n",
              "    <div>\n",
              "<style scoped>\n",
              "    .dataframe tbody tr th:only-of-type {\n",
              "        vertical-align: middle;\n",
              "    }\n",
              "\n",
              "    .dataframe tbody tr th {\n",
              "        vertical-align: top;\n",
              "    }\n",
              "\n",
              "    .dataframe thead th {\n",
              "        text-align: right;\n",
              "    }\n",
              "</style>\n",
              "<table border=\"1\" class=\"dataframe\">\n",
              "  <thead>\n",
              "    <tr style=\"text-align: right;\">\n",
              "      <th></th>\n",
              "      <th>Article</th>\n",
              "      <th>Heading</th>\n",
              "    </tr>\n",
              "  </thead>\n",
              "  <tbody>\n",
              "    <tr>\n",
              "      <th>0</th>\n",
              "      <td>વિશ્વના બીજા નંબરના સૌથી મોટા સિરામીક ઉદ્યોગનુ...</td>\n",
              "      <td>ગેરરીતિ મામલે કાર્યવાહી:મોરબીમાં ઈમ્પેક્ટ ફી વ...</td>\n",
              "    </tr>\n",
              "    <tr>\n",
              "      <th>1</th>\n",
              "      <td>ચોરાસી કડવા પાટીદાર સમાજની કારોબારી સભામાં ભાગ...</td>\n",
              "      <td>રજૂઆત:ભાગીને લગ્ન કરતી દીકરી માટે લગ્ન નોંધણીમ...</td>\n",
              "    </tr>\n",
              "    <tr>\n",
              "      <th>2</th>\n",
              "      <td>ધ્રાંગધ્રા- સોખડા ગામ પાસેથી લખતરથી ખેરવા જતી ...</td>\n",
              "      <td>રજૂઆત:લખતરથી ખેરવા જતી માઇનોર કેનાલ બિસ્માર હા...</td>\n",
              "    </tr>\n",
              "    <tr>\n",
              "      <th>3</th>\n",
              "      <td>જૂન-2020માં કોરોનાની મહામારી પરાકાષ્ઠાએ હતી, ત...</td>\n",
              "      <td>વડોદરામાં નર્સની ફરજ નિષ્ઠા:પતિ સરહદ પર દેશની ...</td>\n",
              "    </tr>\n",
              "    <tr>\n",
              "      <th>4</th>\n",
              "      <td>અમદાવાદઃ સુરતના (surat news) અમરોલીમાં પોલીસ સ...</td>\n",
              "      <td>Ahmedabad crime news: મંદિરના ગેટ આગળ બહાર દાર...</td>\n",
              "    </tr>\n",
              "  </tbody>\n",
              "</table>\n",
              "</div>\n",
              "    <div class=\"colab-df-buttons\">\n",
              "\n",
              "  <div class=\"colab-df-container\">\n",
              "    <button class=\"colab-df-convert\" onclick=\"convertToInteractive('df-5b23ce5d-6075-4ec6-b4a6-a35dc5c25e7f')\"\n",
              "            title=\"Convert this dataframe to an interactive table.\"\n",
              "            style=\"display:none;\">\n",
              "\n",
              "  <svg xmlns=\"http://www.w3.org/2000/svg\" height=\"24px\" viewBox=\"0 -960 960 960\">\n",
              "    <path d=\"M120-120v-720h720v720H120Zm60-500h600v-160H180v160Zm220 220h160v-160H400v160Zm0 220h160v-160H400v160ZM180-400h160v-160H180v160Zm440 0h160v-160H620v160ZM180-180h160v-160H180v160Zm440 0h160v-160H620v160Z\"/>\n",
              "  </svg>\n",
              "    </button>\n",
              "\n",
              "  <style>\n",
              "    .colab-df-container {\n",
              "      display:flex;\n",
              "      gap: 12px;\n",
              "    }\n",
              "\n",
              "    .colab-df-convert {\n",
              "      background-color: #E8F0FE;\n",
              "      border: none;\n",
              "      border-radius: 50%;\n",
              "      cursor: pointer;\n",
              "      display: none;\n",
              "      fill: #1967D2;\n",
              "      height: 32px;\n",
              "      padding: 0 0 0 0;\n",
              "      width: 32px;\n",
              "    }\n",
              "\n",
              "    .colab-df-convert:hover {\n",
              "      background-color: #E2EBFA;\n",
              "      box-shadow: 0px 1px 2px rgba(60, 64, 67, 0.3), 0px 1px 3px 1px rgba(60, 64, 67, 0.15);\n",
              "      fill: #174EA6;\n",
              "    }\n",
              "\n",
              "    .colab-df-buttons div {\n",
              "      margin-bottom: 4px;\n",
              "    }\n",
              "\n",
              "    [theme=dark] .colab-df-convert {\n",
              "      background-color: #3B4455;\n",
              "      fill: #D2E3FC;\n",
              "    }\n",
              "\n",
              "    [theme=dark] .colab-df-convert:hover {\n",
              "      background-color: #434B5C;\n",
              "      box-shadow: 0px 1px 3px 1px rgba(0, 0, 0, 0.15);\n",
              "      filter: drop-shadow(0px 1px 2px rgba(0, 0, 0, 0.3));\n",
              "      fill: #FFFFFF;\n",
              "    }\n",
              "  </style>\n",
              "\n",
              "    <script>\n",
              "      const buttonEl =\n",
              "        document.querySelector('#df-5b23ce5d-6075-4ec6-b4a6-a35dc5c25e7f button.colab-df-convert');\n",
              "      buttonEl.style.display =\n",
              "        google.colab.kernel.accessAllowed ? 'block' : 'none';\n",
              "\n",
              "      async function convertToInteractive(key) {\n",
              "        const element = document.querySelector('#df-5b23ce5d-6075-4ec6-b4a6-a35dc5c25e7f');\n",
              "        const dataTable =\n",
              "          await google.colab.kernel.invokeFunction('convertToInteractive',\n",
              "                                                    [key], {});\n",
              "        if (!dataTable) return;\n",
              "\n",
              "        const docLinkHtml = 'Like what you see? Visit the ' +\n",
              "          '<a target=\"_blank\" href=https://colab.research.google.com/notebooks/data_table.ipynb>data table notebook</a>'\n",
              "          + ' to learn more about interactive tables.';\n",
              "        element.innerHTML = '';\n",
              "        dataTable['output_type'] = 'display_data';\n",
              "        await google.colab.output.renderOutput(dataTable, element);\n",
              "        const docLink = document.createElement('div');\n",
              "        docLink.innerHTML = docLinkHtml;\n",
              "        element.appendChild(docLink);\n",
              "      }\n",
              "    </script>\n",
              "  </div>\n",
              "\n",
              "\n",
              "<div id=\"df-0ecb011a-b53d-432a-b12b-4bd7b7d81623\">\n",
              "  <button class=\"colab-df-quickchart\" onclick=\"quickchart('df-0ecb011a-b53d-432a-b12b-4bd7b7d81623')\"\n",
              "            title=\"Suggest charts\"\n",
              "            style=\"display:none;\">\n",
              "\n",
              "<svg xmlns=\"http://www.w3.org/2000/svg\" height=\"24px\"viewBox=\"0 0 24 24\"\n",
              "     width=\"24px\">\n",
              "    <g>\n",
              "        <path d=\"M19 3H5c-1.1 0-2 .9-2 2v14c0 1.1.9 2 2 2h14c1.1 0 2-.9 2-2V5c0-1.1-.9-2-2-2zM9 17H7v-7h2v7zm4 0h-2V7h2v10zm4 0h-2v-4h2v4z\"/>\n",
              "    </g>\n",
              "</svg>\n",
              "  </button>\n",
              "\n",
              "<style>\n",
              "  .colab-df-quickchart {\n",
              "      --bg-color: #E8F0FE;\n",
              "      --fill-color: #1967D2;\n",
              "      --hover-bg-color: #E2EBFA;\n",
              "      --hover-fill-color: #174EA6;\n",
              "      --disabled-fill-color: #AAA;\n",
              "      --disabled-bg-color: #DDD;\n",
              "  }\n",
              "\n",
              "  [theme=dark] .colab-df-quickchart {\n",
              "      --bg-color: #3B4455;\n",
              "      --fill-color: #D2E3FC;\n",
              "      --hover-bg-color: #434B5C;\n",
              "      --hover-fill-color: #FFFFFF;\n",
              "      --disabled-bg-color: #3B4455;\n",
              "      --disabled-fill-color: #666;\n",
              "  }\n",
              "\n",
              "  .colab-df-quickchart {\n",
              "    background-color: var(--bg-color);\n",
              "    border: none;\n",
              "    border-radius: 50%;\n",
              "    cursor: pointer;\n",
              "    display: none;\n",
              "    fill: var(--fill-color);\n",
              "    height: 32px;\n",
              "    padding: 0;\n",
              "    width: 32px;\n",
              "  }\n",
              "\n",
              "  .colab-df-quickchart:hover {\n",
              "    background-color: var(--hover-bg-color);\n",
              "    box-shadow: 0 1px 2px rgba(60, 64, 67, 0.3), 0 1px 3px 1px rgba(60, 64, 67, 0.15);\n",
              "    fill: var(--button-hover-fill-color);\n",
              "  }\n",
              "\n",
              "  .colab-df-quickchart-complete:disabled,\n",
              "  .colab-df-quickchart-complete:disabled:hover {\n",
              "    background-color: var(--disabled-bg-color);\n",
              "    fill: var(--disabled-fill-color);\n",
              "    box-shadow: none;\n",
              "  }\n",
              "\n",
              "  .colab-df-spinner {\n",
              "    border: 2px solid var(--fill-color);\n",
              "    border-color: transparent;\n",
              "    border-bottom-color: var(--fill-color);\n",
              "    animation:\n",
              "      spin 1s steps(1) infinite;\n",
              "  }\n",
              "\n",
              "  @keyframes spin {\n",
              "    0% {\n",
              "      border-color: transparent;\n",
              "      border-bottom-color: var(--fill-color);\n",
              "      border-left-color: var(--fill-color);\n",
              "    }\n",
              "    20% {\n",
              "      border-color: transparent;\n",
              "      border-left-color: var(--fill-color);\n",
              "      border-top-color: var(--fill-color);\n",
              "    }\n",
              "    30% {\n",
              "      border-color: transparent;\n",
              "      border-left-color: var(--fill-color);\n",
              "      border-top-color: var(--fill-color);\n",
              "      border-right-color: var(--fill-color);\n",
              "    }\n",
              "    40% {\n",
              "      border-color: transparent;\n",
              "      border-right-color: var(--fill-color);\n",
              "      border-top-color: var(--fill-color);\n",
              "    }\n",
              "    60% {\n",
              "      border-color: transparent;\n",
              "      border-right-color: var(--fill-color);\n",
              "    }\n",
              "    80% {\n",
              "      border-color: transparent;\n",
              "      border-right-color: var(--fill-color);\n",
              "      border-bottom-color: var(--fill-color);\n",
              "    }\n",
              "    90% {\n",
              "      border-color: transparent;\n",
              "      border-bottom-color: var(--fill-color);\n",
              "    }\n",
              "  }\n",
              "</style>\n",
              "\n",
              "  <script>\n",
              "    async function quickchart(key) {\n",
              "      const quickchartButtonEl =\n",
              "        document.querySelector('#' + key + ' button');\n",
              "      quickchartButtonEl.disabled = true;  // To prevent multiple clicks.\n",
              "      quickchartButtonEl.classList.add('colab-df-spinner');\n",
              "      try {\n",
              "        const charts = await google.colab.kernel.invokeFunction(\n",
              "            'suggestCharts', [key], {});\n",
              "      } catch (error) {\n",
              "        console.error('Error during call to suggestCharts:', error);\n",
              "      }\n",
              "      quickchartButtonEl.classList.remove('colab-df-spinner');\n",
              "      quickchartButtonEl.classList.add('colab-df-quickchart-complete');\n",
              "    }\n",
              "    (() => {\n",
              "      let quickchartButtonEl =\n",
              "        document.querySelector('#df-0ecb011a-b53d-432a-b12b-4bd7b7d81623 button');\n",
              "      quickchartButtonEl.style.display =\n",
              "        google.colab.kernel.accessAllowed ? 'block' : 'none';\n",
              "    })();\n",
              "  </script>\n",
              "</div>\n",
              "\n",
              "    </div>\n",
              "  </div>\n"
            ],
            "application/vnd.google.colaboratory.intrinsic+json": {
              "type": "dataframe",
              "variable_name": "df_train",
              "summary": "{\n  \"name\": \"df_train\",\n  \"rows\": 8457,\n  \"fields\": [\n    {\n      \"column\": \"Article\",\n      \"properties\": {\n        \"dtype\": \"string\",\n        \"num_unique_values\": 8457,\n        \"samples\": [\n          \"\\u0ab5\\u0aa1\\u0acb\\u0aa6\\u0ab0\\u0abe: \\u0ab5\\u0aa1\\u0acb\\u0aa6\\u0ab0\\u0abe \\u0ab6\\u0ab9\\u0ac7\\u0ab0\\u0aae\\u0abe\\u0a82 \\u0a8f\\u0a95 19 \\u0ab5\\u0ab0\\u0acd\\u0ab7\\u0ac0\\u0aaf \\u0a86\\u0ab6\\u0abe\\u0ab8\\u0acd\\u0aaa\\u0aa6 \\u0a96\\u0ac7\\u0ab2\\u0abe\\u0aa1\\u0ac0\\u0aa8\\u0ac1\\u0a82 \\u0aa1\\u0ac7\\u0a82\\u0a97\\u0acd\\u0aaf\\u0ac2\\u0aa5\\u0ac0 \\u0aa8\\u0abf\\u0aa7\\u0aa8 \\u0aa5\\u0aaf\\u0ac1\\u0a82 \\u0a9b\\u0ac7. \\u0ab6\\u0ab9\\u0ac7\\u0ab0\\u0aa8\\u0abe \\u0a86\\u0a9c\\u0ab5\\u0abe \\u0ab0\\u0acb\\u0aa1 \\u0a96\\u0abe\\u0aa4\\u0ac7 \\u0ab0\\u0ab9\\u0ac7\\u0aa4\\u0ac0 19 \\u0ab5\\u0ab0\\u0acd\\u0ab7\\u0ac0\\u0aaf \\u0ab8\\u0abe\\u0a95\\u0acd\\u0ab7\\u0ac0 \\u0ab0\\u0abe\\u0ab5\\u0ab2 (Sakshi Rawal)\\u0aa8\\u0ac1\\u0a82 \\u0aa8\\u0abf\\u0aa7\\u0aa8 \\u0aa5\\u0aaf\\u0ac1\\u0a82 \\u0a9b\\u0ac7. \\u0ab8\\u0abe\\u0a95\\u0acd\\u0ab7\\u0ac0\\u0a8f \\u0ab5\\u0ab0\\u0acd\\u0ab7 2019\\u0aae\\u0abe\\u0a82 \\u0a9d\\u0abe\\u0ab0\\u0a96\\u0a82\\u0aa1 (Jharkhand) \\u0a96\\u0abe\\u0aa4\\u0ac7 \\u0aaf\\u0acb\\u0a9c\\u0abe\\u0aaf\\u0ac7\\u0ab2\\u0ac0 \\u0a9c\\u0ac1\\u0aa1\\u0acb\\u0aa8\\u0ac0 \\u0ab8\\u0ac1\\u0ab0\\u0abe\\u0ab6 \\u0a95\\u0acb\\u0aae\\u0acd\\u0aaa\\u0abf\\u0a9f\\u0abf\\u0ab6\\u0aa8\\u0aae\\u0abe\\u0a82 \\u0aac\\u0acd\\u0ab0\\u0acb\\u0aa8\\u0acd\\u0a9d \\u0aae\\u0ac7\\u0aa1\\u0ab2 \\u0aae\\u0ac7\\u0ab3\\u0ab5\\u0acd\\u0aaf\\u0acb \\u0ab9\\u0aa4\\u0acb. \\u0ab5\\u0aa1\\u0acb\\u0aa6\\u0ab0\\u0abe \\u0ab6\\u0ab9\\u0ac7\\u0ab0 (Vadodara city)\\u0aae\\u0abe\\u0a82 \\u0ab5\\u0a95\\u0ab0\\u0ac7\\u0ab2\\u0abe \\u0aaa\\u0abe\\u0aa3\\u0ac0\\u0a9c\\u0aa8\\u0acd\\u0aaf \\u0ab0\\u0acb\\u0a97\\u0a9a\\u0abe\\u0ab3\\u0abe\\u0a8f \\u0a8f\\u0a95 \\u0aa8\\u0ac7\\u0ab6\\u0aa8\\u0ab2 \\u0aaa\\u0acd\\u0ab2\\u0ac7\\u0aaf\\u0ab0\\u0aa8\\u0acb \\u0aad\\u0acb\\u0a97 \\u0ab2\\u0ac0\\u0aa7\\u0acb \\u0a9b\\u0ac7. \\u0aa8\\u0ac7\\u0ab6\\u0aa8\\u0ab2 \\u0aaa\\u0acd\\u0ab2\\u0ac7\\u0aaf\\u0ab0 \\u0a8f\\u0ab5\\u0ac0 \\u0ab8\\u0abe\\u0a95\\u0acd\\u0ab7\\u0ac0\\u0aa8\\u0abe \\u0aa8\\u0abf\\u0aa7\\u0aa8\\u0aa5\\u0ac0 \\u0aaa\\u0ab0\\u0abf\\u0ab5\\u0abe\\u0ab0\\u0aae\\u0abe\\u0a82 \\u0ab6\\u0acb\\u0a95 \\u0ab5\\u0acd\\u0aaf\\u0abe\\u0aaa\\u0ac0 \\u0a97\\u0aaf\\u0acb \\u0a9b\\u0ac7. 19 \\u0ab5\\u0ab0\\u0acd\\u0ab7\\u0aa8\\u0ac0 \\u0a89\\u0a82\\u0aae\\u0ab0\\u0ac7 \\u0aa6\\u0ac0\\u0a95\\u0ab0\\u0ac0 \\u0a97\\u0ac1\\u0aae\\u0abe\\u0ab5\\u0aa4\\u0abe \\u0aaa\\u0ab0\\u0abf\\u0ab5\\u0abe\\u0ab0\\u0aa8\\u0abe \\u0ab8\\u0aad\\u0acd\\u0aaf\\u0acb \\u0aad\\u0abe\\u0a82\\u0a97\\u0ac0 \\u0aaa\\u0aa1\\u0acd\\u0aaf\\u0abe\\u0a82 \\u0ab9\\u0aa4\\u0abe\\u0a82. \\u0a85\\u0a82\\u0aa4\\u0abf\\u0aae \\u0ab8\\u0a82\\u0ab8\\u0acd\\u0a95\\u0abe\\u0ab0 \\u0ab5\\u0a96\\u0aa4\\u0ac7 \\u0ab9\\u0abe\\u0a9c\\u0ab0 \\u0aa4\\u0aae\\u0abe\\u0aae \\u0ab2\\u0acb\\u0a95\\u0acb\\u0aa8\\u0ac0 \\u0a86\\u0a82\\u0a96\\u0aae\\u0abe\\u0a82 \\u0a86\\u0a82\\u0ab8\\u0ac1 \\u0a9c\\u0acb\\u0ab5\\u0abe \\u0aae\\u0ab3\\u0acd\\u0aaf\\u0abe \\u0ab9\\u0aa4\\u0abe. \\u0aaa\\u0ab0\\u0abf\\u0ab5\\u0abe\\u0ab0\\u0ac7 \\u0a86\\u0a95\\u0acd\\u0ab7\\u0ac7\\u0aaa \\u0ab2\\u0a97\\u0abe\\u0ab5\\u0acd\\u0aaf\\u0acb \\u0ab9\\u0aa4\\u0acb \\u0a95\\u0ac7 \\u0aa4\\u0a82\\u0aa4\\u0acd\\u0ab0\\u0aa8\\u0abe \\u0aaa\\u0abe\\u0aaa\\u0ac7 \\u0a85\\u0aae\\u0abe\\u0ab0\\u0ac7 \\u0aa6\\u0ac0\\u0a95\\u0ab0\\u0ac0 \\u0a97\\u0ac1\\u0aae\\u0abe\\u0ab5\\u0ab5\\u0abe\\u0aa8\\u0acb \\u0ab5\\u0abe\\u0ab0\\u0acb \\u0a86\\u0ab5\\u0acd\\u0aaf\\u0acb \\u0a9b\\u0ac7. \\u0a89\\u0ab2\\u0acd\\u0ab2\\u0ac7\\u0a96\\u0aa8\\u0ac0\\u0aaf \\u0a9b\\u0ac7 \\u0a95\\u0ac7 \\u0ab5\\u0aa1\\u0acb\\u0aa6\\u0ab0\\u0abe \\u0ab6\\u0ab9\\u0ac7\\u0ab0\\u0aae\\u0abe\\u0a82 \\u0ab9\\u0abe\\u0ab2 \\u0aaa\\u0abe\\u0aa3\\u0ac0\\u0a9c\\u0aa8\\u0acd\\u0aaf \\u0ab0\\u0acb\\u0a97\\u0a9a\\u0abe\\u0ab3\\u0abe\\u0a8f \\u0aad\\u0ab0\\u0aa1\\u0acb \\u0ab2\\u0ac0\\u0aa7\\u0acb \\u0a9b\\u0ac7. \\u0ab6\\u0ab9\\u0ac7\\u0ab0\\u0aa8\\u0abe \\u0a85\\u0aa8\\u0ac7\\u0a95 \\u0ab5\\u0abf\\u0ab8\\u0acd\\u0aa4\\u0abe\\u0ab0\\u0acb \\u0ab0\\u0acb\\u0a97\\u0a9a\\u0abe\\u0ab3\\u0abe\\u0aa8\\u0abe \\u0aad\\u0ab0\\u0aa1\\u0ab5\\u0abe\\u0aae\\u0abe\\u0a82 \\u0a86\\u0ab5\\u0ac0 \\u0a97\\u0aaf\\u0abe \\u0a9b\\u0ac7. \\u0ab6\\u0ab9\\u0ac7\\u0ab0\\u0aae\\u0abe\\u0a82 \\u0aaa\\u0abe\\u0aa3\\u0ac0\\u0a9c\\u0aa8\\u0acd\\u0aaf \\u0ab0\\u0acb\\u0a97\\u0a9a\\u0abe\\u0ab3\\u0abe\\u0aa8\\u0acb \\u0a95\\u0ab9\\u0ac7\\u0ab0 \\u0ab5\\u0aa1\\u0acb\\u0aa6\\u0ab0\\u0abe \\u0aaa\\u0abe\\u0aa3\\u0ac0\\u0a9c\\u0aa8\\u0acd\\u0aaf \\u0ab0\\u0acb\\u0a97\\u0a9a\\u0abe\\u0ab3\\u0abe\\u0aa8\\u0acb \\u0a95\\u0ab9\\u0ac7\\u0ab0 \\u0a9c\\u0acb\\u0ab5\\u0abe \\u0aae\\u0ab3\\u0acd\\u0aaf\\u0acb \\u0a9b\\u0ac7. \\u0a9b\\u0ac7\\u0ab2\\u0acd\\u0ab2\\u0abe 15 \\u0aa6\\u0abf\\u0ab5\\u0ab8\\u0aae\\u0abe\\u0a82 \\u0aaa\\u0abe\\u0ab2\\u0abf\\u0a95\\u0abe\\u0aa8\\u0abe \\u0a9a\\u0acb\\u0aaa\\u0aa1\\u0ac7 \\u0aa1\\u0ac7\\u0a82\\u0a97\\u0acd\\u0aaf\\u0ac2\\u0aa8\\u0abe 83 \\u0a85\\u0aa8\\u0ac7 \\u0a9a\\u0abf\\u0a95\\u0aa8\\u0a97\\u0ac1\\u0aa8\\u0abf\\u0aaf\\u0abe\\u0aa8\\u0abe 35 \\u0a95\\u0ac7\\u0ab8 \\u0aa8\\u0acb\\u0a82\\u0aa7\\u0abe\\u0aaf\\u0abe \\u0a9b\\u0ac7. \\u0a86 \\u0aaa\\u0ab9\\u0ac7\\u0ab2\\u0abe \\u0aaa\\u0abe\\u0aa3\\u0ac0\\u0a9c\\u0aa8\\u0acd\\u0aaf \\u0ab0\\u0acb\\u0a97\\u0a9a\\u0abe\\u0ab3\\u0abe\\u0aa8\\u0abe \\u0a95\\u0abe\\u0ab0\\u0aa3\\u0ac7 \\u0aa8\\u0abe\\u0a97\\u0ab0\\u0ab5\\u0abe\\u0aa1\\u0abe\\u0aae\\u0abe\\u0a82 \\u0aa4\\u0acd\\u0ab0\\u0aa3 \\u0aae\\u0ab9\\u0abf\\u0ab2\\u0abe\\u0aa8\\u0abe\\u0a82 \\u0aae\\u0acb\\u0aa4 \\u0aa5\\u0aaf\\u0abe \\u0ab9\\u0aa4\\u0abe, \\u0ab9\\u0ab5\\u0ac7 \\u0aa8\\u0ac7\\u0ab6\\u0aa8\\u0ab2 \\u0aaa\\u0acd\\u0ab2\\u0ac7\\u0aaf\\u0ab0\\u0aa8\\u0ac1\\u0a82 \\u0aae\\u0acb\\u0aa4 \\u0aa8\\u0ac0\\u0aaa\\u0a9c\\u0acd\\u0aaf\\u0ac1\\u0a82 \\u0a9b\\u0ac7. \\u0ab6\\u0ab9\\u0ac7\\u0ab0\\u0aae\\u0abe\\u0a82 \\u0aa4\\u0a82\\u0aa4\\u0acd\\u0ab0\\u0aa8\\u0ac0 \\u0aac\\u0ac7\\u0aa6\\u0ab0\\u0a95\\u0abe\\u0ab0\\u0ac0\\u0aa8\\u0ac7 \\u0a95\\u0abe\\u0ab0\\u0aa3\\u0ac7 \\u0a86\\u0a9c\\u0ac7 \\u0aaa\\u0aa3 \\u0a85\\u0aa8\\u0ac7\\u0a95 \\u0ab5\\u0abf\\u0ab8\\u0acd\\u0aa4\\u0abe\\u0ab0\\u0acb\\u0aae\\u0abe\\u0a82 \\u0aa6\\u0ac1\\u0ab7\\u0abf\\u0aa4 \\u0aaa\\u0abe\\u0aa3\\u0ac0 \\u0a86\\u0ab5\\u0ac0 \\u0ab0\\u0ab9\\u0acd\\u0aaf\\u0ac1\\u0a82 \\u0a9b\\u0ac7 \\u0a9b\\u0ac7. \\u0a9c\\u0ac7\\u0aa8\\u0abe \\u0aaa\\u0a97\\u0ab2\\u0ac7 \\u0ab6\\u0ab9\\u0ac7\\u0ab0\\u0aae\\u0abe\\u0a82 \\u0ab0\\u0acb\\u0a97\\u0a9a\\u0abe\\u0ab3\\u0acb \\u0ab5\\u0a95\\u0ab0\\u0ac0 \\u0ab0\\u0ab9\\u0acd\\u0aaf\\u0acb \\u0a9b\\u0ac7. \\u0a89\\u0ab2\\u0acd\\u0ab2\\u0ac7\\u0a96\\u0aa8\\u0ac0\\u0aaf \\u0a9b\\u0ac7 \\u0a95\\u0ac7 \\u0ab5\\u0ab0\\u0acd\\u0ab7 \\u0ab5\\u0ab0\\u0acd\\u0ab7 2019\\u0aae\\u0abe\\u0a82 \\u0ab6\\u0ab9\\u0ac7\\u0ab0\\u0aae\\u0abe\\u0a82 \\u0aa1\\u0ac7\\u0a82\\u0a97\\u0acd\\u0aaf\\u0ac2\\u0aa8\\u0abe 1,247 \\u0a85\\u0aa8\\u0ac7 \\u0a9a\\u0abf\\u0a95\\u0aa8\\u0a97\\u0ac1\\u0aa8\\u0abf\\u0aaf\\u0abe\\u0aa8\\u0abe 231 \\u0a95\\u0ac7\\u0ab8 \\u0aaa\\u0abe\\u0ab2\\u0abf\\u0a95\\u0abe\\u0aa8\\u0abe \\u0a9a\\u0acb\\u0aaa\\u0aa1\\u0ac7 \\u0aa8\\u0acb\\u0a82\\u0aa7\\u0abe\\u0aaf\\u0abe \\u0ab9\\u0aa4\\u0abe \\u0ab9\\u0aa4\\u0abe. \\u0a9c\\u0acd\\u0aaf\\u0abe\\u0ab0\\u0ac7 2021\\u0aae\\u0abe\\u0a82 \\u0aac\\u0ac7 \\u0a85\\u0aa0\\u0ab5\\u0abe\\u0aa1\\u0abf\\u0aaf\\u0abe \\u0aaa\\u0ab9\\u0ac7\\u0ab2\\u0abe \\u0aa1\\u0ac7\\u0a82\\u0a97\\u0acd\\u0aaf\\u0ac2\\u0aa8\\u0abe 16 \\u0a95\\u0ac7\\u0ab8 \\u0aa8\\u0acb\\u0a82\\u0aa7\\u0abe\\u0aaf\\u0abe \\u0ab9\\u0aa4\\u0abe, \\u0ab9\\u0ab5\\u0ac7 \\u0aa4\\u0ac7\\u0aae\\u0abe\\u0a82 \\u0ab8\\u0ac0\\u0aa7\\u0acb \\u0a9c 44 \\u0a95\\u0ac7\\u0ab8\\u0aa8\\u0acb \\u0ab5\\u0aa7\\u0abe\\u0ab0\\u0acb \\u0aa5\\u0aaf\\u0acb \\u0a9b\\u0ac7. \\u0a86 \\u0aaa\\u0aa3 \\u0ab5\\u0abe\\u0a82\\u0a9a\\u0acb: \\u0aae\\u0ab9\\u0ac0\\u0ab8\\u0abe\\u0a97\\u0ab0: \\u0aac\\u0ac0\\u0a9c\\u0ac7\\u0aaa\\u0ac0 \\u0aa8\\u0ac7\\u0aa4\\u0abe \\u0a85\\u0aa8\\u0ac7 \\u0aa4\\u0ac7\\u0aae\\u0aa8\\u0abe \\u0aaa\\u0aa4\\u0acd\\u0aa8\\u0ac0\\u0aa8\\u0ac0 \\u0ab9\\u0aa4\\u0acd\\u0aaf\\u0abe\\u0aa8\\u0ac1\\u0a82 \\u0a95\\u0abe\\u0ab0\\u0aa3 \\u0a85\\u0a95\\u0aac\\u0a82\\u0aa7, \\u0ab6\\u0ac1\\u0a82 \\u0aae\\u0acb\\u0aac\\u0abe\\u0a87\\u0ab2\\u0aae\\u0abe\\u0a82\\u0aa5\\u0ac0 \\u0a96\\u0ac1\\u0ab2\\u0ab6\\u0ac7 \\u0aad\\u0ac7\\u0aa6?  \\u0a86 \\u0ab5\\u0abf\\u0ab8\\u0acd\\u0aa4\\u0abe\\u0ab0\\u0acb\\u0aae\\u0abe\\u0a82 \\u0ab0\\u0acb\\u0a97\\u0a9a\\u0abe\\u0ab3\\u0acb \\u0ab5\\u0a95\\u0ab0\\u0acd\\u0aaf\\u0acb \\u0ab5\\u0aa1\\u0acb\\u0aa6\\u0ab0\\u0abe \\u0ab6\\u0ab9\\u0ac7\\u0ab0\\u0aa8\\u0abe \\u0ab5\\u0abe\\u0ab8\\u0aa3\\u0abe \\u0aad\\u0abe\\u0aaf\\u0ab2\\u0ac0 \\u0ab0\\u0acb\\u0aa1, \\u0ab8\\u0ac7\\u0ab5\\u0abe\\u0ab8\\u0ac0, \\u0aa8\\u0acd\\u0aaf\\u0ac1 \\u0ab8\\u0aae\\u0abe, \\u0a9b\\u0abe\\u0aa3\\u0ac0, \\u0aa8\\u0ab5\\u0abe\\u0aaf\\u0abe\\u0ab0\\u0acd\\u0aa1, \\u0ab5\\u0abe\\u0aa1\\u0ac0, \\u0a95\\u0abe\\u0ab0\\u0ac7\\u0ab2\\u0ac0\\u0aac\\u0abe\\u0a97, \\u0a9a\\u0abe\\u0ab0 \\u0aa6\\u0ab0\\u0ab5\\u0abe\\u0a9c\\u0abe, \\u0aae\\u0a95\\u0ab0\\u0aaa\\u0ac1\\u0ab0\\u0abe \\u0a85\\u0aa8\\u0ac7 \\u0a86\\u0a9c\\u0ab5\\u0abe \\u0ab0\\u0acb\\u0aa1 \\u0ab5\\u0abf\\u0ab8\\u0acd\\u0aa4\\u0abe\\u0ab0\\u0acb\\u0aae\\u0abe\\u0a82 \\u0ab0\\u0acb\\u0a97\\u0a9a\\u0abe\\u0ab3\\u0acb \\u0a96\\u0ac2\\u0aac \\u0ab5\\u0a95\\u0ab0\\u0acd\\u0aaf\\u0acb \\u0a9b\\u0ac7. \\u0a86 \\u0aaa\\u0aa3 \\u0ab5\\u0abe\\u0a82\\u0a9a\\u0acb: \\u0ab8\\u0ac1\\u0ab0\\u0aa4: CA \\u0aaf\\u0ac1\\u0ab5\\u0aa4\\u0ac0\\u0aa8\\u0ac7 \\u0aad\\u0a97\\u0abe\\u0aa1\\u0ac0 \\u0a9c\\u0a88\\u0aa8\\u0ac7 \\u0aa4\\u0ac7\\u0aa8\\u0abe \\u0aaa\\u0abf\\u0aa4\\u0abe \\u0aaa\\u0abe\\u0ab8\\u0ac7 \\u0aae\\u0abe\\u0a82\\u0a97\\u0ac0 10 \\u0ab2\\u0abe\\u0a96\\u0aa8\\u0ac0 \\u0a96\\u0a82\\u0aa1\\u0aa3\\u0ac0, \\u0aaa\\u0acb\\u0ab2\\u0ac0\\u0ab8\\u0ac7 \\u0aac\\u0a82\\u0aa8\\u0ac7\\u0aa8\\u0ac7 \\u0a9d\\u0aa1\\u0aaa\\u0ac0 \\u0aaa\\u0abe\\u0aa1\\u0acd\\u0aaf\\u0abe\\u0a82 \\u0ab5\\u0abe\\u0aa6\\u0ab3\\u0a9b\\u0abe\\u0aaf\\u0abe \\u0ab5\\u0abe\\u0aa4\\u0abe\\u0ab5\\u0ab0\\u0aa3\\u0aa5\\u0ac0 \\u0aac\\u0ac0\\u0aae\\u0abe\\u0ab0\\u0ac0\\u0aa8\\u0abe \\u0ab5\\u0abe\\u0ab5\\u0ab0 \\u0a89\\u0ab2\\u0acd\\u0ab2\\u0ac7\\u0a96\\u0ac0\\u0aaf \\u0a9b\\u0ac7 \\u0a95\\u0ac7 \\u0a9b\\u0ac7\\u0ab2\\u0acd\\u0ab2\\u0abe \\u0a9b\\u0ac7\\u0ab2\\u0acd\\u0ab2\\u0abe 10 \\u0aa6\\u0abf\\u0ab5\\u0ab8\\u0aa5\\u0ac0 \\u0ab8\\u0aa4\\u0aa4 \\u0ab5\\u0abe\\u0aa6\\u0ab3\\u0a9b\\u0abe\\u0aaf\\u0abe \\u0ab5\\u0abe\\u0aa4\\u0abe\\u0ab5\\u0ab0\\u0aa3\\u0aa5\\u0ac0 \\u0aac\\u0ac0\\u0aae\\u0abe\\u0ab0\\u0ac0\\u0aa8\\u0acb \\u0ab5\\u0abe\\u0ab5\\u0ab0 \\u0ab5\\u0aa7\\u0acd\\u0aaf\\u0acb \\u0a9b\\u0ac7. \\u0ab6\\u0ab9\\u0ac7\\u0ab0\\u0aa8\\u0abe \\u0aa6\\u0ab5\\u0abe\\u0a96\\u0abe\\u0aa8\\u0abe \\u0aa6\\u0ab0\\u0acd\\u0aa6\\u0ac0\\u0a93\\u0aa5\\u0ac0 \\u0a8a\\u0aad\\u0ab0\\u0abe\\u0a88 \\u0ab0\\u0ab9\\u0acd\\u0aaf\\u0abe \\u0a9b\\u0ac7. \\u0ab8\\u0ab0\\u0a95\\u0abe\\u0ab0\\u0ac0 \\u0ab9\\u0ac9\\u0ab8\\u0acd\\u0aaa\\u0abf\\u0a9f\\u0ab2\\u0aae\\u0abe\\u0a82 \\u0a93\\u0aaa\\u0ac0\\u0aa1\\u0ac0\\u0aae\\u0abe\\u0a82 \\u0aad\\u0abe\\u0ab0\\u0ac7 \\u0aa7\\u0ab8\\u0abe\\u0ab0\\u0acb \\u0a9c\\u0acb\\u0ab5\\u0abe \\u0aae\\u0ab3\\u0ac0 \\u0ab0\\u0ab9\\u0acd\\u0aaf\\u0acb \\u0a9b\\u0ac7. \\u0a96\\u0abe\\u0aa8\\u0a97\\u0ac0 \\u0aa6\\u0ab5\\u0abe\\u0a96\\u0abe\\u0aa8\\u0abe\\u0aae\\u0abe\\u0a82 \\u0aa6\\u0ab0 10 \\u0aa6\\u0ab0\\u0acd\\u0aa6\\u0ac0\\u0aae\\u0abe\\u0a82 8 \\u0aa6\\u0ab0\\u0acd\\u0aa6\\u0ac0 \\u0ab5\\u0abe\\u0aaf\\u0ab0\\u0ab2 \\u0a87\\u0aa8\\u0acd\\u0aab\\u0ac7\\u0a95\\u0ab6\\u0aa8\\u0aa8\\u0abe \\u0a85\\u0aa8\\u0ac7 2 \\u0aa1\\u0ac7\\u0a82\\u0a97\\u0acd\\u0aaf\\u0ac2\\u0aa8\\u0abe \\u0ab8\\u0abe\\u0aae\\u0ac7 \\u0a86\\u0ab5\\u0ac0 \\u0ab0\\u0ab9\\u0acd\\u0aaf\\u0abe \\u0a9b\\u0ac7.\",\n          \"\\u0a88\\u0a9f\\u0abe\\u0ab2\\u0ac0\\u0aa8\\u0abe \\u0ab8\\u0acd\\u0ab5\\u0abe\\u0ab8\\u0acd\\u0aa5\\u0acd\\u0aaf \\u0aae\\u0a82\\u0aa4\\u0acd\\u0ab0\\u0ac0 \\u0ab0\\u0acb\\u0aac\\u0ac7\\u0ab0\\u0acd\\u0a9f\\u0abe \\u0ab8\\u0acd\\u0aaa\\u0ac7\\u0ab0\\u0ac7\\u0aa8\\u0acd\\u0a9c\\u0abe\\u0a8f \\u0aae\\u0a82\\u0a97\\u0ab3\\u0ab5\\u0abe\\u0ab0\\u0ac7 \\u0a95\\u0ab9\\u0acd\\u0aaf\\u0ac1\\u0a82 \\u0a95\\u0ac7 \\u0aa6\\u0ac7\\u0ab6\\u0aae\\u0abe\\u0a82 \\u0a88\\u0aae\\u0ab0\\u0a9c\\u0aa8\\u0acd\\u0ab8\\u0ac0 31 \\u0a9c\\u0abe\\u0aa8\\u0acd\\u0aaf\\u0ac1\\u0a86\\u0ab0\\u0ac0 \\u0ab8\\u0ac1\\u0aa7\\u0ac0 \\u0ab5\\u0aa7\\u0abe\\u0ab0\\u0ab5\\u0abe\\u0aae\\u0abe\\u0a82 \\u0a86\\u0ab5\\u0acd\\u0aaf\\u0ac1\\u0a82 \\u0a9b\\u0ac7. \\u0ab8\\u0ab0\\u0a95\\u0abe\\u0ab0 \\u0a88\\u0aae\\u0ab0\\u0a9c\\u0aa8\\u0acd\\u0ab8\\u0ac0 \\u0a85\\u0a82\\u0aa4\\u0ab0\\u0acd\\u0a97\\u0aa4 \\u0a95\\u0acb\\u0ab0\\u0acb\\u0aa8\\u0abe\\u0aa8\\u0ac7 \\u0ab2\\u0a88\\u0aa8\\u0ac7 \\u0a95\\u0acb\\u0a88 \\u0aa8\\u0abf\\u0ab0\\u0acd\\u0aa3\\u0aaf \\u0a95\\u0ab0\\u0ab5\\u0abe \\u0aae\\u0abe\\u0a9f\\u0ac7 \\u0ab8\\u0a82\\u0ab8\\u0aa6\\u0aa8\\u0ac0 \\u0aae\\u0a82\\u0a9c\\u0ac2\\u0ab0\\u0ac0 \\u0ab2\\u0ac7\\u0ab5\\u0abe \\u0aae\\u0abe\\u0a9f\\u0ac7 \\u0aac\\u0abe\\u0aa7\\u0acd\\u0aaf \\u0aa8\\u0aa5\\u0ac0. \\u0aa4\\u0acb, \\u0ab8\\u0acd\\u0ab5\\u0abe\\u0ab8\\u0acd\\u0aa5\\u0acd\\u0aaf \\u0aae\\u0a82\\u0aa4\\u0acd\\u0ab0\\u0ac0\\u0a8f \\u0a95\\u0ab9\\u0acd\\u0aaf\\u0ac1\\u0a82 \\u0a95\\u0ac7 \\u0aa6\\u0ac7\\u0ab6\\u0aae\\u0abe\\u0a82 \\u0a98\\u0ab0\\u0aa5\\u0ac0 \\u0aac\\u0ab9\\u0abe\\u0ab0 \\u0aae\\u0abe\\u0ab8\\u0acd\\u0a95 \\u0aaa\\u0ab9\\u0ac7\\u0ab0\\u0ab5\\u0ac1\\u0a82 \\u0a9c\\u0ab0\\u0ac2\\u0ab0\\u0ac0 \\u0a9b\\u0ac7. \\u0a95\\u0acb\\u0ab0\\u0acb\\u0aa8\\u0abe\\u0aa5\\u0ac0 \\u0aac\\u0a9a\\u0ab5\\u0abe \\u0aae\\u0abe\\u0a9f\\u0ac7 \\u0a86 \\u0a98\\u0aa3\\u0ac1\\u0a82 \\u0a9c \\u0a9c\\u0ab0\\u0ac2\\u0ab0\\u0ac0 \\u0a9b\\u0ac7. \\u0ab6\\u0ac1\\u0a95\\u0acd\\u0ab0\\u0ab5\\u0abe\\u0ab0\\u0aa5\\u0ac0 \\u0a86 \\u0aa8\\u0abf\\u0aaf\\u0aae \\u0ab2\\u0abe\\u0a97\\u0ac1 \\u0a95\\u0ab0\\u0ac0 \\u0aa6\\u0ac7\\u0ab5\\u0abe\\u0aae\\u0abe\\u0a82 \\u0a86\\u0ab5\\u0ab6\\u0ac7. \\u0a85\\u0ab9\\u0ac0\\u0a82 3.27 \\u0ab2\\u0abe\\u0a96\\u0aa5\\u0ac0 \\u0ab5\\u0aa7\\u0ac1 \\u0aa6\\u0ab0\\u0acd\\u0aa6\\u0ac0\\u0a93 \\u0a9b\\u0ac7.\\u0aa1\\u0aac\\u0acd\\u0ab2\\u0acd\\u0aaf\\u0ac1\\u0a8f\\u0a9a\\u0a93\\u0aa8\\u0abe \\u0aaa\\u0acd\\u0ab0\\u0aae\\u0ac1\\u0a96 \\u0a9f\\u0ac7\\u0aa1\\u0acd\\u0ab0\\u0acb\\u0ab8 \\u0a8f\\u0aa1\\u0ab9\\u0acb\\u0aa8\\u0aae \\u0a97\\u0ac7\\u0aac\\u0acd\\u0ab0\\u0ac7\\u0ab8\\u0abf\\u0aaf\\u0ab8\\u0ac7 \\u0a95\\u0ab9\\u0acd\\u0aaf\\u0ac1\\u0a82 \\u0a95\\u0ac7 \\u0a95\\u0acb\\u0ab0\\u0acb\\u0aa8\\u0abe \\u0ab5\\u0ac7\\u0a95\\u0acd\\u0ab8\\u0abf\\u0aa8 \\u0a86 \\u0ab5\\u0ab0\\u0acd\\u0ab7\\u0aa8\\u0abe \\u0a85\\u0a82\\u0aa4 \\u0ab8\\u0ac1\\u0aa7\\u0ac0\\u0aae\\u0abe\\u0a82 \\u0a86\\u0ab5\\u0ac7 \\u0aa4\\u0ac7\\u0ab5\\u0ac0 \\u0ab6\\u0a95\\u0acd\\u0aaf\\u0aa4\\u0abe \\u0a9b\\u0ac7. \\u0aa4\\u0ac7\\u0a93\\u0a8f \\u0ab5\\u0abf\\u0ab6\\u0acd\\u0ab5\\u0aad\\u0ab0\\u0aa8\\u0abe \\u0aa8\\u0ac7\\u0aa4\\u0abe\\u0a93\\u0aa8\\u0ac7 \\u0a8f\\u0a95\\u0a9c\\u0ac2\\u0aa5\\u0aa4\\u0abe \\u0a85\\u0aa8\\u0ac7 \\u0ab0\\u0abe\\u0a9c\\u0a95\\u0ac0\\u0aaf \\u0aaa\\u0acd\\u0ab0\\u0aa4\\u0abf\\u0aac\\u0aa6\\u0acd\\u0aa7\\u0aa4\\u0abe\\u0aa8\\u0ac1\\u0a82 \\u0a86\\u0ab9\\u0acd\\u0ab5\\u0abe\\u0aa8 \\u0a95\\u0ab0\\u0acd\\u0aaf\\u0ac1 \\u0a9b\\u0ac7, \\u0a95\\u0ac7 \\u0a9c\\u0ac7\\u0aa5\\u0ac0 \\u0ab5\\u0ac7\\u0a95\\u0acd\\u0ab8\\u0abf\\u0aa8 \\u0aac\\u0aa8\\u0acd\\u0aaf\\u0abe\\u0a82 \\u0aac\\u0abe\\u0aa6 \\u0aa6\\u0ab0\\u0ac7\\u0a95 \\u0aa6\\u0ac7\\u0ab6\\u0aae\\u0abe\\u0a82 \\u0aa4\\u0ac7\\u0aa8\\u0ac1\\u0a82 \\u0ab8\\u0aae\\u0abe\\u0aa8 \\u0ab5\\u0abf\\u0aa4\\u0ab0\\u0aa3 \\u0aa5\\u0a88 \\u0ab6\\u0a95\\u0ac7. \\u0aa1\\u0aac\\u0acd\\u0ab2\\u0acd\\u0aaf\\u0ac2\\u0a8f\\u0a9a\\u0a93\\u0aa8\\u0ac0 \\u0a95\\u0acb\\u0ab5\\u0ac8\\u0a95\\u0acd\\u0ab8 \\u0a97\\u0acd\\u0ab2\\u0acb\\u0aac\\u0ab2 \\u0ab5\\u0ac7\\u0a95\\u0acd\\u0ab8\\u0abf\\u0aa8 \\u0aab\\u0ac7\\u0ab8\\u0abf\\u0ab2\\u0abf\\u0a9f\\u0ac0\\u0aa8\\u0abe \\u0aa8\\u0ab5 \\u0a8f\\u0a95\\u0acd\\u0ab8\\u0aaa\\u0ac7\\u0ab0\\u0abf\\u0aae\\u0ac7\\u0aa8\\u0acd\\u0a9f \\u0ab5\\u0ac7\\u0a95\\u0acd\\u0ab8\\u0abf\\u0aa8 \\u0aaa\\u0abe\\u0a88\\u0aaa\\u0ab2\\u0abe\\u0a88\\u0aa8\\u0aae\\u0abe\\u0a82 \\u0a9b\\u0ac7. \\u0a9c\\u0ac7\\u0aa8\\u0acb \\u0a89\\u0aa6\\u0acd\\u0aa6\\u0ac7\\u0ab6\\u0acd\\u0aaf 2021\\u0aa8\\u0abe \\u0a85\\u0a82\\u0aa4 \\u0ab8\\u0ac1\\u0aa7\\u0ac0\\u0aae\\u0abe\\u0a82 200 \\u0a95\\u0ab0\\u0acb\\u0aa1 \\u0aa1\\u0acb\\u0a9d \\u0ab5\\u0abf\\u0aa4\\u0ab0\\u0abf\\u0aa4 \\u0a95\\u0ab0\\u0ab5\\u0abe\\u0aa8\\u0acb \\u0a9b\\u0ac7.\\u0ab5\\u0abf\\u0ab6\\u0acd\\u0ab5\\u0aae\\u0abe\\u0a82 \\u0a95\\u0acb\\u0ab0\\u0acb\\u0aa8\\u0abe\\u0aa8\\u0abe \\u0a95\\u0ac7\\u0ab8\\u0aa8\\u0ac0 \\u0ab8\\u0a82\\u0a96\\u0acd\\u0aaf\\u0abe 3.56 \\u0a95\\u0ab0\\u0acb\\u0aa1\\u0aa5\\u0ac0 \\u0ab5\\u0aa7\\u0ac1 \\u0aa5\\u0a87 \\u0a97\\u0aaf \\u0a9b\\u0ac7. \\u0ab8\\u0abe\\u0a9c\\u0abe \\u0aa5\\u0aa8\\u0abe\\u0ab0 \\u0aa6\\u0ab0\\u0acd\\u0aa6\\u0ac0\\u0a93\\u0aa8\\u0ac0 \\u0ab8\\u0a82\\u0a96\\u0acd\\u0aaf\\u0abe 2 \\u0a95\\u0ab0\\u0acb\\u0aa1 68 \\u0ab2\\u0abe\\u0a96 59 \\u0ab9\\u0a9c\\u0abe\\u0ab0 709 \\u0aa5\\u0ac0 \\u0ab5\\u0aa7\\u0ac1 \\u0a9b\\u0ac7. \\u0aae\\u0ac3\\u0aa4\\u0acd\\u0aaf\\u0ac1\\u0a86\\u0a82\\u0a95 10.33 \\u0ab2\\u0abe\\u0a96\\u0aa8\\u0ac7 \\u0aaa\\u0abe\\u0ab0 \\u0aa5\\u0a88 \\u0a97\\u0aaf\\u0acb \\u0a9b\\u0ac7. \\u0a86 \\u0a86\\u0a82\\u0a95\\u0aa1\\u0abe www.worldometers.info/coronavirus \\u0a85\\u0aa8\\u0ac1\\u0ab8\\u0abe\\u0ab0 \\u0a9b\\u0ac7. \\u0aaf\\u0ac1\\u0ab0\\u0acb\\u0aaa\\u0abf\\u0aaf\\u0aa8 \\u0aa6\\u0ac7\\u0ab6\\u0acb\\u0aae\\u0abe\\u0a82 \\u0ab8\\u0a82\\u0a95\\u0acd\\u0ab0\\u0aae\\u0aa3\\u0aa8\\u0ac0 \\u0aac\\u0ac0\\u0a9c\\u0ac0 \\u0ab2\\u0ab9\\u0ac7\\u0ab0 \\u0a9c\\u0ac0\\u0ab5\\u0ab2\\u0ac7\\u0aa3 \\u0ab8\\u0abe\\u0aac\\u0abf\\u0aa4 \\u0aa5\\u0a88 \\u0ab0\\u0ab9\\u0ac0 \\u0a9b\\u0ac7. \\u0aab\\u0acd\\u0ab0\\u0abe\\u0aa8\\u0acd\\u0ab8 \\u0a95\\u0acb\\u0ab0\\u0acb\\u0aa8\\u0abe\\u0aa5\\u0ac0 \\u0ab8\\u0acc\\u0aa5\\u0ac0 \\u0ab5\\u0aa7\\u0ac1 \\u0a85\\u0ab8\\u0ab0\\u0a97\\u0acd\\u0ab0\\u0ab8\\u0acd\\u0aa4 \\u0a9b\\u0ac7. \\u0a86\\u0ab0\\u0acb\\u0a97\\u0acd\\u0aaf \\u0a8f\\u0a9c\\u0aa8\\u0acd\\u0ab8\\u0ac0 \\u0a95\\u0ab9\\u0ac7 \\u0a9b\\u0ac7 \\u0a95\\u0ac7 \\u0aa8\\u0ab5\\u0abe \\u0a95\\u0ac7\\u0ab8\\u0acb\\u0aae\\u0abe\\u0a82 40 \\u0a9f\\u0a95\\u0abe \\u0ab6\\u0abe\\u0ab3\\u0abe\\u0a93 \\u0a85\\u0aa8\\u0ac7 \\u0aaf\\u0ac1\\u0aa8\\u0abf\\u0ab5\\u0ab0\\u0acd\\u0ab8\\u0abf\\u0a9f\\u0ac0\\u0a93 \\u0ab8\\u0abe\\u0aa5\\u0ac7\\u0aa8\\u0abe \\u0ab8\\u0a82\\u0aac\\u0a82\\u0aa7\\u0abf\\u0aa4 \\u0a9b\\u0ac7.\\u0a86 10 \\u0aa6\\u0ac7\\u0ab6\\u0acb\\u0aae\\u0abe\\u0a82 \\u0a95\\u0acb\\u0ab0\\u0acb\\u0aa8\\u0abe\\u0aa8\\u0ac0 \\u0a85\\u0ab8\\u0ab0 \\u0ab8\\u0acc\\u0aa5\\u0ac0 \\u0ab5\\u0aa7\\u0ac1\\u0aa6\\u0ac7\\u0ab6\\u0ab8\\u0a82\\u0a95\\u0acd\\u0ab0\\u0aae\\u0aa3\\u0aae\\u0ac3\\u0aa4\\u0acd\\u0aaf\\u0ac1\\u0ab8\\u0abe\\u0a9c\\u0abe \\u0aa5\\u0aaf\\u0abe\\u0a85\\u0aae\\u0ac7\\u0ab0\\u0abf\\u0a95\\u0abe76,79,6442,15,03248,95,078\\u0aad\\u0abe\\u0ab0\\u0aa466,85,0821,03,60056,62,490\\u0aac\\u0acd\\u0ab0\\u0abe\\u0a9d\\u0ac0\\u0ab249,40,4991,46,77342,95,302\\u0ab0\\u0ab6\\u0abf\\u0aaf\\u0abe12,37,50421,6639,88,576\\u0a95\\u0acb\\u0ab2\\u0a82\\u0aac\\u0abf\\u0aaf\\u0abe8,62,15826,8447,66,300\\u0aaa\\u0ac7\\u0ab0\\u0ac28,52,83832,225\\u0a89\\u0aaa\\u0ab2\\u0aac\\u0acd\\u0aa7 \\u0aa8\\u0ab9\\u0ac0\\u0a82\\u0ab8\\u0acd\\u0aaa\\u0ac7\\u0aa88,29,99932,8347,12,888\\u0a85\\u0ab0\\u0acd\\u0a9c\\u0ac7\\u0a82\\u0a9f\\u0ac0\\u0aa8\\u0abe8,09,72821,4686,49,017\\u0aae\\u0ac7\\u0a95\\u0acd\\u0ab8\\u0abf\\u0a95\\u0acb7,61,66579,0885,50,053\\u0ab8\\u0abe\\u0a89\\u0aa5 \\u0a86\\u0aab\\u0acd\\u0ab0\\u0abf\\u0a95\\u0abe6,82,21517,0166,15,684\\u0aab\\u0acd\\u0ab0\\u0abe\\u0aa8\\u0acd\\u0ab8 : \\u0aa8\\u0ab5\\u0abe \\u0a86\\u0a82\\u0a95\\u0aa1\\u0abe \\u0a9c\\u0abe\\u0ab9\\u0ac7\\u0ab0 \\u0aa8\\u0aa5\\u0ac0\\u0aab\\u0acd\\u0ab0\\u0abe\\u0aa8\\u0acd\\u0ab8\\u0aae\\u0abe\\u0a82 \\u0ab6\\u0aa8\\u0abf\\u0ab5\\u0abe\\u0ab0\\u0ac7 17 \\u0ab9\\u0a9c\\u0abe\\u0ab0 \\u0aa8\\u0ab5\\u0abe \\u0a95\\u0ac7\\u0ab8 \\u0ab8\\u0abe\\u0aae\\u0ac7 \\u0a86\\u0ab5\\u0acd\\u0aaf\\u0abe \\u0ab9\\u0aa4\\u0abe. \\u0aa4\\u0acd\\u0aaf\\u0abe\\u0ab0 \\u0aac\\u0abe\\u0aa6 \\u0ab8\\u0ab0\\u0a95\\u0abe\\u0ab0\\u0ac7 \\u0ab0\\u0ab5\\u0abf\\u0ab5\\u0abe\\u0ab0 \\u0a85\\u0aa8\\u0ac7 \\u0ab8\\u0acb\\u0aae\\u0ab5\\u0abe\\u0ab0\\u0ac7 \\u0aa8\\u0ab5\\u0abe \\u0a86\\u0a82\\u0a95\\u0aa1\\u0abe \\u0a9c\\u0abe\\u0ab9\\u0ac7\\u0ab0 \\u0a95\\u0ab0\\u0acd\\u0aaf\\u0abe \\u0aa8\\u0aa5\\u0ac0. \\u0aaa\\u0acd\\u0ab0\\u0abe\\u0aa6\\u0ac7\\u0ab6\\u0abf\\u0a95 \\u0a86\\u0ab0\\u0acb\\u0a97\\u0acd\\u0aaf \\u0a8f\\u0a9c\\u0aa8\\u0acd\\u0ab8\\u0ac0\\u0aa8\\u0abe \\u0aa1\\u0abf\\u0ab0\\u0ac7\\u0a95\\u0acd\\u0a9f\\u0ab0 \\u0a8f\\u0ab0\\u0acb\\u0ab2\\u0abf\\u0aa8 \\u0ab0\\u0acb\\u0ab8\\u0acb\\u0a89\\u0a8f \\u0a95\\u0ab9\\u0acd\\u0aaf\\u0ac1\\u0a82- \\u0aaa\\u0ac7\\u0ab0\\u0abf\\u0ab8\\u0aa8\\u0abe \\u0a89\\u0aaa\\u0aa8\\u0a97\\u0ab0\\u0ac0\\u0aaf \\u0ab5\\u0abf\\u0ab8\\u0acd\\u0aa4\\u0abe\\u0ab0\\u0acb\\u0aae\\u0abe\\u0a82 \\u0aa6\\u0ab0\\u0ab0\\u0acb\\u0a9c \\u0ab8\\u0ab0\\u0ac7\\u0ab0\\u0abe\\u0ab6 3500 \\u0a95\\u0ac7\\u0ab8 \\u0aa8\\u0acb\\u0a82\\u0aa7\\u0abe\\u0aaf \\u0a9b\\u0ac7. \\u0a85\\u0aae\\u0ac7 200 \\u0aa8\\u0ab5\\u0abe \\u0aaa\\u0acd\\u0ab0\\u0abe\\u0aa6\\u0ac7\\u0ab6\\u0abf\\u0a95 \\u0a95\\u0acd\\u0ab2\\u0ab8\\u0acd\\u0a9f\\u0ab0\\u0acb \\u0a93\\u0ab3\\u0a96\\u0acd\\u0aaf\\u0abe \\u0a9b\\u0ac7. \\u0a9a\\u0abf\\u0a82\\u0aa4\\u0abe\\u0aa8\\u0ac0 \\u0ab5\\u0abe\\u0aa4 \\u0a9b\\u0ac7 \\u0a95\\u0ac7 40 \\u0a9f\\u0a95\\u0abe \\u0a95\\u0ac7\\u0ab8 \\u0ab6\\u0abe\\u0ab3\\u0abe\\u0a93 \\u0a85\\u0aa8\\u0ac7 \\u0aaf\\u0ac1\\u0aa8\\u0abf\\u0ab5\\u0ab0\\u0acd\\u0ab8\\u0abf\\u0a9f\\u0ac0\\u0a93\\u0aae\\u0abe\\u0a82\\u0aa5\\u0ac0 \\u0ab8\\u0abe\\u0aae\\u0ac7 \\u0a86\\u0ab5\\u0ac0 \\u0ab0\\u0ab9\\u0acd\\u0aaf\\u0abe \\u0a9b\\u0ac7. 26 \\u0a9f\\u0a95\\u0abe \\u0ab2\\u0acb\\u0a95\\u0acb \\u0a95\\u0abe\\u0aae\\u0aa8\\u0abe \\u0ab8\\u0acd\\u0aa5\\u0ab3\\u0acb\\u0aa5\\u0ac0 \\u0a85\\u0aa8\\u0ac7 10 \\u0a9f\\u0a95\\u0abe \\u0ab2\\u0acb\\u0a95\\u0acb \\u0a8f\\u0a95\\u0aa0\\u0abe \\u0aa5\\u0ab5\\u0abe\\u0aa8\\u0abe \\u0a95\\u0abe\\u0ab0\\u0aa3\\u0ac7 \\u0a95\\u0acb\\u0ab0\\u0acb\\u0aa8\\u0abe \\u0ab8\\u0a82\\u0a95\\u0acd\\u0ab0\\u0aae\\u0aa3 \\u0aa5\\u0abe\\u0aaf \\u0a9b\\u0ac7. \\u0a85\\u0aae\\u0ac7 \\u0aa8\\u0abf\\u0ab0\\u0acd\\u0aa3\\u0aaf \\u0ab2\\u0ac0\\u0aa7\\u0acb \\u0a9b\\u0ac7 \\u0a95\\u0ac7 \\u0aa8\\u0abf\\u0aaf\\u0a82\\u0aa4\\u0acd\\u0ab0\\u0aa3\\u0acb \\u0ab5\\u0aa7\\u0ac1 \\u0a95\\u0aa1\\u0a95 \\u0ab0\\u0ac0\\u0aa4\\u0ac7 \\u0ab2\\u0abe\\u0a97\\u0ac1 \\u0a95\\u0ab0\\u0ab5\\u0abe\\u0aae\\u0abe\\u0a82 \\u0a86\\u0ab5\\u0ab6\\u0ac7. \\u0a95\\u0abe\\u0ab0\\u0aa3 \\u0a95\\u0ac7 \\u0a86 \\u0ab8\\u0abf\\u0ab5\\u0abe\\u0aaf \\u0a85\\u0aae\\u0abe\\u0ab0\\u0ac0 \\u0aaa\\u0abe\\u0ab8\\u0ac7 \\u0a85\\u0aa4\\u0acd\\u0aaf\\u0abe\\u0ab0\\u0ac7 \\u0a95\\u0acb\\u0a88 \\u0a85\\u0aa8\\u0acd\\u0aaf \\u0a89\\u0aaa\\u0abe\\u0aaf \\u0aa8\\u0aa5\\u0ac0.\\u0aae\\u0ac7\\u0a95\\u0acd\\u0ab8\\u0abf\\u0a95\\u0acb\\u0aae\\u0abe\\u0a82 \\u0ab8\\u0acb\\u0aae\\u0ab5\\u0abe\\u0ab0\\u0ac7 \\u0aa8\\u0ab5\\u0abe \\u0a95\\u0ac7\\u0ab8\\u0acb\\u0a8f \\u0ab8\\u0acc\\u0aa8\\u0ac7 \\u0ab9\\u0ac7\\u0ab0\\u0abe\\u0aa8 \\u0a95\\u0ab0\\u0ac0 \\u0aa6\\u0ac0\\u0aa7\\u0abe. \\u0a85\\u0ab9\\u0abf\\u0aaf\\u0abe\\u0a82 \\u0a8f\\u0a95 \\u0a9c \\u0aa6\\u0abf\\u0ab5\\u0ab8\\u0aae\\u0abe\\u0a82 28 \\u0ab9\\u0a9c\\u0abe\\u0ab0 115 \\u0aa8\\u0ab5\\u0abe \\u0a95\\u0ac7\\u0ab8 \\u0ab8\\u0abe\\u0aae\\u0ac7 \\u0a86\\u0ab5\\u0acd\\u0aaf\\u0abe \\u0a9b\\u0ac7. \\u0a8f\\u0a9f\\u0ab2\\u0ac1\\u0a82 \\u0a9c \\u0aa8\\u0ab9\\u0ac0\\u0a82, \\u0a86 \\u0aa6\\u0ab0\\u0aae\\u0abf\\u0aaf\\u0abe\\u0aa8 2789 \\u0ab2\\u0acb\\u0a95\\u0acb\\u0aa8\\u0abe \\u0aae\\u0ac3\\u0aa4\\u0acd\\u0aaf\\u0ac1 \\u0aaa\\u0aa3 \\u0aa5\\u0aaf\\u0abe \\u0a9b\\u0ac7. \\u0ab8\\u0ab0\\u0a95\\u0abe\\u0ab0\\u0aa8\\u0ac1\\u0a82 \\u0a95\\u0ab9\\u0ac7\\u0ab5\\u0ac1\\u0a82 \\u0a9b\\u0ac7 \\u0a95\\u0ac7 \\u0aa8\\u0ab5\\u0abe \\u0a95\\u0ac7\\u0ab8\\u0aae\\u0abe\\u0a82 \\u0a9d\\u0aa1\\u0aaa\\u0ac0 \\u0ab5\\u0aa7\\u0abe\\u0ab0\\u0abe\\u0aa8\\u0abe \\u0a95\\u0abe\\u0ab0\\u0aa3\\u0ac7 \\u0a9c\\u0abe\\u0ab9\\u0ac7\\u0ab0 \\u0ab8\\u0acd\\u0aa5\\u0ab3\\u0acb \\u0aaa\\u0ab0 \\u0aaa\\u0acd\\u0ab0\\u0aa4\\u0abf\\u0aac\\u0a82\\u0aa7 \\u0ab2\\u0a97\\u0abe\\u0ab5\\u0ab5\\u0acb \\u0aa4\\u0ac7 \\u0a9c\\u0ab0\\u0ac2\\u0ab0\\u0ac0 \\u0aac\\u0aa8\\u0ac0 \\u0a97\\u0aaf\\u0ac1\\u0a82 \\u0a9b\\u0ac7. \\u0ab8\\u0ab0\\u0a95\\u0abe\\u0ab0\\u0ac7 \\u0a8f\\u0a95 \\u0ab0\\u0abf\\u0aaa\\u0acb\\u0ab0\\u0acd\\u0a9f \\u0aa4\\u0ac8\\u0aaf\\u0abe\\u0ab0 \\u0a95\\u0ab0\\u0acd\\u0aaf\\u0acb \\u0a9b\\u0ac7. \\u0a86 \\u0ab0\\u0abf\\u0aaa\\u0acb\\u0ab0\\u0acd\\u0a9f WHO\\u0aa8\\u0ac7 \\u0aaa\\u0aa3 \\u0aae\\u0acb\\u0a95\\u0ab2\\u0ab5\\u0abe\\u0aae\\u0abe\\u0a82 \\u0a86\\u0ab5\\u0ab6\\u0ac7. \\u0ab8\\u0a82\\u0a97\\u0aa0\\u0aa8\\u0aa8\\u0abe \\u0ab5\\u0abf\\u0ab6\\u0ac7\\u0ab7\\u0a9c\\u0acd\\u0a9e \\u0a86 \\u0aac\\u0abe\\u0aac\\u0aa4\\u0ac7 \\u0ab8\\u0ab0\\u0a95\\u0abe\\u0ab0\\u0aa8\\u0ac7 \\u0ab8\\u0ab2\\u0abe\\u0ab9 \\u0a86\\u0aaa\\u0ab6\\u0ac7. \\u0a9c\\u0acb \\u0ab6\\u0a95\\u0ac0 \\u0aac\\u0aa8\\u0ab6\\u0ac7 \\u0aa4\\u0acb \\u0a8f\\u0a95 \\u0a9f\\u0ac0\\u0aae \\u0aae\\u0ac7\\u0a95\\u0acd\\u0ab8\\u0abf\\u0a95\\u0acb \\u0aaa\\u0aa3 \\u0aae\\u0acb\\u0a95\\u0ab2\\u0ab5\\u0abe\\u0aae\\u0abe\\u0a82 \\u0a86\\u0ab5\\u0ab6\\u0ac7.\\u0aab\\u0acd\\u0ab0\\u0abe\\u0aa8\\u0acd\\u0ab8 : \\u0aaa\\u0ac7\\u0ab0\\u0abf\\u0ab8\\u0aae\\u0abe\\u0a82 \\u0aac\\u0abe\\u0ab0 \\u0a85\\u0aa8\\u0ac7 \\u0a95\\u0ac7\\u0aab\\u0ac7 \\u0aac\\u0a82\\u0aa7\\u0aab\\u0acd\\u0ab0\\u0abe\\u0aa8\\u0acd\\u0ab8\\u0aa8\\u0ac0 \\u0ab0\\u0abe\\u0a9c\\u0aa7\\u0abe\\u0aa8\\u0ac0 \\u0aaa\\u0ac7\\u0ab0\\u0abf\\u0ab8\\u0aae\\u0abe\\u0a82 \\u0ab8\\u0acb\\u0aae\\u0ab5\\u0abe\\u0ab0\\u0ac7 \\u0aa4\\u0aae\\u0abe\\u0aae \\u0aac\\u0abe\\u0ab0 \\u0a85\\u0aa8\\u0ac7 \\u0a95\\u0ac7\\u0aab\\u0ac7\\u0aa8\\u0ac7 \\u0aac\\u0a82\\u0aa7 \\u0a95\\u0ab0\\u0ab5\\u0abe\\u0aae\\u0abe\\u0a82 \\u0a95\\u0ab9\\u0ac7\\u0ab5\\u0abe\\u0aae\\u0abe \\u0a86\\u0ab5\\u0acd\\u0aaf\\u0ac1\\u0a82 \\u0a9b\\u0ac7. \\u0aa6\\u0ac7\\u0ab6\\u0aa8\\u0abe \\u0a86\\u0ab0\\u0acb\\u0a97\\u0acd\\u0aaf \\u0aae\\u0a82\\u0aa4\\u0acd\\u0ab0\\u0ac0 \\u0a93\\u0ab2\\u0abf\\u0ab5\\u0abf\\u0aaf\\u0ab0 \\u0ab5\\u0ac7\\u0ab0\\u0aa8\\u0ac7 \\u0ab0\\u0ab5\\u0abf\\u0ab5\\u0abe\\u0ab0\\u0ac7 \\u0a86 \\u0aac\\u0abe\\u0aac\\u0aa4\\u0aa8\\u0ac0 \\u0a9c\\u0abe\\u0aa3\\u0a95\\u0abe\\u0ab0\\u0ac0 \\u0a86\\u0aaa\\u0ac0 \\u0ab9\\u0aa4\\u0ac0. \\u0aa4\\u0ac7\\u0aae\\u0aa3\\u0ac7 \\u0a95\\u0ab9\\u0acd\\u0aaf\\u0ac1\\u0a82 \\u0a95\\u0ac7 \\u0ab0\\u0abe\\u0a9c\\u0aa7\\u0abe\\u0aa8\\u0ac0 \\u0aaa\\u0ac7\\u0ab0\\u0abf\\u0ab8\\u0aae\\u0abe\\u0a82 \\u0ab8\\u0a82\\u0a95\\u0acd\\u0ab0\\u0aae\\u0aa3 \\u0aa6\\u0ab0\\u0aa8\\u0ac7 \\u0a98\\u0a9f\\u0abe\\u0aa1\\u0ab5\\u0acb \\u0a9c\\u0ab0\\u0ac2\\u0ab0\\u0ac0 \\u0a9b\\u0ac7. \\u0a86\\u0ab5\\u0ac1\\u0a82 \\u0aa8\\u0ab9\\u0ac0\\u0a82 \\u0a95\\u0ab0\\u0ab5\\u0abe\\u0aae\\u0abe\\u0a82 \\u0a86\\u0ab5\\u0ac7 \\u0aa4\\u0acb \\u0ab6\\u0ab9\\u0ac7\\u0ab0\\u0aa8\\u0ac7 \\u0aab\\u0ab0\\u0ac0 \\u0ab2\\u0acb\\u0a95\\u0aa1\\u0abe\\u0a89\\u0aa8 \\u0a95\\u0ab0\\u0ab5\\u0abe\\u0aae\\u0abe\\u0a82 \\u0a86\\u0ab5\\u0ac0 \\u0ab6\\u0a95\\u0ac7 \\u0a9b\\u0ac7.\\u0aa8\\u0acd\\u0aaf\\u0ac2\\u0a9d\\u0ac0\\u0ab2\\u0ac7\\u0aa8\\u0acd\\u0aa1 : \\u0ab2\\u0acb\\u0a95\\u0aa1\\u0abe\\u0a89\\u0aa8 \\u0ab9\\u0a9f\\u0abe\\u0ab5\\u0abe\\u0aaf\\u0ac1\\u0a82\\u0aa8\\u0acd\\u0aaf\\u0ac2\\u0a9d\\u0ac0\\u0ab2\\u0ac7\\u0aa8\\u0acd\\u0aa1\\u0aa8\\u0abe \\u0ab5\\u0aa1\\u0abe\\u0aaa\\u0acd\\u0ab0\\u0aa7\\u0abe\\u0aa8 \\u0a9c\\u0ac7\\u0ab8\\u0abf\\u0a82\\u0aa8\\u0acd\\u0aa1\\u0abe\\u0a8f \\u0ab8\\u0acb\\u0aae\\u0ab5\\u0abe\\u0ab0\\u0ac7 \\u0a91\\u0a95\\u0ab2\\u0ac7\\u0aa8\\u0acd\\u0aa1\\u0aae\\u0abe\\u0aa5\\u0ac0 \\u0ab2\\u0acb\\u0a95\\u0aa1\\u0abe\\u0a89\\u0aa8 \\u0ab9\\u0a9f\\u0abe\\u0ab5\\u0ab5\\u0abe\\u0aa8\\u0ac1\\u0a82 \\u0a8f\\u0ab2\\u0abe\\u0aa8 \\u0a95\\u0ab0\\u0acd\\u0aaf\\u0ac1\\u0a82 \\u0ab9\\u0aa4\\u0ac1\\u0a82. \\u0aa4\\u0ac7\\u0aae\\u0aa3\\u0ac7 \\u0a95\\u0ab9\\u0acd\\u0aaf\\u0ac1\\u0a82 \\u0a95\\u0ac7 \\u0a85\\u0aae\\u0ac7 \\u0aac\\u0ac0\\u0a9c\\u0ac0 \\u0ab5\\u0a96\\u0aa4 \\u0aaa\\u0aa3 \\u0a95\\u0acb\\u0ab0\\u0acb\\u0aa8\\u0abe \\u0ab5\\u0abe\\u0aaf\\u0ab0\\u0ab8\\u0aa8\\u0ac7 \\u0ab9\\u0ab0\\u0abe\\u0ab5\\u0ac0 \\u0aa6\\u0ac0\\u0aa7\\u0acb \\u0a9b\\u0ac7. \\u0a9c\\u0acb \\u0a95\\u0ac7 \\u0ab8\\u0abe\\u0ab5\\u0aa7\\u0abe\\u0aa8\\u0ac0 \\u0ab0\\u0abe\\u0a96\\u0aa4\\u0abe \\u0ab2\\u0ac7\\u0ab5\\u0ab2 \\u0ab5\\u0aa8\\u0aa8\\u0ac1\\u0a82 \\u0a8f\\u0ab2\\u0ab0\\u0acd\\u0a9f \\u0a9c\\u0abe\\u0ab9\\u0ac7\\u0ab0 \\u0a95\\u0ab0\\u0ab5\\u0abe\\u0aae\\u0abe\\u0a82 \\u0a86\\u0ab5\\u0ab6\\u0ac7. \\u0ab9\\u0ab5\\u0ac7 \\u0ab8\\u0a82\\u0a95\\u0acd\\u0ab0\\u0aae\\u0aa3 \\u0aaa\\u0ab0 95% \\u0a95\\u0abe\\u0aac\\u0ac2 \\u0aae\\u0ac7\\u0ab3\\u0ab5\\u0abe\\u0aaf\\u0abe\\u0aa8\\u0ac0 \\u0ab8\\u0a82\\u0aad\\u0abe\\u0ab5\\u0aa8\\u0abe \\u0a9b\\u0ac7. \\u0aa4\\u0ac7\\u0aae\\u0aa3\\u0ac7 \\u0a95\\u0ab9\\u0acd\\u0aaf\\u0ac1\\u0a82 \\u0a95\\u0ac7 \\u0ab9\\u0a9c\\u0ac0 \\u0aae\\u0ab9\\u0abf\\u0aa8\\u0abe\\u0a93 \\u0ab8\\u0ac1\\u0aa7\\u0ac0 \\u0a95\\u0acb\\u0ab0\\u0acb\\u0aa8\\u0abe \\u0a86\\u0aaa\\u0aa8\\u0ac0 \\u0ab8\\u0abe\\u0aa5\\u0ac7 \\u0ab0\\u0ab9\\u0ac7\\u0ab6\\u0ac7, \\u0aaa\\u0ab0\\u0a82\\u0aa4\\u0ac1 \\u0a86\\u0aaa\\u0aa3\\u0ac7 \\u0aa4\\u0ac7\\u0aa8\\u0ac7 \\u0a8f\\u0a95 \\u0aae\\u0ab9\\u0aa4\\u0acd\\u0ab5\\u0aaa\\u0ac2\\u0ab0\\u0acd\\u0aa3 \\u0ab8\\u0abf\\u0aa6\\u0acd\\u0aa7\\u0abf \\u0aa4\\u0ab0\\u0ac0\\u0a95\\u0ac7 \\u0ab2\\u0ac7\\u0ab5\\u0ac1\\u0a82 \\u0a9c\\u0acb\\u0a88\\u0a8f. \\u0aa6\\u0ac7\\u0ab6\\u0aae\\u0abe\\u0a82 \\u0a85\\u0aa4\\u0acd\\u0aaf\\u0abe\\u0ab0 \\u0ab8\\u0ac1\\u0aa7\\u0ac0\\u0aae\\u0abe\\u0a82 1855 \\u0a95\\u0ac7\\u0ab8 \\u0aa8\\u0acb\\u0a82\\u0aa7\\u0abe\\u0aaf\\u0abe \\u0a9b\\u0ac7 \\u0a85\\u0aa8\\u0ac7 25 \\u0ab2\\u0acb\\u0a95\\u0acb\\u0aa8\\u0abe\\u0a82 \\u0aae\\u0ac3\\u0aa4\\u0acd\\u0aaf\\u0ac1 \\u0aa8\\u0ac0\\u0aaa\\u0a9c\\u0acd\\u0aaf\\u0abe\\u0a82 \\u0a9b\\u0ac7.\",\n          \"\\u0a9a\\u0acb\\u0a95\\u0acd\\u0a95\\u0ab8 \\u0a87\\u0ab0\\u0abe\\u0aa6\\u0acb \\u0aaa\\u0abe\\u0ab0 \\u0aaa\\u0abe\\u0aa1\\u0ab5\\u0abe \\u0aaa\\u0acd\\u0ab0\\u0a9c\\u0abe\\u0aa8\\u0ac7 \\u0a89\\u0ab2\\u0acd\\u0a9f\\u0abe \\u0a9a\\u0ab6\\u0acd\\u0aae\\u0abe \\u0aaa\\u0ab9\\u0ac7\\u0ab0\\u0abe\\u0ab5\\u0ab5\\u0abe\\u0aae\\u0abe\\u0a82 \\u0aae\\u0abe\\u0ab9\\u0abf\\u0ab0 \\u0ab0\\u0abe\\u0a9c\\u0a95\\u0acb\\u0a9f \\u0aae\\u0ab9\\u0abe\\u0aa8\\u0a97\\u0ab0\\u0aaa\\u0abe\\u0ab2\\u0abf\\u0a95\\u0abe\\u0aa8\\u0abe \\u0ab5\\u0aa7\\u0ac1 \\u0a8f\\u0a95 \\u0ab8\\u0ac1\\u0a86\\u0aaf\\u0acb\\u0a9c\\u0abf\\u0aa4 \\u0ab7\\u0aa1\\u0aaf\\u0a82\\u0aa4\\u0acd\\u0ab0\\u0aa8\\u0acb \\u0aaa\\u0ab0\\u0acd\\u0aa6\\u0abe\\u0aab\\u0abe\\u0ab6 \\u0aa5\\u0aaf\\u0acb \\u0a9b\\u0ac7. \\u0ab6\\u0ab9\\u0ac7\\u0ab0\\u0aa8\\u0abe \\u0ab8\\u0acd\\u0ab2\\u0aae \\u0ab5\\u0abf\\u0ab8\\u0acd\\u0aa4\\u0abe\\u0ab0\\u0aae\\u0abe\\u0a82 \\u0aa8\\u0aa6\\u0ac0, \\u0aa4\\u0ab3\\u0abe\\u0ab5 \\u0a85\\u0aa8\\u0ac7 \\u0ab5\\u0acb\\u0a82\\u0a95\\u0ab3\\u0abe \\u0a95\\u0abe\\u0a82\\u0aa0\\u0ac7 \\u0ab5\\u0abf\\u0a95\\u0abe\\u0ab8\\u0a95\\u0abe\\u0aae\\u0acb \\u0a95\\u0ab0\\u0ab5\\u0abe \\u0aa4\\u0ac7 \\u0ab5\\u0abf\\u0ab8\\u0acd\\u0aa4\\u0abe\\u0ab0\\u0aae\\u0abe\\u0a82 \\u0aa1\\u0abf\\u0aae\\u0acb\\u0ab2\\u0abf\\u0ab6\\u0aa8 \\u0a95\\u0ab0\\u0ab5\\u0abe\\u0aae\\u0abe\\u0a82 \\u0a86\\u0ab5\\u0ac7 \\u0aa4\\u0acd\\u0aaf\\u0abe\\u0ab0\\u0ac7 \\u0aa4\\u0acd\\u0aaf\\u0abe\\u0a82 \\u0ab0\\u0ab9\\u0ac7\\u0aa4\\u0abe \\u0ab2\\u0acb\\u0a95\\u0acb\\u0aa8\\u0ac7 \\u0a86\\u0ab6\\u0ab0\\u0acb \\u0aae\\u0ab3\\u0ac0 \\u0ab0\\u0ab9\\u0ac7 \\u0aa4\\u0ac7 \\u0aae\\u0abe\\u0a9f\\u0ac7 \\u0aae\\u0aa8\\u0aaa\\u0abe \\u0aa6\\u0acd\\u0ab5\\u0abe\\u0ab0\\u0abe \\u0a86\\u0ab5\\u0abe\\u0ab8 \\u0aac\\u0aa8\\u0abe\\u0ab5\\u0ab5\\u0abe\\u0aa8\\u0acb \\u0aaa\\u0acd\\u0ab0\\u0acb\\u0a9c\\u0ac7\\u0a95\\u0acd\\u0a9f \\u0a9b \\u0ab5\\u0ab0\\u0acd\\u0ab7 \\u0aaa\\u0ac2\\u0ab0\\u0acd\\u0ab5\\u0ac7 \\u0ab8\\u0ab0\\u0a95\\u0abe\\u0ab0\\u0aae\\u0abe\\u0a82 \\u0aae\\u0ac1\\u0a95\\u0ab5\\u0abe\\u0aae\\u0abe\\u0a82 \\u0a86\\u0ab5\\u0acd\\u0aaf\\u0acb \\u0ab9\\u0aa4\\u0acb. \\u0aaa\\u0acd\\u0ab0\\u0acb\\u0a9c\\u0ac7\\u0a95\\u0acd\\u0a9f \\u0aae\\u0a82\\u0a9c\\u0ac2\\u0ab0 \\u0aa5\\u0aaf\\u0abe \\u0aac\\u0abe\\u0aa6 \\u0a89\\u0aaa\\u0ab2\\u0abe\\u0a95\\u0abe\\u0a82\\u0aa0\\u0abe \\u0ab5\\u0abf\\u0ab8\\u0acd\\u0aa4\\u0abe\\u0ab0\\u0aae\\u0abe\\u0a82 \\u0ab0\\u0ac2.6.91 \\u0a95\\u0ab0\\u0acb\\u0aa1\\u0aa8\\u0abe \\u0a96\\u0ab0\\u0acd\\u0a9a\\u0ac7 128 \\u0ab8\\u0acd\\u0aae\\u0abe\\u0ab0\\u0acd\\u0a9f \\u0a98\\u0ab0 \\u0aac\\u0aa8\\u0abe\\u0ab5\\u0ac0 \\u0aa6\\u0ac7\\u0ab5\\u0abe\\u0aae\\u0abe\\u0a82 \\u0a86\\u0ab5\\u0acd\\u0aaf\\u0abe\\u0a82 \\u0ab9\\u0aa4\\u0abe\\u0a82.\\u0aa4\\u0acd\\u0ab0\\u0aa3 \\u0ab5\\u0ab0\\u0acd\\u0ab7\\u0aa5\\u0ac0 \\u0a86 \\u0aae\\u0a95\\u0abe\\u0aa8 \\u0a96\\u0abe\\u0ab2\\u0ac0\\u0a96\\u0aae\\u0acd\\u0aae \\u0a8a\\u0aad\\u0abe \\u0a9b\\u0ac7, \\u0aae\\u0aa8\\u0aaa\\u0abe\\u0a8f \\u0a86 \\u0a9b \\u0ab5\\u0ab0\\u0acd\\u0ab7 \\u0aa6\\u0ab0\\u0aae\\u0abf\\u0aaf\\u0abe\\u0aa8 \\u0aa8\\u0aa6\\u0ac0, \\u0aa4\\u0ab3\\u0abe\\u0ab5 \\u0a95\\u0abe\\u0a82\\u0aa0\\u0ac7 \\u0aa8 \\u0aa4\\u0acb \\u0aa1\\u0abf\\u0aae\\u0acb\\u0ab2\\u0abf\\u0ab6\\u0aa8 \\u0a95\\u0ab0\\u0acd\\u0aaf\\u0ac1\\u0a82 \\u0a9b\\u0ac7 \\u0a85\\u0aa8\\u0ac7 \\u0aa8 \\u0aa4\\u0acb \\u0a95\\u0acb\\u0a87\\u0aa8\\u0ac7 \\u0aae\\u0a95\\u0abe\\u0aa8 \\u0aab\\u0abe\\u0ab3\\u0ab5\\u0acd\\u0aaf\\u0ac1\\u0a82 \\u0a9b\\u0ac7, \\u0aae\\u0abe\\u0aa4\\u0acd\\u0ab0 \\u0aaa\\u0acd\\u0ab0\\u0acb\\u0a9c\\u0ac7\\u0a95\\u0acd\\u0a9f\\u0aa8\\u0acb \\u0a96\\u0ab0\\u0acd\\u0a9a \\u0a9c \\u0a95\\u0ab0\\u0ac0\\u0aa8\\u0ac7 \\u0aaa\\u0acb\\u0aa4\\u0abe\\u0aa8\\u0abe \\u0a9a\\u0acb\\u0a95\\u0acd\\u0a95\\u0acd\\u0ab8 \\u0a87\\u0ab0\\u0abe\\u0aa6\\u0abe \\u0aaa\\u0abe\\u0ab0 \\u0aaa\\u0abe\\u0aa1\\u0ab5\\u0abe \\u0aaa\\u0acd\\u0ab0\\u0a9c\\u0abe\\u0aa8\\u0abe \\u0aaa\\u0ac8\\u0ab8\\u0abe\\u0aa8\\u0acb \\u0aa7\\u0ac1\\u0aae\\u0abe\\u0aa1\\u0acb \\u0a95\\u0ab0\\u0ab5\\u0abe\\u0aa8\\u0ac0 \\u0ab5\\u0aa7\\u0ac1 \\u0a8f\\u0a95 \\u0ab5\\u0ac3\\u0aa4\\u0acd\\u0aa4\\u0abf \\u0ab8\\u0abe\\u0aae\\u0ac7 \\u0a86\\u0ab5\\u0ac0 \\u0a9b\\u0ac7 \\u0a9c\\u0ac7\\u0aae\\u0abe\\u0a82 \\u0a85\\u0a97\\u0abe\\u0a89 \\u0ab5\\u0a97\\u0acb\\u0ab5\\u0abe\\u0aaf\\u0ac7\\u0ab2\\u0abe \\u0a8f\\u0a95 \\u0a85\\u0aa7\\u0abf\\u0a95\\u0abe\\u0ab0\\u0ac0\\u0aa8\\u0ac0 \\u0a9c \\u0aad\\u0ac2\\u0aae\\u0abf\\u0a95\\u0abe \\u0ab5\\u0aa7\\u0ac1 \\u0a8f\\u0a95 \\u0ab5\\u0a96\\u0aa4 \\u0aaa\\u0acd\\u0ab0\\u0a95\\u0abe\\u0ab6\\u0aae\\u0abe\\u0a82 \\u0a86\\u0ab5\\u0ac0 \\u0ab9\\u0aa4\\u0ac0.\\u0aae\\u0aa8\\u0aaa\\u0abe\\u0a8f \\u0aaa\\u0acd\\u0ab0\\u0acb\\u0a9c\\u0ac7\\u0a95\\u0acd\\u0a9f \\u0ab5\\u0ab0\\u0acd\\u0ab7 2016\\u0aae\\u0abe\\u0a82 \\u0aa4\\u0ac8\\u0aaf\\u0abe\\u0ab0 \\u0a95\\u0ab0\\u0acd\\u0aaf\\u0acb \\u0ab9\\u0aa4\\u0acb\\u0aaa\\u0acd\\u0ab0\\u0aa7\\u0abe\\u0aa8\\u0aae\\u0a82\\u0aa4\\u0acd\\u0ab0\\u0ac0 \\u0a86\\u0ab5\\u0abe\\u0ab8 \\u0aaf\\u0acb\\u0a9c\\u0aa8\\u0abe \\u0a85\\u0a82\\u0aa4\\u0ab0\\u0acd\\u0a97\\u0aa4 \\u0a9f\\u0ac7\\u0aa8\\u0ac7\\u0aac\\u0ab2 \\u0a86\\u0ab5\\u0abe\\u0ab8 \\u0ab8\\u0acd\\u0a95\\u0abf\\u0aae \\u0aaa\\u0aa3 \\u0ab8\\u0ab0\\u0a95\\u0abe\\u0ab0 \\u0aa6\\u0acd\\u0ab5\\u0abe\\u0ab0\\u0abe \\u0aae\\u0ac1\\u0a95\\u0ab5\\u0abe\\u0aae\\u0abe\\u0a82 \\u0a86\\u0ab5\\u0ac0 \\u0ab9\\u0aa4\\u0ac0, \\u0a9c\\u0ac7\\u0aae\\u0abe\\u0a82 \\u0aa8\\u0aa6\\u0ac0, \\u0aa4\\u0ab3\\u0abe\\u0ab5 \\u0a85\\u0aa8\\u0ac7 \\u0ab5\\u0acb\\u0a82\\u0a95\\u0ab3\\u0abe \\u0a95\\u0abe\\u0a82\\u0aa0\\u0abe\\u0aa8\\u0acb \\u0ab5\\u0abf\\u0a95\\u0abe\\u0ab8 \\u0a95\\u0ab0\\u0ab5\\u0abe\\u0aa8\\u0acb \\u0ab9\\u0acb\\u0aaf \\u0a85\\u0aa8\\u0ac7 \\u0a9c\\u0acb \\u0aa4\\u0ac7 \\u0ab8\\u0acd\\u0aa5\\u0ab3\\u0ac7 \\u0a97\\u0ac7\\u0ab0\\u0a95\\u0abe\\u0aaf\\u0aa6\\u0ac7 \\u0aae\\u0a95\\u0abe\\u0aa8\\u0acb \\u0aac\\u0aa8\\u0ac0 \\u0a97\\u0aaf\\u0abe \\u0ab9\\u0acb\\u0aaf \\u0aa4\\u0acb \\u0aa4\\u0acd\\u0aaf\\u0abe\\u0a82 \\u0aa6\\u0aac\\u0abe\\u0aa3 \\u0ab9\\u0a9f\\u0abe\\u0ab5\\u0ac0 \\u0aa4\\u0ac7 \\u0aa6\\u0aac\\u0abe\\u0aa3\\u0a95\\u0ab0\\u0acd\\u0aa4\\u0abe\\u0a93\\u0aa8\\u0ac7 \\u0a86\\u0ab5\\u0abe\\u0ab8 \\u0a86\\u0aaa\\u0ab5\\u0abe\\u0aa8\\u0ac0 \\u0aaf\\u0acb\\u0a9c\\u0aa8\\u0abe \\u0a85\\u0aae\\u0ab2\\u0ac0 \\u0aac\\u0aa8\\u0abe\\u0ab5\\u0ab5\\u0abe\\u0aae\\u0abe\\u0a82 \\u0a86\\u0ab5\\u0ac0 \\u0ab9\\u0aa4\\u0ac0, \\u0ab8\\u0ab0\\u0a95\\u0abe\\u0ab0\\u0aa8\\u0ac0 \\u0a86 \\u0aaf\\u0acb\\u0a9c\\u0aa8\\u0abe \\u0ab9\\u0ac7\\u0aa0\\u0ab3 \\u0a95\\u0ab0\\u0acb\\u0aa1\\u0acb\\u0aa8\\u0ac0 \\u0a86\\u0ab5\\u0a95 \\u0aae\\u0ac7\\u0ab3\\u0ab5\\u0ac0 \\u0a9a\\u0acb\\u0a95\\u0acd\\u0a95\\u0ab8 \\u0a87\\u0ab0\\u0abe\\u0aa6\\u0acb \\u0aaa\\u0abe\\u0ab0 \\u0aaa\\u0abe\\u0aa1\\u0ab5\\u0abe \\u0aae\\u0abe\\u0a9f\\u0ac7 \\u0ab0\\u0abe\\u0a9c\\u0a95\\u0acb\\u0a9f \\u0aae\\u0ab9\\u0abe\\u0aa8\\u0a97\\u0ab0\\u0aaa\\u0abe\\u0ab2\\u0abf\\u0a95\\u0abe\\u0aa8\\u0ac0 \\u0a86\\u0ab5\\u0abe\\u0ab8 \\u0ab6\\u0abe\\u0a96\\u0abe\\u0aa8\\u0abe \\u0a9f\\u0ac7\\u0a95\\u0acd\\u0aa8\\u0abf\\u0a95\\u0ab2 \\u0ab5\\u0abf\\u0aad\\u0abe\\u0a97\\u0aa8\\u0abe \\u0aa4\\u0aa4\\u0acd\\u0a95\\u0abe\\u0ab2\\u0ac0\\u0aa8 \\u0ab8\\u0abf\\u0a9f\\u0ac0 \\u0a8f\\u0aa8\\u0acd\\u0a9c\\u0abf\\u0aa8\\u0abf\\u0aaf\\u0ab0 \\u0a85\\u0ab2\\u0acd\\u0aaa\\u0aa8\\u0abe \\u0aae\\u0abf\\u0aa4\\u0acd\\u0ab0\\u0abe\\u0a8f \\u0a8f\\u0a95 \\u0a8f\\u0a95 \\u0aaa\\u0acd\\u0ab0\\u0acb\\u0a9c\\u0ac7\\u0a95\\u0acd\\u0a9f \\u0aa4\\u0ac8\\u0aaf\\u0abe\\u0ab0 \\u0a95\\u0ab0\\u0acd\\u0aaf\\u0acb \\u0ab9\\u0aa4\\u0acb.\\u0aaa\\u0acd\\u0ab0\\u0acb\\u0a9c\\u0ac7\\u0a95\\u0acd\\u0a9f \\u0aae\\u0ac1\\u0a9c\\u0aac \\u0ab0\\u0abe\\u0a9c\\u0a95\\u0acb\\u0a9f\\u0aa8\\u0abe \\u0ab2\\u0abe\\u0ab2\\u0aaa\\u0ab0\\u0ac0 \\u0a85\\u0aa8\\u0ac7 \\u0ab0\\u0abe\\u0a82\\u0aa6\\u0ab0\\u0aa1\\u0abe \\u0aa4\\u0ab3\\u0abe\\u0ab5 \\u0ab0\\u0ac0\\u0aa1\\u0ac7\\u0ab5\\u0ab2\\u0aaa\\u0aae\\u0ac7\\u0aa8\\u0acd\\u0a9f \\u0aaa\\u0acd\\u0ab0\\u0acb\\u0a9c\\u0ac7\\u0a95\\u0acd\\u0a9f, \\u0ab2\\u0ab2\\u0ac2\\u0aa1\\u0ac0 \\u0ab5\\u0acb\\u0a82\\u0a95\\u0ab3\\u0ac0 \\u0aaa\\u0ab9\\u0acb\\u0ab3\\u0ac0 \\u0a95\\u0ab0\\u0ab5\\u0abe\\u0aa8\\u0acb \\u0aaa\\u0acd\\u0ab0\\u0acb\\u0a9c\\u0ac7\\u0a95\\u0acd\\u0a9f \\u0a85\\u0aa8\\u0ac7 \\u0a86\\u0a9c\\u0ac0 \\u0ab0\\u0abf\\u0ab5\\u0ab0\\u0aab\\u0acd\\u0ab0\\u0aa8\\u0acd\\u0a9f \\u0aaa\\u0acd\\u0ab0\\u0acb\\u0a9c\\u0ac7\\u0a95\\u0acd\\u0a9f \\u0aad\\u0ab5\\u0abf\\u0ab7\\u0acd\\u0aaf\\u0aae\\u0abe\\u0a82 \\u0a85\\u0aae\\u0ab2\\u0ac0 \\u0aac\\u0aa8\\u0abe\\u0ab5\\u0ab5\\u0abe\\u0aae\\u0abe\\u0a82 \\u0a86\\u0ab5\\u0ac7 \\u0aa4\\u0acb \\u0aa4\\u0ac7 \\u0aaa\\u0acd\\u0ab0\\u0acb\\u0a9c\\u0ac7\\u0a95\\u0acd\\u0a9f \\u0ab5\\u0abf\\u0ab8\\u0acd\\u0aa4\\u0abe\\u0ab0\\u0aae\\u0abe\\u0a82 \\u0a97\\u0ac7\\u0ab0\\u0a95\\u0abe\\u0aaf\\u0aa6\\u0ac7 \\u0aac\\u0aa8\\u0abe\\u0ab5\\u0abe\\u0aaf\\u0ac7\\u0ab2\\u0abe \\u0aae\\u0a95\\u0abe\\u0aa8\\u0acb \\u0aa6\\u0ac2\\u0ab0 \\u0a95\\u0ab0\\u0ab5\\u0abe \\u0aaa\\u0aa1\\u0ac7 \\u0a85\\u0aa8\\u0ac7 \\u0aa4\\u0ac7\\u0aa8\\u0abe \\u0a85\\u0ab8\\u0ab0\\u0a97\\u0acd\\u0ab0\\u0ab8\\u0acd\\u0aa4\\u0acb\\u0aa8\\u0ac7 \\u0aae\\u0abe\\u0ab0\\u0acd\\u0a95\\u0ac7\\u0a9f\\u0abf\\u0a82\\u0a97\\u0aaf\\u0abe\\u0ab0\\u0acd\\u0aa1 \\u0aa8\\u0a9c\\u0ac0\\u0a95 \\u0ab9\\u0abe\\u0a89\\u0ab8\\u0abf\\u0a82\\u0a97 \\u0aac\\u0acb\\u0ab0\\u0acd\\u0aa1 \\u0aaa\\u0abe\\u0ab8\\u0ac7\\u0aa8\\u0ac0 \\u0a86\\u0a82\\u0aac\\u0abe\\u0ab5\\u0abe\\u0aa1\\u0ac0\\u0aae\\u0abe\\u0a82 \\u0a86\\u0ab5\\u0abe\\u0ab8 \\u0a86\\u0aaa\\u0ab5\\u0abe\\u0aa8\\u0acb \\u0aaa\\u0acd\\u0ab0\\u0acb\\u0a9c\\u0ac7\\u0a95\\u0acd\\u0a9f \\u0ab5\\u0ab0\\u0acd\\u0ab7 2016\\u0aae\\u0abe\\u0a82 \\u0aa4\\u0ac8\\u0aaf\\u0abe\\u0ab0 \\u0a95\\u0ab0\\u0ab5\\u0abe\\u0aae\\u0abe\\u0a82 \\u0a86\\u0ab5\\u0acd\\u0aaf\\u0acb \\u0ab9\\u0aa4\\u0acb \\u0a85\\u0aa8\\u0ac7 \\u0a86 \\u0aaa\\u0acd\\u0ab0\\u0acb\\u0a9c\\u0ac7\\u0a95\\u0acd\\u0a9f \\u0aae\\u0aa8\\u0aaa\\u0abe\\u0a8f \\u0ab8\\u0ab0\\u0a95\\u0abe\\u0ab0\\u0aae\\u0abe\\u0a82 \\u0aae\\u0acb\\u0a95\\u0ab2\\u0acd\\u0aaf\\u0acb \\u0ab9\\u0aa4\\u0acb. \\u0aae\\u0aa8\\u0aaa\\u0abe\\u0aa8\\u0abe \\u0a86 \\u0aaa\\u0acd\\u0ab0\\u0acb\\u0a9c\\u0ac7\\u0a95\\u0acd\\u0a9f\\u0aa8\\u0ac7 \\u0aae\\u0a82\\u0a9c\\u0ac2\\u0ab0\\u0ac0 \\u0a86\\u0aaa\\u0ab5\\u0abe\\u0aae\\u0abe\\u0a82 \\u0a86\\u0ab5\\u0ac0 \\u0ab9\\u0aa4\\u0ac0.\\u0aae\\u0aa8\\u0aaa\\u0abe\\u0a8f \\u0a95\\u0ab0\\u0acb\\u0aa1\\u0acb\\u0aa8\\u0abe \\u0a96\\u0ab0\\u0acd\\u0a9a\\u0ac7 \\u0aac\\u0aa8\\u0abe\\u0ab5\\u0ac7\\u0ab2 \\u0a86\\u0ab5\\u0abe\\u0ab8 \\u0ab9\\u0abe\\u0ab2\\u0aae\\u0abe\\u0a82 \\u0aa7\\u0ac2\\u0ab3 \\u0a96\\u0abe\\u0a87 \\u0ab0\\u0ab9\\u0acd\\u0aaf\\u0abe \\u0a9b\\u0ac7\\u0a86\\u0a82\\u0aac\\u0abe\\u0ab5\\u0abe\\u0aa1\\u0ac0\\u0aae\\u0abe\\u0a82 \\u0ab0\\u0ac2.6.91 \\u0a95\\u0ab0\\u0acb\\u0aa1\\u0aa8\\u0abe \\u0a96\\u0ab0\\u0acd\\u0a9a\\u0ac7 128 \\u0ab8\\u0acd\\u0aae\\u0abe\\u0ab0\\u0acd\\u0a9f \\u0a98\\u0ab0 \\u0aac\\u0aa8\\u0abe\\u0ab5\\u0ab5\\u0abe\\u0aa8\\u0ac0 \\u0a95\\u0abe\\u0aae\\u0a97\\u0ac0\\u0ab0\\u0ac0 \\u0ab6\\u0ab0\\u0ac2 \\u0a95\\u0ab0\\u0ab5\\u0abe\\u0aae\\u0abe\\u0a82 \\u0a86\\u0ab5\\u0ac0 \\u0ab9\\u0aa4\\u0ac0 \\u0a85\\u0aa8\\u0ac7 \\u0aa1\\u0abf\\u0ab8\\u0ac7\\u0aae\\u0acd\\u0aac\\u0ab0 2019\\u0aae\\u0abe\\u0a82 \\u0aa4\\u0aae\\u0abe\\u0aae 128 \\u0a86\\u0ab5\\u0abe\\u0ab8 \\u0aac\\u0aa8\\u0ac0\\u0aa8\\u0ac7 \\u0aa4\\u0ac8\\u0aaf\\u0abe\\u0ab0 \\u0aa5\\u0a87 \\u0a97\\u0aaf\\u0abe \\u0ab9\\u0aa4\\u0abe. \\u0a9c\\u0ac7 \\u0aaa\\u0acd\\u0ab0\\u0acb\\u0a9c\\u0ac7\\u0a95\\u0acd\\u0a9f \\u0aad\\u0ab5\\u0abf\\u0ab7\\u0acd\\u0aaf\\u0aae\\u0abe\\u0a82 \\u0a85\\u0aae\\u0ab2\\u0ac0 \\u0aac\\u0aa8\\u0ab6\\u0ac7 \\u0aa4\\u0ac7\\u0aa8\\u0ac1\\u0a82 \\u0a86\\u0a97\\u0acb\\u0aa4\\u0ab0\\u0ac1\\u0a82 \\u0a86\\u0aaf\\u0acb\\u0a9c\\u0aa8 \\u0a85\\u0ab2\\u0acd\\u0aaa\\u0aa8\\u0abe \\u0aae\\u0abf\\u0aa4\\u0acd\\u0ab0\\u0abe \\u0a85\\u0aa8\\u0ac7 \\u0aa4\\u0ac7\\u0aa8\\u0ac0 \\u0a9f\\u0ac0\\u0aae\\u0ac7 \\u0a95\\u0ab0\\u0acd\\u0aaf\\u0ac1\\u0a82 \\u0ab9\\u0aa4\\u0ac1\\u0a82 \\u0a85\\u0aa8\\u0ac7 \\u0ab8\\u0ab0\\u0a95\\u0abe\\u0ab0\\u0aa8\\u0ac0 6.91 \\u0a95\\u0ab0\\u0acb\\u0aa1\\u0aa8\\u0ac0 \\u0a97\\u0acd\\u0ab0\\u0abe\\u0aa8\\u0acd\\u0a9f \\u0aae\\u0ac7\\u0ab3\\u0ab5\\u0ac0 \\u0a86\\u0ab5\\u0abe\\u0ab8 \\u0aac\\u0aa8\\u0abe\\u0ab5\\u0ac0 \\u0aa6\\u0ac0\\u0aa7\\u0abe \\u0ab9\\u0aa4\\u0abe, \\u0aaa\\u0ab0\\u0a82\\u0aa4\\u0ac1 \\u0a86 \\u0a86\\u0ab5\\u0abe\\u0ab8 \\u0aac\\u0aa8\\u0ac0 \\u0a97\\u0aaf\\u0abe\\u0aa8\\u0abe \\u0a85\\u0aa2\\u0ac0 \\u0ab5\\u0ab0\\u0acd\\u0ab7 \\u0ab5\\u0abf\\u0aa4\\u0ac0 \\u0a97\\u0aaf\\u0abe \\u0ab9\\u0acb\\u0ab5\\u0abe \\u0a9b\\u0aa4\\u0abe\\u0a82 \\u0a86 \\u0a86\\u0ab5\\u0abe\\u0ab8\\u0aa8\\u0ac1\\u0a82 \\u0a8f\\u0a95 \\u0aaa\\u0aa3 \\u0a95\\u0acd\\u0ab5\\u0abe\\u0a9f\\u0ab0\\u0acd\\u0ab8 \\u0a95\\u0acb\\u0a87\\u0aa8\\u0ac7 \\u0aab\\u0abe\\u0ab3\\u0ab5\\u0ab5\\u0abe\\u0aae\\u0abe\\u0a82 \\u0a86\\u0ab5\\u0acd\\u0aaf\\u0ac1\\u0a82 \\u0aa8\\u0aa5\\u0ac0, \\u0a8f\\u0a9f\\u0ab2\\u0ac1\\u0a82 \\u0a9c \\u0aa8\\u0ab9\\u0ac0\\u0a82, \\u0a89\\u0aaa\\u0ab0\\u0acb\\u0a95\\u0acd\\u0aa4 \\u0a9a\\u0abe\\u0ab0\\u0ac7\\u0aaf \\u0ab8\\u0acd\\u0aa5\\u0ab3\\u0ac7 \\u0ab9\\u0a9c\\u0ac1 \\u0ab8\\u0ac1\\u0aa7\\u0ac0 \\u0aa1\\u0abf\\u0aae\\u0acb\\u0ab2\\u0abf\\u0ab6\\u0aa8 \\u0aaa\\u0aa3 \\u0a95\\u0ab0\\u0ab5\\u0abe\\u0aae\\u0abe\\u0a82 \\u0a86\\u0ab5\\u0acd\\u0aaf\\u0ac1\\u0a82 \\u0aa8\\u0aa5\\u0ac0.\\u0aae\\u0aa8\\u0aaa\\u0abe\\u0a8f \\u0a95\\u0ab0\\u0acb\\u0aa1\\u0acb\\u0aa8\\u0abe \\u0a96\\u0ab0\\u0acd\\u0a9a\\u0ac7 \\u0a86\\u0ab5\\u0abe\\u0ab8 \\u0aa4\\u0acb \\u0aac\\u0aa8\\u0abe\\u0ab5\\u0ac0 \\u0aa6\\u0ac0\\u0aa7\\u0abe \\u0aaa\\u0ab0\\u0a82\\u0aa4\\u0ac1 \\u0a95\\u0ab0\\u0acb\\u0aa1\\u0acb\\u0aa8\\u0abe \\u0a96\\u0ab0\\u0acd\\u0a9a\\u0ac7 \\u0aac\\u0aa8\\u0ac7\\u0ab2\\u0abe \\u0aa4\\u0ac7 \\u0a86\\u0ab5\\u0abe\\u0ab8 \\u0ab9\\u0abe\\u0ab2\\u0aae\\u0abe\\u0a82 \\u0aa7\\u0ac2\\u0ab3 \\u0a96\\u0abe\\u0a87 \\u0ab0\\u0ab9\\u0acd\\u0aaf\\u0abe \\u0a9b\\u0ac7, \\u0a85\\u0aa8\\u0ac7 \\u0ab9\\u0a9c\\u0ac1 \\u0aaa\\u0aa3 \\u0aa4\\u0ac7 \\u0aab\\u0abe\\u0ab3\\u0ab5\\u0ab5\\u0abe\\u0aae\\u0abe\\u0a82 \\u0aa8\\u0ab9\\u0ac0 \\u0a86\\u0ab5\\u0ac7 \\u0aa4\\u0acb \\u0a96\\u0ab0\\u0ac7\\u0a96\\u0ab0 \\u0aa1\\u0abf\\u0aae\\u0acb\\u0ab2\\u0abf\\u0ab6\\u0aa8 \\u0aa5\\u0ab6\\u0ac7 \\u0aa4\\u0acd\\u0aaf\\u0abe\\u0ab0\\u0ac7 \\u0aa4\\u0ac7 \\u0a86\\u0ab5\\u0abe\\u0ab8 \\u0ab0\\u0ab9\\u0ac7\\u0ab5\\u0abe\\u0ab2\\u0abe\\u0aaf\\u0a95 \\u0ab0\\u0ab9\\u0ac7\\u0ab6\\u0ac7 \\u0a95\\u0ac7 \\u0a95\\u0ac7\\u0aae \\u0aa4\\u0ac7 \\u0aaa\\u0aa3 \\u0a8f\\u0a95 \\u0aaa\\u0acd\\u0ab0\\u0ab6\\u0acd\\u0aa8 \\u0a9b\\u0ac7. \\u0a97\\u0acb\\u0a95\\u0ac1\\u0ab2\\u0aa8\\u0a97\\u0ab0 \\u0a86\\u0ab5\\u0abe\\u0ab8 \\u0aaf\\u0acb\\u0a9c\\u0aa8\\u0abe \\u0ab9\\u0abe\\u0ab2\\u0aae\\u0abe\\u0a82 \\u0ab6\\u0ab9\\u0ac7\\u0ab0\\u0aae\\u0abe\\u0a82 \\u0a9f\\u0acb\\u0a95 \\u0a93\\u0aab \\u0aa7 \\u0a9f\\u0abe\\u0a89\\u0aa8 \\u0aac\\u0aa8\\u0ac0 \\u0a9b\\u0ac7, \\u0aa4\\u0ac7\\u0aae\\u0abe\\u0a82 \\u0aaa\\u0aa3 \\u0a85\\u0ab2\\u0acd\\u0aaa\\u0aa8\\u0abe \\u0aae\\u0abf\\u0aa4\\u0acd\\u0ab0\\u0abe \\u0a85\\u0aa8\\u0ac7 \\u0aa4\\u0ac7\\u0aa8\\u0ac0 \\u0a9f\\u0ac0\\u0aae\\u0ac7 \\u0a95\\u0ab0\\u0ac7\\u0ab2\\u0abe \\u0a97\\u0acb\\u0ab0\\u0a96\\u0aa7\\u0a82\\u0aa7\\u0abe\\u0aa8\\u0acb \\u0a85\\u0a97\\u0abe\\u0a89 \\u0aa6\\u0abf\\u0ab5\\u0acd\\u0aaf \\u0aad\\u0abe\\u0ab8\\u0acd\\u0a95\\u0ab0\\u0ac7 \\u0aaa\\u0ab0\\u0acd\\u0aa6\\u0abe\\u0aab\\u0abe\\u0ab6 \\u0a95\\u0ab0\\u0acd\\u0aaf\\u0acb \\u0ab9\\u0aa4\\u0acb, \\u0aa4\\u0acd\\u0aaf\\u0abe\\u0ab0\\u0ac7 \\u0a86\\u0a82\\u0aac\\u0abe\\u0ab5\\u0abe\\u0aa1\\u0ac0\\u0aa8\\u0abe \\u0ab8\\u0acd\\u0aae\\u0abe\\u0ab0\\u0acd\\u0a9f \\u0a98\\u0ab0\\u0aae\\u0abe\\u0a82 \\u0aaa\\u0aa3 \\u0aaa\\u0acb\\u0aa4\\u0abe\\u0aa8\\u0acb \\u0a9c \\u0a87\\u0ab0\\u0abe\\u0aa6\\u0acb \\u0aaa\\u0abe\\u0ab0 \\u0aaa\\u0abe\\u0aa1\\u0ab5\\u0abe \\u0aac\\u0aa8\\u0abe\\u0ab5\\u0abe\\u0aaf\\u0abe\\u0aa8\\u0ac0 \\u0ab5\\u0abe\\u0aa4 \\u0ab6\\u0ab0\\u0ac2 \\u0aa5\\u0a87 \\u0a9b\\u0ac7, \\u0aae\\u0aa8\\u0aaa\\u0abe\\u0aa8\\u0abe \\u0ab9\\u0abe\\u0ab2\\u0aa8\\u0abe \\u0a85\\u0aa7\\u0abf\\u0a95\\u0abe\\u0ab0\\u0ac0\\u0a93 \\u0a9c\\u0acb \\u0a86 \\u0aae\\u0abe\\u0aae\\u0ab2\\u0ac7 \\u0a8a\\u0a82\\u0aa1\\u0abe\\u0aa3\\u0aaa\\u0ac2\\u0acd\\u0ab0\\u0acd\\u0ab5\\u0a95 \\u0aa4\\u0aaa\\u0abe\\u0ab8 \\u0a95\\u0ab0\\u0ab6\\u0ac7 \\u0aa4\\u0acb \\u0a86\\u0aa8\\u0acb \\u0ab0\\u0ac7\\u0ab2\\u0acb \\u0a85\\u0aa7\\u0abf\\u0a95\\u0abe\\u0ab0\\u0ac0\\u0a93 \\u0a85\\u0aa8\\u0ac7 \\u0aa4\\u0ac7 \\u0ab8\\u0aae\\u0aaf\\u0aa8\\u0abe \\u0aaa\\u0aa6\\u0abe\\u0aa7\\u0abf\\u0a95\\u0abe\\u0ab0\\u0ac0\\u0a93 \\u0ab8\\u0ac1\\u0aa7\\u0ac0 \\u0aaa\\u0ab9\\u0acb\\u0a82\\u0a9a\\u0ab5\\u0abe\\u0aa8\\u0abe \\u0aaa\\u0aa3 \\u0aa8\\u0abf\\u0ab0\\u0acd\\u0aa6\\u0ac7\\u0ab7\\u0acb \\u0aae\\u0ab3\\u0ac0 \\u0ab0\\u0ab9\\u0acd\\u0aaf\\u0abe \\u0a9b\\u0ac7.\"\n        ],\n        \"semantic_type\": \"\",\n        \"description\": \"\"\n      }\n    },\n    {\n      \"column\": \"Heading\",\n      \"properties\": {\n        \"dtype\": \"string\",\n        \"num_unique_values\": 8457,\n        \"samples\": [\n          \"\\u0ab5\\u0aa1\\u0acb\\u0aa6\\u0ab0\\u0abe: 19 \\u0ab5\\u0ab0\\u0acd\\u0ab7\\u0ac0\\u0aaf \\u0a86\\u0ab6\\u0abe\\u0ab8\\u0acd\\u0aaa\\u0aa6 \\u0aa8\\u0ac7\\u0ab6\\u0aa8\\u0ab2 \\u0aaa\\u0acd\\u0ab2\\u0ac7\\u0aaf\\u0ab0 \\u0ab8\\u0abe\\u0a95\\u0acd\\u0ab7\\u0ac0 \\u0ab0\\u0abe\\u0ab5\\u0ab2\\u0aa8\\u0ac1 \\u0aa1\\u0ac7\\u0a82\\u0a97\\u0acd\\u0aaf\\u0ac2\\u0aa5\\u0ac0 \\u0aae\\u0acb\\u0aa4\",\n          \"\\u0a95\\u0acb\\u0ab0\\u0acb\\u0aa8\\u0abe \\u0aa6\\u0ac1\\u0aa8\\u0abf\\u0aaf\\u0abe\\u0aae\\u0abe\\u0a82:\\u0a88\\u0a9f\\u0abe\\u0ab2\\u0ac0\\u0aae\\u0abe\\u0a82 \\u0a88\\u0aae\\u0ab0\\u0a9c\\u0aa8\\u0acd\\u0ab8\\u0ac0 31 \\u0a9c\\u0abe\\u0aa8\\u0acd\\u0aaf\\u0ac1\\u0a86\\u0ab0\\u0ac0 \\u0ab8\\u0ac1\\u0aa7\\u0ac0 \\u0ab5\\u0aa7\\u0abe\\u0ab0\\u0ab5\\u0abe\\u0aae\\u0abe\\u0a82 \\u0a86\\u0ab5\\u0acd\\u0aaf\\u0ac1\\u0a82; \\u0aa1\\u0aac\\u0acd\\u0ab2\\u0acd\\u0aaf\\u0ac2\\u0a8f\\u0a9a\\u0a93\\u0a8f \\u0a95\\u0ab9\\u0acd\\u0aaf\\u0ac1\\u0a82- \\u0ab5\\u0ac7\\u0a95\\u0acd\\u0ab8\\u0abf\\u0aa8 \\u0ab5\\u0ab0\\u0acd\\u0ab7\\u0aa8\\u0abe \\u0a85\\u0a82\\u0aa4 \\u0ab8\\u0ac1\\u0aa7\\u0ac0\\u0aae\\u0abe\\u0a82 \\u0aa4\\u0ac8\\u0aaf\\u0abe\\u0ab0 \\u0aa5\\u0a88 \\u0ab6\\u0a95\\u0ac7 \\u0a9b\\u0ac7; \\u0ab5\\u0abf\\u0ab6\\u0acd\\u0ab5\\u0aae\\u0abe\\u0a82 3.59 \\u0a95\\u0ab0\\u0acb\\u0aa1 \\u0a95\\u0ac7\\u0ab8\",\n          \"\\u0ab8\\u0ac1\\u0a86\\u0aaf\\u0acb\\u0a9c\\u0abf\\u0aa4 \\u0ab7\\u0aa1\\u0aaf\\u0a82\\u0aa4\\u0acd\\u0ab0\\u0aa8\\u0acb \\u0aaa\\u0ab0\\u0acd\\u0aa6\\u0abe\\u0aab\\u0abe\\u0ab6:\\u0aa1\\u0abf\\u0aae\\u0acb\\u0ab2\\u0abf\\u0ab6\\u0aa8 \\u0aa5\\u0abe\\u0aaf \\u0aa4\\u0acb \\u0a97\\u0ab0\\u0ac0\\u0aac \\u0aaa\\u0ab0\\u0abf\\u0ab5\\u0abe\\u0ab0 \\u0aac\\u0ac7\\u0a98\\u0ab0 \\u0aa8 \\u0aac\\u0aa8\\u0ac7 \\u0aa4\\u0ac7 \\u0aae\\u0abe\\u0a9f\\u0ac7 3 \\u0ab5\\u0ab0\\u0acd\\u0ab7 \\u0aaa\\u0ab9\\u0ac7\\u0ab2\\u0abe 6.91 \\u0a95\\u0ab0\\u0acb\\u0aa1\\u0aa8\\u0abe \\u0a96\\u0ab0\\u0acd\\u0a9a\\u0ac7 128 \\u0a86\\u0ab5\\u0abe\\u0ab8 \\u0aac\\u0aa8\\u0abe\\u0ab5\\u0acd\\u0aaf\\u0abe\\u0a82; \\u0aa8 \\u0aa1\\u0abf\\u0aae\\u0acb\\u0ab2\\u0abf\\u0ab6\\u0aa8 \\u0aa5\\u0aaf\\u0ac1\\u0a82 \\u0aa8 \\u0aab\\u0acd\\u0ab2\\u0ac7\\u0a9f \\u0aab\\u0abe\\u0ab3\\u0ab5\\u0abe\\u0aaf\\u0abe\"\n        ],\n        \"semantic_type\": \"\",\n        \"description\": \"\"\n      }\n    }\n  ]\n}"
            }
          },
          "metadata": {},
          "execution_count": 4
        }
      ]
    },
    {
      "cell_type": "code",
      "source": [
        "filePathTest = '/content/drive/MyDrive/Indic Language Dataset/Guj_val_article.csv'\n",
        "df_test = pd.read_csv(filePathTest)\n",
        "df_test = df_test[['Article']]\n",
        "df_test.head()"
      ],
      "metadata": {
        "colab": {
          "base_uri": "https://localhost:8080/"
        },
        "id": "dV4f-QXOzXrJ",
        "outputId": "7d221924-1516-42ce-b4c3-faf896006238"
      },
      "execution_count": null,
      "outputs": [
        {
          "output_type": "execute_result",
          "data": {
            "text/plain": [
              "                                             Article\n",
              "0   હર્મેશ સુખડિયા, અમદાવાદ: શહેરના કુખ્યાત ગુનેગ...\n",
              "1  રાજકોટ: ગુજરાતમાં ચૂંટણીનો (Gujarat Election 2...\n",
              "2  ભારતની અગ્રણી જ્વેલરી બ્રાન્ડ્સમાંની એક રિલાયન...\n",
              "3     કિર્તેશ પટેલ, સુરત : છેલ્લા કેટલાક દિવસથી ખ...\n",
              "4  vadodara news: શહેરનું આજનું લઘુતમ તાપમાન 16 ડ..."
            ],
            "text/html": [
              "\n",
              "  <div id=\"df-ad4b151a-ab7e-4961-b0c9-5224b875a4e9\" class=\"colab-df-container\">\n",
              "    <div>\n",
              "<style scoped>\n",
              "    .dataframe tbody tr th:only-of-type {\n",
              "        vertical-align: middle;\n",
              "    }\n",
              "\n",
              "    .dataframe tbody tr th {\n",
              "        vertical-align: top;\n",
              "    }\n",
              "\n",
              "    .dataframe thead th {\n",
              "        text-align: right;\n",
              "    }\n",
              "</style>\n",
              "<table border=\"1\" class=\"dataframe\">\n",
              "  <thead>\n",
              "    <tr style=\"text-align: right;\">\n",
              "      <th></th>\n",
              "      <th>Article</th>\n",
              "    </tr>\n",
              "  </thead>\n",
              "  <tbody>\n",
              "    <tr>\n",
              "      <th>0</th>\n",
              "      <td>હર્મેશ સુખડિયા, અમદાવાદ: શહેરના કુખ્યાત ગુનેગ...</td>\n",
              "    </tr>\n",
              "    <tr>\n",
              "      <th>1</th>\n",
              "      <td>રાજકોટ: ગુજરાતમાં ચૂંટણીનો (Gujarat Election 2...</td>\n",
              "    </tr>\n",
              "    <tr>\n",
              "      <th>2</th>\n",
              "      <td>ભારતની અગ્રણી જ્વેલરી બ્રાન્ડ્સમાંની એક રિલાયન...</td>\n",
              "    </tr>\n",
              "    <tr>\n",
              "      <th>3</th>\n",
              "      <td>કિર્તેશ પટેલ, સુરત : છેલ્લા કેટલાક દિવસથી ખ...</td>\n",
              "    </tr>\n",
              "    <tr>\n",
              "      <th>4</th>\n",
              "      <td>vadodara news: શહેરનું આજનું લઘુતમ તાપમાન 16 ડ...</td>\n",
              "    </tr>\n",
              "  </tbody>\n",
              "</table>\n",
              "</div>\n",
              "    <div class=\"colab-df-buttons\">\n",
              "\n",
              "  <div class=\"colab-df-container\">\n",
              "    <button class=\"colab-df-convert\" onclick=\"convertToInteractive('df-ad4b151a-ab7e-4961-b0c9-5224b875a4e9')\"\n",
              "            title=\"Convert this dataframe to an interactive table.\"\n",
              "            style=\"display:none;\">\n",
              "\n",
              "  <svg xmlns=\"http://www.w3.org/2000/svg\" height=\"24px\" viewBox=\"0 -960 960 960\">\n",
              "    <path d=\"M120-120v-720h720v720H120Zm60-500h600v-160H180v160Zm220 220h160v-160H400v160Zm0 220h160v-160H400v160ZM180-400h160v-160H180v160Zm440 0h160v-160H620v160ZM180-180h160v-160H180v160Zm440 0h160v-160H620v160Z\"/>\n",
              "  </svg>\n",
              "    </button>\n",
              "\n",
              "  <style>\n",
              "    .colab-df-container {\n",
              "      display:flex;\n",
              "      gap: 12px;\n",
              "    }\n",
              "\n",
              "    .colab-df-convert {\n",
              "      background-color: #E8F0FE;\n",
              "      border: none;\n",
              "      border-radius: 50%;\n",
              "      cursor: pointer;\n",
              "      display: none;\n",
              "      fill: #1967D2;\n",
              "      height: 32px;\n",
              "      padding: 0 0 0 0;\n",
              "      width: 32px;\n",
              "    }\n",
              "\n",
              "    .colab-df-convert:hover {\n",
              "      background-color: #E2EBFA;\n",
              "      box-shadow: 0px 1px 2px rgba(60, 64, 67, 0.3), 0px 1px 3px 1px rgba(60, 64, 67, 0.15);\n",
              "      fill: #174EA6;\n",
              "    }\n",
              "\n",
              "    .colab-df-buttons div {\n",
              "      margin-bottom: 4px;\n",
              "    }\n",
              "\n",
              "    [theme=dark] .colab-df-convert {\n",
              "      background-color: #3B4455;\n",
              "      fill: #D2E3FC;\n",
              "    }\n",
              "\n",
              "    [theme=dark] .colab-df-convert:hover {\n",
              "      background-color: #434B5C;\n",
              "      box-shadow: 0px 1px 3px 1px rgba(0, 0, 0, 0.15);\n",
              "      filter: drop-shadow(0px 1px 2px rgba(0, 0, 0, 0.3));\n",
              "      fill: #FFFFFF;\n",
              "    }\n",
              "  </style>\n",
              "\n",
              "    <script>\n",
              "      const buttonEl =\n",
              "        document.querySelector('#df-ad4b151a-ab7e-4961-b0c9-5224b875a4e9 button.colab-df-convert');\n",
              "      buttonEl.style.display =\n",
              "        google.colab.kernel.accessAllowed ? 'block' : 'none';\n",
              "\n",
              "      async function convertToInteractive(key) {\n",
              "        const element = document.querySelector('#df-ad4b151a-ab7e-4961-b0c9-5224b875a4e9');\n",
              "        const dataTable =\n",
              "          await google.colab.kernel.invokeFunction('convertToInteractive',\n",
              "                                                    [key], {});\n",
              "        if (!dataTable) return;\n",
              "\n",
              "        const docLinkHtml = 'Like what you see? Visit the ' +\n",
              "          '<a target=\"_blank\" href=https://colab.research.google.com/notebooks/data_table.ipynb>data table notebook</a>'\n",
              "          + ' to learn more about interactive tables.';\n",
              "        element.innerHTML = '';\n",
              "        dataTable['output_type'] = 'display_data';\n",
              "        await google.colab.output.renderOutput(dataTable, element);\n",
              "        const docLink = document.createElement('div');\n",
              "        docLink.innerHTML = docLinkHtml;\n",
              "        element.appendChild(docLink);\n",
              "      }\n",
              "    </script>\n",
              "  </div>\n",
              "\n",
              "\n",
              "<div id=\"df-2271c5b6-9df3-4d61-bf0b-8835cb2dc827\">\n",
              "  <button class=\"colab-df-quickchart\" onclick=\"quickchart('df-2271c5b6-9df3-4d61-bf0b-8835cb2dc827')\"\n",
              "            title=\"Suggest charts\"\n",
              "            style=\"display:none;\">\n",
              "\n",
              "<svg xmlns=\"http://www.w3.org/2000/svg\" height=\"24px\"viewBox=\"0 0 24 24\"\n",
              "     width=\"24px\">\n",
              "    <g>\n",
              "        <path d=\"M19 3H5c-1.1 0-2 .9-2 2v14c0 1.1.9 2 2 2h14c1.1 0 2-.9 2-2V5c0-1.1-.9-2-2-2zM9 17H7v-7h2v7zm4 0h-2V7h2v10zm4 0h-2v-4h2v4z\"/>\n",
              "    </g>\n",
              "</svg>\n",
              "  </button>\n",
              "\n",
              "<style>\n",
              "  .colab-df-quickchart {\n",
              "      --bg-color: #E8F0FE;\n",
              "      --fill-color: #1967D2;\n",
              "      --hover-bg-color: #E2EBFA;\n",
              "      --hover-fill-color: #174EA6;\n",
              "      --disabled-fill-color: #AAA;\n",
              "      --disabled-bg-color: #DDD;\n",
              "  }\n",
              "\n",
              "  [theme=dark] .colab-df-quickchart {\n",
              "      --bg-color: #3B4455;\n",
              "      --fill-color: #D2E3FC;\n",
              "      --hover-bg-color: #434B5C;\n",
              "      --hover-fill-color: #FFFFFF;\n",
              "      --disabled-bg-color: #3B4455;\n",
              "      --disabled-fill-color: #666;\n",
              "  }\n",
              "\n",
              "  .colab-df-quickchart {\n",
              "    background-color: var(--bg-color);\n",
              "    border: none;\n",
              "    border-radius: 50%;\n",
              "    cursor: pointer;\n",
              "    display: none;\n",
              "    fill: var(--fill-color);\n",
              "    height: 32px;\n",
              "    padding: 0;\n",
              "    width: 32px;\n",
              "  }\n",
              "\n",
              "  .colab-df-quickchart:hover {\n",
              "    background-color: var(--hover-bg-color);\n",
              "    box-shadow: 0 1px 2px rgba(60, 64, 67, 0.3), 0 1px 3px 1px rgba(60, 64, 67, 0.15);\n",
              "    fill: var(--button-hover-fill-color);\n",
              "  }\n",
              "\n",
              "  .colab-df-quickchart-complete:disabled,\n",
              "  .colab-df-quickchart-complete:disabled:hover {\n",
              "    background-color: var(--disabled-bg-color);\n",
              "    fill: var(--disabled-fill-color);\n",
              "    box-shadow: none;\n",
              "  }\n",
              "\n",
              "  .colab-df-spinner {\n",
              "    border: 2px solid var(--fill-color);\n",
              "    border-color: transparent;\n",
              "    border-bottom-color: var(--fill-color);\n",
              "    animation:\n",
              "      spin 1s steps(1) infinite;\n",
              "  }\n",
              "\n",
              "  @keyframes spin {\n",
              "    0% {\n",
              "      border-color: transparent;\n",
              "      border-bottom-color: var(--fill-color);\n",
              "      border-left-color: var(--fill-color);\n",
              "    }\n",
              "    20% {\n",
              "      border-color: transparent;\n",
              "      border-left-color: var(--fill-color);\n",
              "      border-top-color: var(--fill-color);\n",
              "    }\n",
              "    30% {\n",
              "      border-color: transparent;\n",
              "      border-left-color: var(--fill-color);\n",
              "      border-top-color: var(--fill-color);\n",
              "      border-right-color: var(--fill-color);\n",
              "    }\n",
              "    40% {\n",
              "      border-color: transparent;\n",
              "      border-right-color: var(--fill-color);\n",
              "      border-top-color: var(--fill-color);\n",
              "    }\n",
              "    60% {\n",
              "      border-color: transparent;\n",
              "      border-right-color: var(--fill-color);\n",
              "    }\n",
              "    80% {\n",
              "      border-color: transparent;\n",
              "      border-right-color: var(--fill-color);\n",
              "      border-bottom-color: var(--fill-color);\n",
              "    }\n",
              "    90% {\n",
              "      border-color: transparent;\n",
              "      border-bottom-color: var(--fill-color);\n",
              "    }\n",
              "  }\n",
              "</style>\n",
              "\n",
              "  <script>\n",
              "    async function quickchart(key) {\n",
              "      const quickchartButtonEl =\n",
              "        document.querySelector('#' + key + ' button');\n",
              "      quickchartButtonEl.disabled = true;  // To prevent multiple clicks.\n",
              "      quickchartButtonEl.classList.add('colab-df-spinner');\n",
              "      try {\n",
              "        const charts = await google.colab.kernel.invokeFunction(\n",
              "            'suggestCharts', [key], {});\n",
              "      } catch (error) {\n",
              "        console.error('Error during call to suggestCharts:', error);\n",
              "      }\n",
              "      quickchartButtonEl.classList.remove('colab-df-spinner');\n",
              "      quickchartButtonEl.classList.add('colab-df-quickchart-complete');\n",
              "    }\n",
              "    (() => {\n",
              "      let quickchartButtonEl =\n",
              "        document.querySelector('#df-2271c5b6-9df3-4d61-bf0b-8835cb2dc827 button');\n",
              "      quickchartButtonEl.style.display =\n",
              "        google.colab.kernel.accessAllowed ? 'block' : 'none';\n",
              "    })();\n",
              "  </script>\n",
              "</div>\n",
              "\n",
              "    </div>\n",
              "  </div>\n"
            ],
            "application/vnd.google.colaboratory.intrinsic+json": {
              "type": "dataframe",
              "variable_name": "df_test",
              "summary": "{\n  \"name\": \"df_test\",\n  \"rows\": 605,\n  \"fields\": [\n    {\n      \"column\": \"Article\",\n      \"properties\": {\n        \"dtype\": \"string\",\n        \"num_unique_values\": 605,\n        \"samples\": [\n          \"\\u0aa6\\u0ac7\\u0ab6\\u0aae\\u0abe\\u0a82 \\u0a95\\u0acb\\u0ab0\\u0acb\\u0aa8\\u0abe \\u0a9f\\u0ac7\\u0ab8\\u0acd\\u0a9f\\u0abf\\u0a82\\u0a97\\u0aa8\\u0acb \\u0a86\\u0a82\\u0a95\\u0aa1\\u0acb 7 \\u0a95\\u0ab0\\u0acb\\u0aa1\\u0aa8\\u0ac7 \\u0aaa\\u0abe\\u0ab0 \\u0aa5\\u0a88 \\u0a97\\u0aaf\\u0acb \\u0a9a\\u0ac7. \\u0a85\\u0aa4\\u0acd\\u0aaf\\u0abe\\u0ab0 \\u0ab8\\u0ac1\\u0aa7\\u0ac0\\u0aae\\u0abe\\u0a82 7 \\u0a95\\u0ab0\\u0acb\\u0aa1 12 \\u0ab2\\u0abe\\u0a96\\u0aa5\\u0ac0 \\u0ab5\\u0aa7\\u0abe\\u0ab0\\u0ac7 \\u0ab2\\u0acb\\u0a95\\u0acb\\u0aa8\\u0ac0 \\u0aa4\\u0aaa\\u0abe\\u0ab8 \\u0aa5\\u0a88 \\u0a9a\\u0ac1\\u0a95\\u0ac0 \\u0a9b\\u0ac7. \\u0a86 \\u0aaa\\u0ac8\\u0a95\\u0ac0 8.33 \\u0a9f\\u0a95\\u0abe \\u0a8f\\u0a9f\\u0ab2\\u0ac7 \\u0a95\\u0ac7 59 \\u0ab2\\u0abe\\u0a96 37 \\u0ab9\\u0a9c\\u0abe\\u0ab0 589 \\u0ab2\\u0acb\\u0a95\\u0acb \\u0ab8\\u0a82\\u0a95\\u0acd\\u0ab0\\u0aae\\u0abf\\u0aa4 \\u0aae\\u0ab3\\u0acd\\u0aaf\\u0abe \\u0a9b\\u0ac7. \\u0aaa\\u0acd\\u0ab0\\u0aa4\\u0acd\\u0aaf\\u0ac7\\u0a95 10 \\u0ab2\\u0abe\\u0a96\\u0aa8\\u0ac0 \\u0ab5\\u0ab8\\u0acd\\u0aa4\\u0ac0\\u0aae\\u0abe\\u0a82 50 \\u0ab9\\u0a9c\\u0abe\\u0ab0 803 \\u0ab2\\u0acb\\u0a95\\u0acb\\u0aa8\\u0ac0 \\u0aa4\\u0aaa\\u0abe\\u0ab8 \\u0aa5\\u0a88 \\u0ab0\\u0ab9\\u0ac0 \\u0a9b\\u0ac7. \\u0a86 \\u0aaa\\u0ac8\\u0a95\\u0ac0 4,200 \\u0ab2\\u0acb\\u0a95\\u0acb \\u0aaa\\u0acb\\u0a9d\\u0abf\\u0a9f\\u0abf\\u0ab5 \\u0a9c\\u0aa3\\u0abe\\u0aaf\\u0abe \\u0a9b\\u0ac7.\\u0ab8\\u0aaa\\u0acd\\u0a9f\\u0ac7\\u0aae\\u0acd\\u0aac\\u0ab0\\u0aa8\\u0abe \\u0a86 26 \\u0aa6\\u0abf\\u0ab5\\u0ab8\\u0aae\\u0abe\\u0a82 \\u0ab8\\u0acc\\u0aa5\\u0ac0 \\u0ab5\\u0aa7\\u0abe\\u0ab0\\u0ac7 \\u0aa4\\u0aaa\\u0abe\\u0ab8 \\u0aa5\\u0a88 \\u0a9b\\u0ac7. \\u0a86 \\u0ab8\\u0aae\\u0aaf\\u0aae\\u0abe\\u0a82 2.70 \\u0a95\\u0ab0\\u0acb\\u0aa1 \\u0ab2\\u0acb\\u0a95\\u0acb\\u0aa8\\u0abe \\u0a9f\\u0ac7\\u0ab8\\u0acd\\u0a9f \\u0aa5\\u0aaf\\u0abe \\u0a9b\\u0ac7 \\u0a85\\u0aa8\\u0ac7 \\u0aa4\\u0ac7 \\u0aaa\\u0ac8\\u0a95\\u0ac0 22.92 \\u0ab2\\u0abe\\u0a96 \\u0ab2\\u0acb\\u0a95\\u0acb \\u0ab8\\u0a82\\u0a95\\u0acd\\u0ab0\\u0aae\\u0abf\\u0aa4 \\u0aa5\\u0aaf\\u0abe \\u0a9b\\u0ac7. \\u0a86 \\u0a85\\u0a97\\u0abe\\u0a89 \\u0a93\\u0a97\\u0ab8\\u0acd\\u0a9f\\u0aae\\u0abe\\u0a82 2.39 \\u0a95\\u0ab0\\u0acb\\u0aa1 \\u0ab2\\u0acb\\u0a95\\u0acb\\u0aa8\\u0ac0 \\u0aa4\\u0aaa\\u0abe\\u0ab8 \\u0aa5\\u0a88 \\u0ab9\\u0aa4\\u0ac0 \\u0a85\\u0aa8\\u0ac7 \\u0aa4\\u0ac7 \\u0aaa\\u0ac8\\u0a95\\u0ac0 19.90 \\u0ab2\\u0abe\\u0a96 \\u0aa6\\u0ab0\\u0acd\\u0aa6\\u0ac0 \\u0aae\\u0ab3\\u0acd\\u0aaf\\u0abe \\u0ab9\\u0aa4\\u0abe.\\u0ab0\\u0abe\\u0ab9\\u0aa4\\u0aa8\\u0ac0 \\u0ab5\\u0abe\\u0aa4 \\u0a8f \\u0a9b\\u0ac7 \\u0a95\\u0ac7 \\u0a95\\u0ac1\\u0ab2 \\u0ab8\\u0a82\\u0a95\\u0acd\\u0ab0\\u0aae\\u0abf\\u0aa4\\u0acb\\u0aae\\u0abe\\u0a82 48 \\u0ab2\\u0abe\\u0a96 80 \\u0ab9\\u0a9c\\u0abe\\u0ab0 262 \\u0ab2\\u0acb\\u0a95\\u0acb \\u0ab8\\u0abe\\u0a9c\\u0abe \\u0aa5\\u0aaf\\u0abe \\u0a9b\\u0ac7. \\u0a85\\u0aa4\\u0acd\\u0aaf\\u0abe\\u0ab0 \\u0ab8\\u0ac1\\u0aa7\\u0ac0\\u0aae\\u0abe\\u0a82 9 \\u0ab2\\u0abe\\u0a96 63 \\u0ab9\\u0a9c\\u0abe\\u0ab0 779 \\u0aa6\\u0ab0\\u0acd\\u0aa6\\u0ac0\\u0aa8\\u0acb \\u0a88\\u0ab2\\u0abe\\u0a9c \\u0a9a\\u0abe\\u0ab2\\u0ac0 \\u0ab0\\u0ab9\\u0acd\\u0aaf\\u0acb \\u0a9b\\u0ac7. \\u0a9c\\u0acd\\u0aaf\\u0abe\\u0ab0\\u0ac7 93 \\u0ab9\\u0a9c\\u0abe\\u0ab0 724 \\u0ab2\\u0acb\\u0a95\\u0acb\\u0aa8\\u0abe \\u0a9c\\u0ac0\\u0ab5 \\u0a97\\u0aaf\\u0abe \\u0a9b\\u0ac7.\\u0a85\\u0aa6\\u0abe\\u0ab0 \\u0aaa\\u0ac2\\u0aa8\\u0abe\\u0ab5\\u0abe\\u0ab2\\u0abe\\u0a8f \\u0a95\\u0ac7\\u0aa8\\u0acd\\u0aa6\\u0acd\\u0ab0 \\u0ab8\\u0ab0\\u0a95\\u0abe\\u0ab0\\u0aa8\\u0ac7 \\u0aaa\\u0ac2\\u0a9b\\u0acd\\u0aaf\\u0ac1\\u0a82- \\u0ab5\\u0ac7\\u0a95\\u0acd\\u0ab8\\u0ac0\\u0aa8 \\u0aae\\u0abe\\u0a9f\\u0ac7 \\u0ab6\\u0ac1 80 \\u0ab9\\u0a9c\\u0abe\\u0ab0 \\u0a95\\u0ab0\\u0acb\\u0aa1 \\u0ab0\\u0ac2\\u0aaa\\u0abf\\u0aaf\\u0abe \\u0a9b\\u0ac7?\\u0ab8\\u0ac0\\u0ab0\\u0aae \\u0a88\\u0aa8\\u0acd\\u0ab8\\u0acd\\u0a9f\\u0abf\\u0a9f\\u0acd\\u0aaf\\u0ac1\\u0a9f \\u0a93\\u0aab \\u0a88\\u0aa8\\u0acd\\u0aa1\\u0abf\\u0aaf\\u0abe\\u0aa8\\u0abe CEO \\u0a85\\u0aa6\\u0abe\\u0ab0 \\u0aaa\\u0ac1\\u0aa8\\u0abe\\u0ab5\\u0abe\\u0ab2\\u0abe\\u0a8f \\u0a95\\u0acb\\u0ab0\\u0acb\\u0aa8\\u0abe \\u0ab5\\u0ac7\\u0a95\\u0acd\\u0ab8\\u0ac0\\u0aa8\\u0aa8\\u0ac7 \\u0ab2\\u0a88 \\u0ab6\\u0aa8\\u0abf\\u0ab5\\u0abe\\u0ab0\\u0ac7 \\u0a95\\u0ac7\\u0aa8\\u0acd\\u0aa6\\u0acd\\u0ab0 \\u0ab8\\u0ab0\\u0a95\\u0abe\\u0ab0\\u0aa8\\u0ac7 \\u0aaa\\u0acd\\u0ab0\\u0ab6\\u0acd\\u0aa8 \\u0a95\\u0ab0\\u0acd\\u0aaf\\u0acb \\u0a9b\\u0ac7. \\u0aa4\\u0ac7\\u0aae\\u0aa3\\u0ac7 \\u0a9f\\u0acd\\u0ab5\\u0abf\\u0a9f \\u0a95\\u0ab0\\u0acd\\u0aaf\\u0ac1\\u0a82 \\u0a9b\\u0ac7 \\u0a95\\u0ac7 \\u0ab6\\u0ac1 \\u0a95\\u0ac7\\u0aa8\\u0acd\\u0aa6\\u0acd\\u0ab0 \\u0ab8\\u0ab0\\u0a95\\u0abe\\u0ab0 \\u0aaa\\u0abe\\u0ab8\\u0ac7 \\u0a95\\u0acb\\u0ab5\\u0abf\\u0aa1-19 \\u0ab5\\u0ac7\\u0a95\\u0acd\\u0ab8\\u0ac0\\u0aa8 \\u0a96\\u0ab0\\u0ac0\\u0aa6\\u0ab5\\u0abe \\u0a85\\u0aa8\\u0ac7 \\u0ab5\\u0abf\\u0aa4\\u0ab0\\u0aa3 \\u0a95\\u0ab0\\u0ab5\\u0abe \\u0aae\\u0abe\\u0a9f\\u0ac7 \\u0a86\\u0a97\\u0abe\\u0aae\\u0ac0 \\u0a8f\\u0a95 \\u0ab5\\u0ab0\\u0acd\\u0ab7\\u0aae\\u0abe\\u0a82 80 \\u0ab9\\u0a9c\\u0abe\\u0ab0 \\u0a95\\u0ab0\\u0acb\\u0aa1 \\u0ab0\\u0ac2\\u0aaa\\u0abf\\u0aaf\\u0abe \\u0a96\\u0ab0\\u0acd\\u0a9a \\u0a95\\u0ab0\\u0ab5\\u0abe \\u0aae\\u0abe\\u0a9f\\u0ac7 \\u0a9b\\u0ac7?\\u0aaa\\u0ac2\\u0aa8\\u0abe\\u0ab5\\u0abe\\u0ab2\\u0abe\\u0a8f \\u0ab2\\u0a96\\u0acd\\u0aaf\\u0ac1- \\u0a86 \\u0aaa\\u0acd\\u0ab0\\u0ab6\\u0acd\\u0aa8 \\u0a8f\\u0a9f\\u0ab2\\u0abe \\u0aae\\u0abe\\u0a9f\\u0ac7 \\u0a95\\u0abe\\u0ab0\\u0aa3 \\u0a95\\u0ac7 \\u0aad\\u0abe\\u0ab0\\u0aa4\\u0aae\\u0abe\\u0a82 \\u0ab8\\u0acc\\u0aa8\\u0ac7 \\u0aae\\u0abe\\u0a9f\\u0ac7 \\u0ab5\\u0ac7\\u0a95\\u0acd\\u0ab8\\u0ac0\\u0aa8 \\u0a96\\u0ab0\\u0ac0\\u0aa6\\u0ab5\\u0abe \\u0aa4\\u0aa5\\u0abe \\u0aa4\\u0ac7\\u0aa8\\u0ac1\\u0a82 \\u0ab5\\u0abf\\u0aa4\\u0ab0\\u0aa3 \\u0a95\\u0ab0\\u0ab5\\u0abe \\u0aae\\u0abe\\u0a9f\\u0ac7 \\u0ab8\\u0acd\\u0ab5\\u0abe\\u0ab8\\u0acd\\u0aa5\\u0acd\\u0aaf \\u0aae\\u0a82\\u0aa4\\u0acd\\u0ab0\\u0abe\\u0ab2\\u0aaf\\u0ac7 \\u0a86\\u0a9f\\u0ab2\\u0ac0 \\u0ab0\\u0a95\\u0aae\\u0aa8\\u0ac0 \\u0a9c\\u0ab0\\u0ac2\\u0ab0 \\u0aaa\\u0aa1\\u0ab6\\u0ac7. \\u0aaa\\u0ac2\\u0aa8\\u0abe\\u0ab5\\u0abe\\u0ab2\\u0abe\\u0a8f PMO\\u0aa8\\u0ac7 \\u0a9f\\u0ac7\\u0a97 \\u0a95\\u0ab0\\u0acd\\u0aaf\\u0ac1\\u0a82 \\u0a85\\u0aa8\\u0ac7 \\u0ab2\\u0a96\\u0acd\\u0aaf\\u0ac1 \\u0a86 \\u0a8f\\u0a95 \\u0aae\\u0acb\\u0a9f\\u0acb \\u0aaa\\u0aa1\\u0a95\\u0abe\\u0ab0 \\u0a9b\\u0ac7, \\u0a9c\\u0ac7\\u0aa8\\u0acb \\u0ab8\\u0abe\\u0aae\\u0aa8\\u0acb \\u0a95\\u0ab0\\u0ab5\\u0acb \\u0aaa\\u0aa1\\u0ab6\\u0ac7.\\u0aa6\\u0ac7\\u0ab6\\u0aae\\u0abe\\u0a82 \\u0a85\\u0aa4\\u0acd\\u0aaf\\u0abe\\u0ab0 \\u0ab8\\u0ac1\\u0aa7\\u0ac0\\u0aae\\u0abe\\u0a82 59 \\u0ab2\\u0abe\\u0a96 4 \\u0ab9\\u0a9c\\u0abe\\u0ab0 392 \\u0ab2\\u0acb\\u0a95\\u0acb \\u0ab8\\u0a82\\u0a95\\u0acd\\u0ab0\\u0aae\\u0abf\\u0aa4 \\u0aa5\\u0aaf\\u0abe \\u0a9b\\u0ac7. \\u0a9c\\u0ac7\\u0aae\\u0abe\\u0a82\\u0aa5\\u0ac0 48 \\u0ab2\\u0abe\\u0a96 49 \\u0ab9\\u0a9c\\u0abe\\u0ab0 114 \\u0ab2\\u0acb\\u0a95\\u0acb \\u0ab8\\u0abe\\u0a9c\\u0abe \\u0aa5\\u0a88 \\u0a9a\\u0ac1\\u0a95\\u0acd\\u0aaf\\u0abe \\u0a9b\\u0ac7, \\u0a9c\\u0acd\\u0aaf\\u0abe\\u0ab0\\u0ac7 93 \\u0ab9\\u0a9c\\u0abe\\u0ab0 424 \\u0aa6\\u0ab0\\u0acd\\u0aa6\\u0ac0\\u0a93\\u0aa8\\u0abe \\u0aae\\u0acb\\u0aa4 \\u0aa5\\u0aaf\\u0abe \\u0a9b\\u0ac7. \\u0a86 \\u0a86\\u0a82\\u0a95\\u0aa1\\u0abe covid19india.org \\u0ab5\\u0ac7\\u0aac\\u0ab8\\u0abe\\u0a88\\u0a9f\\u0aa8\\u0abe \\u0a9c\\u0aa3\\u0abe\\u0ab5\\u0acd\\u0aaf\\u0abe \\u0aaa\\u0acd\\u0ab0\\u0aae\\u0abe\\u0aa3\\u0ac7 \\u0a9b\\u0ac7.\\u0a95\\u0acb\\u0ab0\\u0acb\\u0aa8\\u0abe \\u0a85\\u0aaa\\u0aa1\\u0ac7\\u0a9f\\u0acd\\u0ab8\\u0aaa\\u0abe\\u0a82\\u0a9a \\u0ab0\\u0abe\\u0a9c\\u0acd\\u0aaf\\u0acb\\u0aa8\\u0ac0 \\u0ab8\\u0acd\\u0aa5\\u0abf\\u0aa4\\u0abf1. \\u0aae\\u0aa7\\u0acd\\u0aaf\\u0aaa\\u0acd\\u0ab0\\u0aa6\\u0ac7\\u0ab6\\u0ab0\\u0abe\\u0a9c\\u0acd\\u0aaf\\u0aae\\u0abe\\u0a82 \\u0aae\\u0abe\\u0ab8\\u0acd\\u0a95 \\u0ab5\\u0a97\\u0ab0 \\u0aab\\u0ab0\\u0aa4\\u0abe \\u0ab2\\u0acb\\u0a95\\u0acb \\u0aaa\\u0ab0 \\u0a95\\u0aa1\\u0a95 \\u0ab5\\u0ab2\\u0aa3 \\u0a85\\u0aaa\\u0aa8\\u0abe\\u0ab5\\u0ab5\\u0abe\\u0aa8\\u0ac1\\u0a82 \\u0ab6\\u0ab0\\u0ac2 \\u0aa5\\u0a88 \\u0a97\\u0aaf\\u0ac1\\u0a82 \\u0a9b\\u0ac7, \\u0a9c\\u0ac7\\u0aa8\\u0ac0 \\u0a85\\u0ab8\\u0ab0 \\u0aad\\u0acb\\u0aaa\\u0abe\\u0ab2\\u0aa8\\u0ac0 \\u0a9c\\u0abf\\u0ab2\\u0acd\\u0ab2\\u0abe \\u0a95\\u0acb\\u0ab0\\u0acd\\u0a9f\\u0aae\\u0abe\\u0a82 \\u0ab6\\u0ac1\\u0a95\\u0acd\\u0ab0\\u0ab5\\u0abe\\u0ab0\\u0ac7 \\u0a9c\\u0acb\\u0ab5\\u0abe \\u0aae\\u0ab3\\u0ac0 \\u0ab9\\u0aa4\\u0ac0. \\u0a85\\u0ab9\\u0ac0\\u0a82\\u0aaf\\u0abe \\u0aaa\\u0acb\\u0ab2\\u0ac0\\u0ab8\\u0ac7 \\u0a95\\u0ac7\\u0aae\\u0acd\\u0aaa\\u0ab8\\u0aae\\u0abe\\u0a82 \\u0aae\\u0abe\\u0ab8\\u0acd\\u0a95 \\u0aa8 \\u0aaa\\u0ab9\\u0ac7\\u0ab0\\u0aa8\\u0abe\\u0ab0 \\u0aaa\\u0abe\\u0a82\\u0a9a \\u0ab2\\u0acb\\u0a95\\u0acb \\u0aaa\\u0ab0 500-500 \\u0ab0\\u0ac2\\u0aaa\\u0abf\\u0aaf\\u0abe\\u0aa8\\u0acb \\u0aa6\\u0a82\\u0aa1 \\u0aab\\u0a9f\\u0a95\\u0abe\\u0ab0\\u0acd\\u0aaf\\u0acb \\u0a9b\\u0ac7. \\u0ab6\\u0ac1\\u0a95\\u0acd\\u0ab0\\u0ab5\\u0abe\\u0ab0\\u0ac7 \\u0a8f\\u0aae\\u0aaa\\u0ac0 \\u0aa8\\u0a97\\u0ab0 \\u0aaa\\u0acb\\u0ab2\\u0ac0\\u0ab8\\u0ac7 \\u0aaa\\u0aa3 10 \\u0ab2\\u0acb\\u0a95\\u0acb \\u0ab5\\u0abf\\u0ab0\\u0ac1\\u0aa6\\u0acd\\u0aa7 \\u0aae\\u0abe\\u0ab8\\u0acd\\u0a95 \\u0aa8 \\u0aaa\\u0ab9\\u0ac7\\u0ab0\\u0ab5\\u0abe \\u0a85\\u0a82\\u0a97\\u0ac7 \\u0a95\\u0abe\\u0ab0\\u0acd\\u0aaf\\u0ab5\\u0abe\\u0ab9\\u0ac0 \\u0a95\\u0ab0\\u0ac0 \\u0ab9\\u0aa4\\u0ac0.2. \\u0ab0\\u0abe\\u0a9c\\u0ab8\\u0acd\\u0aa5\\u0abe\\u0aa8\\u0ab6\\u0ac1\\u0a95\\u0acd\\u0ab0\\u0ab5\\u0abe\\u0ab0\\u0ac7 \\u0a95\\u0acb\\u0ab0\\u0acb\\u0aa8\\u0abe\\u0aa8\\u0abe \\u0ab8\\u0acc\\u0aa5\\u0ac0 \\u0ab5\\u0aa7\\u0ac1 2010 \\u0aa8\\u0ab5\\u0abe \\u0a95\\u0ac7\\u0ab8 \\u0ab8\\u0abe\\u0aae\\u0ac7 \\u0a86\\u0ab5\\u0acd\\u0aaf\\u0abe \\u0ab9\\u0aa4\\u0abe. 15 \\u0aa6\\u0ab0\\u0acd\\u0aa6\\u0ac0\\u0a93\\u0aa8\\u0abe \\u0aae\\u0acb\\u0aa4 \\u0aa5\\u0aaf\\u0abe \\u0a9b\\u0ac7. \\u0a85\\u0ab9\\u0ac0\\u0a82\\u0aaf\\u0abe \\u0a85\\u0aa4\\u0acd\\u0aaf\\u0abe\\u0ab0 \\u0ab8\\u0ac1\\u0aa7\\u0ac0 1 \\u0ab2\\u0abe\\u0a96 24 \\u0ab9\\u0a9c\\u0abe\\u0ab0 730 \\u0a95\\u0ac7\\u0ab8 \\u0aa8\\u0acb\\u0a82\\u0aa7\\u0abe\\u0aaf\\u0abe \\u0a9b\\u0ac7, 1 \\u0ab2\\u0abe\\u0a96 4 \\u0ab9\\u0a9c\\u0abe\\u0ab0 288 \\u0ab8\\u0a82\\u0a95\\u0acd\\u0ab0\\u0aae\\u0abf\\u0aa4 \\u0ab8\\u0abe\\u0a9c\\u0abe \\u0aa5\\u0a88 \\u0a9a\\u0ac1\\u0a95\\u0acd\\u0aaf\\u0abe \\u0a9b\\u0ac7, 1412\\u0aa8\\u0abe \\u0aae\\u0acb\\u0aa4 \\u0aa5\\u0aaf\\u0abe \\u0a9b\\u0ac7. 19 \\u0ab9\\u0a9c\\u0abe\\u0ab0 30 \\u0aa6\\u0ab0\\u0acd\\u0aa6\\u0ac0\\u0a93\\u0aa8\\u0ac0 \\u0ab8\\u0abe\\u0ab0\\u0ab5\\u0abe\\u0ab0 \\u0a9a\\u0abe\\u0ab2\\u0ac0 \\u0ab0\\u0ab9\\u0ac0 \\u0a9b\\u0ac7. \\u0a85\\u0aa4\\u0acd\\u0aaf\\u0abe\\u0ab0 \\u0ab8\\u0ac1\\u0aa7\\u0ac0 \\u0ab2\\u0a97\\u0aad\\u0a97 30 \\u0ab2\\u0abe\\u0a96 \\u0a9f\\u0ac7\\u0ab8\\u0acd\\u0a9f\\u0abf\\u0a82\\u0a97 \\u0a95\\u0ab0\\u0ab5\\u0abe\\u0aae\\u0abe\\u0a82 \\u0a86\\u0ab5\\u0ac0 \\u0a9a\\u0ac1\\u0a95\\u0acd\\u0aaf\\u0abe \\u0a9b\\u0ac7. \\u0ab0\\u0abe\\u0a9c\\u0acd\\u0aaf \\u0ab8\\u0ab0\\u0a95\\u0abe\\u0ab0\\u0ac7 \\u0a96\\u0abe\\u0aa8\\u0a97\\u0ac0 \\u0ab9\\u0acb\\u0ab8\\u0acd\\u0aaa\\u0abf\\u0a9f\\u0ab2\\u0aae\\u0abe\\u0a82 30% \\u0aac\\u0ac7\\u0aa1 \\u0a95\\u0acb\\u0ab0\\u0acb\\u0aa8\\u0abe \\u0ab8\\u0a82\\u0a95\\u0acd\\u0ab0\\u0aae\\u0abf\\u0aa4\\u0acb \\u0aae\\u0abe\\u0a9f\\u0ac7 \\u0ab0\\u0abf\\u0a9d\\u0ab0\\u0acd\\u0ab5 \\u0ab0\\u0abe\\u0a96\\u0ab5\\u0abe\\u0aa8\\u0acb \\u0a86\\u0aa6\\u0ac7\\u0ab6 \\u0a86\\u0aaa\\u0acd\\u0aaf\\u0acb \\u0a9b\\u0ac7.3. \\u0aac\\u0abf\\u0ab9\\u0abe\\u0ab0\\u0ab6\\u0ac1\\u0a95\\u0acd\\u0ab0\\u0ab5\\u0abe\\u0ab0\\u0ac7 1632 \\u0ab8\\u0a82\\u0a95\\u0acd\\u0ab0\\u0aae\\u0abf\\u0aa4\\u0acb\\u0aa8\\u0ac0 \\u0a93\\u0ab3\\u0a96 \\u0a95\\u0ab0\\u0ab5\\u0abe\\u0aae\\u0abe\\u0a82 \\u0a86\\u0ab5\\u0ac0 \\u0a9b\\u0ac7. \\u0ab0\\u0abe\\u0ab9\\u0aa4\\u0aa8\\u0ac0 \\u0ab5\\u0abe\\u0aa4 \\u0aa4\\u0acb \\u0a8f \\u0a9b\\u0ac7 \\u0a95\\u0ac7 \\u0ab0\\u0abe\\u0a9c\\u0acd\\u0aaf\\u0aae\\u0abe\\u0a82 \\u0ab6\\u0ac1\\u0a95\\u0acd\\u0ab0\\u0ab5\\u0abe\\u0ab0\\u0ac7 \\u0a9c \\u0ab8\\u0acc\\u0aa5\\u0ac0 \\u0ab5\\u0aa7\\u0ac1 1810 \\u0aa6\\u0ab0\\u0acd\\u0aa6\\u0ac0 \\u0ab8\\u0abe\\u0a9c\\u0abe \\u0aaa\\u0aa3 \\u0aa5\\u0aaf\\u0abe \\u0a9b\\u0ac7. \\u0aa4\\u0acd\\u0ab0\\u0aa3 \\u0ab8\\u0a82\\u0a95\\u0acd\\u0ab0\\u0aae\\u0abf\\u0aa4\\u0acb\\u0aa8\\u0abe \\u0aae\\u0acb\\u0aa4 \\u0aaa\\u0aa3 \\u0aa5\\u0aaf\\u0abe \\u0a9b\\u0ac7. \\u0ab0\\u0abe\\u0a9c\\u0acd\\u0aaf\\u0aae\\u0abe\\u0a82 \\u0a85\\u0aa4\\u0acd\\u0aaf\\u0abe\\u0ab0 \\u0ab8\\u0ac1\\u0aa7\\u0ac0 1 \\u0ab2\\u0abe\\u0a96 75 \\u0ab9\\u0a9c\\u0abe\\u0ab0 898 \\u0a95\\u0ac7\\u0ab8 \\u0aa8\\u0acb\\u0a82\\u0aa7\\u0abe\\u0a88 \\u0a9a\\u0ac1\\u0a95\\u0acd\\u0aaf\\u0abe \\u0a9b\\u0ac7. \\u0a9c\\u0ac7\\u0aae\\u0abe\\u0a82\\u0aa5\\u0ac0 1 \\u0ab2\\u0abe\\u0a96 61 \\u0ab9\\u0a9c\\u0abe\\u0ab0 510 \\u0ab8\\u0abe\\u0a9c\\u0abe \\u0aa5\\u0a88 \\u0a9a\\u0ac1\\u0a95\\u0acd\\u0aaf\\u0abe \\u0a9b\\u0ac7, \\u0a9c\\u0acd\\u0aaf\\u0abe\\u0ab0\\u0ac7 13 \\u0ab9\\u0a9c\\u0abe\\u0ab0 506\\u0aa8\\u0ac0 \\u0ab8\\u0abe\\u0ab0\\u0ab5\\u0abe\\u0ab0 \\u0a9a\\u0abe\\u0ab2\\u0ac0 \\u0ab0\\u0ab9\\u0ac0 \\u0a9b\\u0ac7. \\u0ab8\\u0a82\\u0a95\\u0acd\\u0ab0\\u0aae\\u0aa3\\u0aa8\\u0abe \\u0a95\\u0abe\\u0ab0\\u0aa3\\u0ac7 \\u0a85\\u0aa4\\u0acd\\u0aaf\\u0abe\\u0ab0 \\u0ab8\\u0ac1\\u0aa7\\u0ac0 881 \\u0aa6\\u0ab0\\u0acd\\u0aa6\\u0ac0\\u0a93\\u0aa8\\u0abe \\u0aae\\u0acb\\u0aa4 \\u0aa5\\u0aaf\\u0abe \\u0a9b\\u0ac7.4. \\u0aae\\u0ab9\\u0abe\\u0ab0\\u0abe\\u0ab7\\u0acd\\u0a9f\\u0acd\\u0ab0\\u0ab6\\u0ac1\\u0a95\\u0acd\\u0ab0\\u0ab5\\u0abe\\u0ab0\\u0ac7 \\u0ab8\\u0a82\\u0a95\\u0acd\\u0ab0\\u0aae\\u0aa3\\u0aa8\\u0abe 17 \\u0ab9\\u0a9c\\u0abe\\u0ab0 794 \\u0aa8\\u0ab5\\u0abe \\u0a95\\u0ac7\\u0ab8 \\u0aa8\\u0acb\\u0a82\\u0aa7\\u0abe\\u0aaf\\u0abe \\u0ab9\\u0aa4\\u0abe. \\u0a85\\u0ab9\\u0ac0\\u0a82\\u0aaf\\u0abe \\u0a85\\u0aa4\\u0acd\\u0aaf\\u0abe\\u0ab0 \\u0ab8\\u0ac1\\u0aa7\\u0ac0 13 \\u0ab2\\u0abe\\u0a96 757 \\u0ab2\\u0acb\\u0a95\\u0acb \\u0ab8\\u0a82\\u0a95\\u0acd\\u0ab0\\u0aae\\u0abf\\u0aa4 \\u0aa5\\u0a88 \\u0a9a\\u0ac1\\u0a95\\u0acd\\u0aaf\\u0abe \\u0a9b\\u0ac7. \\u0ab0\\u0abe\\u0a9c\\u0acd\\u0aaf\\u0aae\\u0abe\\u0a82 \\u0a9b\\u0ac7\\u0ab2\\u0acd\\u0ab2\\u0abe 24 \\u0a95\\u0ab2\\u0abe\\u0a95\\u0aae\\u0abe\\u0a82 416 \\u0ab2\\u0acb\\u0a95\\u0acb\\u0aa8\\u0abe \\u0aae\\u0acb\\u0aa4 \\u0aa5\\u0aaf\\u0abe \\u0a9b\\u0ac7. \\u0a85\\u0aa4\\u0acd\\u0aaf\\u0abe\\u0ab0 \\u0ab8\\u0ac1\\u0aa7\\u0ac0 34 \\u0ab9\\u0a9c\\u0abe\\u0ab0 761 \\u0ab2\\u0acb\\u0a95\\u0acb\\u0aa8\\u0abe \\u0aae\\u0acb\\u0aa4 \\u0aa5\\u0aaf\\u0abe \\u0a9b\\u0ac7.5. \\u0a89\\u0aa4\\u0acd\\u0aa4\\u0ab0\\u0aaa\\u0acd\\u0ab0\\u0aa6\\u0ac7\\u0ab6\\u0ab6\\u0ac1\\u0a95\\u0acd\\u0ab0\\u0ab5\\u0abe\\u0ab0\\u0ac7 4519 \\u0a95\\u0ac7\\u0ab8 \\u0aa8\\u0acb\\u0a82\\u0aa7\\u0abe\\u0aaf\\u0abe \\u0a85\\u0aa8\\u0ac7 6075 \\u0ab2\\u0acb\\u0a95\\u0acb \\u0ab8\\u0abe\\u0a9c\\u0abe \\u0aa5\\u0a88 \\u0a97\\u0aaf\\u0abe \\u0ab9\\u0aa4\\u0abe. \\u0a86 \\u0ab8\\u0aa4\\u0aa4 \\u0a86\\u0aa0\\u0aae\\u0acb \\u0aa6\\u0abf\\u0ab5\\u0ab8 \\u0ab9\\u0aa4\\u0acb, \\u0a9c\\u0acd\\u0aaf\\u0abe\\u0ab0\\u0ac7 \\u0aa8\\u0ab5\\u0abe \\u0aa6\\u0ab0\\u0acd\\u0aa6\\u0ac0\\u0a93\\u0aa5\\u0ac0 \\u0ab5\\u0aa7\\u0ac1 \\u0ab2\\u0acb\\u0a95\\u0acb \\u0ab8\\u0abe\\u0a9c\\u0abe \\u0aa5\\u0aaf\\u0abe \\u0ab9\\u0aa4\\u0abe. \\u0ab0\\u0abe\\u0a9c\\u0acd\\u0aaf\\u0aae\\u0abe\\u0a82 \\u0a85\\u0aa4\\u0acd\\u0aaf\\u0abe\\u0ab0 \\u0ab8\\u0ac1\\u0aa7\\u0ac0 3 \\u0ab2\\u0abe\\u0a96 78 \\u0ab9\\u0a9c\\u0abe\\u0ab0 533 \\u0ab2\\u0acb\\u0a95\\u0acb \\u0ab8\\u0a82\\u0a95\\u0acd\\u0ab0\\u0aae\\u0abf\\u0aa4 \\u0aae\\u0ab3\\u0ac0 \\u0a86\\u0ab5\\u0acd\\u0aaf\\u0abe \\u0a9b\\u0ac7. \\u0a9c\\u0ac7\\u0aae\\u0abe\\u0a82\\u0aa5\\u0ac0 82.86% \\u0a8f\\u0a9f\\u0ab2\\u0ac7 \\u0a95\\u0ac7 3 \\u0ab2\\u0abe\\u0a96 13 \\u0ab9\\u0a9c\\u0abe\\u0ab0 686 \\u0aa6\\u0ab0\\u0acd\\u0aa6\\u0ac0 \\u0ab8\\u0abe\\u0a9c\\u0abe \\u0aa5\\u0a88 \\u0a9a\\u0ac1\\u0a95\\u0acd\\u0aaf\\u0abe \\u0a9b\\u0ac7. 59 \\u0ab9\\u0a9c\\u0abe\\u0ab0 397 \\u0aa6\\u0ab0\\u0acd\\u0aa6\\u0ac0\\u0a93\\u0aa8\\u0ac0 \\u0ab8\\u0abe\\u0ab0\\u0ab5\\u0abe\\u0ab0 \\u0a9a\\u0abe\\u0ab2\\u0ac0 \\u0ab0\\u0ab9\\u0ac0 \\u0a9b\\u0ac7. \\u0ab8\\u0a82\\u0a95\\u0acd\\u0ab0\\u0aae\\u0aa3\\u0aa8\\u0abe \\u0a95\\u0abe\\u0ab0\\u0aa3\\u0ac7 \\u0a85\\u0aa4\\u0acd\\u0aaf\\u0abe\\u0ab0 \\u0ab8\\u0ac1\\u0aa7\\u0ac0 5 \\u0ab9\\u0a9c\\u0abe\\u0ab0 450 \\u0ab2\\u0acb\\u0a95\\u0acb\\u0aa8\\u0abe \\u0aae\\u0acb\\u0aa4 \\u0aa5\\u0aaf\\u0abe \\u0a9b\\u0ac7.\",\n          \"\\u0aaa\\u0acd\\u0ab0\\u0a95\\u0abe\\u0ab6 \\u0ab8\\u0acb\\u0ab2\\u0a82\\u0a95\\u0ac0, \\u0aac\\u0acb\\u0a9f\\u0abe\\u0aa6 : \\u0aa4\\u0abe\\u0ab2\\u0ac1\\u0a95\\u0abe\\u0aa8\\u0abe (Botad) \\u0ab8\\u0ac7\\u0aa5\\u0ab3\\u0ac0 \\u0a97\\u0abe\\u0aae \\u0aaa\\u0abe\\u0ab8\\u0ac7 \\u0aaa\\u0ab8\\u0abe\\u0ab0 \\u0aa5\\u0aa4\\u0ac0 \\u0a95\\u0ac7\\u0aa8\\u0abe\\u0ab2 \\u0aaa\\u0abe\\u0ab8\\u0ac7 \\u0ab8\\u0ac7\\u0aa5\\u0ab3\\u0ac0\\u0aa5\\u0ac0 \\u0ab0\\u0ac7\\u0aab\\u0aa1\\u0abe \\u0a9c\\u0ab5\\u0abe\\u0aa8\\u0abe \\u0a95\\u0abe\\u0a9a\\u0abe \\u0ab0\\u0ab8\\u0acd\\u0aa4\\u0ac7\\u0aa5\\u0ac0 \\u0aac\\u0acb\\u0a9f\\u0abe\\u0aa6 \\u0aa4\\u0abe\\u0ab2\\u0ac1\\u0a95\\u0abe \\u0aaa\\u0a82\\u0a9a\\u0abe\\u0aaf\\u0aa4\\u0aa8\\u0abe \\u0aaa\\u0ac2\\u0ab0\\u0acd\\u0ab5 \\u0ab8\\u0aad\\u0acd\\u0aaf\\u0aa8\\u0ac0  \\u0ab9\\u0aa4\\u0acd\\u0aaf\\u0abe (murder) \\u0a95\\u0ab0\\u0ac7\\u0ab2\\u0ac0 \\u0ab9\\u0abe\\u0ab2\\u0aa4\\u0aae\\u0abe\\u0a82  \\u0ab2\\u0abe\\u0ab6 \\u0aae\\u0ab3\\u0ac0 \\u0a86\\u0ab5\\u0aa4\\u0abe \\u0a9a\\u0a95\\u0a9a\\u0abe\\u0ab0 \\u0aae\\u0a9a\\u0ac0 \\u0a9c\\u0ab5\\u0abe \\u0aaa\\u0abe\\u0aae\\u0acd\\u0aaf\\u0acb \\u0a9b\\u0ac7. \\u0ab9\\u0aa4\\u0acd\\u0aaf\\u0abe \\u0a85\\u0a82\\u0a97\\u0ac7\\u0aa8\\u0ac0 \\u0a9c\\u0abe\\u0aa3 \\u0aac\\u0acb\\u0a9f\\u0abe\\u0aa6 \\u0aaa\\u0acb\\u0ab2\\u0ac0\\u0ab8\\u0aa8\\u0ac7 (Botad Police) \\u0aa5\\u0aa4\\u0abe \\u0a98\\u0a9f\\u0aa8\\u0abe \\u0ab8\\u0acd\\u0aa5\\u0ab3\\u0ac7 \\u0aa6\\u0acb\\u0aa1\\u0ac0 \\u0a86\\u0ab5\\u0acd\\u0aaf\\u0abe \\u0ab9\\u0aa4\\u0abe. \\u0a9c\\u0ac7 \\u0aac\\u0abe\\u0aa6 \\u0ab2\\u0abe\\u0ab6\\u0aa8\\u0ac7 \\u0aaa\\u0ac0\\u0a8f\\u0aae \\u0aae\\u0abe\\u0a82\\u0a9f\\u0ac7 \\u0aac\\u0acb\\u0a9f\\u0abe\\u0aa6 \\u0ab8\\u0acb\\u0aa8\\u0abe\\u0ab5\\u0abe\\u0ab2\\u0abe \\u0ab9\\u0acb\\u0ab8\\u0acd\\u0aaa\\u0abf\\u0a9f\\u0ab2 (Botad Sonawala Hospital) \\u0ab2\\u0abe\\u0ab5\\u0ab5\\u0abe\\u0aae\\u0abe\\u0a82 \\u0a86\\u0ab5\\u0ac0 \\u0ab9\\u0aa4\\u0ac0. \\u0ab9\\u0aa4\\u0acd\\u0aaf\\u0abe\\u0aa8\\u0ac1\\u0a82 \\u0a95\\u0abe\\u0ab0\\u0aa3 \\u0ab9\\u0abe\\u0ab2 \\u0a85\\u0a95\\u0aac\\u0a82\\u0aa7 \\u0a9b\\u0ac7. \\u0ab8\\u0ac2\\u0aa4\\u0acd\\u0ab0\\u0acb \\u0aaa\\u0abe\\u0ab8\\u0ac7\\u0aa5\\u0ac0 \\u0aae\\u0ab3\\u0aa4\\u0ac0 \\u0aae\\u0abe\\u0ab9\\u0abf\\u0aa4\\u0ac0 \\u0aae\\u0ac1\\u0a9c\\u0aac, \\u0aac\\u0acb\\u0a9f\\u0abe\\u0aa6 \\u0aa4\\u0abe\\u0ab2\\u0ac1\\u0a95\\u0abe\\u0aa8\\u0abe \\u0ab8\\u0ac7\\u0aa5\\u0ab3\\u0ac0 \\u0a97\\u0abe\\u0aae\\u0aa8\\u0abe \\u0ab0\\u0ab9\\u0ac7\\u0ab5\\u0abe\\u0ab8\\u0ac0 \\u0a98\\u0aa8\\u0ab6\\u0abe\\u0aaf\\u0aae\\u0aad\\u0abe\\u0a88 \\u0aac\\u0abe\\u0aac\\u0ac1\\u0aad\\u0abe\\u0a87 \\u0a9d\\u0ac1\\u0ab2\\u0abe\\u0ab8\\u0aa8\\u0abe \\u0a89\\u0ab5.50  \\u0aa8\\u0abe\\u0aae\\u0aa8\\u0abe \\u0ab6\\u0a96\\u0acd\\u0ab8\\u0aa8\\u0ac0 16 \\u0a9c\\u0abe\\u0aa8\\u0acd\\u0aaf\\u0ac1\\u0a86\\u0ab0\\u0ac0 2022\\u0aa8\\u0abe \\u0ab0\\u0abe\\u0aa4\\u0acd\\u0ab0\\u0ac0\\u0aa8\\u0abe \\u0ab8\\u0aae\\u0aaf\\u0ac7 \\u0aa4\\u0ac0\\u0a95\\u0acd\\u0ab7\\u0acd\\u0aa3 \\u0ab9\\u0aa5\\u0abf\\u0aaf\\u0abe\\u0ab0\\u0aa8\\u0abe \\u0a98\\u0abe \\u0aae\\u0abe\\u0ab0\\u0ac7\\u0ab2\\u0ac0 \\u0ab9\\u0abe\\u0ab2\\u0aa4\\u0aae\\u0abe\\u0a82 \\u0ab2\\u0abe\\u0ab6 \\u0ab8\\u0ac7\\u0aa5\\u0ab3\\u0ac0\\u0aa5\\u0ac0 \\u0ab0\\u0ac7\\u0aab\\u0aa1\\u0abe \\u0a9c\\u0ab5\\u0abe\\u0aa8\\u0abe \\u0a95\\u0ac7\\u0aa8\\u0abe\\u0ab2\\u0aa8\\u0abe \\u0ab0\\u0ab8\\u0acd\\u0aa4\\u0ac7 \\u0aae\\u0ab3\\u0ac0 \\u0a86\\u0ab5\\u0aa4\\u0abe \\u0a9a\\u0a95\\u0a9a\\u0abe\\u0ab0 \\u0aae\\u0a9a\\u0ac0 \\u0a9c\\u0ab5\\u0abe \\u0aaa\\u0abe\\u0aae\\u0ac0 \\u0a9b\\u0ac7. \\u0ab9\\u0aa4\\u0acd\\u0aaf\\u0abe\\u0aa8\\u0abe \\u0aac\\u0aa8\\u0abe\\u0ab5 \\u0a85\\u0a82\\u0a97\\u0ac7\\u0aa8\\u0ac0 \\u0a9c\\u0abe\\u0aa3 \\u0aac\\u0acb\\u0a9f\\u0abe\\u0aa6 \\u0aaa\\u0acb\\u0ab2\\u0ac0\\u0ab8\\u0aa8\\u0ac7 \\u0aa5\\u0aa4\\u0abe \\u0aac\\u0acb\\u0a9f\\u0abe\\u0aa6 \\u0a9c\\u0abf\\u0ab2\\u0acd\\u0ab2\\u0abe \\u0aaa\\u0acb\\u0ab2\\u0ac0\\u0ab8 \\u0ab5\\u0aa1\\u0abe \\u0ab9\\u0ab0\\u0acd\\u0ab7\\u0aa6 \\u0aae\\u0ab9\\u0ac7\\u0aa4\\u0abe, \\u0a8f\\u0ab2.\\u0ab8\\u0ac0.\\u0aac\\u0ac0.\\u0a8f\\u0ab8.\\u0a93.\\u0a9c\\u0ac0 \\u0aa4\\u0ac7\\u0aae\\u0a9c \\u0ab8\\u0ac0\\u0a9f\\u0ac0 \\u0aaa\\u0acb\\u0ab2\\u0ac0\\u0ab8 \\u0ab8\\u0ab9\\u0abf\\u0aa4 \\u0aae\\u0ab8\\u0aae\\u0acb\\u0a9f\\u0acb \\u0a95\\u0abe\\u0aab\\u0ab2\\u0acb \\u0a98\\u0a9f\\u0aa8\\u0abe \\u0ab8\\u0acd\\u0aa5\\u0ab3\\u0ac7 \\u0aa6\\u0acb\\u0aa1\\u0ac0 \\u0a86\\u0ab5\\u0acd\\u0aaf\\u0acb \\u0ab9\\u0aa4\\u0acb. \\u0ab9\\u0aa4\\u0acd\\u0aaf\\u0abe \\u0a95\\u0acb\\u0aa8\\u0ac7 \\u0a95\\u0ab0\\u0ac0 \\u0a9b\\u0ac7, \\u0ab6\\u0abe \\u0aae\\u0abe\\u0a9f\\u0ac7 \\u0a95\\u0ab0\\u0ac0 \\u0a9b\\u0ac7 \\u0aa4\\u0ac7 \\u0a85\\u0a82\\u0a97\\u0ac7\\u0aa8\\u0abe \\u0aa4\\u0abe\\u0aaa\\u0ab8\\u0aa8\\u0abe \\u0aa6\\u0acb\\u0ab0 \\u0ab6\\u0ab0\\u0ac2 \\u0a95\\u0ab0\\u0ab5\\u0abe\\u0aae\\u0abe\\u0a82 \\u0a86\\u0ab5\\u0acd\\u0aaf\\u0abe \\u0a9b\\u0ac7. \\u0aa4\\u0ac7\\u0aae\\u0a9c \\u0aaa\\u0acb\\u0ab2\\u0ac0\\u0ab8 \\u0aa6\\u0acd\\u0ab5\\u0abe\\u0ab0\\u0abe \\u0ab2\\u0abe\\u0ab6\\u0aa8\\u0ac7 \\u0aaa\\u0ac0\\u0a8f\\u0aae \\u0aae\\u0abe\\u0a9f\\u0ac7 \\u0aac\\u0acb\\u0a9f\\u0abe\\u0aa6\\u0aa8\\u0ac0 \\u0ab8\\u0ab0\\u0a95\\u0abe\\u0ab0\\u0ac0 \\u0ab9\\u0acb\\u0ab8\\u0acd\\u0aaa\\u0abf\\u0a9f\\u0ab2\\u0aae\\u0abe\\u0a82 \\u0a96\\u0ab8\\u0ac7\\u0aa1\\u0ab5\\u0abe\\u0aae\\u0abe\\u0a82 \\u0a86\\u0ab5\\u0ac0 \\u0a9b\\u0ac7. \\u0ab9\\u0abe\\u0ab2 \\u0ab9\\u0aa4\\u0acd\\u0aaf\\u0abe\\u0aa8\\u0ac7 \\u0ab2\\u0a88 \\u0a9c\\u0abf\\u0ab2\\u0acd\\u0ab2\\u0abe\\u0aae\\u0abe\\u0a82 \\u0a9a\\u0a95\\u0a9a\\u0abe\\u0ab0 \\u0aae\\u0a9a\\u0ac0 \\u0a9c\\u0ab5\\u0abe \\u0aaa\\u0abe\\u0aae\\u0ac0 \\u0a9b\\u0ac7. \\u0aa4\\u0acb \\u0aac\\u0ac0\\u0a9c\\u0ac0 \\u0aa4\\u0ab0\\u0aab \\u0ab9\\u0aa4\\u0acd\\u0aaf\\u0abe \\u0a85\\u0a82\\u0a97\\u0ac7\\u0aa8\\u0ac0 \\u0a9c\\u0abe\\u0aa3 \\u0aaa\\u0ab0\\u0abf\\u0ab5\\u0abe\\u0ab0\\u0a9c\\u0aa8\\u0acb\\u0aa8\\u0ac7 \\u0aa5\\u0aa4\\u0abe \\u0aa4\\u0ac7\\u0a93 \\u0ab9\\u0acb\\u0ab8\\u0acd\\u0aaa\\u0abf\\u0a9f\\u0ab2 \\u0aa6\\u0acb\\u0aa1\\u0ac0 \\u0a86\\u0ab5\\u0acd\\u0aaf\\u0abe \\u0ab9\\u0aa4\\u0abe. \\u0aaa\\u0ab0\\u0abf\\u0ab5\\u0abe\\u0ab0\\u0a9c\\u0aa8\\u0acb\\u0a8f \\u0aab\\u0ab0\\u0abf\\u0aaf\\u0abe\\u0aa6\\u0aa8\\u0ac0 \\u0aa8\\u0acb\\u0a82\\u0aa7\\u0abe\\u0ab5\\u0ab5\\u0abe\\u0aa8\\u0ac0 \\u0aa4\\u0a9c\\u0ab5\\u0ac0\\u0a9c \\u0ab9\\u0abe\\u0aa5 \\u0aa7\\u0ab0\\u0ac0 \\u0ab9\\u0aa4\\u0ac0. \\u0a86 \\u0aaa\\u0aa3 \\u0ab5\\u0abe\\u0a82\\u0a9a\\u0acb - \\u0aac\\u0acb\\u0a9f\\u0abe\\u0aa6 : \\u0aae\\u0acb\\u0a9f\\u0abe\\u0aad\\u0abe\\u0a88\\u0a8f \\u0ab2\\u0abe\\u0a95\\u0aa1\\u0abe\\u0aa8\\u0abe \\u0aab\\u0a9f\\u0a95\\u0abe \\u0aae\\u0abe\\u0ab0\\u0ac0 \\u0aa8\\u0abe\\u0aa8\\u0abe\\u0aad\\u0abe\\u0a88\\u0aa8\\u0ac0 \\u0a95\\u0ab0\\u0ac0 \\u0ab9\\u0aa4\\u0acd\\u0aaf\\u0abe, \\u0aae\\u0abe\\u0aa4\\u0abe\\u0aa8\\u0ac1\\u0a82 \\u0aa7\\u0abe\\u0ab5\\u0aa3 \\u0ab2\\u0abe\\u0a9c\\u0acd\\u0aaf\\u0ac1\\u0a82! \\u0ab8\\u0ac7\\u0aa5\\u0ab3\\u0ac0 \\u0a97\\u0abe\\u0aae \\u0aaa\\u0abe\\u0ab8\\u0ac7\\u0aa5\\u0ac0 \\u0a9c\\u0ac7 \\u0ab9\\u0aa4\\u0acd\\u0aaf\\u0abe \\u0a95\\u0ab0\\u0ac7\\u0ab2\\u0ac0 \\u0ab2\\u0abe\\u0ab6 \\u0aae\\u0ab3\\u0ac0 \\u0a86\\u0ab5\\u0ac0 \\u0a9b\\u0ac7 \\u0aa4\\u0ac7, \\u0ab2\\u0abe\\u0ab6 \\u0a98\\u0aa8\\u0ab6\\u0acd\\u0aaf\\u0abe\\u0aae\\u0aad\\u0abe\\u0a88 \\u0a9d\\u0ac1\\u0ab2\\u0abe\\u0ab8\\u0aa8\\u0abe\\u0aa8\\u0ac0 \\u0a9b\\u0ac7 \\u0a85\\u0aa8\\u0ac7 \\u0a98\\u0aa8\\u0ab6\\u0acd\\u0aaf\\u0abe\\u0aae \\u0aad\\u0abe\\u0a88 \\u0a9d\\u0ac1\\u0ab2\\u0abe\\u0ab8\\u0aa8\\u0abe \\u0aac\\u0acb\\u0a9f\\u0abe\\u0aa6 \\u0aa4\\u0abe\\u0ab2\\u0ac1\\u0a95\\u0abe \\u0aaa\\u0a82\\u0a9a\\u0abe\\u0aaf\\u0aa4\\u0aa8\\u0abe \\u0aaa\\u0ac2\\u0ab0\\u0acd\\u0ab5 \\u0ab8\\u0aad\\u0acd\\u0aaf \\u0ab0\\u0ab9\\u0ac0 \\u0a9a\\u0ac2\\u0a95\\u0acd\\u0aaf\\u0abe \\u0a9b\\u0ac7 \\u0aa4\\u0ac7\\u0ab5\\u0ac1\\u0a82 \\u0ab9\\u0abe\\u0ab2 \\u0a9c\\u0abe\\u0aa3\\u0ab5\\u0abe \\u0aae\\u0ab3\\u0acd\\u0aaf\\u0ac1 \\u0a9b\\u0ac7. \\u0aac\\u0acb\\u0a9f\\u0abe\\u0aa6 \\u0aaa\\u0acb\\u0ab2\\u0ac0\\u0ab8 \\u0aa6\\u0acd\\u0ab5\\u0abe\\u0ab0\\u0abe \\u0ab9\\u0aa4\\u0acd\\u0aaf\\u0abe\\u0aa8\\u0ac7 \\u0ab2\\u0a88 \\u0a85\\u0ab2\\u0a97 \\u0a85\\u0ab2\\u0a97 \\u0a9f\\u0ac0\\u0aae\\u0acb \\u0aac\\u0aa8\\u0abe\\u0ab5\\u0abe\\u0aae\\u0abe\\u0a82 \\u0a86\\u0ab5\\u0ac0 \\u0a9b\\u0ac7 \\u0a85\\u0aa8\\u0ac7 \\u0a95\\u0acb\\u0aa8\\u0abe \\u0aa6\\u0acd\\u0ab5\\u0abe\\u0ab0\\u0abe \\u0a86 \\u0ab9\\u0aa4\\u0acd\\u0aaf\\u0abe \\u0a95\\u0ab0\\u0ab5\\u0abe\\u0aae\\u0abe\\u0a82 \\u0a86\\u0ab5\\u0ac0 \\u0a9b\\u0ac7 \\u0a85\\u0aa8\\u0ac7 \\u0ab9\\u0aa4\\u0acd\\u0aaf\\u0abe \\u0aaa\\u0abe\\u0a9b\\u0ab3\\u0aa8\\u0ac1\\u0a82 \\u0ab6\\u0ac1 \\u0a95\\u0abe\\u0ab0\\u0aa3 \\u0a9b\\u0ac7 \\u0aa4\\u0ac7 \\u0a85\\u0a82\\u0a97\\u0ac7\\u0aa8\\u0ac0 \\u0aa4\\u0aaa\\u0abe\\u0ab8 \\u0ab6\\u0ab0\\u0ac2 \\u0a95\\u0ab0\\u0ab5\\u0abe\\u0aae\\u0abe\\u0a82 \\u0a86\\u0ab5\\u0ac0 \\u0a9b\\u0ac7. \\u0a86 \\u0aaa\\u0aa3 \\u0ab5\\u0abe\\u0a82\\u0a9a\\u0acb - Rajkot news: \\u0aaa\\u0acb\\u0ab2\\u0ac0\\u0ab8 \\u0aad\\u0ab0\\u0aa4\\u0ac0 \\u0a95\\u0acc\\u0aad\\u0abe\\u0a82\\u0aa1\\u0aae\\u0abe\\u0a82 \\u0aac\\u0a82\\u0a9f\\u0ac0-\\u0aac\\u0aac\\u0ab2\\u0ac0 \\u0a9d\\u0aa1\\u0aaa\\u0abe\\u0aaf\\u0abe, \\u0ab6\\u0ac1\\u0a82 \\u0ab9\\u0aa4\\u0ac0 \\u0aad\\u0ac1\\u0aae\\u0abf\\u0a95\\u0abe \\u0a85\\u0aa8\\u0ac7 \\u0a95\\u0ac7\\u0ab5\\u0ac0 \\u0ab0\\u0ac0\\u0aa4\\u0ac7 \\u0a86\\u0a9a\\u0ab0\\u0acd\\u0aaf\\u0ac1\\u0a82 \\u0a95\\u0acc\\u0aad\\u0abe\\u0a82\\u0aa1? \\u0aa8\\u0acb\\u0a82\\u0aa7\\u0aa8\\u0ac0\\u0aaf \\u0a9b\\u0ac7 \\u0a95\\u0ac7, \\u0aa5\\u0acb\\u0aa1\\u0abe \\u0ab8\\u0aae\\u0aaf \\u0aaa\\u0ab9\\u0ac7\\u0ab2\\u0abe, \\u0ab5\\u0abf\\u0ab0\\u0aae\\u0a97\\u0abe\\u0aae \\u0ab6\\u0ab9\\u0ac7\\u0ab0\\u0aae\\u0abe\\u0a82 \\u0a9c\\u0abe\\u0ab9\\u0ac7\\u0ab0 \\u0ab0\\u0acb\\u0aa1 \\u0aaa\\u0ab0 \\u0a85\\u0a97\\u0abe\\u0a89\\u0aa8\\u0ac0 \\u0a85\\u0aa6\\u0abe\\u0ab5\\u0aa4 \\u0aac\\u0abe\\u0aac\\u0aa4\\u0ac7 \\u0aac\\u0acb\\u0ab2\\u0abe\\u0a9a\\u0abe\\u0ab2\\u0ac0 \\u0aa5\\u0aa4\\u0abe \\u0aae\\u0abe\\u0ab0\\u0aae\\u0abe\\u0ab0\\u0ac0\\u0aa8\\u0ac0 \\u0a98\\u0a9f\\u0aa8\\u0abe \\u0aaa\\u0aa3 \\u0ab8\\u0abe\\u0aae\\u0ac7 \\u0a86\\u0ac0 \\u0ab9\\u0aa4\\u0ac0. \\u0a9b \\u0ab6\\u0a96\\u0acd\\u0ab8\\u0acb \\u0aa6\\u0acd\\u0ab5\\u0abe\\u0ab0\\u0abe \\u0aa7\\u0abe\\u0ab0\\u0ac0\\u0aaf\\u0abe, \\u0ab2\\u0acb\\u0a96\\u0a82\\u0aa1\\u0aa8\\u0ac0 \\u0aaa\\u0abe\\u0a87\\u0aaa\\u0acb, \\u0ab2\\u0abe\\u0a95\\u0aa1\\u0ac0\\u0a93 \\u0ab5\\u0aa1\\u0ac7 \\u0ab9\\u0ac1\\u0aae\\u0ab2\\u0acb \\u0a95\\u0ab0\\u0aa4\\u0abe\\u0a82 \\u0a8f\\u0a95 \\u0ab6\\u0a96\\u0acd\\u0ab8\\u0aa8\\u0ac7 \\u0a97\\u0a82\\u0aad\\u0ac0\\u0ab0 \\u0a87\\u0a9c\\u0abe\\u0a93 \\u0aa5\\u0aa4\\u0abe \\u0ab5\\u0abf\\u0ab0\\u0aae\\u0a97\\u0abe\\u0aae\\u0aa8\\u0ac0 \\u0a96\\u0abe\\u0aa8\\u0a97\\u0ac0 \\u0ab6\\u0abf\\u0ab5 \\u0ab9\\u0acb\\u0ab8\\u0acd\\u0aaa\\u0abf\\u0a9f\\u0ab2\\u0aae\\u0abe\\u0a82 \\u0ab8\\u0abe\\u0ab0\\u0ab5\\u0abe\\u0ab0 \\u0ab9\\u0ac7\\u0aa0\\u0ab3 \\u0aa6\\u0abe\\u0a96\\u0ab2 \\u0a95\\u0ab0\\u0ab5\\u0abe\\u0aae\\u0abe\\u0a82 \\u0a86\\u0ab5\\u0acd\\u0aaf\\u0acb \\u0ab9\\u0aa4\\u0acb. \\u0aa4\\u0acd\\u0aaf\\u0abe\\u0ab0\\u0ac7 \\u0a87\\u0a9c\\u0abe\\u0a97\\u0acd\\u0ab0\\u0ab8\\u0acd\\u0aa4 \\u0ab6\\u0a96\\u0acd\\u0ab8 \\u0ab5\\u0abf\\u0ab0\\u0aae\\u0a97\\u0abe\\u0aae \\u0ab6\\u0ab9\\u0ac7\\u0ab0 \\u0aad\\u0abe\\u0a9c\\u0aaa\\u0aa8\\u0acb \\u0ab9\\u0acb\\u0aa6\\u0acd\\u0aa6\\u0ac7\\u0aa6\\u0abe\\u0ab0 \\u0ab9\\u0acb\\u0ab5\\u0abe\\u0aa8\\u0ac1\\u0a82 \\u0a9c\\u0abe\\u0aa3\\u0ab5\\u0abe \\u0aae\\u0ab3\\u0acd\\u0aaf\\u0ac1\\u0a82 \\u0a9b\\u0ac7.\",\n          \"\\u0ab0\\u0abe\\u0a9c\\u0a95\\u0acb\\u0a9f\\u0aae\\u0abe\\u0a82 \\u0a93\\u0a95\\u0acd\\u0ab8\\u0abf\\u0a9c\\u0aa8 \\u0aaa\\u0ac2\\u0ab0\\u0abe \\u0aa5\\u0ab5\\u0abe\\u0aa8\\u0ac7 \\u0a86\\u0ab0\\u0ac7 \\u0a9b\\u0ac7. \\u0a97\\u0a87\\u0a95\\u0abe\\u0ab2\\u0ac7 \\u0aaa\\u0ab0\\u0aae \\u0ab9\\u0acb\\u0ab8\\u0acd\\u0aaa\\u0abf\\u0a9f\\u0ab2\\u0aae\\u0abe\\u0a82 \\u0a93\\u0a95\\u0acd\\u0ab8\\u0abf\\u0a9c\\u0aa8\\u0aa8\\u0acb \\u0a9c\\u0aa5\\u0acd\\u0aa5\\u0acb \\u0a96\\u0ac2\\u0a9f\\u0ac0 \\u0a9c\\u0ab5\\u0abe\\u0aa8\\u0abe \\u0a86\\u0ab0\\u0ac7 \\u0ab9\\u0aa4\\u0acb \\u0aa4\\u0acd\\u0aaf\\u0abe\\u0ab0\\u0ac7 \\u0ab0\\u0ab9\\u0ac0 \\u0ab0\\u0ab9\\u0ac0\\u0aa8\\u0ac7 \\u0aa4\\u0a82\\u0aa4\\u0acd\\u0ab0 \\u0a9c\\u0abe\\u0a97\\u0acd\\u0aaf\\u0ac1\\u0a82 \\u0ab9\\u0aa4\\u0ac1\\u0a82 \\u0a85\\u0aa8\\u0ac7 15 \\u0aac\\u0abe\\u0a9f\\u0ab2\\u0abe \\u0aae\\u0acb\\u0a95\\u0ab2\\u0aa4\\u0abe\\u0a82 \\u0a93\\u0a95\\u0acd\\u0ab8\\u0abf\\u0a9c\\u0aa8 \\u0aaa\\u0ab0 \\u0ab0\\u0ab9\\u0ac7\\u0ab2\\u0abe 30 \\u0aa6\\u0ab0\\u0acd\\u0aa6\\u0ac0\\u0aa8\\u0abe \\u0a9c\\u0ac0\\u0ab5 \\u0aac\\u0a9a\\u0ac0 \\u0a97\\u0aaf\\u0abe \\u0ab9\\u0aa4\\u0abe. \\u0aa4\\u0acd\\u0aaf\\u0abe\\u0ab0\\u0ac7 \\u0a97\\u0aa4 \\u0ab0\\u0abe\\u0aa4\\u0acd\\u0ab0\\u0ac7 \\u0a95\\u0ac1\\u0a82\\u0aa6\\u0aa8 \\u0a95\\u0acb\\u0ab5\\u0abf\\u0aa1 \\u0ab9\\u0acb\\u0ab8\\u0acd\\u0aaa\\u0abf\\u0a9f\\u0ab2\\u0aae\\u0abe\\u0a82 \\u0a93\\u0a95\\u0acd\\u0ab8\\u0abf\\u0a9c\\u0aa8\\u0aa8\\u0abe \\u0a85\\u0aad\\u0abe\\u0ab5\\u0ac7 4 \\u0aa6\\u0ab0\\u0acd\\u0aa6\\u0ac0\\u0a8f \\u0aa6\\u0aae \\u0aa4\\u0acb\\u0aa1\\u0ac0 \\u0aa6\\u0ac0\\u0aa7\\u0abe\\u0aa8\\u0acb \\u0aaa\\u0ab0\\u0abf\\u0ab5\\u0abe\\u0ab0\\u0ac7 \\u0a86\\u0a95\\u0acd\\u0ab7\\u0ac7\\u0aaa \\u0a95\\u0ab0\\u0acd\\u0aaf\\u0acb \\u0a9b\\u0ac7, \\u0aaa\\u0ab0\\u0a82\\u0aa4\\u0ac1 \\u0ab9\\u0acb\\u0ab8\\u0acd\\u0aaa\\u0abf\\u0a9f\\u0ab2\\u0aa8\\u0abe \\u0aa1\\u0acb\\u0a95\\u0acd\\u0a9f\\u0ab0\\u0ac7 \\u0aaa\\u0acb\\u0aa4\\u0abe\\u0aa8\\u0abe \\u0aac\\u0a9a\\u0abe\\u0ab5\\u0aae\\u0abe\\u0a82 \\u0a9c\\u0aa3\\u0abe\\u0ab5\\u0acd\\u0aaf\\u0ac1\\u0a82 \\u0ab9\\u0aa4\\u0ac1\\u0a82 \\u0a95\\u0ac7 \\u0aa6\\u0ab0\\u0acd\\u0aa6\\u0ac0\\u0aa8\\u0ac0 \\u0aaa\\u0ab0\\u0abf\\u0ab8\\u0acd\\u0aa5\\u0abf\\u0aa4\\u0abf \\u0a97\\u0a82\\u0aad\\u0ac0\\u0ab0 \\u0ab9\\u0acb\\u0ab5\\u0abe\\u0aa5\\u0ac0 \\u0aae\\u0ac3\\u0aa4\\u0acd\\u0aaf\\u0ac1 \\u0aa5\\u0aaf\\u0ac1\\u0a82 \\u0a9b\\u0ac7. \\u0aaa\\u0ab0\\u0abf\\u0ab5\\u0abe\\u0ab0\\u0a9c\\u0aa8\\u0acb \\u0aae\\u0ac3\\u0aa4\\u0aa6\\u0ac7\\u0ab9 \\u0ab8\\u0acd\\u0ab5\\u0ac0\\u0a95\\u0abe\\u0ab0\\u0ab5\\u0abe \\u0a87\\u0aa8\\u0acd\\u0a95\\u0abe\\u0ab0 \\u0a95\\u0ab0\\u0ac0 \\u0ab0\\u0ab9\\u0acd\\u0aaf\\u0abe \\u0a9b\\u0ac7. \\u0ab0\\u0abe\\u0a9c\\u0a95\\u0acb\\u0a9f \\u0a95\\u0ab2\\u0ac7\\u0a95\\u0acd\\u0a9f\\u0ab0 \\u0ab0\\u0ac7\\u0aae\\u0acd\\u0aaf\\u0abe \\u0aae\\u0acb\\u0ab9\\u0aa8\\u0ac7 \\u0a95\\u0ac1\\u0a82\\u0aa6\\u0aa8 \\u0ab9\\u0acb\\u0ab8\\u0acd\\u0aaa\\u0abf\\u0a9f\\u0ab2 \\u0ab8\\u0abe\\u0aae\\u0ac7 \\u0aa4\\u0aaa\\u0abe\\u0ab8\\u0aa8\\u0abe \\u0a86\\u0aa6\\u0ac7\\u0ab6 \\u0a86\\u0aaa\\u0acd\\u0aaf\\u0abe \\u0a9b\\u0ac7.\\u0ab9\\u0acb\\u0ab8\\u0acd\\u0aaa\\u0abf\\u0a9f\\u0ab2\\u0aae\\u0abe\\u0a82 \\u0aa4\\u0aac\\u0abf\\u0aaf\\u0aa4 \\u0a85\\u0a82\\u0a97\\u0ac7 \\u0a95\\u0acb\\u0a88 \\u0ab8\\u0aae\\u0abe\\u0a9a\\u0abe\\u0ab0 \\u0a86\\u0aaa\\u0ab5\\u0abe\\u0aae\\u0abe\\u0a82 \\u0a86\\u0ab5\\u0aa4\\u0abe \\u0aa8\\u0aa5\\u0ac0\\u0aae\\u0ac3\\u0aa4\\u0a95 \\u0aa6\\u0ab0\\u0acd\\u0aa6\\u0ac0\\u0aa8\\u0abe\\u0a82 \\u0ab8\\u0a97\\u0abe\\u0a82\\u0a8f \\u0a86\\u0a95\\u0acd\\u0ab7\\u0ac7\\u0aaa \\u0a95\\u0ab0\\u0aa4\\u0abe\\u0a82 \\u0a9c\\u0aa3\\u0abe\\u0ab5\\u0acd\\u0aaf\\u0ac1\\u0a82 \\u0ab9\\u0aa4\\u0ac1\\u0a82 \\u0a95\\u0ac7 \\u0a95\\u0ac1\\u0a82\\u0aa6\\u0aa8 \\u0ab9\\u0acb\\u0ab8\\u0acd\\u0aaa\\u0abf\\u0a9f\\u0ab2\\u0aae\\u0abe\\u0a82 \\u0aa6\\u0ab0\\u0acd\\u0aa6\\u0ac0\\u0a93\\u0aa8\\u0ac7 \\u0aa6\\u0abe\\u0a96\\u0ab2 \\u0a95\\u0ab0\\u0acd\\u0aaf\\u0abe \\u0aaa\\u0a9b\\u0ac0 \\u0aa4\\u0ac7\\u0aa8\\u0ac0 \\u0aa4\\u0aac\\u0abf\\u0aaf\\u0aa4 \\u0a85\\u0a82\\u0a97\\u0ac7 \\u0a95\\u0acb\\u0a87 \\u0ab8\\u0aae\\u0abe\\u0a9a\\u0abe\\u0ab0 \\u0a86\\u0aaa\\u0ab5\\u0abe\\u0aae\\u0abe\\u0a82 \\u0a86\\u0ab5\\u0aa4\\u0abe \\u0aa8\\u0aa5\\u0ac0. \\u0ab5\\u0ab9\\u0ac7\\u0ab2\\u0ac0 \\u0ab8\\u0ab5\\u0abe\\u0ab0\\u0ac7 4 \\u0ab5\\u0abe\\u0a97\\u0acd\\u0aaf\\u0abe\\u0aa5\\u0ac0 \\u0aa1\\u0acb\\u0a95\\u0acd\\u0a9f\\u0ab0\\u0acb \\u0aa6\\u0ab0\\u0acd\\u0aa6\\u0ac0\\u0aa8\\u0abe\\u0a82 \\u0ab8\\u0a97\\u0abe\\u0a82\\u0aa8\\u0ac7 \\u0a93\\u0a95\\u0acd\\u0ab8\\u0abf\\u0a9c\\u0aa8 \\u0aae\\u0abe\\u0a9f\\u0ac7 \\u0aa6\\u0acb\\u0aa1\\u0abe\\u0ab5\\u0ac0 \\u0ab0\\u0ab9\\u0acd\\u0aaf\\u0abe \\u0a9b\\u0ac7. \\u0ab8\\u0a97\\u0abe\\u0a82\\u0aa8\\u0ac7 \\u0aa6\\u0ab0\\u0acd\\u0aa6\\u0ac0 \\u0ab5\\u0abf\\u0ab6\\u0ac7 \\u0a95\\u0acb\\u0a87 \\u0a9c\\u0abe\\u0aa3\\u0a95\\u0abe\\u0ab0\\u0ac0 \\u0aa8\\u0ab9\\u0ac0\\u0a82 \\u0a86\\u0aaa\\u0aa4\\u0abe\\u0a82 \\u0aaa\\u0ab0\\u0abf\\u0ab5\\u0abe\\u0ab0\\u0a9c\\u0aa8\\u0acb \\u0aae\\u0ac1\\u0ab6\\u0acd\\u0a95\\u0ac7\\u0ab2\\u0ac0\\u0aae\\u0abe\\u0a82 \\u0aae\\u0ac1\\u0a95\\u0abe\\u0aaf\\u0abe\\u0a82 \\u0a9b\\u0ac7 \\u0aa4\\u0ac7\\u0aae\\u0a9c \\u0ab9\\u0acb\\u0ab8\\u0acd\\u0aaa\\u0abf\\u0a9f\\u0ab2\\u0aae\\u0abe\\u0a82 \\u0aa6\\u0ab0\\u0acd\\u0aa6\\u0ac0\\u0a93\\u0aa8\\u0abe\\u0a82 \\u0ab8\\u0a97\\u0abe\\u0a82 \\u0aa6\\u0ab0\\u0acd\\u0aa6\\u0ac0\\u0aa8\\u0ac0 \\u0ab8\\u0abe\\u0ab0\\u0ab5\\u0abe\\u0ab0 \\u0a85\\u0a82\\u0a97\\u0ac7 \\u0aaa\\u0ac2\\u0a9b\\u0ab5\\u0abe\\u0aae\\u0abe\\u0a82 \\u0a86\\u0ab5\\u0aa4\\u0abe\\u0a82 \\u0ab8\\u0abf\\u0a95\\u0acd\\u0aaf\\u0acb\\u0ab0\\u0abf\\u0a9f\\u0ac0 \\u0ab8\\u0acd\\u0a9f\\u0abe\\u0aab \\u0ab9\\u0acb\\u0ab8\\u0acd\\u0aaa\\u0abf\\u0a9f\\u0ab2\\u0aae\\u0abe\\u0a82 \\u0aaa\\u0acd\\u0ab0\\u0ab5\\u0ac7\\u0ab6 \\u0a86\\u0aaa\\u0aa4\\u0acb \\u0aa8\\u0aa5\\u0ac0 \\u0aa4\\u0ac7\\u0aae\\u0a9c \\u0aac\\u0ac7\\u0aab\\u0abe\\u0aae \\u0ab6\\u0aac\\u0acd\\u0aa6\\u0aaa\\u0acd\\u0ab0\\u0aaf\\u0acb\\u0a97 \\u0a95\\u0ab0\\u0ac7 \\u0a9b\\u0ac7.\\u0a95\\u0ac1\\u0a82\\u0aa6\\u0aa8 \\u0ab9\\u0acb\\u0ab8\\u0acd\\u0aaa\\u0abf\\u0a9f\\u0ab2 \\u0ab8\\u0abe\\u0aae\\u0ac7 \\u0aa4\\u0aaa\\u0abe\\u0ab8\\u0aa8\\u0abe \\u0a86\\u0aa6\\u0ac7\\u0ab6 \\u0a86\\u0aaa\\u0aa4\\u0abe \\u0a9c\\u0abf\\u0ab2\\u0acd\\u0ab2\\u0abe \\u0a95\\u0ab2\\u0a95\\u0ac7\\u0a9f\\u0ab0\\u0ab0\\u0abe\\u0a9c\\u0a95\\u0acb\\u0a9f \\u0a95\\u0ab2\\u0ac7\\u0a95\\u0acd\\u0a9f\\u0ab0 \\u0ab0\\u0ac7\\u0aae\\u0acd\\u0aaf\\u0abe \\u0aae\\u0acb\\u0ab9\\u0aa8\\u0ac7 \\u0a95\\u0ac1\\u0a82\\u0aa6\\u0aa8 \\u0ab9\\u0acb\\u0ab8\\u0acd\\u0aaa\\u0abf\\u0a9f\\u0ab2 \\u0ab8\\u0abe\\u0aae\\u0ac7 \\u0aa4\\u0aaa\\u0abe\\u0ab8\\u0aa8\\u0abe \\u0a86\\u0aa6\\u0ac7\\u0ab6 \\u0a86\\u0aaa\\u0acd\\u0aaf\\u0abe \\u0a9b\\u0ac7. \\u0aa4\\u0aaa\\u0abe\\u0ab8\\u0aa8\\u0ac0 \\u0a9f\\u0ac0\\u0aae\\u0aae\\u0abe\\u0a82 \\u0aaa\\u0acd\\u0ab0\\u0abe\\u0a82\\u0aa4 \\u0a85\\u0aa7\\u0abf\\u0a95\\u0abe\\u0ab0\\u0ac0, \\u0a8f\\u0aa8\\u0ac7\\u0ab8\\u0acd\\u0aa5\\u0ac7\\u0ab8\\u0abf\\u0aaf\\u0abe \\u0aa1\\u0acb\\u0a95\\u0acd\\u0a9f\\u0ab0 \\u0a85\\u0aa8\\u0ac7 IAM\\u0aa8\\u0abe \\u0ab8\\u0aad\\u0acd\\u0aaf\\u0aa8\\u0acb \\u0ab8\\u0aae\\u0abe\\u0ab5\\u0ac7\\u0ab6 \\u0a95\\u0ab0\\u0ab5\\u0abe\\u0aae\\u0abe\\u0a82 \\u0a86\\u0ab5\\u0acd\\u0aaf\\u0acb \\u0a9b\\u0a8f. \\u0aa4\\u0aaa\\u0abe\\u0ab8 \\u0aaa\\u0ac2\\u0ab0\\u0acd\\u0aa3 \\u0a95\\u0ab0\\u0ac0 \\u0ab0\\u0abf\\u0aaa\\u0acb\\u0ab0\\u0acd\\u0a9f \\u0a95\\u0ab2\\u0ac7\\u0a95\\u0acd\\u0a9f\\u0ab0\\u0aa8\\u0ac7 \\u0ab8\\u0acb\\u0aaa\\u0ab5\\u0abe\\u0aae\\u0abe\\u0a82 \\u0a86\\u0ab5\\u0ab6\\u0ac7, \\u0aac\\u0abe\\u0aa6\\u0aae\\u0abe\\u0a82 \\u0a95\\u0abe\\u0ab0\\u0acd\\u0aaf\\u0ab5\\u0abe\\u0ab9\\u0ac0 \\u0a95\\u0ab0\\u0ab5\\u0abe\\u0aae\\u0abe\\u0a82 \\u0a86\\u0ab5\\u0ab6\\u0ac7.\\u0aa1\\u0acb\\u0a95\\u0acd\\u0a9f\\u0ab0 \\u0aac\\u0ab9\\u0abe\\u0ab0 \\u0aa8\\u0ac0\\u0a95\\u0ab3\\u0ac7 \\u0aa4\\u0acb \\u0aa4\\u0ac7\\u0aa8\\u0abe \\u0aa6\\u0abe\\u0a82\\u0aa4 \\u0a95\\u0abe\\u0aa2\\u0ac0 \\u0aa8\\u0abe\\u0a96\\u0ab5\\u0abe \\u0a9b\\u0ac7 - \\u0ab8\\u0a97\\u0abe\\u0aa6\\u0ab0\\u0acd\\u0aa6\\u0ac0\\u0aa8\\u0abe \\u0ab8\\u0a97\\u0abe\\u0a8f \\u0a86\\u0a95\\u0acd\\u0ab7\\u0ac7\\u0aaa \\u0a95\\u0ab0\\u0aa4\\u0abe\\u0a82 \\u0ab5\\u0aa7\\u0ac1\\u0aae\\u0abe\\u0a82 \\u0a9c\\u0aa3\\u0abe\\u0ab5\\u0acd\\u0aaf\\u0ac1\\u0a82 \\u0ab9\\u0aa4\\u0ac1\\u0a82 \\u0a95\\u0ac7 \\u0a93\\u0a95\\u0acd\\u0ab8\\u0abf\\u0a9c\\u0aa8\\u0aa8\\u0acb \\u0aac\\u0abe\\u0a9f\\u0ab2\\u0acb \\u0aac\\u0a82\\u0aa7 \\u0ab9\\u0acb\\u0ab5\\u0abe\\u0aa5\\u0ac0 \\u0a85\\u0aae\\u0abe\\u0ab0\\u0abe \\u0aa6\\u0ab0\\u0acd\\u0aa6\\u0ac0 \\u0aae\\u0ac3\\u0aa4\\u0acd\\u0aaf\\u0ac1 \\u0aaa\\u0abe\\u0aae\\u0acd\\u0aaf\\u0abe \\u0a9b\\u0ac7. \\u0aac\\u0abe\\u0a9f\\u0ab2\\u0acb \\u0aa6\\u0ac0\\u0aa7\\u0acb \\u0a9b\\u0aa4\\u0abe\\u0a82 \\u0a9a\\u0aa1\\u0abe\\u0ab5\\u0acd\\u0aaf\\u0acb \\u0aa8\\u0ab9\\u0ac0\\u0a82. \\u0ab8\\u0a97\\u0abe\\u0a82\\u0a8f \\u0aac\\u0abe\\u0a9f\\u0ab2\\u0abe \\u0a9c\\u0acb\\u0ab5\\u0abe\\u0aa8\\u0ac0 \\u0a9c\\u0ac0\\u0aa6 \\u0aaa\\u0a95\\u0aa1\\u0ac0 \\u0ab9\\u0aa4\\u0ac0, \\u0aaa\\u0ab0\\u0a82\\u0aa4\\u0ac1 \\u0aa1\\u0acb\\u0a95\\u0acd\\u0a9f\\u0ab0 \\u0a9c\\u0acb\\u0ab5\\u0abe \\u0aa6\\u0ac7\\u0ab5\\u0abe \\u0aaa\\u0ab0 \\u0aaa\\u0acd\\u0ab0\\u0aa4\\u0abf\\u0aac\\u0a82\\u0aa7 \\u0ab2\\u0a97\\u0abe\\u0ab5\\u0ac0 \\u0ab0\\u0ab9\\u0acd\\u0aaf\\u0abe \\u0a9b\\u0ac7. \\u0a9c\\u0acb\\u0a95\\u0ac7 \\u0aaa\\u0acb\\u0ab2\\u0ac0\\u0ab8 \\u0aa6\\u0acb\\u0aa1\\u0ac0 \\u0a86\\u0ab5\\u0aa4\\u0abe\\u0a82 \\u0aae\\u0abe\\u0aae\\u0ab2\\u0acb \\u0aa5\\u0abe\\u0ab3\\u0ac7 \\u0aaa\\u0abe\\u0aa1\\u0ab5\\u0abe\\u0aa8\\u0acb \\u0aaa\\u0acd\\u0ab0\\u0aaf\\u0abe\\u0ab8 \\u0a95\\u0ab0\\u0ab5\\u0abe\\u0aae\\u0abe\\u0a82 \\u0a86\\u0ab5\\u0acd\\u0aaf\\u0acb \\u0a9b\\u0ac7. \\u0aaa\\u0acb\\u0ab2\\u0ac0\\u0ab8\\u0aa8\\u0ac7 \\u0aa6\\u0ab0\\u0acd\\u0aa6\\u0ac0\\u0aa8\\u0abe \\u0ab8\\u0a97\\u0abe \\u0a9c\\u0aa3\\u0abe\\u0ab5\\u0ac7 \\u0a9b\\u0ac7 \\u0a95\\u0ac7 \\u0aa1\\u0abf\\u0ab8\\u0acd\\u0a9a\\u0abe\\u0ab0\\u0acd\\u0a9c \\u0a86\\u0aaa\\u0ac0 \\u0aa6\\u0ac7 \\u0aa4\\u0acb \\u0a85\\u0aae\\u0ac7 \\u0a85\\u0aae\\u0abe\\u0ab0\\u0ac0 \\u0ab0\\u0ac0\\u0aa4\\u0ac7 \\u0ab5\\u0acd\\u0aaf\\u0ab5\\u0ab8\\u0acd\\u0aa5\\u0abe \\u0a95\\u0ab0\\u0ac0\\u0a8f. \\u0a85\\u0aae\\u0abe\\u0ab0\\u0abe \\u0aa6\\u0ab0\\u0acd\\u0aa6\\u0ac0 \\u0aae\\u0ab0\\u0ac0 \\u0aa8 \\u0a9c\\u0ab5\\u0abe \\u0a9c\\u0acb\\u0a87\\u0a8f. \\u0aa1\\u0acb\\u0a95\\u0acd\\u0a9f\\u0ab0 \\u0aa4\\u0acb \\u0aa8\\u0ac0\\u0a9a\\u0ac7 \\u0a86\\u0ab5\\u0aa4\\u0abe \\u0aa8\\u0aa5\\u0ac0. \\u0aa1\\u0acb\\u0a95\\u0acd\\u0a9f\\u0ab0 \\u0aac\\u0ab9\\u0abe\\u0ab0 \\u0aa8\\u0ac0\\u0a95\\u0ab3\\u0ac7 \\u0aa4\\u0acb \\u0aa4\\u0ac7\\u0aa8\\u0abe \\u0aa6\\u0abe\\u0a82\\u0aa4 \\u0a95\\u0abe\\u0aa2\\u0ac0 \\u0aa8\\u0abe\\u0a96\\u0ab5\\u0abe \\u0a9b\\u0ac7. \\u0a85\\u0aae\\u0ac7 \\u0a93\\u0a95\\u0acd\\u0ab8\\u0abf\\u0a9c\\u0aa8\\u0aa8\\u0abe \\u0aac\\u0abe\\u0a9f\\u0ab2\\u0abe\\u0aa8\\u0ac0 \\u0ab8\\u0ac1\\u0ab5\\u0abf\\u0aa7\\u0abe \\u0a86\\u0aaa\\u0ac0 \\u0a9b\\u0aa4\\u0abe\\u0a82 \\u0ab8\\u0abe\\u0ab0\\u0ab5\\u0abe\\u0ab0 \\u0aaf\\u0acb\\u0a97\\u0acd\\u0aaf \\u0ab0\\u0ac0\\u0aa4\\u0ac7 \\u0a95\\u0ab0\\u0ab5\\u0abe\\u0aae\\u0abe\\u0a82 \\u0a86\\u0ab5\\u0aa4\\u0ac0 \\u0aa8\\u0aa5\\u0ac0. \\u0aa1\\u0acb\\u0a95\\u0acd\\u0a9f\\u0ab0 \\u0aae\\u0acb\\u0a9f\\u0abe \\u0aae\\u0abf\\u0aa8\\u0abf\\u0ab8\\u0acd\\u0a9f\\u0ab0 \\u0ab9\\u0acb\\u0aaf \\u0aa4\\u0ac7\\u0aae \\u0ab5\\u0abe\\u0aa4 \\u0a95\\u0ab0\\u0ac7 \\u0a9b\\u0ac7, \\u0a8f\\u0ab5\\u0ac1\\u0a82 \\u0aa6\\u0ab0\\u0acd\\u0aa6\\u0ac0\\u0aa8\\u0abe \\u0ab8\\u0a97\\u0abe \\u0ab5\\u0ac0\\u0aa1\\u0abf\\u0aaf\\u0acb\\u0aae\\u0abe\\u0a82 \\u0a9c\\u0aa3\\u0abe\\u0ab5\\u0ac0 \\u0ab0\\u0ab9\\u0acd\\u0aaf\\u0abe \\u0a9b\\u0ac7. \\u0a85\\u0aae\\u0ac1\\u0a95 \\u0aa6\\u0ab0\\u0acd\\u0aa6\\u0ac0\\u0a93\\u0aa8\\u0ac7 \\u0ab0\\u0ac0\\u0aab\\u0ab0 \\u0a95\\u0ab0\\u0ab5\\u0abe\\u0aa8\\u0ac0 \\u0aaa\\u0aa3 \\u0ab8\\u0ac2\\u0a9a\\u0aa8\\u0abe \\u0a86\\u0aaa\\u0ac0 \\u0aa6\\u0ac7\\u0ab5\\u0abe\\u0aae\\u0abe\\u0a82 \\u0a86\\u0ab5\\u0ac0 \\u0ab9\\u0acb\\u0ab5\\u0abe\\u0aa8\\u0ac1\\u0a82 \\u0a9c\\u0abe\\u0aa3\\u0ab5\\u0abe \\u0aae\\u0ab3\\u0acd\\u0aaf\\u0ac1\\u0a82 \\u0a9b\\u0ac7.\\u0aa6\\u0ab0\\u0acd\\u0aa6\\u0ac0\\u0aa8\\u0abe \\u0ab8\\u0a97\\u0abe \\u0a86\\u0a95\\u0acd\\u0ab7\\u0ac7\\u0aaa \\u0a95\\u0ab0\\u0ac7 \\u0a95\\u0ac7 \\u0a93\\u0a95\\u0acd\\u0ab8\\u0abf\\u0a9c\\u0aa8\\u0aa8\\u0ac7 \\u0a95\\u0abe\\u0ab0\\u0aa3\\u0ac7 \\u0aae\\u0ac3\\u0aa4\\u0acd\\u0aaf\\u0ac1 \\u0aa5\\u0aaf\\u0abe \\u0a9b\\u0ac7 \\u0a8f \\u0ab5\\u0abe\\u0aa4 \\u0aa4\\u0aa6\\u0acd\\u0aa6\\u0aa8 \\u0a96\\u0acb\\u0a9f\\u0ac0- \\u0aa1\\u0acb\\u0a95\\u0acd\\u0a9f\\u0ab0\\u0a95\\u0ac1\\u0a82\\u0aa6\\u0aa8 \\u0ab9\\u0acb\\u0ab8\\u0acd\\u0aaa\\u0abf\\u0a9f\\u0ab2\\u0aa8\\u0abe \\u0aa1\\u0acb\\u0a95\\u0acd\\u0a9f\\u0ab0 \\u0aae\\u0aa8\\u0acb\\u0a9c \\u0ab8\\u0ac0\\u0aa1\\u0abe\\u0a8f \\u0aae\\u0ac0\\u0aa1\\u0abf\\u0aaf\\u0abe\\u0aa8\\u0ac7 \\u0a9c\\u0aa3\\u0abe\\u0ab5\\u0acd\\u0aaf\\u0ac1\\u0a82 \\u0ab9\\u0aa4\\u0ac1\\u0a82 \\u0a95\\u0ac7 \\u0a9c\\u0acb 4 \\u0aa6\\u0ab0\\u0acd\\u0aa6\\u0ac0\\u0aa8\\u0abe\\u0a82 \\u0aae\\u0ac3\\u0aa4\\u0acd\\u0aaf\\u0ac1 \\u0aa5\\u0aaf\\u0abe\\u0a82 \\u0a9b\\u0ac7. \\u0aa6\\u0ab0\\u0acd\\u0aa6\\u0ac0\\u0aa8\\u0abe \\u0ab8\\u0a97\\u0abe \\u0a86\\u0a95\\u0acd\\u0ab7\\u0ac7\\u0aaa \\u0a95\\u0ab0\\u0ac7 \\u0a9b\\u0ac7 \\u0a95\\u0ac7 \\u0a93\\u0a95\\u0acd\\u0ab8\\u0abf\\u0a9c\\u0aa8\\u0aa8\\u0ac7 \\u0a95\\u0abe\\u0ab0\\u0aa3\\u0ac7 \\u0aae\\u0ac3\\u0aa4\\u0acd\\u0aaf\\u0ac1 \\u0aa5\\u0aaf\\u0abe\\u0a82 \\u0a9b\\u0ac7, \\u0a8f \\u0ab5\\u0abe\\u0aa4 \\u0aa4\\u0aa6\\u0acd\\u0aa6\\u0aa8 \\u0a96\\u0acb\\u0a9f\\u0ac0 \\u0a9b\\u0ac7. \\u0aa6\\u0ab0\\u0acd\\u0aa6\\u0ac0\\u0aa8\\u0ac0 \\u0ab9\\u0abe\\u0ab2\\u0aa4 \\u0a97\\u0a82\\u0aad\\u0ac0\\u0ab0 \\u0ab9\\u0acb\\u0ab5\\u0abe\\u0aa5\\u0ac0 \\u0aae\\u0ac3\\u0aa4\\u0acd\\u0aaf\\u0ac1 \\u0aaa\\u0abe\\u0aae\\u0acd\\u0aaf\\u0abe \\u0a9b\\u0ac7. \\u0a93\\u0a95\\u0acd\\u0ab8\\u0abf\\u0a9c\\u0aa8 \\u0ab8\\u0aaa\\u0acd\\u0ab2\\u0abe\\u0a87\\u0aa8\\u0ac0 \\u0ab5\\u0abe\\u0aa4 \\u0a96\\u0acb\\u0a9f\\u0ac0 \\u0a9b\\u0ac7. \\u0ab0\\u0abf\\u0aaa\\u0acb\\u0ab0\\u0acd\\u0a9f \\u0a9c\\u0ac7\\u0ab5\\u0abe \\u0a86\\u0ab5\\u0ac7 \\u0a9b\\u0ac7 \\u0a8f\\u0ab5\\u0abe \\u0aa6\\u0ab0\\u0acd\\u0aa6\\u0ac0\\u0aa8\\u0abe \\u0ab8\\u0a97\\u0abe\\u0aa8\\u0ac7 \\u0a9c\\u0abe\\u0aa3 \\u0a95\\u0ab0\\u0ab5\\u0abe\\u0aae\\u0abe\\u0a82 \\u0a86\\u0ab5\\u0ac7 \\u0a9b\\u0ac7, \\u0aaa\\u0ab0\\u0a82\\u0aa4\\u0ac1 \\u0ab0\\u0abf\\u0aaa\\u0acb\\u0ab0\\u0acd\\u0a9f \\u0a86\\u0ab5\\u0aa4\\u0abe\\u0a82 \\u0aaa\\u0abe\\u0a82\\u0a9a \\u0a95\\u0ab2\\u0abe\\u0a95 \\u0aa5\\u0abe\\u0aaf \\u0a9b\\u0ac7 \\u0a8f\\u0a9f\\u0ab2\\u0ac7 \\u0aa6\\u0ab0\\u0acd\\u0aa6\\u0ac0\\u0aa8\\u0abe \\u0ab8\\u0a97\\u0abe \\u0a85\\u0a95\\u0ab3\\u0abe\\u0aaf \\u0a9b\\u0ac7, \\u0a93\\u0a95\\u0acd\\u0ab8\\u0abf\\u0a9c\\u0aa8\\u0aa8\\u0ac0 \\u0a98\\u0a9f \\u0a9b\\u0ac7 \\u0a8f\\u0ab5\\u0ac1\\u0a82 \\u0aa8\\u0aa5\\u0ac0.\\u0a93\\u0a95\\u0acd\\u0ab8\\u0abf\\u0a9c\\u0aa8\\u0aa8\\u0ac0 \\u0a9f\\u0ac7\\u0aa8\\u0acd\\u0a95 \\u0a96\\u0abe\\u0ab2\\u0ac0 \\u0aa5\\u0abe\\u0aaf \\u0a8f\\u0a9f\\u0ab2\\u0ac7 \\u0ab0\\u0abf\\u0aab\\u0abf\\u0ab2\\u0abf\\u0a82\\u0a97\\u0aae\\u0abe\\u0a82 \\u0a9c\\u0abe\\u0aaf \\u0a9b\\u0ac7\\u0aa1\\u0acb\\u0a95\\u0acd\\u0a9f\\u0ab0\\u0ac7 \\u0ab5\\u0aa7\\u0ac1\\u0aae\\u0abe\\u0a82 \\u0a9c\\u0aa3\\u0abe\\u0ab5\\u0acd\\u0aaf\\u0ac1\\u0a82 \\u0ab9\\u0aa4\\u0ac1\\u0a82 \\u0a95\\u0ac7 \\u0aa4\\u0a82\\u0aa4\\u0acd\\u0ab0 \\u0aa6\\u0acd\\u0ab5\\u0abe\\u0ab0\\u0abe \\u0aaa\\u0aa3 \\u0ab5\\u0acd\\u0aaf\\u0ab5\\u0ab8\\u0acd\\u0aa5\\u0abe \\u0a95\\u0ab0\\u0ab5\\u0abe\\u0aae\\u0abe\\u0a82 \\u0a86\\u0ab5\\u0ac7 \\u0a9b\\u0ac7. \\u0a93\\u0a95\\u0acd\\u0ab8\\u0abf\\u0a9c\\u0aa8\\u0aa8\\u0ac0 \\u0a9f\\u0ac7\\u0aa8\\u0acd\\u0a95 \\u0a96\\u0abe\\u0ab2\\u0ac0 \\u0aa5\\u0abe\\u0aaf \\u0a8f\\u0a9f\\u0ab2\\u0ac7 \\u0ab0\\u0abf\\u0aab\\u0abf\\u0ab2\\u0abf\\u0a82\\u0a97\\u0aae\\u0abe\\u0a82 \\u0a9c\\u0abe\\u0aaf \\u0a9b\\u0ac7. \\u0aac\\u0a82\\u0aa8\\u0ac7 \\u0aa6\\u0ab0\\u0acd\\u0aa6\\u0ac0 \\u0a97\\u0a82\\u0aad\\u0ac0\\u0ab0 \\u0ab9\\u0aa4\\u0abe. \\u0a85\\u0aae\\u0abe\\u0ab0\\u0abe\\u0aa5\\u0ac0 \\u0ab5\\u0acd\\u0aaf\\u0ab5\\u0ab8\\u0acd\\u0aa5\\u0abe \\u0aa8 \\u0aa5\\u0abe\\u0aaf \\u0aa4\\u0acb \\u0ab8\\u0a97\\u0abe\\u0a82\\u0aa8\\u0ac7 \\u0a95\\u0ab9\\u0ac7\\u0ab5\\u0abe\\u0aae\\u0abe\\u0a82 \\u0a86\\u0ab5\\u0ac7 \\u0a9b\\u0ac7. \\u0a93\\u0a95\\u0acd\\u0ab8\\u0abf\\u0a9c\\u0aa8 \\u0a86\\u0ab5\\u0aa4\\u0acb \\u0ab9\\u0acb\\u0aaf \\u0aaa\\u0a9b\\u0ac0 \\u0a86\\u0aaa\\u0ab5\\u0abe\\u0aae\\u0abe\\u0a82 \\u0a86\\u0ab5\\u0aa4\\u0acb \\u0aa8\\u0aa5\\u0ac0 \\u0a8f \\u0ab5\\u0abe\\u0aa4 \\u0aaa\\u0aa3 \\u0a96\\u0acb\\u0a9f\\u0ac0 \\u0a9b\\u0ac7. \\u0ab0\\u0abf\\u0aab\\u0abf\\u0ab2\\u0abf\\u0a82\\u0a97\\u0aae\\u0abe\\u0a82 \\u0a9f\\u0abe\\u0a87\\u0aae \\u0ab2\\u0abe\\u0a97\\u0ac7 \\u0aa4\\u0acb \\u0a8f\\u0aae\\u0abe\\u0a82 \\u0a85\\u0aae\\u0ac7 \\u0ab6\\u0ac1\\u0a82 \\u0a95\\u0ab0\\u0ac0 \\u0ab6\\u0a95\\u0ac0\\u0a8f. \\u0ab9\\u0abe\\u0ab2 30 \\u0aa6\\u0ab0\\u0acd\\u0aa6\\u0ac0 \\u0aa6\\u0abe\\u0a96\\u0ab2 \\u0a9b\\u0ac7, \\u0aa4\\u0ac7\\u0aae\\u0abe\\u0a82\\u0aa5\\u0ac0 6 \\u0a95\\u0acd\\u0ab0\\u0abf\\u0a9f\\u0abf\\u0a95\\u0ab2 \\u0a9b\\u0ac7. 12 \\u0aa6\\u0ab0\\u0acd\\u0aa6\\u0ac0 \\u0a93\\u0a95\\u0acd\\u0ab8\\u0abf\\u0a9c\\u0aa8 \\u0aaa\\u0ab0 \\u0a9b\\u0ac7. \\u0a85\\u0aae\\u0ac7 \\u0ab2\\u0ac7\\u0a96\\u0abf\\u0aa4\\u0aae\\u0abe\\u0a82 \\u0aaa\\u0aa3 \\u0a93\\u0a95\\u0acd\\u0ab8\\u0abf\\u0a9c\\u0aa8\\u0aa8\\u0ac0 \\u0ab0\\u0a9c\\u0ac2\\u0a86\\u0aa4 \\u0a95\\u0ab0\\u0ac0 \\u0a9b\\u0ac7.\\u0a93\\u0a95\\u0acd\\u0ab8\\u0abf\\u0a9c\\u0aa8\\u0aa8\\u0ac0 \\u0ab5\\u0acd\\u0aaf\\u0ab5\\u0ab8\\u0acd\\u0aa5\\u0abe \\u0ab8\\u0acd\\u0ab5\\u0a9c\\u0aa8\\u0ac7 \\u0a95\\u0ab0\\u0ab5\\u0abe\\u0aa8\\u0ac0?\\u0a9a\\u0abe\\u0ab0 \\u0a9a\\u0abe\\u0ab0 \\u0aa6\\u0ab0\\u0acd\\u0aa6\\u0ac0\\u0aa8\\u0abe \\u0aae\\u0acb\\u0aa4\\u0aa8\\u0ac7 \\u0aaa\\u0a97\\u0ab2\\u0ac7 \\u0aae\\u0ac3\\u0aa4\\u0a95\\u0aa8\\u0abe \\u0ab8\\u0acd\\u0ab5\\u0a9c\\u0aa8\\u0acb \\u0a8f\\u0a95\\u0aa0\\u0abe \\u0aa5\\u0a87 \\u0a97\\u0aaf\\u0abe \\u0ab9\\u0aa4\\u0abe \\u0a85\\u0aa8\\u0ac7 \\u0ab9\\u0acb\\u0ab8\\u0acd\\u0aaa\\u0abf\\u0a9f\\u0ab2\\u0aa8\\u0abe \\u0ab8\\u0a82\\u0a9a\\u0abe\\u0ab2\\u0a95\\u0acb \\u0ab8\\u0abe\\u0aae\\u0ac7 \\u0a97\\u0a82\\u0aad\\u0ac0\\u0ab0 \\u0a86\\u0a95\\u0acd\\u0ab7\\u0ac7\\u0aaa \\u0a95\\u0ab0\\u0acd\\u0aaf\\u0abe \\u0ab9\\u0aa4\\u0abe. \\u0aae\\u0ac3\\u0aa4\\u0a95\\u0aa8\\u0abe \\u0ab8\\u0acd\\u0ab5\\u0a9c\\u0aa8\\u0acb\\u0a8f \\u0a95\\u0ab9\\u0acd\\u0aaf\\u0ac1\\u0a82 \\u0ab9\\u0aa4\\u0ac1\\u0a82 \\u0a95\\u0ac7, \\u0a85\\u0aa4\\u0acd\\u0aaf\\u0abe\\u0ab0 \\u0ab8\\u0ac1\\u0aa7\\u0ac0\\u0aae\\u0abe\\u0a82 \\u0ab0\\u0ac2.3-3 \\u0ab2\\u0abe\\u0a96 \\u0ab9\\u0acb\\u0ab8\\u0acd\\u0aaa\\u0abf\\u0a9f\\u0ab2\\u0ac7 \\u0ab5\\u0ab8\\u0ac2\\u0ab2\\u0ac0 \\u0ab2\\u0ac0\\u0aa7\\u0abe \\u0a9b\\u0ac7 \\u0a9b\\u0aa4\\u0abe\\u0a82 \\u0a93\\u0a95\\u0acd\\u0ab8\\u0abf\\u0a9c\\u0aa8\\u0aa8\\u0ac0 \\u0ab5\\u0acd\\u0aaf\\u0ab5\\u0ab8\\u0acd\\u0aa5\\u0abe \\u0aa6\\u0ab0\\u0acd\\u0aa6\\u0ac0\\u0aa8\\u0abe \\u0ab8\\u0a82\\u0aac\\u0a82\\u0aa7\\u0ac0\\u0a8f \\u0a95\\u0ab0\\u0ab5\\u0abe\\u0aa8\\u0ac0 \\u0a8f \\u0ab5\\u0abe\\u0aa4 \\u0aaf\\u0acb\\u0a97\\u0acd\\u0aaf \\u0aa8\\u0aa5\\u0ac0. \\u0a93\\u0a95\\u0acd\\u0ab8\\u0abf\\u0a9c\\u0aa8 \\u0a95\\u0ac7 \\u0aa6\\u0ab5\\u0abe \\u0ab8\\u0ab9\\u0abf\\u0aa4\\u0aa8\\u0ac0 \\u0a9f\\u0acd\\u0ab0\\u0ac0\\u0a9f\\u0aae\\u0ac7\\u0aa8\\u0acd\\u0a9f \\u0aaa\\u0ac2\\u0ab0\\u0ac0 \\u0aaa\\u0abe\\u0aa1\\u0ab5\\u0abe\\u0aa8\\u0ac0 \\u0a9c\\u0ab5\\u0abe\\u0aac\\u0aa6\\u0abe\\u0ab0\\u0ac0 \\u0ab9\\u0acb\\u0ab8\\u0acd\\u0aaa\\u0abf\\u0a9f\\u0ab2\\u0aa8\\u0ac0 \\u0a9b\\u0ac7, \\u0ab9\\u0acb\\u0ab8\\u0acd\\u0aaa\\u0abf\\u0a9f\\u0ab2\\u0aa8\\u0abe \\u0ab8\\u0a82\\u0a9a\\u0abe\\u0ab2\\u0a95\\u0acb \\u0aaa\\u0acb\\u0aa4\\u0abe\\u0aa8\\u0abe \\u0aaa\\u0ab0\\u0aa5\\u0ac0 \\u0a9c\\u0ab5\\u0abe\\u0aac\\u0aa6\\u0abe\\u0ab0\\u0ac0 \\u0a95\\u0ac7\\u0ab5\\u0ac0 \\u0ab0\\u0ac0\\u0aa4\\u0ac7 \\u0aab\\u0ac7\\u0a82\\u0a95\\u0ac0 \\u0ab6\\u0a95\\u0ac7?.\\u0aaa\\u0acb\\u0ab2\\u0ac0\\u0ab8\\u0ac7 \\u0a93\\u0a95\\u0acd\\u0ab8\\u0abf\\u0a9c\\u0aa8\\u0aa8\\u0ac0 \\u0a9f\\u0ac7\\u0aa8\\u0acd\\u0a95 \\u0aaa\\u0ab9\\u0acb\\u0a82\\u0a9a\\u0abe\\u0aa1\\u0ac0\\u0a95\\u0ac1\\u0a82\\u0aa6\\u0aa8 \\u0ab9\\u0acb\\u0ab8\\u0acd\\u0aaa\\u0abf\\u0a9f\\u0ab2\\u0aae\\u0abe\\u0a82 \\u0a93\\u0a95\\u0acd\\u0ab8\\u0abf\\u0a9c\\u0aa8 \\u0a96\\u0ac2\\u0a9f\\u0ac0 \\u0a9c\\u0aa4\\u0abe\\u0a82 \\u0a9a\\u0abe\\u0ab0 \\u0aa6\\u0ab0\\u0acd\\u0aa6\\u0ac0\\u0aa8\\u0abe\\u0a82 \\u0aae\\u0acb\\u0aa4 \\u0aa8\\u0ac0\\u0aaa\\u0a9c\\u0acd\\u0aaf\\u0abe \\u0ab9\\u0aa4\\u0abe, \\u0ab9\\u0acb\\u0ab8\\u0acd\\u0aaa\\u0abf\\u0a9f\\u0ab2\\u0aa8\\u0abe \\u0a86\\u0a87\\u0ab8\\u0ac0\\u0aaf\\u0ac1 \\u0ab5\\u0acb\\u0ab0\\u0acd\\u0aa1\\u0aae\\u0abe\\u0a82 \\u0ab9\\u0a9c\\u0ac1 \\u0aaa\\u0aa3 \\u0a85\\u0aa8\\u0ac7\\u0a95 \\u0aa6\\u0ab0\\u0acd\\u0aa6\\u0ac0 \\u0ab8\\u0abe\\u0ab0\\u0ab5\\u0abe\\u0ab0 \\u0ab2\\u0a87 \\u0ab0\\u0ab9\\u0acd\\u0aaf\\u0abe \\u0ab9\\u0aa4\\u0abe \\u0a85\\u0aa8\\u0ac7 \\u0aa4\\u0ac7 \\u0aa6\\u0ab0\\u0acd\\u0aa6\\u0ac0\\u0aa8\\u0abe \\u0a9c\\u0ac0\\u0ab5 \\u0aaa\\u0ab0 \\u0a9c\\u0acb\\u0a96\\u0aae \\u0a9d\\u0ab3\\u0ac1\\u0a82\\u0aac\\u0ac0 \\u0ab0\\u0ab9\\u0acd\\u0aaf\\u0acb \\u0ab9\\u0aa4\\u0acb, \\u0ab9\\u0acb\\u0ab8\\u0acd\\u0aaa\\u0abf\\u0a9f\\u0ab2\\u0aae\\u0abe\\u0a82 \\u0a93\\u0a95\\u0acd\\u0ab8\\u0abf\\u0a9c\\u0aa8 \\u0a96\\u0ac2\\u0a9f\\u0acd\\u0aaf\\u0abe \\u0a85\\u0a82\\u0a97\\u0ac7\\u0aa8\\u0ac0 \\u0aad\\u0a95\\u0acd\\u0aa4\\u0abf\\u0aa8\\u0a97\\u0ab0 \\u0aaa\\u0acb\\u0ab2\\u0ac0\\u0ab8 \\u0ab8\\u0acd\\u0a9f\\u0ac7\\u0ab6\\u0aa8\\u0aa8\\u0abe \\u0aaa\\u0ac0\\u0a86\\u0a87 \\u0a9d\\u0abe\\u0ab2\\u0abe\\u0a8f \\u0a9c\\u0abe\\u0aa3 \\u0a95\\u0ab0\\u0aa4\\u0abe\\u0a82 \\u0aaa\\u0acb\\u0ab2\\u0ac0\\u0ab8 \\u0a95\\u0aae\\u0abf\\u0ab6\\u0aa8\\u0ab0 \\u0aae\\u0aa8\\u0acb\\u0a9c \\u0a85\\u0a97\\u0acd\\u0ab0\\u0ab5\\u0abe\\u0ab2 \\u0ab9\\u0ab0\\u0a95\\u0aa4\\u0aae\\u0abe\\u0a82 \\u0a86\\u0ab5\\u0acd\\u0aaf\\u0abe \\u0ab9\\u0aa4\\u0abe \\u0a85\\u0aa8\\u0ac7 \\u0aa4\\u0ac7\\u0aae\\u0aa3\\u0ac7 \\u0aa4\\u0abe\\u0a95\\u0ac0\\u0aa6\\u0ac7 \\u0a93\\u0a95\\u0acd\\u0ab8\\u0abf\\u0a9c\\u0aa8 \\u0a9f\\u0ac7\\u0aa8\\u0acd\\u0a95\\u0aa8\\u0ac0 \\u0ab5\\u0acd\\u0aaf\\u0ab5\\u0ab8\\u0acd\\u0aa5\\u0abe \\u0a95\\u0ab0\\u0abe\\u0ab5\\u0ac0 \\u0ab9\\u0acb\\u0ab8\\u0acd\\u0aaa\\u0abf\\u0a9f\\u0ab2 \\u0a96\\u0abe\\u0aa4\\u0ac7 \\u0aaa\\u0ab9\\u0acb\\u0a82\\u0a9a\\u0abe\\u0aa1\\u0ac0 \\u0ab9\\u0aa4\\u0ac0 \\u0a85\\u0aa8\\u0ac7 \\u0a93\\u0a95\\u0acd\\u0ab8\\u0abf\\u0a9c\\u0aa8 \\u0aae\\u0ab3\\u0ac0 \\u0ab0\\u0ab9\\u0ac7\\u0aa4\\u0abe \\u0a85\\u0aa8\\u0acd\\u0aaf \\u0aa6\\u0ab0\\u0acd\\u0aa6\\u0ac0\\u0a93\\u0aa8\\u0ac7 \\u0ab0\\u0abe\\u0ab9\\u0aa4 \\u0aae\\u0ab3\\u0ac0 \\u0ab9\\u0aa4\\u0ac0.\"\n        ],\n        \"semantic_type\": \"\",\n        \"description\": \"\"\n      }\n    }\n  ]\n}"
            }
          },
          "metadata": {},
          "execution_count": 5
        }
      ]
    },
    {
      "cell_type": "markdown",
      "source": [
        "# Cleaning the Data"
      ],
      "metadata": {
        "id": "5G0mqcrPwuFI"
      }
    },
    {
      "cell_type": "code",
      "source": [
        "import re\n",
        "def remove_emojis(data):\n",
        "    emoj = re.compile(\"[\"\n",
        "        u\"\\U0001F600-\\U0001F64F\"  # emoticons\n",
        "        u\"\\U0001F300-\\U0001F5FF\"  # symbols & pictographs\n",
        "        u\"\\U0001F680-\\U0001F6FF\"  # transport & map symbols\n",
        "        u\"\\U0001F1E0-\\U0001F1FF\"  # flags (iOS)\n",
        "        u\"\\U00002500-\\U00002BEF\"  # chinese char\n",
        "        u\"\\U00002702-\\U000027B0\"\n",
        "        u\"\\U00002702-\\U000027B0\"\n",
        "        u\"\\U000024C2-\\U0001F251\"\n",
        "        u\"\\U0001f926-\\U0001f937\"\n",
        "        u\"\\U00010000-\\U0010ffff\"\n",
        "        u\"\\u2640-\\u2642\"\n",
        "        u\"\\u2600-\\u2B55\"\n",
        "        u\"\\u200d\"\n",
        "        u\"\\u23cf\"\n",
        "        u\"\\u23e9\"\n",
        "        u\"\\u231a\"\n",
        "        u\"\\ufe0f\"  # dingbats\n",
        "        u\"\\u3030\"\n",
        "                      \"]+\", re.UNICODE)\n",
        "    return re.sub(emoj, ' ', data)\n",
        "\n",
        "def preprocess_tokenize(text):\n",
        "    # for removing punctuation from sentences\n",
        "    text = str(text)\n",
        "    text = re.sub(r'(\\d+)', r'', text)\n",
        "\n",
        "    text = text.replace('\\n', ' ')\n",
        "    text = text.replace('\\r', ' ')\n",
        "    text = text.replace('\\t', ' ')\n",
        "    text = text.replace('\\u200d', '')\n",
        "    text=re.sub(\"(__+)\", ' ', str(text)).lower()   #remove _ if it occors more than one time consecutively\n",
        "    text=re.sub(\"(--+)\", ' ', str(text)).lower()   #remove - if it occors more than one time consecutively\n",
        "    text=re.sub(\"(~~+)\", ' ', str(text)).lower()   #remove ~ if it occors more than one time consecutively\n",
        "    text=re.sub(\"(\\+\\++)\", ' ', str(text)).lower()   #remove + if it occors more than one time consecutively\n",
        "    text=re.sub(\"(\\.\\.+)\", ' ', str(text)).lower()   #remove . if it occors more than one time consecutively\n",
        "    text=re.sub(r\"[<>()|&©@#ø\\[\\]\\'\\\",;:?.~*!]\", ' ', str(text)).lower() #remove <>()|&©ø\"',;?~*!\n",
        "    text = re.sub(r\"[‘’।:]\", \" \", str(text)) #removing other special characters\n",
        "    text = re.sub(\"([a-zA-Z])\",' ',str(text)).lower()\n",
        "    text = re.sub(\"(\\s+)\",' ',str(text)).lower()\n",
        "    text = remove_emojis(text)\n",
        "    return text"
      ],
      "metadata": {
        "id": "8wm1SXSsw10n"
      },
      "execution_count": null,
      "outputs": []
    },
    {
      "cell_type": "code",
      "source": [
        "df_train_target = df_train['Heading']\n",
        "df_train_source = df_train['Article']"
      ],
      "metadata": {
        "id": "lLzYHVG8w7ep"
      },
      "execution_count": null,
      "outputs": []
    },
    {
      "cell_type": "code",
      "source": [
        "tokenized_corpus_target = [preprocess_tokenize(x) for x in df_train_target]  #these are headlines\n",
        "tokenized_corpus_source = [preprocess_tokenize(x) for x in df_train_source]  #these are articles"
      ],
      "metadata": {
        "id": "6keAP8UTxRJE"
      },
      "execution_count": null,
      "outputs": []
    },
    {
      "cell_type": "code",
      "source": [
        "print(tokenized_corpus_target[0])\n",
        "print(tokenized_corpus_source[0])"
      ],
      "metadata": {
        "colab": {
          "base_uri": "https://localhost:8080/"
        },
        "id": "k2PwUXL7xnzs",
        "outputId": "01cd5a61-43f2-4ca9-ab88-aa3505c41a87"
      },
      "execution_count": null,
      "outputs": [
        {
          "output_type": "stream",
          "name": "stdout",
          "text": [
            "ગેરરીતિ મામલે કાર્યવાહી મોરબીમાં ઈમ્પેક્ટ ફી વસૂલાતમાં ગેરરીતિ સામે આવી ત્રણ હંગામી કર્મચારીને છુટા કરાયા\n",
            "વિશ્વના બીજા નંબરના સૌથી મોટા સિરામીક ઉદ્યોગનુ હબ બનેલા મોરબી શહેરમાં ગેરકાયદેસર બાંધકામો છડેચોક બંધાઈ રહ્યા છે ત્યારે ભુતકાળમાં ઈમ્પેક્ટ ફી મામલે થયેલી ગેરરીતિઓ ઉપરથી પરદો ઉચકવા નવનિયુક્ત ચીફ ઓફિસરે સાત દિવસમાં ઈમ્પેક્ટ ફી વસુલાતનું સઘળું રેકોર્ડ રજૂ કરવા જવાબદાર કર્મચારીઓને તાકીદ કરી હતી છતાં જવાબદાર કર્મચારીઓ દ્વારા રેકર્ડ રજૂ ન કરતા આજે ચીફ ઓફિસર દ્વારા ત્રણ હંગામી ફિક્સ વેતન કર્મચારીઓની સેવાનો અંત લાવી તાત્કાલિક અસરથી છુટા કરવા આદેશ આપ્યા હતા જેને લઈ નગરપાલિકા કચેરીમાં ખળભળાટ મચી ગયો છે આજ રોજ મોરબી પાલિકાના નવનિયુક્ત ચીફ ઓફિસર સંદીપસિંહ ઝાલા દ્વારા નગરપાલિકા વિસ્તારમાં ઈમ્પેક્ટ-ફી અધીનીયમ હેઠળ જે ગેરરીતીઓ હાથ ધરાયેલી હતી તેની તપાસ કરી દિન- સાત માં તેનો અહેવાલ અત્રેની સમક્ષ રજુ કરવાનો હુકમ કરવામાં આવ્યો હતો પરંતુ આ મામલે જવાબદાર એવા ત્રણ કર્મચારીઓ દ્વારા અક્ષમ્ય બેદરકારી દાખવવામાં આવી હતી નગરપાલિકાની શાખ અને સ્વભંડોળને થઇ રહેલા નુકશાન પહોંચાડ્યાનું જણાવી હંગામી ફિક્સ વેતન કર્મચારી જયદીપ સોરઠીયા ધીરુભાઈ સુરેલીયા અને વિવેક દવેની સેવાઓને કરારને તાત્કાલિક અસરથી અંત લાવવાનો હુકમ કર્યો હતો વધુમાં ચીફ ઓફિસર દ્વારા નગરપાલિકાના કાયમી કર્મચારી વિનુભાઈ બારહટને આ કાર્યાલય આદેશ હેઠળ બે દિવસમાં ઈમ્પેક્ટ-ફી અધિનિયમ હેઠળનું સમગ્ર રેકર્ડ રજુ કરવાનો આદેશ આપ્યો હતો તેમજ કામમાં વિલંબ બદલ દિન- ત્રણ માં લેખિતમાં વિલંબ બદલનો ખુલાસો રજુ કરવા આદેશ કરતા નગરપાલિકાના કાયમી કર્મચારીઓમાં ભારે ગણગણાટ શરૂ થયો છે \n"
          ]
        }
      ]
    },
    {
      "cell_type": "markdown",
      "source": [
        "# Visualizing the Data"
      ],
      "metadata": {
        "id": "xn0bOX9Jygju"
      }
    },
    {
      "cell_type": "code",
      "source": [
        "text_word_count = []\n",
        "summary_word_count = []\n",
        "\n",
        "# populate the lists with sentence lengths\n",
        "for i in tokenized_corpus_source[:df_train.shape[0]]:\n",
        "      text_word_count.append(len(i.split()))\n",
        "\n",
        "for i in tokenized_corpus_target[:df_train.shape[0]]:\n",
        "      summary_word_count.append(len(i.split()))\n",
        "\n",
        "fig , ax = plt.subplots(1,2)\n",
        "fig.set_size_inches(10,5)\n",
        "ax[0].hist(text_word_count, bins=25, range=[0, 1000])\n",
        "ax[1].hist(summary_word_count, bins=25, range=[0, 80])\n",
        "ax[0].set_xlabel(\"No. of words in Text\")\n",
        "ax[0].set_ylabel(\"Frequency\")\n",
        "ax[1].set_xlabel(\"No. of words in Summary\")\n",
        "ax[1].set_ylabel(\"Frequency\")\n",
        "fig.suptitle('Distribution of training data')\n",
        "plt.show()"
      ],
      "metadata": {
        "colab": {
          "base_uri": "https://localhost:8080/"
        },
        "id": "uVAXff6dyj2E",
        "outputId": "df8421ee-f6d4-4e20-cdae-cf36942cb49d"
      },
      "execution_count": null,
      "outputs": [
        {
          "output_type": "display_data",
          "data": {
            "text/plain": [
              "<Figure size 1000x500 with 2 Axes>"
            ],
            "image/png": "[encoded data removed]"
          },
          "metadata": {}
        }
      ]
    },
    {
      "cell_type": "code",
      "source": [
        "for i in tokenized_corpus_source[:-df_test.shape[0]]:\n",
        "      text_word_count.append(len(i.split()))\n",
        "\n",
        "for i in tokenized_corpus_target[:-df_test.shape[0]]:\n",
        "      summary_word_count.append(len(i.split()))\n",
        "\n",
        "fig , ax = plt.subplots(1,2)\n",
        "fig.set_size_inches(10,5)\n",
        "ax[0].hist(text_word_count, bins=25, range=[0, 1000])\n",
        "ax[1].hist(summary_word_count, bins=25, range=[0, 80])\n",
        "ax[0].set_xlabel(\"No. of words in Text\")\n",
        "ax[0].set_ylabel(\"Frequency\")\n",
        "ax[1].set_xlabel(\"No. of words in Summary\")\n",
        "ax[1].set_ylabel(\"Frequency\")\n",
        "fig.suptitle('Distribution of Testing data')\n",
        "plt.show()"
      ],
      "metadata": {
        "colab": {
          "base_uri": "https://localhost:8080/"
        },
        "id": "MCkH0AcLzNZM",
        "outputId": "616ff3e5-75a5-4fb4-f9f9-3a080d037a7b"
      },
      "execution_count": null,
      "outputs": [
        {
          "output_type": "display_data",
          "data": {
            "text/plain": [
              "<Figure size 1000x500 with 2 Axes>"
            ],
            "image/png": "[encoded data removed]"
          },
          "metadata": {}
        }
      ]
    },
    {
      "cell_type": "code",
      "source": [
        "news = df_train\n",
        "news['Text_Cleaned'] = tokenized_corpus_source\n",
        "print(\"::::: Text_Cleaned :::::\")\n",
        "print(news['Text_Cleaned'][0:5], \"\\n\")\n",
        "\n",
        "\n",
        "news['Summary_Cleaned'] =  tokenized_corpus_target\n",
        "print(\"::::: Summary :::::\")\n",
        "print(news['Summary_Cleaned'][0:5], \"\\n\")\n",
        "\n",
        "corpus = list(news['Text_Cleaned'])"
      ],
      "metadata": {
        "colab": {
          "base_uri": "https://localhost:8080/"
        },
        "id": "vXQk26ts1Qhs",
        "outputId": "b3560023-9ded-435f-da80-15b82431969d"
      },
      "execution_count": null,
      "outputs": [
        {
          "output_type": "stream",
          "name": "stdout",
          "text": [
            "::::: Text_Cleaned :::::\n",
            "0    વિશ્વના બીજા નંબરના સૌથી મોટા સિરામીક ઉદ્યોગનુ...\n",
            "1    ચોરાસી કડવા પાટીદાર સમાજની કારોબારી સભામાં ભાગ...\n",
            "2    ધ્રાંગધ્રા- સોખડા ગામ પાસેથી લખતરથી ખેરવા જતી ...\n",
            "3    જૂન-માં કોરોનાની મહામારી પરાકાષ્ઠાએ હતી તે સમય...\n",
            "4    અમદાવાદઃ સુરતના અમરોલીમાં પોલીસ સ્ટેશન વિસ્તાર...\n",
            "Name: Text_Cleaned, dtype: object \n",
            "\n",
            "::::: Summary :::::\n",
            "0    ગેરરીતિ મામલે કાર્યવાહી મોરબીમાં ઈમ્પેક્ટ ફી વ...\n",
            "1    રજૂઆત ભાગીને લગ્ન કરતી દીકરી માટે લગ્ન નોંધણીમ...\n",
            "2    રજૂઆત લખતરથી ખેરવા જતી માઇનોર કેનાલ બિસ્માર હા...\n",
            "3    વડોદરામાં નર્સની ફરજ નિષ્ઠા પતિ સરહદ પર દેશની ...\n",
            "4     મંદિરના ગેટ આગળ બહાર દારૂ પીવાની ના પાડતા યુવ...\n",
            "Name: Summary_Cleaned, dtype: object \n",
            "\n"
          ]
        }
      ]
    },
    {
      "cell_type": "code",
      "source": [
        "text_count = []\n",
        "summary_count = []\n",
        "\n",
        "for sent in news['Text_Cleaned']:\n",
        "    text_count.append(len(sent.split()))\n",
        "for sent in news['Summary_Cleaned']:\n",
        "    summary_count.append(len(sent.split()))\n",
        "\n",
        "graph_df = pd.DataFrame()\n",
        "graph_df['text'] = text_count\n",
        "graph_df['summary'] = summary_count"
      ],
      "metadata": {
        "id": "szsFNlT12BpL"
      },
      "execution_count": null,
      "outputs": []
    },
    {
      "cell_type": "code",
      "source": [
        "graph_df['text'].describe()"
      ],
      "metadata": {
        "colab": {
          "base_uri": "https://localhost:8080/"
        },
        "id": "jRllKkC52Dv2",
        "outputId": "5024d5cc-4b9f-4bc7-878d-84c22f7589d6"
      },
      "execution_count": null,
      "outputs": [
        {
          "output_type": "execute_result",
          "data": {
            "text/plain": [
              "count    8457.000000\n",
              "mean      353.102164\n",
              "std       152.966258\n",
              "min        23.000000\n",
              "25%       268.000000\n",
              "50%       325.000000\n",
              "75%       403.000000\n",
              "max      2540.000000\n",
              "Name: text, dtype: float64"
            ]
          },
          "metadata": {},
          "execution_count": 14
        }
      ]
    },
    {
      "cell_type": "code",
      "source": [
        "graph_df['summary'].describe()"
      ],
      "metadata": {
        "colab": {
          "base_uri": "https://localhost:8080/"
        },
        "id": "PYyiXPij2IJC",
        "outputId": "9d5a453f-f58e-45e5-8f8c-0595b3d6c0d6"
      },
      "execution_count": null,
      "outputs": [
        {
          "output_type": "execute_result",
          "data": {
            "text/plain": [
              "count    8457.000000\n",
              "mean       14.320208\n",
              "std         3.593311\n",
              "min         4.000000\n",
              "25%        12.000000\n",
              "50%        14.000000\n",
              "75%        16.000000\n",
              "max        32.000000\n",
              "Name: summary, dtype: float64"
            ]
          },
          "metadata": {},
          "execution_count": 15
        }
      ]
    },
    {
      "cell_type": "code",
      "source": [
        "graph_df['text'].hist(bins = 25, range=(0, 1000))\n",
        "plt.show()"
      ],
      "metadata": {
        "colab": {
          "base_uri": "https://localhost:8080/"
        },
        "id": "7H5FSJeh2MGU",
        "outputId": "6a6b2b38-06c9-42d2-f409-2dee9195796b"
      },
      "execution_count": null,
      "outputs": [
        {
          "output_type": "display_data",
          "data": {
            "text/plain": [
              "<Figure size 640x480 with 1 Axes>"
            ],
            "image/png": "[encoded data removed]"
          },
          "metadata": {}
        }
      ]
    },
    {
      "cell_type": "code",
      "source": [
        "graph_df['summary'].hist(bins = 15, range=(0, 30))\n",
        "plt.show()"
      ],
      "metadata": {
        "colab": {
          "base_uri": "https://localhost:8080/"
        },
        "id": "5DoDRlTg2P_h",
        "outputId": "8ead59d2-537e-4534-e76f-021eacca0e8c"
      },
      "execution_count": null,
      "outputs": [
        {
          "output_type": "display_data",
          "data": {
            "text/plain": [
              "<Figure size 640x480 with 1 Axes>"
            ],
            "image/png": "[encoded data removed]"
          },
          "metadata": {}
        }
      ]
    },
    {
      "cell_type": "code",
      "source": [
        "max_text_len = 1000\n",
        "max_summary_len = 30"
      ],
      "metadata": {
        "id": "R-GsP6O825Lb"
      },
      "execution_count": null,
      "outputs": []
    },
    {
      "cell_type": "code",
      "source": [
        "cleaned_text = np.array(news['Text_Cleaned'])\n",
        "cleaned_summary = np.array(news['Summary_Cleaned'])\n",
        "\n",
        "short_text = []\n",
        "short_summary = []\n",
        "\n",
        "for i in range(len(cleaned_text)):\n",
        "    if(len(cleaned_summary[i].split()) <= max_summary_len\n",
        "       and len(cleaned_summary[i].split()) > 1\n",
        "       and len(cleaned_text[i].split()) <= max_text_len):\n",
        "        short_text.append(cleaned_text[i])\n",
        "        short_summary.append(cleaned_summary[i])\n",
        "    elif((len(cleaned_summary[i].split()) > max_summary_len) or (len(cleaned_text[i].split()) > max_text_len)):\n",
        "        summ = cleaned_summary[i].split()\n",
        "        txt = cleaned_text[i].split()\n",
        "        if(len(summ)>max_summary_len):\n",
        "          short_summary.append(' '.join(summ[:max_summary_len]))\n",
        "        else:\n",
        "          short_summary.append(cleaned_summary[i])\n",
        "        if(len(txt)>max_text_len):\n",
        "          short_text.append(' '.join(txt[:max_text_len]))\n",
        "        else:\n",
        "          short_text.append(cleaned_text[i])\n",
        "\n",
        "post_pre = pd.DataFrame({'text':short_text,'summary':short_summary})"
      ],
      "metadata": {
        "id": "laWB7Jte3JYv"
      },
      "execution_count": null,
      "outputs": []
    },
    {
      "cell_type": "code",
      "source": [
        "post_pre['summary'] = post_pre['summary'].apply(lambda x : 'sostok '+ x + ' eostok')\n",
        "post_pre['text'] = post_pre['text'].apply(lambda x: 'sostok ' + x + ' eostok')\n",
        "cleaned_summary = np.array(post_pre['summary'])\n",
        "cleaned_text = np.array(post_pre['text'])\n",
        "print(\"Cleaned Text's size -\", cleaned_text.shape[0])\n",
        "print(\"Cleaned Summary's size -\", cleaned_summary.shape[0])"
      ],
      "metadata": {
        "colab": {
          "base_uri": "https://localhost:8080/"
        },
        "id": "LrPcZQ9f3Qo7",
        "outputId": "e66c768c-96b2-4844-dc4a-3bc4a2c26f9d"
      },
      "execution_count": null,
      "outputs": [
        {
          "output_type": "stream",
          "name": "stdout",
          "text": [
            "Cleaned Text's size - 8457\n",
            "Cleaned Summary's size - 8457\n"
          ]
        }
      ]
    },
    {
      "cell_type": "markdown",
      "source": [
        "# Tokenization, Padding and Saving Final Input File"
      ],
      "metadata": {
        "id": "okbKsZjd3qIg"
      }
    },
    {
      "cell_type": "code",
      "source": [
        "from keras.preprocessing.text import Tokenizer\n",
        "from keras.preprocessing.sequence import pad_sequences"
      ],
      "metadata": {
        "id": "8I7_KpZT3uJy"
      },
      "execution_count": null,
      "outputs": []
    },
    {
      "cell_type": "code",
      "source": [
        "#Tokenize text to get the vocab count\n",
        "#prepare a tokenizer for training data\n",
        "text_tokenizer = Tokenizer()\n",
        "text_tokenizer.fit_on_texts(list(cleaned_text))\n",
        "\n",
        "#prepare a tokenizer for reviews on training data\n",
        "summary_tokenizer = Tokenizer()\n",
        "summary_tokenizer.fit_on_texts(list(cleaned_summary))"
      ],
      "metadata": {
        "id": "-s-g6GRD34RU"
      },
      "execution_count": null,
      "outputs": []
    },
    {
      "cell_type": "code",
      "source": [
        "vocab = text_tokenizer.word_index\n",
        "import random\n",
        "def sample_from_dict(d, sample=10):\n",
        "    keys = random.sample(list(d), sample)\n",
        "    values = [d[k] for k in keys]\n",
        "    return dict(zip(keys, values))\n",
        "\n",
        "print(sample_from_dict(vocab))\n",
        "print(\"Length of Vocab -\", len(vocab))"
      ],
      "metadata": {
        "colab": {
          "base_uri": "https://localhost:8080/"
        },
        "id": "3rgLJoVp361C",
        "outputId": "4a2aa04d-8c56-4258-cecb-3c7501345896"
      },
      "execution_count": null,
      "outputs": [
        {
          "output_type": "stream",
          "name": "stdout",
          "text": [
            "{'બીમારીવાળા': 64644, 'પીપીઓમાં': 98249, 'બંગ્લા': 92699, 'તરીકે': 196, 'પ્રયાણ': 16267, 'મેમ્બરની': 69155, 'નિવૃતિને': 86418, 'મેઘાણીનગર': 7817, 'નાઈઝિરીયા': 98483, 'એડવર્ટાઇઝમેન્ટ': 47983}\n",
            "Length of Vocab - 137191\n"
          ]
        }
      ]
    },
    {
      "cell_type": "code",
      "source": [
        "thresh=4\n",
        "cnt=0\n",
        "tot_cnt=0\n",
        "freq=0\n",
        "tot_freq=0\n",
        "\n",
        "for key,value in text_tokenizer.word_counts.items():\n",
        "    tot_cnt=tot_cnt+1\n",
        "    tot_freq=tot_freq+value\n",
        "    if(value<thresh):\n",
        "        cnt=cnt+1\n",
        "        freq=freq+value\n",
        "\n",
        "print(\"% of rare words in vocabulary in Text:\",(cnt/tot_cnt)*100)\n",
        "print(\"Total Coverage of rare words in Text:\",(freq/tot_freq)*100)"
      ],
      "metadata": {
        "colab": {
          "base_uri": "https://localhost:8080/"
        },
        "id": "-07TV0rM4ID-",
        "outputId": "b5e1e947-d7e2-4f92-d2fb-776824274871"
      },
      "execution_count": null,
      "outputs": [
        {
          "output_type": "stream",
          "name": "stdout",
          "text": [
            "% of rare words in vocabulary in Text: 71.59143092476911\n",
            "Total Coverage of rare words in Text: 4.567459039074123\n"
          ]
        }
      ]
    },
    {
      "cell_type": "code",
      "source": [
        "# #prepare a tokenizer for reviews on training data\n",
        "text_tokenizer = Tokenizer(num_words = tot_cnt - cnt)\n",
        "text_tokenizer.fit_on_texts(list(cleaned_text))\n",
        "\n",
        "#convert text sequences into integer sequences (i.e one-hot encodeing all the words)\n",
        "text__seq    =   text_tokenizer.texts_to_sequences(cleaned_text)\n",
        "#padding zero upto maximum length\n",
        "cleaned_text    =   pad_sequences(text__seq,  maxlen=max_text_len, padding='post')\n",
        "\n",
        "#size of vocabulary ( +1 for padding token)\n",
        "text_voc   =  text_tokenizer.num_words + 1\n",
        "\n",
        "print(\"Size of vocabulary in Text = {}\".format(text_voc))"
      ],
      "metadata": {
        "colab": {
          "base_uri": "https://localhost:8080/"
        },
        "id": "MFITHqE34Oxb",
        "outputId": "eba363d5-73f7-4c9f-c4a7-05316b354cd9"
      },
      "execution_count": null,
      "outputs": [
        {
          "output_type": "stream",
          "name": "stdout",
          "text": [
            "Size of vocabulary in Text = 38975\n"
          ]
        }
      ]
    },
    {
      "cell_type": "code",
      "source": [
        "thresh=4\n",
        "cnt=0\n",
        "tot_cnt=0\n",
        "freq=0\n",
        "tot_freq=0\n",
        "\n",
        "for key,value in summary_tokenizer.word_counts.items():\n",
        "    tot_cnt=tot_cnt+1\n",
        "    tot_freq=tot_freq+value\n",
        "    if(value<thresh):\n",
        "        cnt=cnt+1\n",
        "        freq=freq+value\n",
        "\n",
        "print(\"% of rare words in vocabulary in Summary:\",(cnt/tot_cnt)*100)\n",
        "print(\"Total Coverage of rare words in Summary:\",(freq/tot_freq)*100)"
      ],
      "metadata": {
        "colab": {
          "base_uri": "https://localhost:8080/"
        },
        "id": "98zauWyK4SaS",
        "outputId": "cd9e2b36-7d53-4180-9a26-040a7be0d292"
      },
      "execution_count": null,
      "outputs": [
        {
          "output_type": "stream",
          "name": "stdout",
          "text": [
            "% of rare words in vocabulary in Summary: 79.5376535296307\n",
            "Total Coverage of rare words in Summary: 18.873626373626372\n"
          ]
        }
      ]
    },
    {
      "cell_type": "code",
      "source": [
        "#prepare a tokenizer for reviews on training data\n",
        "summary_tokenizer = Tokenizer(num_words = tot_cnt - cnt)\n",
        "summary_tokenizer.fit_on_texts(list(cleaned_summary))\n",
        "\n",
        "#convert text sequences into integer sequences (i.e one-hot encodeing all the words)\n",
        "summary__seq    =   summary_tokenizer.texts_to_sequences(cleaned_summary)\n",
        "#padding zero upto maximum length\n",
        "cleaned_summary    =   pad_sequences(summary__seq,  maxlen=max_summary_len, padding='post')\n",
        "\n",
        "#size of vocabulary ( +1 for padding token)\n",
        "summary_voc   =  summary_tokenizer.num_words + 1\n",
        "\n",
        "print(\"Size of vocabulary in Summary = {}\".format(summary_voc))"
      ],
      "metadata": {
        "colab": {
          "base_uri": "https://localhost:8080/"
        },
        "id": "LrpYlfBL4lHi",
        "outputId": "07dcb9c8-2656-485c-ec8c-fb059be266f5"
      },
      "execution_count": null,
      "outputs": [
        {
          "output_type": "stream",
          "name": "stdout",
          "text": [
            "Size of vocabulary in Summary = 4949\n"
          ]
        }
      ]
    },
    {
      "cell_type": "code",
      "source": [
        "summary_tokenizer.word_counts['sostok'], len(cleaned_summary)"
      ],
      "metadata": {
        "colab": {
          "base_uri": "https://localhost:8080/"
        },
        "id": "SHqGyFqM458X",
        "outputId": "3ee8237d-1b2d-4307-efb4-3ca80b9dd8b8"
      },
      "execution_count": null,
      "outputs": [
        {
          "output_type": "execute_result",
          "data": {
            "text/plain": [
              "(8457, 8457)"
            ]
          },
          "metadata": {},
          "execution_count": 28
        }
      ]
    },
    {
      "cell_type": "code",
      "source": [
        "import pickle\n",
        "pathToFolder = '/content/drive/MyDrive/Languages/Gujarati Language Text Summarization/'\n",
        "with open(pathToFolder + 'text_tokenizer.pickle', 'wb') as handle:\n",
        "    pickle.dump(text_tokenizer, handle, protocol=pickle.HIGHEST_PROTOCOL)\n",
        "\n",
        "with open(pathToFolder + 'summary_tokenizer.pickle', 'wb') as handle:\n",
        "    pickle.dump(summary_tokenizer, handle, protocol=pickle.HIGHEST_PROTOCOL)"
      ],
      "metadata": {
        "id": "qGUgQ2OR5EFH"
      },
      "execution_count": null,
      "outputs": []
    },
    {
      "cell_type": "code",
      "source": [
        "ind=[]\n",
        "for i in range(len(cleaned_summary)):\n",
        "    cnt=0\n",
        "    for j in cleaned_summary[i]:\n",
        "        if j!=0:\n",
        "            cnt=cnt+1\n",
        "    if(cnt==2):\n",
        "        ind.append(i)\n",
        "\n",
        "cleaned_text = np.delete(cleaned_text, ind, axis=0)\n",
        "cleaned_summary = np.delete(cleaned_summary, ind, axis=0)"
      ],
      "metadata": {
        "id": "lf4w5L9-5Z2s"
      },
      "execution_count": null,
      "outputs": []
    },
    {
      "cell_type": "code",
      "source": [
        "print(\"cleaned text's size \",cleaned_text.shape)\n",
        "print(\"cleaned summary's size \",cleaned_summary.shape)"
      ],
      "metadata": {
        "colab": {
          "base_uri": "https://localhost:8080/"
        },
        "id": "G--mVGgb5dRH",
        "outputId": "46c5488f-d85f-452e-c2d3-9e7bc5d02332"
      },
      "execution_count": null,
      "outputs": [
        {
          "output_type": "stream",
          "name": "stdout",
          "text": [
            "cleaned text's size  (8457, 1000)\n",
            "cleaned summary's size  (8457, 30)\n"
          ]
        }
      ]
    },
    {
      "cell_type": "code",
      "source": [
        "cleaned_text"
      ],
      "metadata": {
        "colab": {
          "base_uri": "https://localhost:8080/"
        },
        "id": "BU1vsQih5gc0",
        "outputId": "7c42245e-9d55-4869-89d4-b64f57c20014"
      },
      "execution_count": null,
      "outputs": [
        {
          "output_type": "execute_result",
          "data": {
            "text/plain": [
              "array([[   27,  1679,   273, ...,     0,     0,     0],\n",
              "       [   27,  5325,  1354, ...,     0,     0,     0],\n",
              "       [   27,  5550,  7581, ...,     0,     0,     0],\n",
              "       ...,\n",
              "       [   27, 36350,  1372, ...,     0,     0,     0],\n",
              "       [   27,  7983,   348, ...,     0,     0,     0],\n",
              "       [   27,  1320,   949, ...,     0,     0,     0]], dtype=int32)"
            ]
          },
          "metadata": {},
          "execution_count": 32
        }
      ]
    },
    {
      "cell_type": "code",
      "source": [
        "cleaned_summary"
      ],
      "metadata": {
        "colab": {
          "base_uri": "https://localhost:8080/"
        },
        "id": "1qR_odSz5x3p",
        "outputId": "d302a58c-0167-4947-de64-8bf7135f2598"
      },
      "execution_count": null,
      "outputs": [
        {
          "output_type": "execute_result",
          "data": {
            "text/plain": [
              "array([[   1, 2845,  262, ...,    0,    0,    0],\n",
              "       [   1,  846,  145, ...,    0,    0,    0],\n",
              "       [   1,  846,  666, ...,    0,    0,    0],\n",
              "       ...,\n",
              "       [   1, 1615, 2232, ...,    0,    0,    0],\n",
              "       [   1,  887, 2443, ...,    0,    0,    0],\n",
              "       [   1, 3286, 4636, ...,    0,    0,    0]], dtype=int32)"
            ]
          },
          "metadata": {},
          "execution_count": 33
        }
      ]
    },
    {
      "cell_type": "code",
      "source": [
        "#Saving Final Input Text\n",
        "with open(pathToFolder + 'cleaned_text.pickle', 'wb') as file:\n",
        "    pickle.dump(cleaned_text, file, protocol=pickle.HIGHEST_PROTOCOL)\n",
        "\n",
        "with open(pathToFolder + 'cleaned_summary.pickle', 'wb') as file:\n",
        "    pickle.dump(cleaned_summary, file, protocol=pickle.HIGHEST_PROTOCOL)"
      ],
      "metadata": {
        "id": "DvBkRvMC55eq"
      },
      "execution_count": null,
      "outputs": []
    },
    {
      "cell_type": "markdown",
      "source": [
        "# Embedding Space"
      ],
      "metadata": {
        "id": "SX2v535D7aFh"
      }
    },
    {
      "cell_type": "code",
      "source": [
        "!pip install fasttext"
      ],
      "metadata": {
        "colab": {
          "base_uri": "https://localhost:8080/"
        },
        "id": "NFTSv2Be7k_W",
        "outputId": "82e0d031-d1d4-4135-e397-946419b982de"
      },
      "execution_count": null,
      "outputs": [
        {
          "output_type": "stream",
          "name": "stdout",
          "text": [
            "Collecting fasttext\n",
            "  Downloading fasttext-0.9.2.tar.gz (68 kB)\n",
            "\u001b[?25l     \u001b[90m━━━━━━━━━━━━━━━━━━━━━━━━━━━━━━━━━━━━━━━━\u001b[0m \u001b[32m0.0/68.8 kB\u001b[0m \u001b[31m?\u001b[0m eta \u001b[36m-:--:--\u001b[0m\r\u001b[2K     \u001b[91m━━━━━━━━━━━━━━━━━━━━━━━\u001b[0m\u001b[91m╸\u001b[0m\u001b[90m━━━━━━━━━━━━━━━━\u001b[0m \u001b[32m41.0/68.8 kB\u001b[0m \u001b[31m1.1 MB/s\u001b[0m eta \u001b[36m0:00:01\u001b[0m\r\u001b[2K     \u001b[90m━━━━━━━━━━━━━━━━━━━━━━━━━━━━━━━━━━━━━━━━\u001b[0m \u001b[32m68.8/68.8 kB\u001b[0m \u001b[31m1.3 MB/s\u001b[0m eta \u001b[36m0:00:00\u001b[0m\n",
            "\u001b[?25h  Preparing metadata (setup.py) ... \u001b[?25l\u001b[?25hdone\n",
            "Collecting pybind11>=2.2 (from fasttext)\n",
            "  Using cached pybind11-2.12.0-py3-none-any.whl (234 kB)\n",
            "Requirement already satisfied: setuptools>=0.7.0 in /usr/local/lib/python3.10/dist-packages (from fasttext) (67.7.2)\n",
            "Requirement already satisfied: numpy in /usr/local/lib/python3.10/dist-packages (from fasttext) (1.25.2)\n",
            "Building wheels for collected packages: fasttext\n",
            "  Building wheel for fasttext (setup.py) ... \u001b[?25l\u001b[?25hdone\n",
            "  Created wheel for fasttext: filename=fasttext-0.9.2-cp310-cp310-linux_x86_64.whl size=4227138 sha256=9bf877a0aa8196b00f44255a4d95837cfcedcd5d490c11d47def6b2cc742fd09\n",
            "  Stored in directory: /root/.cache/pip/wheels/a5/13/75/f811c84a8ab36eedbaef977a6a58a98990e8e0f1967f98f394\n",
            "Successfully built fasttext\n",
            "Installing collected packages: pybind11, fasttext\n",
            "Successfully installed fasttext-0.9.2 pybind11-2.12.0\n"
          ]
        }
      ]
    },
    {
      "cell_type": "code",
      "source": [
        "# 'fastText' is a library for learning of word embeddings and text classification created by Facebook's (Meta) AI Research lab.\n",
        "import fasttext.util\n",
        "\n",
        "# Link to fastText Models for different Languages: https://fasttext.cc/docs/en/crawl-vectors.html\n",
        "# !gzip -d /content/drive/MyDrive/fastText/cc.gu.300.bin.gz"
      ],
      "metadata": {
        "id": "XiYdiM9x7sTF"
      },
      "execution_count": null,
      "outputs": []
    },
    {
      "cell_type": "code",
      "source": [
        "ft = fasttext.load_model('/content/drive/MyDrive/fastText/cc.gu.300.bin')"
      ],
      "metadata": {
        "colab": {
          "base_uri": "https://localhost:8080/"
        },
        "id": "US_JgxnHKL7d",
        "outputId": "b11cebd0-b536-4747-f976-30ea8c67462f"
      },
      "execution_count": null,
      "outputs": [
        {
          "output_type": "stream",
          "name": "stderr",
          "text": [
            "Warning : `load_model` does not return WordVectorModel or SupervisedModel any more, but a `FastText` object which is very similar.\n"
          ]
        }
      ]
    },
    {
      "cell_type": "code",
      "source": [
        "word = \"ગુજરાતી\"\n",
        "print(\"Embedding vector shape of\", word, \" is {}\".format(ft.get_word_vector(word).shape[0]))"
      ],
      "metadata": {
        "id": "xB4aXCVFKW_C",
        "colab": {
          "base_uri": "https://localhost:8080/"
        },
        "outputId": "0bb45293-7732-4ea3-8cc8-c062a7e7bf94"
      },
      "execution_count": null,
      "outputs": [
        {
          "output_type": "stream",
          "name": "stdout",
          "text": [
            "Embedding vector shape of ગુજરાતી  is 300\n"
          ]
        }
      ]
    },
    {
      "cell_type": "markdown",
      "source": [
        "# Embedding Matrix"
      ],
      "metadata": {
        "id": "ZopRw5uTLHx1"
      }
    },
    {
      "cell_type": "code",
      "source": [
        "def create_weight_matrix(model, DICT_SIZE, tokenizer):\n",
        "  '''\n",
        "  Accepts word embedding model and the second model, if provided returns weight matrix of size m*n, where\n",
        "  m - size of the dictionary\n",
        "  n - size of the word embedding vector\n",
        "  '''\n",
        "  vector_size = model.get_word_vector(\"ગુજરાતી\").shape[0]\n",
        "  w_matrix = np.zeros((DICT_SIZE, vector_size))\n",
        "  unk_words = []\n",
        "  text_words = []\n",
        "  for word, index in tokenizer.word_index.items():\n",
        "    if index < DICT_SIZE:\n",
        "      if word in model.words:\n",
        "        w_matrix[index] = model.get_word_vector(word)\n",
        "        text_words.append(word)\n",
        "      else:\n",
        "        w_matrix[index] = np.random.rand(1, vector_size)\n",
        "        unk_words.append(word)\n",
        "\n",
        "\n",
        "  print('{} words were considered as they were found in embedding space:'.format(len(text_words)))\n",
        "  print('{} are some such words'.format(text_words[:10]))\n",
        "  print()\n",
        "  print('{} words were randomly alloted as they were not found in embedding space:'.format(len(unk_words)))\n",
        "  print('{} are some such words'.format(unk_words[:10]))\n",
        "\n",
        "  return w_matrix"
      ],
      "metadata": {
        "id": "MvKIJSpxLVBW"
      },
      "execution_count": null,
      "outputs": []
    },
    {
      "cell_type": "code",
      "source": [
        "text_matrix = create_weight_matrix(ft, text_voc, text_tokenizer)"
      ],
      "metadata": {
        "id": "2zO-3BX5Lry_",
        "colab": {
          "base_uri": "https://localhost:8080/"
        },
        "outputId": "42ece4e5-8708-4edc-b054-0dbf3a6cb378"
      },
      "execution_count": null,
      "outputs": [
        {
          "output_type": "stream",
          "name": "stdout",
          "text": [
            "35023 words were considered as they were found in embedding space:\n",
            "['છે', 'અને', 'આ', 'પણ', 'કે', 'કરી', 'હતી', 'માટે', 'હતો', 'હતા'] are some such words\n",
            "\n",
            "3951 words were randomly alloted as they were not found in embedding space:\n",
            "['sostok', 'eostok', 'કોરોનાના', 'કોરોનાની', 'કોવિડ', 'કોરોનાથી', 'કોરોનાને', 'કોરોનાનો', 'વેક્સીન', 'કિર્તેશ'] are some such words\n"
          ]
        }
      ]
    },
    {
      "cell_type": "code",
      "source": [
        "summ_matrix = create_weight_matrix(ft, summary_voc, summary_tokenizer)"
      ],
      "metadata": {
        "id": "JfwGKA-iLuXE",
        "colab": {
          "base_uri": "https://localhost:8080/"
        },
        "outputId": "9e046613-e88d-4f7c-9428-5005648b3394"
      },
      "execution_count": null,
      "outputs": [
        {
          "output_type": "stream",
          "name": "stdout",
          "text": [
            "4838 words were considered as they were found in embedding space:\n",
            "['છે', 'અને', 'કોરોના', 'પર', 'કરી', 'કેસ', 'સાથે', 'અમદાવાદ', 'માટે', 'પણ'] are some such words\n",
            "\n",
            "110 words were randomly alloted as they were not found in embedding space:\n",
            "['sostok', 'eostok', 'કોરોનાના', 'કોરોનાની', 'કોવિડ', 'કોરોનાનો', 'કોરોનાથી', 'કોરોનાને', 'કોરોનામાં', 'વેક્સીન'] are some such words\n"
          ]
        }
      ]
    },
    {
      "cell_type": "code",
      "source": [
        "with open(pathToFolder + 'text_matrix.pickle', 'wb') as handle:\n",
        "    pickle.dump(text_matrix, handle, protocol=pickle.HIGHEST_PROTOCOL)\n",
        "\n",
        "with open(pathToFolder + 'summ_matrix.pickle', 'wb') as handle:\n",
        "    pickle.dump(summ_matrix, handle, protocol=pickle.HIGHEST_PROTOCOL)"
      ],
      "metadata": {
        "id": "QIZKSd8jLzcu"
      },
      "execution_count": null,
      "outputs": []
    },
    {
      "cell_type": "markdown",
      "source": [
        "# Modelling"
      ],
      "metadata": {
        "id": "12m5eijBNuxp"
      }
    },
    {
      "cell_type": "code",
      "source": [
        "import torch\n",
        "torch.cuda.empty_cache()"
      ],
      "metadata": {
        "id": "Wc6Q7QDn5gns"
      },
      "execution_count": null,
      "outputs": []
    },
    {
      "cell_type": "code",
      "source": [
        "!nvidia-smi"
      ],
      "metadata": {
        "id": "CsVLh36K2n_1",
        "colab": {
          "base_uri": "https://localhost:8080/"
        },
        "outputId": "6cb0e07f-b893-46b8-efe2-a7953907fba8"
      },
      "execution_count": null,
      "outputs": [
        {
          "output_type": "stream",
          "name": "stdout",
          "text": [
            "Wed Apr 17 11:42:38 2024       \n",
            "+---------------------------------------------------------------------------------------+\n",
            "| NVIDIA-SMI 535.104.05             Driver Version: 535.104.05   CUDA Version: 12.2     |\n",
            "|-----------------------------------------+----------------------+----------------------+\n",
            "| GPU  Name                 Persistence-M | Bus-Id        Disp.A | Volatile Uncorr. ECC |\n",
            "| Fan  Temp   Perf          Pwr:Usage/Cap |         Memory-Usage | GPU-Util  Compute M. |\n",
            "|                                         |                      |               MIG M. |\n",
            "|=========================================+======================+======================|\n",
            "|   0  Tesla T4                       Off | 00000000:00:04.0 Off |                    0 |\n",
            "| N/A   33C    P8               9W /  70W |      0MiB / 15360MiB |      0%      Default |\n",
            "|                                         |                      |                  N/A |\n",
            "+-----------------------------------------+----------------------+----------------------+\n",
            "                                                                                         \n",
            "+---------------------------------------------------------------------------------------+\n",
            "| Processes:                                                                            |\n",
            "|  GPU   GI   CI        PID   Type   Process name                            GPU Memory |\n",
            "|        ID   ID                                                             Usage      |\n",
            "|=======================================================================================|\n",
            "|  No running processes found                                                           |\n",
            "+---------------------------------------------------------------------------------------+\n"
          ]
        }
      ]
    },
    {
      "cell_type": "code",
      "source": [
        "import pandas as pd\n",
        "import numpy as np\n",
        "import tensorflow as tf\n",
        "import keras\n",
        "import time\n",
        "import re\n",
        "import pickle\n",
        "import matplotlib.pyplot as plt"
      ],
      "metadata": {
        "id": "0wemKHB_MDxF"
      },
      "execution_count": null,
      "outputs": []
    },
    {
      "cell_type": "code",
      "source": [
        "BUFFER_SIZE = 20000\n",
        "BATCH_SIZE = 16"
      ],
      "metadata": {
        "id": "44P8XFqjMIip"
      },
      "execution_count": null,
      "outputs": []
    },
    {
      "cell_type": "code",
      "source": [
        "with open(pathToFolder + 'cleaned_text.pickle', 'rb') as handle:\n",
        "    cleaned_text = pickle.load(handle)\n",
        "with open(pathToFolder + 'cleaned_summary.pickle', 'rb') as handle:\n",
        "    cleaned_summary = pickle.load(handle)\n",
        "\n",
        "cleaned_text.shape"
      ],
      "metadata": {
        "id": "yqrnFEuoMLDk",
        "colab": {
          "base_uri": "https://localhost:8080/"
        },
        "outputId": "164b5068-8d05-48a9-98ee-a0cb8c82cbe9"
      },
      "execution_count": null,
      "outputs": [
        {
          "output_type": "execute_result",
          "data": {
            "text/plain": [
              "(8457, 1000)"
            ]
          },
          "metadata": {},
          "execution_count": 47
        }
      ]
    },
    {
      "cell_type": "code",
      "source": [
        "x_train, y_train = cleaned_text[:cleaned_text.shape[0]-df_test.shape[0], :], cleaned_summary[:cleaned_summary.shape[0]-df_test.shape[0], :]\n",
        "x_test, y_test = cleaned_text[:-df_test.shape[0], :], cleaned_summary[:-df_test.shape[0], :]"
      ],
      "metadata": {
        "id": "aKn8HfmxMYZC"
      },
      "execution_count": null,
      "outputs": []
    },
    {
      "cell_type": "code",
      "source": [
        "dataset = tf.data.Dataset.from_tensor_slices((x_train, y_train)).shuffle(BUFFER_SIZE).batch(BATCH_SIZE)\n",
        "test_dataset = tf.data.Dataset.from_tensor_slices((x_test, y_test)).batch(BATCH_SIZE)"
      ],
      "metadata": {
        "id": "k_DJaTwbMaWB"
      },
      "execution_count": null,
      "outputs": []
    },
    {
      "cell_type": "code",
      "source": [
        "def get_angles(position, i, d_model):\n",
        "    angle_rates = 1 / np.power(10000, (2 * (i // 2)) / np.float32(d_model))\n",
        "    return position * angle_rates"
      ],
      "metadata": {
        "id": "4aM45Ce8Mx_W"
      },
      "execution_count": null,
      "outputs": []
    },
    {
      "cell_type": "code",
      "source": [
        "def positional_encoding(position, d_model):\n",
        "    angle_rads = get_angles(\n",
        "        np.arange(position)[:, np.newaxis],\n",
        "        np.arange(d_model)[np.newaxis, :],\n",
        "        d_model\n",
        "    )\n",
        "\n",
        "    # apply sin to even indices in the array; 2i\n",
        "    angle_rads[:, 0::2] = np.sin(angle_rads[:, 0::2])\n",
        "\n",
        "    # apply cos to odd indices in the array; 2i+1\n",
        "    angle_rads[:, 1::2] = np.cos(angle_rads[:, 1::2])\n",
        "\n",
        "    pos_encoding = angle_rads[np.newaxis, ...]\n",
        "\n",
        "    return tf.cast(pos_encoding, dtype=tf.float32)"
      ],
      "metadata": {
        "id": "KQxI5SyVM3UZ"
      },
      "execution_count": null,
      "outputs": []
    },
    {
      "cell_type": "code",
      "source": [
        "def create_padding_mask(seq):\n",
        "    seq = tf.cast(tf.math.equal(seq, 0), tf.float32)\n",
        "    return seq[:, tf.newaxis, tf.newaxis, :]"
      ],
      "metadata": {
        "id": "5YyGDnJjM81y"
      },
      "execution_count": null,
      "outputs": []
    },
    {
      "cell_type": "code",
      "source": [
        "def create_look_ahead_mask(size):\n",
        "    mask = 1 - tf.linalg.band_part(tf.ones((size, size)), -1, 0)\n",
        "    return mask"
      ],
      "metadata": {
        "id": "C_q6L6VmM_gR"
      },
      "execution_count": null,
      "outputs": []
    },
    {
      "cell_type": "markdown",
      "source": [
        "# Building the Model"
      ],
      "metadata": {
        "id": "ugwS5_VDNzdp"
      }
    },
    {
      "cell_type": "markdown",
      "source": [
        "Scalar Dot Product"
      ],
      "metadata": {
        "id": "CM1Bxhg_N_QM"
      }
    },
    {
      "cell_type": "code",
      "source": [
        "def scaled_dot_product_attention(q, k, v, mask):\n",
        "    matmul_qk = tf.matmul(q, k, transpose_b=True)\n",
        "\n",
        "    dk = tf.cast(tf.shape(k)[-1], tf.float32)\n",
        "    scaled_attention_logits = matmul_qk / tf.math.sqrt(dk)\n",
        "\n",
        "    if mask is not None:\n",
        "        scaled_attention_logits += (mask * -1e9)\n",
        "\n",
        "    attention_weights = tf.nn.softmax(scaled_attention_logits, axis=-1)\n",
        "\n",
        "    output = tf.matmul(attention_weights, v)\n",
        "    return output, attention_weights"
      ],
      "metadata": {
        "id": "_wfGc1YBOBLm"
      },
      "execution_count": null,
      "outputs": []
    },
    {
      "cell_type": "markdown",
      "source": [
        "Multi-Head Attention"
      ],
      "metadata": {
        "id": "PXog7A0WOEOh"
      }
    },
    {
      "cell_type": "code",
      "source": [
        "class MultiHeadAttention(tf.keras.layers.Layer):\n",
        "    def __init__(self, d_model, num_heads):\n",
        "        super(MultiHeadAttention, self).__init__()\n",
        "        self.num_heads = num_heads\n",
        "        self.d_model = d_model\n",
        "\n",
        "        assert d_model % self.num_heads == 0\n",
        "\n",
        "        self.depth = d_model // self.num_heads\n",
        "\n",
        "        self.wq = tf.keras.layers.Dense(d_model)\n",
        "        self.wk = tf.keras.layers.Dense(d_model)\n",
        "        self.wv = tf.keras.layers.Dense(d_model)\n",
        "\n",
        "        self.dense = tf.keras.layers.Dense(d_model)\n",
        "\n",
        "    def split_heads(self, x, batch_size):\n",
        "        x = tf.reshape(x, (batch_size, -1, self.num_heads, self.depth))\n",
        "        return tf.transpose(x, perm=[0, 2, 1, 3])\n",
        "\n",
        "    def call(self, v, k, q, mask):\n",
        "        batch_size = tf.shape(q)[0]\n",
        "\n",
        "        q = self.wq(q)\n",
        "        k = self.wk(k)\n",
        "        v = self.wv(v)\n",
        "\n",
        "        q = self.split_heads(q, batch_size)\n",
        "        k = self.split_heads(k, batch_size)\n",
        "        v = self.split_heads(v, batch_size)\n",
        "\n",
        "        scaled_attention, attention_weights = scaled_dot_product_attention(\n",
        "            q, k, v, mask)\n",
        "\n",
        "        scaled_attention = tf.transpose(scaled_attention, perm=[0, 2, 1, 3])\n",
        "\n",
        "        concat_attention = tf.reshape(scaled_attention, (batch_size, -1, self.d_model))\n",
        "        output = self.dense(concat_attention)\n",
        "\n",
        "        return output, attention_weights"
      ],
      "metadata": {
        "id": "_rbnCDZPOHTd"
      },
      "execution_count": null,
      "outputs": []
    },
    {
      "cell_type": "markdown",
      "source": [
        "Feed Forwrad Network"
      ],
      "metadata": {
        "id": "Kc-EGAqiOWME"
      }
    },
    {
      "cell_type": "code",
      "source": [
        "def point_wise_feed_forward_network(d_model, dff):\n",
        "    return tf.keras.Sequential([\n",
        "        tf.keras.layers.Dense(dff, activation='relu'),\n",
        "        tf.keras.layers.Dense(d_model)\n",
        "    ])"
      ],
      "metadata": {
        "id": "-B_ELDBCOR_P"
      },
      "execution_count": null,
      "outputs": []
    },
    {
      "cell_type": "markdown",
      "source": [
        "Single Encoder Layer"
      ],
      "metadata": {
        "id": "M5C_OA7vOmzZ"
      }
    },
    {
      "cell_type": "code",
      "source": [
        "class EncoderLayer(tf.keras.layers.Layer):\n",
        "    def __init__(self, d_model, num_heads, dff, rate=0.1):\n",
        "        super(EncoderLayer, self).__init__()\n",
        "\n",
        "        self.mha = MultiHeadAttention(d_model, num_heads)\n",
        "        self.ffn = point_wise_feed_forward_network(d_model, dff)\n",
        "\n",
        "        self.layernorm1 = tf.keras.layers.LayerNormalization(epsilon=1e-6)\n",
        "        self.layernorm2 = tf.keras.layers.LayerNormalization(epsilon=1e-6)\n",
        "\n",
        "        self.dropout1 = tf.keras.layers.Dropout(rate)\n",
        "        self.dropout2 = tf.keras.layers.Dropout(rate)\n",
        "\n",
        "    def call(self, x, training, mask):\n",
        "        attn_output, _ = self.mha(x, x, x, mask)\n",
        "        attn_output = self.dropout1(attn_output, training=training)\n",
        "        out1 = self.layernorm1(x + attn_output)\n",
        "\n",
        "        ffn_output = self.ffn(out1)\n",
        "        ffn_output = self.dropout2(ffn_output, training=training)\n",
        "        out2 = self.layernorm2(out1 + ffn_output)\n",
        "\n",
        "        return out2"
      ],
      "metadata": {
        "id": "i_65UDVNOcxM"
      },
      "execution_count": null,
      "outputs": []
    },
    {
      "cell_type": "markdown",
      "source": [
        "Single Decoder Layer"
      ],
      "metadata": {
        "id": "yxQr0wOJOy8k"
      }
    },
    {
      "cell_type": "code",
      "source": [
        "class DecoderLayer(tf.keras.layers.Layer):\n",
        "    def __init__(self, d_model, num_heads, dff, rate=0.1):\n",
        "        super(DecoderLayer, self).__init__()\n",
        "\n",
        "        self.mha1 = MultiHeadAttention(d_model, num_heads)\n",
        "        self.mha2 = MultiHeadAttention(d_model, num_heads)\n",
        "\n",
        "        self.ffn = point_wise_feed_forward_network(d_model, dff)\n",
        "\n",
        "        self.layernorm1 = tf.keras.layers.LayerNormalization(epsilon=1e-6)\n",
        "        self.layernorm2 = tf.keras.layers.LayerNormalization(epsilon=1e-6)\n",
        "        self.layernorm3 = tf.keras.layers.LayerNormalization(epsilon=1e-6)\n",
        "\n",
        "        self.dropout1 = tf.keras.layers.Dropout(rate)\n",
        "        self.dropout2 = tf.keras.layers.Dropout(rate)\n",
        "        self.dropout3 = tf.keras.layers.Dropout(rate)\n",
        "\n",
        "\n",
        "    def call(self, x, enc_output, training, look_ahead_mask, padding_mask):\n",
        "        attn1, attn_weights_block1 = self.mha1(x, x, x, look_ahead_mask)\n",
        "        attn1 = self.dropout1(attn1, training=training)\n",
        "        out1 = self.layernorm1(attn1 + x)\n",
        "\n",
        "        attn2, attn_weights_block2 = self.mha2(enc_output, enc_output, out1, padding_mask)\n",
        "        attn2 = self.dropout2(attn2, training=training)\n",
        "        out2 = self.layernorm2(attn2 + out1)\n",
        "\n",
        "        ffn_output = self.ffn(out2)\n",
        "        ffn_output = self.dropout3(ffn_output, training=training)\n",
        "        out3 = self.layernorm3(ffn_output + out2)\n",
        "\n",
        "        return out3, attn_weights_block1, attn_weights_block2"
      ],
      "metadata": {
        "id": "lVABDKktOrG4"
      },
      "execution_count": null,
      "outputs": []
    },
    {
      "cell_type": "markdown",
      "source": [
        "Encoder"
      ],
      "metadata": {
        "id": "R5O10N3aPIHq"
      }
    },
    {
      "cell_type": "code",
      "source": [
        "class Encoder(tf.keras.layers.Layer):\n",
        "    def __init__(self, num_layers, d_model, num_heads, dff, input_vocab_size, maximum_position_encoding, emb_matrix, max_len, rate=0.1):\n",
        "        super(Encoder, self).__init__()\n",
        "\n",
        "        self.d_model = d_model\n",
        "        self.num_layers = num_layers\n",
        "\n",
        "        self.embedding = tf.keras.layers.Embedding(input_dim = input_vocab_size,\n",
        "                      output_dim = d_model,\n",
        "                      input_length = max_len, # max_len of text sequence - 300\n",
        "                      weights=[emb_matrix],\n",
        "                      trainable=False) # static weights to be assigned from pretrained embedding\n",
        "        #self.embedding = tf.keras.layers.Embedding(input_vocab_size, d_model)\n",
        "        self.pos_encoding = positional_encoding(maximum_position_encoding, self.d_model)\n",
        "\n",
        "        self.enc_layers = [EncoderLayer(d_model, num_heads, dff, rate) for _ in range(num_layers)]\n",
        "\n",
        "        self.dropout = tf.keras.layers.Dropout(rate)\n",
        "\n",
        "    def call(self, x, training, mask):\n",
        "        seq_len = tf.shape(x)[1]\n",
        "\n",
        "        x = self.embedding(x)\n",
        "        x *= tf.math.sqrt(tf.cast(self.d_model, tf.float32))\n",
        "        x += self.pos_encoding[:, :seq_len, :]\n",
        "\n",
        "        x = self.dropout(x, training=training)\n",
        "\n",
        "        for i in range(self.num_layers):\n",
        "            x = self.enc_layers[i](x, training, mask)\n",
        "\n",
        "        return x"
      ],
      "metadata": {
        "id": "FXOqO22vO22B"
      },
      "execution_count": null,
      "outputs": []
    },
    {
      "cell_type": "markdown",
      "source": [
        "Decoder"
      ],
      "metadata": {
        "id": "-R1W2I_XPSVk"
      }
    },
    {
      "cell_type": "code",
      "source": [
        "class Decoder(tf.keras.layers.Layer):\n",
        "    def __init__(self, num_layers, d_model, num_heads, dff, target_vocab_size, maximum_position_encoding, emb_matrix, max_len, rate=0.1):\n",
        "        super(Decoder, self).__init__()\n",
        "\n",
        "        self.d_model = d_model\n",
        "        self.num_layers = num_layers\n",
        "\n",
        "        #self.embedding = tf.keras.layers.Embedding(target_vocab_size, d_model)\n",
        "        self.embedding = tf.keras.layers.Embedding(input_dim = target_vocab_size,\n",
        "                      output_dim = d_model,\n",
        "                      input_length = max_len, # max_len of summ sequence - 16\n",
        "                      weights=[emb_matrix],\n",
        "                      trainable=False)\n",
        "        self.pos_encoding = positional_encoding(maximum_position_encoding, d_model)\n",
        "\n",
        "        self.dec_layers = [DecoderLayer(d_model, num_heads, dff, rate) for _ in range(num_layers)]\n",
        "        self.dropout = tf.keras.layers.Dropout(rate)\n",
        "\n",
        "    def call(self, x, enc_output, training, look_ahead_mask, padding_mask):\n",
        "        seq_len = tf.shape(x)[1]\n",
        "        attention_weights = {}\n",
        "\n",
        "        x = self.embedding(x)\n",
        "        x *= tf.math.sqrt(tf.cast(self.d_model, tf.float32))\n",
        "        x += self.pos_encoding[:, :seq_len, :]\n",
        "\n",
        "        x = self.dropout(x, training=training)\n",
        "\n",
        "        for i in range(self.num_layers):\n",
        "            x, block1, block2 = self.dec_layers[i](x, enc_output, training, look_ahead_mask, padding_mask)\n",
        "\n",
        "            attention_weights['decoder_layer{}_block1'.format(i+1)] = block1\n",
        "            attention_weights['decoder_layer{}_block2'.format(i+1)] = block2\n",
        "\n",
        "        return x, attention_weights"
      ],
      "metadata": {
        "id": "H-WWK2xnPWrz"
      },
      "execution_count": null,
      "outputs": []
    },
    {
      "cell_type": "markdown",
      "source": [
        "Transformer Model"
      ],
      "metadata": {
        "id": "N3CEZf-rPaGL"
      }
    },
    {
      "cell_type": "code",
      "source": [
        "class Transformer(tf.keras.Model):\n",
        "    def __init__(self, num_layers, d_model, num_heads, dff, input_vocab_size, target_vocab_size, pe_input, pe_target, text_matrix, max_len_text, summ_matrix, max_len_summ, rate=0.1):\n",
        "        super(Transformer, self).__init__()\n",
        "\n",
        "        self.encoder = Encoder(num_layers, d_model, num_heads, dff, input_vocab_size, pe_input, text_matrix, max_len_text, rate)\n",
        "        self.decoder = Decoder(num_layers, d_model, num_heads, dff, target_vocab_size, pe_target, summ_matrix, max_len_summ, rate)\n",
        "        self.final_layer = tf.keras.layers.Dense(target_vocab_size)\n",
        "\n",
        "    def call(self, inp, tar, training, enc_padding_mask, look_ahead_mask, dec_padding_mask):\n",
        "        enc_output = self.encoder(inp, training, enc_padding_mask)\n",
        "        dec_output, attention_weights = self.decoder(tar, enc_output, training, look_ahead_mask, dec_padding_mask)\n",
        "        final_output = self.final_layer(dec_output)\n",
        "\n",
        "        return final_output, attention_weights"
      ],
      "metadata": {
        "id": "NG40JDztPgAr"
      },
      "execution_count": null,
      "outputs": []
    },
    {
      "cell_type": "markdown",
      "source": [
        "# Training"
      ],
      "metadata": {
        "id": "2TipSMpAQZKe"
      }
    },
    {
      "cell_type": "code",
      "source": [
        "with open(pathToFolder + 'text_matrix.pickle', 'rb') as handle:\n",
        "    text_matrix = pickle.load(handle)\n",
        "with open(pathToFolder + 'summ_matrix.pickle', 'rb') as handle:\n",
        "    summ_matrix = pickle.load(handle)"
      ],
      "metadata": {
        "id": "G30W9q5CQgr1"
      },
      "execution_count": null,
      "outputs": []
    },
    {
      "cell_type": "code",
      "source": [
        "# hyper-params\n",
        "num_layers = 4\n",
        "d_model = text_matrix.shape[1]\n",
        "dff = 512\n",
        "num_heads = 10\n",
        "EPOCHS = 3\n",
        "max_len_text = 1500\n",
        "max_len_summ = 30"
      ],
      "metadata": {
        "id": "TR_RNqUdQuko"
      },
      "execution_count": null,
      "outputs": []
    },
    {
      "cell_type": "code",
      "source": [
        "encoder_vocab_size = text_voc\n",
        "decoder_vocab_size = summary_voc"
      ],
      "metadata": {
        "id": "ejXEn8juQw5h"
      },
      "execution_count": null,
      "outputs": []
    },
    {
      "cell_type": "code",
      "source": [
        "# Custom Scheduler\n",
        "class CustomSchedule(tf.keras.optimizers.schedules.LearningRateSchedule):\n",
        "    def __init__(self, d_model, warmup_steps=4000):\n",
        "        super(CustomSchedule, self).__init__()\n",
        "\n",
        "        self.d_model = d_model\n",
        "        self.d_model = tf.cast(self.d_model, dtype=tf.float32)\n",
        "        self.warmup_steps = warmup_steps\n",
        "\n",
        "    def __call__(self, step):\n",
        "        self.step = tf.cast(step, dtype=tf.float32)\n",
        "        arg1 = tf.math.rsqrt(self.step)\n",
        "        arg2 = step * (self.warmup_steps ** -1.5)\n",
        "\n",
        "        return tf.math.rsqrt(self.d_model) * tf.math.minimum(arg1, arg2)"
      ],
      "metadata": {
        "id": "Wp4RsKjmQzZy"
      },
      "execution_count": null,
      "outputs": []
    },
    {
      "cell_type": "code",
      "source": [
        "temp_learning_rate_schedule = CustomSchedule(d_model)\n",
        "\n",
        "plt.plot(temp_learning_rate_schedule(tf.range(40000, dtype=tf.float32)))\n",
        "plt.ylabel(\"Learning Rate\")\n",
        "plt.xlabel(\"Train Step\")"
      ],
      "metadata": {
        "id": "Yh6KITmmc6Vv",
        "colab": {
          "base_uri": "https://localhost:8080/",
          "height": 467
        },
        "outputId": "6c1b774c-fa92-422a-a083-970cd75cb00e"
      },
      "execution_count": null,
      "outputs": [
        {
          "output_type": "execute_result",
          "data": {
            "text/plain": [
              "Text(0.5, 0, 'Train Step')"
            ]
          },
          "metadata": {},
          "execution_count": 66
        },
        {
          "output_type": "display_data",
          "data": {
            "text/plain": [
              "<Figure size 640x480 with 1 Axes>"
            ],
            "image/png": "[encoded data removed]"
          },
          "metadata": {}
        }
      ]
    },
    {
      "cell_type": "code",
      "source": [
        "# Creating Adam Optimizer with Custom Learning Rate\n",
        "learning_rate = 0.0001\n",
        "optimizer = tf.keras.optimizers.Adam(learning_rate, beta_1=0.9, beta_2=0.98, epsilon=1e-9)"
      ],
      "metadata": {
        "id": "EF1ticB7REQ5"
      },
      "execution_count": null,
      "outputs": []
    },
    {
      "cell_type": "code",
      "source": [
        "loss_object = tf.keras.losses.SparseCategoricalCrossentropy(from_logits=True, reduction='none')"
      ],
      "metadata": {
        "id": "e5hZgW8YRPmD"
      },
      "execution_count": null,
      "outputs": []
    },
    {
      "cell_type": "code",
      "source": [
        "def loss_function(real, pred):\n",
        "    mask = tf.math.logical_not(tf.math.equal(real, 0))\n",
        "    loss_ = loss_object(real, pred)\n",
        "\n",
        "    mask = tf.cast(mask, dtype=loss_.dtype)\n",
        "    loss_ *= mask\n",
        "\n",
        "    return tf.reduce_sum(loss_)/tf.reduce_sum(mask)"
      ],
      "metadata": {
        "id": "EYJdJNCDRTVy"
      },
      "execution_count": null,
      "outputs": []
    },
    {
      "cell_type": "code",
      "source": [
        "train_loss = tf.keras.metrics.Mean(name='train_loss')\n",
        "val_loss = tf.keras.metrics.Mean(name='val_loss')"
      ],
      "metadata": {
        "id": "GHXkqtKWRZdA"
      },
      "execution_count": null,
      "outputs": []
    },
    {
      "cell_type": "code",
      "source": [
        "transformer = Transformer(\n",
        "    num_layers,\n",
        "    d_model,\n",
        "    num_heads,\n",
        "    dff,\n",
        "    encoder_vocab_size,\n",
        "    decoder_vocab_size,\n",
        "    pe_input = encoder_vocab_size,\n",
        "    pe_target = decoder_vocab_size,\n",
        "    text_matrix = text_matrix,\n",
        "    max_len_text = max_len_text,\n",
        "    summ_matrix = summ_matrix,\n",
        "    max_len_summ = max_len_summ\n",
        ")"
      ],
      "metadata": {
        "id": "zmpE7RzHRcHA"
      },
      "execution_count": null,
      "outputs": []
    },
    {
      "cell_type": "code",
      "source": [
        "def create_masks(inp, tar):\n",
        "    enc_padding_mask = create_padding_mask(inp)\n",
        "    dec_padding_mask = create_padding_mask(inp)\n",
        "\n",
        "    look_ahead_mask = create_look_ahead_mask(tf.shape(tar)[1])\n",
        "    dec_target_padding_mask = create_padding_mask(tar)\n",
        "    combined_mask = tf.maximum(dec_target_padding_mask, look_ahead_mask)\n",
        "\n",
        "    return enc_padding_mask, combined_mask, dec_padding_mask"
      ],
      "metadata": {
        "id": "PTb1me1hRlWr"
      },
      "execution_count": null,
      "outputs": []
    },
    {
      "cell_type": "code",
      "source": [
        "checkpoint_path = pathToFolder + \"checkpoints\"\n",
        "\n",
        "ckpt = tf.train.Checkpoint(transformer=transformer, optimizer=optimizer)\n",
        "\n",
        "ckpt_manager = tf.train.CheckpointManager(ckpt, checkpoint_path, max_to_keep=5)\n",
        "\n",
        "if ckpt_manager.latest_checkpoint:\n",
        "    ckpt.restore(ckpt_manager.latest_checkpoint)\n",
        "    print ('Latest checkpoint restored!!')"
      ],
      "metadata": {
        "id": "viPalroeRpok",
        "colab": {
          "base_uri": "https://localhost:8080/"
        },
        "outputId": "0f636669-a4ce-4300-89a7-0e7f6e2b5cd0"
      },
      "execution_count": null,
      "outputs": [
        {
          "output_type": "stream",
          "name": "stdout",
          "text": [
            "Latest checkpoint restored!!\n"
          ]
        }
      ]
    },
    {
      "cell_type": "code",
      "source": [
        "# Training\n",
        "@tf.function\n",
        "def train_step(inp, tar):\n",
        "    tar_inp = tar[:, :-1]\n",
        "    tar_real = tar[:, 1:]\n",
        "\n",
        "    enc_padding_mask, combined_mask, dec_padding_mask = create_masks(inp, tar_inp)\n",
        "\n",
        "    with tf.GradientTape() as tape:\n",
        "        predictions, _ = transformer(\n",
        "            inp, tar_inp,\n",
        "            True,\n",
        "            enc_padding_mask,\n",
        "            combined_mask,\n",
        "            dec_padding_mask\n",
        "        )\n",
        "        loss = loss_function(tar_real, predictions)\n",
        "\n",
        "    gradients = tape.gradient(loss, transformer.trainable_variables)\n",
        "    optimizer.apply_gradients(zip(gradients, transformer.trainable_variables))\n",
        "\n",
        "    train_loss(loss)"
      ],
      "metadata": {
        "id": "uS1QvrM-RxyL"
      },
      "execution_count": null,
      "outputs": []
    },
    {
      "cell_type": "code",
      "source": [
        "# Validation\n",
        "@tf.function\n",
        "def val_step(inp, tar):\n",
        "    tar_inp = tar[:, :-1]\n",
        "    tar_real = tar[:, 1:]\n",
        "\n",
        "    enc_padding_mask, combined_mask, dec_padding_mask = create_masks(inp, tar_inp)\n",
        "\n",
        "    with tf.GradientTape() as tape:\n",
        "        predictions, _ = transformer(\n",
        "            inp, tar_inp,\n",
        "            False,\n",
        "            enc_padding_mask,\n",
        "            combined_mask,\n",
        "            dec_padding_mask\n",
        "        )\n",
        "        loss = loss_function(tar_real, predictions)\n",
        "    val_loss(loss)"
      ],
      "metadata": {
        "id": "AtW4qh4sd7uO"
      },
      "execution_count": null,
      "outputs": []
    },
    {
      "cell_type": "code",
      "source": [
        "train_loss_values = []\n",
        "test_loss_values = []\n",
        "for epoch in range(EPOCHS):\n",
        "    start = time.time()\n",
        "\n",
        "    train_loss.reset_states()\n",
        "    val_loss.reset_states()\n",
        "    #training set - forward prop, loss fn, (gradient descent and optimization) backprop\n",
        "    for (batch, (inp, tar)) in enumerate(dataset):\n",
        "        train_step(inp, tar)\n",
        "\n",
        "        if batch % 2601 == 0:\n",
        "            print ('Epoch {} ========> Batch {} Loss {:.4f}'.format(epoch + 1, batch, train_loss.result().numpy()))\n",
        "\n",
        "    if (epoch + 1) % 2 == 0:\n",
        "        ckpt_save_path = ckpt_manager.save()\n",
        "        print ('Saving checkpoint for epoch {} at {}'.format(epoch+1, ckpt_save_path))\n",
        "\n",
        "    train_loss_values.append(train_loss.result().numpy())\n",
        "\n",
        "    #test set - forward pass, loss fn (no backward pass)\n",
        "    for (batch, (inp, tar)) in enumerate(test_dataset):\n",
        "        val_step(inp, tar)\n",
        "\n",
        "    test_loss_values.append(val_loss.result().numpy())\n",
        "\n",
        "    print ('Epoch {}/{} ========> Training Loss {:.4f} Test/Validation Loss {:.4f}'.format(epoch + 1, EPOCHS, train_loss.result().numpy(), val_loss.result().numpy()))\n",
        "\n",
        "    print ('Time taken for epoch {}: {:.2f} secs\\n'.format(epoch+1, time.time() - start))"
      ],
      "metadata": {
        "id": "2RNsMkpZec7M",
        "colab": {
          "base_uri": "https://localhost:8080/"
        },
        "outputId": "36c42753-5fb2-477e-df0c-9476153875dd"
      },
      "execution_count": null,
      "outputs": [
        {
          "output_type": "stream",
          "name": "stdout",
          "text": [
            "Epoch 1 ========> Batch 0 Loss 1.7450\n",
            "Epoch 1/3 ========> Training Loss 0.9488 Test/Validation Loss 0.3684\n",
            "Time taken for epoch 1: 526.60 secs\n",
            "\n",
            "Epoch 2 ========> Batch 0 Loss 0.6304\n",
            "Saving checkpoint for epoch 2 at /content/drive/MyDrive/Languages/Gujarati Language Text Summarization/checkpoints/ckpt-33\n",
            "Epoch 2/3 ========> Training Loss 0.9065 Test/Validation Loss 0.3596\n",
            "Time taken for epoch 2: 360.20 secs\n",
            "\n",
            "Epoch 3 ========> Batch 0 Loss 0.5797\n",
            "Epoch 3/3 ========> Training Loss 0.8914 Test/Validation Loss 0.3577\n",
            "Time taken for epoch 3: 358.65 secs\n",
            "\n"
          ]
        }
      ]
    },
    {
      "cell_type": "code",
      "source": [
        "no_of_epochs = [i for i in range(EPOCHS)]\n",
        "fig , ax = plt.subplots(1,1)\n",
        "fig.set_size_inches(7,4)\n",
        "ax.plot(no_of_epochs, test_loss_values, label = 'Testing Loss')\n",
        "ax.plot(no_of_epochs, train_loss_values, label = 'Training Loss')\n",
        "ax.set_title('Categorical Crossentropy Loss vs No. of Epochs')\n",
        "ax.legend()\n",
        "ax.set_xlabel(\"No. of Epochs\")\n",
        "plt.show()"
      ],
      "metadata": {
        "id": "yVoiQPpbhue8",
        "colab": {
          "base_uri": "https://localhost:8080/",
          "height": 410
        },
        "outputId": "acb24695-07f8-48d5-fc4a-4e474ca28e13"
      },
      "execution_count": null,
      "outputs": [
        {
          "output_type": "display_data",
          "data": {
            "text/plain": [
              "<Figure size 700x400 with 1 Axes>"
            ],
            "image/png": "[encoded data removed]"
          },
          "metadata": {}
        }
      ]
    },
    {
      "cell_type": "code",
      "source": [
        "with open(pathToFolder + 'text_tokenizer.pickle', 'rb') as handle:\n",
        "    text_tokenizer = pickle.load(handle)\n",
        "with open(pathToFolder + 'summary_tokenizer.pickle', 'rb') as handle:\n",
        "    summary_tokenizer = pickle.load(handle)\n",
        "max_text_len = 300\n",
        "max_summary_len = 16"
      ],
      "metadata": {
        "id": "GkbNAQ42iJKv"
      },
      "execution_count": null,
      "outputs": []
    },
    {
      "cell_type": "code",
      "source": [
        "def predict(input_document):\n",
        "    # #clean\n",
        "    #input_document = preprocess_tokenize(input_document)\n",
        "    input_document = \"sostok \"+input_document+\" eostok\"\n",
        "    #tokenize\n",
        "    input_document = text_tokenizer.texts_to_sequences([input_document])\n",
        "    #padding\n",
        "    input_document = tf.keras.preprocessing.sequence.pad_sequences(input_document, maxlen=max_text_len, padding='post', truncating='post')\n",
        "\n",
        "    encoder_input = tf.expand_dims(input_document[0], 0)\n",
        "\n",
        "    decoder_input = [summary_tokenizer.word_index[\"sostok\"]]\n",
        "    output = tf.expand_dims(decoder_input, 0)\n",
        "\n",
        "    for i in range(max_summary_len):\n",
        "        enc_padding_mask, combined_mask, dec_padding_mask = create_masks(encoder_input, output)\n",
        "\n",
        "        predictions, attention_weights = transformer(\n",
        "            encoder_input,\n",
        "            output,\n",
        "            False,\n",
        "            enc_padding_mask,\n",
        "            combined_mask,\n",
        "            dec_padding_mask,\n",
        "        )\n",
        "\n",
        "        predictions = predictions[: ,-1:, :]\n",
        "        predicted_id = tf.cast(tf.argmax(predictions, axis=-1), tf.int32)\n",
        "\n",
        "        if predicted_id == summary_tokenizer.word_index[\"eostok\"]:\n",
        "            return tf.squeeze(output, axis=0), attention_weights\n",
        "\n",
        "        output = tf.concat([output, predicted_id], axis=-1)\n",
        "\n",
        "    return tf.squeeze(output, axis=0), attention_weights"
      ],
      "metadata": {
        "id": "wpN_qrhbiNLy"
      },
      "execution_count": null,
      "outputs": []
    },
    {
      "cell_type": "code",
      "source": [
        "def summarize(input_document):\n",
        "    # not considering attention weights for now, can be used to plot attention heatmaps in the future\n",
        "    summarized = predict(input_document=input_document)[0].numpy()\n",
        "    summarized = np.expand_dims(summarized[1:], 0)  # not printing <go> token\n",
        "    return summary_tokenizer.sequences_to_texts(summarized)[0]  # since there is just one translated document"
      ],
      "metadata": {
        "id": "IqiL98QHiUfq"
      },
      "execution_count": null,
      "outputs": []
    },
    {
      "cell_type": "code",
      "source": [
        "summarize(\"અયોધ્યાના રામમંદિરમાં બાલક રામ, એટલે કે રામલલ્લાને બિરાજમાન કરવામાં આવ્યા છે. આ દરમિયાન રામમંદિર માટે બનેલી બીજી અને ત્રીજી મૂર્તિઓ પણ સામે આવી છે. બીજી મૂર્તિ સફેદ મકરાણા આરસની છે, જ્યારે ત્રીજી મૂર્તિ પણ રામલલ્લાની પ્રતિમાના રંગની એટલે કે શ્યામ રંગની છે. ત્રણેયની ઊંચાઈ 51-51 ઈંચ છે.ત્રણેય મૂર્તિમાં ભગવાનને કમળના આસનમાં બિરાજમાન કરવામાં આવ્યા છે. ત્રણેયમાં ભગવાનનું 5 વર્ષનું બાળસ્વરૂપ દર્શાવવામાં આવ્યું છે. રામલલ્લા ઉપરાંત ભગવાન રામની બંને મૂર્તિ રામમંદિરના અલગ-અલગ માળ પર સ્થાપિત કરવામાં આવશે.ટ્રસ્ટે મંદિર માટે ભગવાન રામની 3 મૂર્તિ તૈયાર કરી હતી. એ વિવિધ કારીગરો દ્વારા વિવિધ પથ્થરોમાંથી બનાવવામાં આવી હતી. અંતે, ટ્રસ્ટના સભ્યની સંમતિથી કર્ણાટકના શિલ્પકાર યોગીરાજ દ્વારા બનાવવામાં આવેલી રામલલ્લાની પ્રતિમાને ગર્ભગૃહ માટે પસંદ કરવામાં આવી હતી.જ્યારે બીજી પ્રતિમા દક્ષિણના શિલ્પકાર ગણેશ ભટ્ટે અને ત્રીજી પ્રતિમા રાજસ્થાનના શિલ્પકાર સત્યનારાયણ પાંડેએ બનાવી છે. સત્યનારાયણ પાંડે દ્વારા બનાવવામાં આવેલી પ્રતિમા આરસની બનેલી છે.\")"
      ],
      "metadata": {
        "id": "cwnkhZF0iWT4",
        "colab": {
          "base_uri": "https://localhost:8080/",
          "height": 36
        },
        "outputId": "f9e6a36f-3230-4e7f-a636-cc2d4110dde6"
      },
      "execution_count": null,
      "outputs": [
        {
          "output_type": "execute_result",
          "data": {
            "text/plain": [
              "'ગુજરાતના મંદિર અને મંદિર ખાતે'"
            ],
            "application/vnd.google.colaboratory.intrinsic+json": {
              "type": "string"
            }
          },
          "metadata": {},
          "execution_count": 82
        }
      ]
    },
    {
      "cell_type": "markdown",
      "source": [
        "# Testing"
      ],
      "metadata": {
        "id": "D7r-wTBfkIqb"
      }
    },
    {
      "cell_type": "code",
      "source": [
        "documents = df_train['Article']\n",
        "summary = df_train['Heading']"
      ],
      "metadata": {
        "id": "sQy69C_I80sn"
      },
      "execution_count": null,
      "outputs": []
    },
    {
      "cell_type": "code",
      "source": [
        "samples = [17, 35, 69, 21, 26]\n",
        "docs = []\n",
        "summ = []\n",
        "pred = []\n",
        "for i in samples:\n",
        "  pred.append(summarize(documents[i]))\n",
        "  docs.append(' '.join(documents[i].split(' ')[:100]))\n",
        "  summ.append(summary[i])\n",
        "\n",
        "\n",
        "result_df = pd.DataFrame({'Input': docs, 'Reference Summary': summ, 'Model Output Summary': pred})\n",
        "result_df[['Input', 'Reference Summary', 'Model Output Summary']] #17, 69, 21, 26, 35\n",
        "result_df.style.set_properties(subset=['Input'], **{'width': '400px'})"
      ],
      "metadata": {
        "id": "Oi927BRGitSm",
        "colab": {
          "base_uri": "https://localhost:8080/",
          "height": 987
        },
        "outputId": "0de1b73c-5552-4da8-92a3-e945fa996d08"
      },
      "execution_count": null,
      "outputs": [
        {
          "output_type": "execute_result",
          "data": {
            "text/plain": [
              "<pandas.io.formats.style.Styler at 0x7c74c5b1faf0>"
            ],
            "text/html": [
              "<style type=\"text/css\">\n",
              "#T_9b1bd_row0_col0, #T_9b1bd_row1_col0, #T_9b1bd_row2_col0, #T_9b1bd_row3_col0, #T_9b1bd_row4_col0 {\n",
              "  width: 400px;\n",
              "}\n",
              "</style>\n",
              "<table id=\"T_9b1bd\" class=\"dataframe\">\n",
              "  <thead>\n",
              "    <tr>\n",
              "      <th class=\"blank level0\" >&nbsp;</th>\n",
              "      <th id=\"T_9b1bd_level0_col0\" class=\"col_heading level0 col0\" >Input</th>\n",
              "      <th id=\"T_9b1bd_level0_col1\" class=\"col_heading level0 col1\" >Reference Summary</th>\n",
              "      <th id=\"T_9b1bd_level0_col2\" class=\"col_heading level0 col2\" >Model Output Summary</th>\n",
              "    </tr>\n",
              "  </thead>\n",
              "  <tbody>\n",
              "    <tr>\n",
              "      <th id=\"T_9b1bd_level0_row0\" class=\"row_heading level0 row0\" >0</th>\n",
              "      <td id=\"T_9b1bd_row0_col0\" class=\"data row0 col0\" > પકડાયેલા આરોપીઓની તસવીર  પરંતુ પોલીસને પાકી બાતમી મળી હોવાથી પારડી પોલીસની ટીમે ટેમ્પોને પોલીસ સ્ટેશન લાવી અને અંદરથી તપાસ કરતા તેમાં એક ચોરખાનું બનાવેલું મળ્યું હતું.. આ ચોર ખાના ને ખોલી ને જોતા પોલીસ પણ ચોંકી ગઈ હતી. કારણ કે ઉપરથી ખાલી દેખાતા ટેમ્પોમાં બનાવેલા ચોર ખાનામાં વિદેશી દારૂની 816 બોટલો મળી આવી હતી.. આથી પોલીસે વિદેશી દારૂ નો  જથ્થો અને ટેમ્પો ચાલક અને તેના સાથીદારની ધરપકડ કરી હતી.  પોલીસની આ કાર્યવાહીમાં વિદેશી દારૂ અને ટેમ્પો મળી  અંદાજે 2.41 લાખ રૂપિયાનો મુદ્દામાલ કબજે કર્યો છે. અને ટેમ્પો ચાલક પ્રવીણ પાટીલ અને તેની સાથે રહેલા કોમલ</td>\n",
              "      <td id=\"T_9b1bd_row0_col1\" class=\"data row0 col1\" >Valsad News: ખાલી ટેમ્પો લઈને પોલીસ પહોંચી સ્ટેશન, તપાસ કરતા નીકળ્યો 816 બોટલ દારૂ, પોલીસ ચોંકી ગઈ</td>\n",
              "      <td id=\"T_9b1bd_row0_col2\" class=\"data row0 col2\" >ખાલી ટેમ્પો લઈને પોલીસ પહોંચી સ્ટેશન તપાસ કરતા નીકળ્યો બોટલ દારૂ પોલીસ ચોંકી ગઈ</td>\n",
              "    </tr>\n",
              "    <tr>\n",
              "      <th id=\"T_9b1bd_level0_row1\" class=\"row_heading level0 row1\" >1</th>\n",
              "      <td id=\"T_9b1bd_row1_col0\" class=\"data row1 col0\" >અમદાવાદ સહિત ગુજરાતમાં કેસમાં ઉત્તરોત્તર વધારો નોંધાઈ રહ્યો છે. ત્યારે 2020માં શરૂ થયેલી કોરોના મહામારી 2022ના આરંભે પણ કહેર વર્તાવી રહી છે. નવા વેરિયન્ટ ઓમિક્રોનના કેસની સ્થિતિ આવનારા સમયમાં ગંભીર બનશે એવી આશંકા સિવિલ હોસ્પિટલના સુપરિન્ટેન્ડેન્ટ ડો. રાકેશ જોશીએ દિવ્ય ભાસ્કર સાથેની વાતચીતમાં કરી છે. એવામાં કોરોનાની પહેલી લહેર 2020માં નવેમ્બરમાં હાઈ રહી હતી, તો 2021માં માર્ચ-એપ્રિલમાં પણ હાઈ રહી હતી. આ દરમિયાન 2021ના ડિસેમ્બરમાં અંતમાં અને 2022ની શરૂઆતમાં જાન્યુઆરીમાં ત્રીજી લહેરનાં મંડાણ થયાં છે. કોરોનાના કેસમાં રોજેરોજ નવા રેકોર્ડ બની રહ્યા છે. તેવામાં કોરોનાના નવા કેસ 8 હજારના આંકડાને પણ અમદાવાદમાં વટાવી દે એવી શક્યતા છે.બીજી અને ત્રીજી લહેરનો</td>\n",
              "      <td id=\"T_9b1bd_row1_col1\" class=\"data row1 col1\" >ઓમિક્રોનનું સુપરફાસ્ટ સ્પ્રેડિંગ:ત્રીજી લહેરમાં પણ અમદાવાદ જ એપીસેન્ટર, આ ગતિએ તો 5 દિવસમાં જ 5800ના સિંગલ ડે ઓલટાઇમ હાઇનો આંક ક્રોસ થઈ જશે</td>\n",
              "      <td id=\"T_9b1bd_row1_col2\" class=\"data row1 col2\" >ત્રીજી લહેરમાં પણ અમદાવાદ જ દિવસમાં જ ના ડે આંક ક્રોસ થઈ જશે</td>\n",
              "    </tr>\n",
              "    <tr>\n",
              "      <th id=\"T_9b1bd_level0_row2\" class=\"row_heading level0 row2\" >2</th>\n",
              "      <td id=\"T_9b1bd_row2_col0\" class=\"data row2 col0\" >અમદાવાદ : વિશ્વ માનવ અધિકાર દિવસ (World Human Rights Day-2021)અને પવિત્ર દલાઈ લામાને (Dalai Lama)એનાયત કરાયેલા 32માં નોબેલ શાંતિ પુરસ્કાર દિવસ પર રિવરફ્રન્ટ તિબેટિયન સ્વેટર માર્કેટ ( Riverfront Tibetan Sweater Market )ખાતે કાર્યક્રમ યોજાયો હતો. ભારત તિબેટ મૈત્રી સંઘ અને તિબેટિયન સ્વેટર માર્કેટના સંયુક્ત પ્રયાસથી વિશ્વ માનવ અધિકાર દિવસ અને પવિત્ર દલાઈ લામાને એનાયત કરાયેલા 32માં નોબેલ શાંતિ પુરસ્કાર દિવસ પર યોજાયેલા કાર્યક્રમમાં મેયર કિરીટ પરમાર (Mayor Kirit Parmar), એમ જે પુસ્તકાલયના સભ્ય ડો હેમંત ભટ્ટ તેમજ ભારત તિબેટ મૈત્રી સંઘના રાષ્ટ્રીય ઉપાધ્યક્ષ ડો.અમિત જ્યોતિકર ઉપસ્થિત રહ્યા હતા. આ પ્રસંગે મેયર કિરીટ પરમારે તિબેટની સંસ્કૃતિ તેમજ ભારત સાથેના સંબંધો વિશે</td>\n",
              "      <td id=\"T_9b1bd_row2_col1\" class=\"data row2 col1\" >Human Rights Day 2021: અમદાવાદ : તિબેટની આઝાદીમાં લેવો જોઈએ ભાગ, જાણો શા માટે</td>\n",
              "      <td id=\"T_9b1bd_row2_col2\" class=\"data row2 col2\" >અમદાવાદ આવેલા લેવો આપી તો ચૂંટણી ફોન પર પ્રયાસ કર્યો</td>\n",
              "    </tr>\n",
              "    <tr>\n",
              "      <th id=\"T_9b1bd_level0_row3\" class=\"row_heading level0 row3\" >3</th>\n",
              "      <td id=\"T_9b1bd_row3_col0\" class=\"data row3 col0\" >રાજકોટ: શહેરમાં (Rajkot) આઘાત પમાડનારી ઘટના સામે આવી છે. શહેરના નીલકંઠ પાર્કમાં રહેતા પરિવારનો 40 દિવસનો દીકરાનું (40 days baby boy death) મોત થયું છે. માતાને શરદી થતા બાળકને ચેપ ન લાગે તે માટે પોતાના પગ પાસે સુવડાવ્યો હતો અન પોતે શરદીની દવા પીને સુઇ ગઇ હતી. જેથી માતાના પગ નીચે ગુંગળાઇને જ વ્હાલસોયા બાળકનનું મોત થયું છે. જોકે, આ વાતની જાણ થતા માતા સહિત પરિવાર આઘાતમાં સરી પડ્યો છે. માતાને શરદી થઇ હતી આ અંગે મળતી વિગતો પ્રમાણે, શહેરના કોઠારિયા રોડ પરના નીલકંઠ પાર્કમાં રવિભાઇ જાનિયાણીનો પરિવાર રહે છે. જ્યાં ગોઝારી ઘટના બની છે. તેમના ઘરે 40 દિવસ પહેલા</td>\n",
              "      <td id=\"T_9b1bd_row3_col1\" class=\"data row3 col1\" >રાજકોટ: ઊંઘમાં માતાના પગ નીચે ગૂંગળાઇ જવાથી 40 દિવસના બાળકનું મોત</td>\n",
              "      <td id=\"T_9b1bd_row3_col2\" class=\"data row3 col2\" >હૃદયદ્રાવક ઘટના દીકરીનું પગ નીચે જવાથી જવાથી જવાથી જવાથી જવાથી જવાથી જવાથી જવાથી જવાથી જવાથી દિવસના</td>\n",
              "    </tr>\n",
              "    <tr>\n",
              "      <th id=\"T_9b1bd_level0_row4\" class=\"row_heading level0 row4\" >4</th>\n",
              "      <td id=\"T_9b1bd_row4_col0\" class=\"data row4 col0\" > કિર્તેશ પટેલ, સુરત : સુરતના પાંડેસરા વિસ્તારમાં (Surat) રસ્તા પર માતેલા સાંઢની જેમ ફરતા યમરાજ જેવા પાણીના ટેન્કરે (water tanker) આજે ભેસ્તાન સિદ્ધાર્થનગર નહેર પાસે નોકરી શોધવા નીકળેલા યુવાનનેટેન્કર ચાલકે ટક્કર (collision) મારી અડફેટે લઇ લેતા આ યુવાનને સારવાર માટે હોસ્પિટલ ખાતે ખસેડવામાં આવતા મોત થયું હતું. જોકે આ વિસ્તરમાં છાસવારે બનતા અક્સ્માતન લઈને સ્થળ પર લોકો ભેગા થઇ હોબાળો મચાવ્યો હતો અને આક્રોશ વ્યક્ત કરી ટેન્કર ચાલકની ધોલાઈ કરી હતી.  સુરતનો પાંડેસરા વિસ્તાર આમતો ઔદ્યોગિક વિસ્તાર છે .અહીંયા કપડા કલર કરવાની મીલો આવેલી છે અને આ મિલમાં પાણીની જરૂરી હોવાને લઈને આ વિસ્તારમાં અનેક ટેન્કર પાણીનો વેપાર</td>\n",
              "      <td id=\"T_9b1bd_row4_col1\" class=\"data row4 col1\" >સુરત : નોકરી શોધવા નીકળેલા યુવાનને મળ્યું મોત! યમદૂત સમાન પાણીના ટેન્કર ટક્કર મારતા જિંદગી ઓલવાઈ</td>\n",
              "      <td id=\"T_9b1bd_row4_col2\" class=\"data row4 col2\" >સુરત નોકરી શોધવા નીકળેલા યુવાનને મળ્યું મોત સમાન પાણીના ટેન્કર ટક્કર મારતા જિંદગી</td>\n",
              "    </tr>\n",
              "  </tbody>\n",
              "</table>\n"
            ]
          },
          "metadata": {},
          "execution_count": 86
        }
      ]
    },
    {
      "cell_type": "markdown",
      "source": [
        "# Evaluation Metrics"
      ],
      "metadata": {
        "id": "-AUsCZhvj9Pa"
      }
    },
    {
      "cell_type": "code",
      "source": [
        "!pip install rouge"
      ],
      "metadata": {
        "id": "G3bHSTGSkBHi",
        "colab": {
          "base_uri": "https://localhost:8080/"
        },
        "outputId": "2cb71d92-788a-4741-de0c-868f8ce591c8"
      },
      "execution_count": null,
      "outputs": [
        {
          "output_type": "stream",
          "name": "stdout",
          "text": [
            "Collecting rouge\n",
            "  Downloading rouge-1.0.1-py3-none-any.whl (13 kB)\n",
            "Requirement already satisfied: six in /usr/local/lib/python3.10/dist-packages (from rouge) (1.16.0)\n",
            "Installing collected packages: rouge\n",
            "Successfully installed rouge-1.0.1\n"
          ]
        }
      ]
    },
    {
      "cell_type": "code",
      "source": [
        "from rouge import Rouge\n",
        "rouge = Rouge()\n",
        "\n",
        "summary = result_df['Model Output Summary']\n",
        "reference = result_df['Reference Summary']\n",
        "\n",
        "rouge_score = rouge.get_scores(summary,reference)\n",
        "rouge_score"
      ],
      "metadata": {
        "id": "td9HbBdPkB0b",
        "colab": {
          "base_uri": "https://localhost:8080/"
        },
        "outputId": "14354368-09c8-4525-cb69-4afdc7b90914"
      },
      "execution_count": null,
      "outputs": [
        {
          "output_type": "execute_result",
          "data": {
            "text/plain": [
              "[{'rouge-1': {'r': 0.6875, 'p': 0.8461538461538461, 'f': 0.7586206847086802},\n",
              "  'rouge-2': {'r': 0.5, 'p': 0.6153846153846154, 'f': 0.5517241329845423},\n",
              "  'rouge-l': {'r': 0.6875, 'p': 0.8461538461538461, 'f': 0.7586206847086802}},\n",
              " {'rouge-1': {'r': 0.45454545454545453,\n",
              "   'p': 0.8333333333333334,\n",
              "   'f': 0.5882352895501731},\n",
              "  'rouge-2': {'r': 0.3181818181818182,\n",
              "   'p': 0.5833333333333334,\n",
              "   'f': 0.4117647013148789},\n",
              "  'rouge-l': {'r': 0.45454545454545453,\n",
              "   'p': 0.8333333333333334,\n",
              "   'f': 0.5882352895501731}},\n",
              " {'rouge-1': {'r': 0.14285714285714285, 'p': 0.2, 'f': 0.1666666618055557},\n",
              "  'rouge-2': {'r': 0.0, 'p': 0.0, 'f': 0.0},\n",
              "  'rouge-l': {'r': 0.14285714285714285, 'p': 0.2, 'f': 0.1666666618055557}},\n",
              " {'rouge-1': {'r': 0.36363636363636365,\n",
              "   'p': 0.5714285714285714,\n",
              "   'f': 0.44444443969135805},\n",
              "  'rouge-2': {'r': 0.1, 'p': 0.14285714285714285, 'f': 0.11764705397923896},\n",
              "  'rouge-l': {'r': 0.36363636363636365,\n",
              "   'p': 0.5714285714285714,\n",
              "   'f': 0.44444443969135805}},\n",
              " {'rouge-1': {'r': 0.75, 'p': 0.9230769230769231, 'f': 0.8275862019500595},\n",
              "  'rouge-2': {'r': 0.6, 'p': 0.75, 'f': 0.6666666617283951},\n",
              "  'rouge-l': {'r': 0.75, 'p': 0.9230769230769231, 'f': 0.8275862019500595}}]"
            ]
          },
          "metadata": {},
          "execution_count": 88
        }
      ]
    },
    {
      "cell_type": "code",
      "source": [
        "import matplotlib.pyplot as plt\n",
        "rouge_1, rouge_2, rouge_l = [], [], []\n",
        "\n",
        "for r in rouge_score:\n",
        "  for key, value in r.items():\n",
        "    if key == 'rouge-1':\n",
        "      rouge_1.append(value)\n",
        "    elif key == 'rouge-2':\n",
        "      rouge_2.append(value)\n",
        "    elif key == 'rouge-l':\n",
        "      rouge_l.append(value)\n",
        "\n",
        "# Plotting the scores\n",
        "def plotRougeScore(rouge, title):\n",
        "  fig, ax = plt.subplots(1,5)\n",
        "  fig.set_size_inches(15,3)\n",
        "  i=0\n",
        "  for r1 in rouge:\n",
        "      ax[i].bar(r1.keys(), r1.values())\n",
        "      ax[i].set_ylim(0, 1)\n",
        "      ax[i].set_title(title)\n",
        "      i+=1\n",
        "  plt.show()\n",
        "\n",
        "plotRougeScore(rouge_1, 'Rouge-1 Score')\n",
        "plotRougeScore(rouge_2, 'Rouge-2 Score')\n",
        "plotRougeScore(rouge_l, 'Rouge-l Score')"
      ],
      "metadata": {
        "id": "jo5ICeQdvCBj",
        "colab": {
          "base_uri": "https://localhost:8080/",
          "height": 727
        },
        "outputId": "36e91519-6313-42cd-f203-ee69fb92022c"
      },
      "execution_count": null,
      "outputs": [
        {
          "output_type": "display_data",
          "data": {
            "text/plain": [
              "<Figure size 1500x300 with 5 Axes>"
            ],
            "image/png": "[encoded data removed]"
          },
          "metadata": {}
        },
        {
          "output_type": "display_data",
          "data": {
            "text/plain": [
              "<Figure size 1500x300 with 5 Axes>"
            ],
            "image/png": "[encoded data removed]"
          },
          "metadata": {}
        },
        {
          "output_type": "display_data",
          "data": {
            "text/plain": [
              "<Figure size 1500x300 with 5 Axes>"
            ],
            "image/png": "[encoded data removed]"
          },
          "metadata": {}
        }
      ]
    },
    {
      "cell_type": "code",
      "source": [
        "no_of_epochs = [i for i in range(EPOCHS)]\n",
        "fig , ax = plt.subplots(1,1)\n",
        "fig.set_size_inches(7,4)\n",
        "ax.plot(no_of_epochs, train_loss_values, label = 'Training Loss')\n",
        "ax.set_title('Loss')\n",
        "ax.legend()\n",
        "# ax.set_xlabel(\"Epochs\")\n",
        "plt.show()"
      ],
      "metadata": {
        "id": "v-Fuel6PLFge",
        "colab": {
          "base_uri": "https://localhost:8080/",
          "height": 391
        },
        "outputId": "d7e89631-40ee-44ac-bfa6-1b3861054e58"
      },
      "execution_count": null,
      "outputs": [
        {
          "output_type": "display_data",
          "data": {
            "text/plain": [
              "<Figure size 700x400 with 1 Axes>"
            ],
            "image/png": "[encoded data removed]"
          },
          "metadata": {}
        }
      ]
    },
    {
      "cell_type": "code",
      "source": [
        "from rouge import Rouge\n",
        "rouge = Rouge()\n",
        "\n",
        "summary = result_df['Model Output Summary']\n",
        "reference = result_df['Reference Summary']\n",
        "\n",
        "rouge_score = rouge.get_scores(summary,reference)\n",
        "rouge_score"
      ],
      "metadata": {
        "id": "r5Ij3GstvLyw",
        "colab": {
          "base_uri": "https://localhost:8080/"
        },
        "outputId": "ed13ebfc-1191-4c85-bc9c-8e227d13ce97"
      },
      "execution_count": null,
      "outputs": [
        {
          "output_type": "execute_result",
          "data": {
            "text/plain": [
              "[{'rouge-1': {'r': 0.6875, 'p': 0.8461538461538461, 'f': 0.7586206847086802},\n",
              "  'rouge-2': {'r': 0.5, 'p': 0.6153846153846154, 'f': 0.5517241329845423},\n",
              "  'rouge-l': {'r': 0.6875, 'p': 0.8461538461538461, 'f': 0.7586206847086802}},\n",
              " {'rouge-1': {'r': 0.45454545454545453,\n",
              "   'p': 0.8333333333333334,\n",
              "   'f': 0.5882352895501731},\n",
              "  'rouge-2': {'r': 0.3181818181818182,\n",
              "   'p': 0.5833333333333334,\n",
              "   'f': 0.4117647013148789},\n",
              "  'rouge-l': {'r': 0.45454545454545453,\n",
              "   'p': 0.8333333333333334,\n",
              "   'f': 0.5882352895501731}},\n",
              " {'rouge-1': {'r': 0.14285714285714285, 'p': 0.2, 'f': 0.1666666618055557},\n",
              "  'rouge-2': {'r': 0.0, 'p': 0.0, 'f': 0.0},\n",
              "  'rouge-l': {'r': 0.14285714285714285, 'p': 0.2, 'f': 0.1666666618055557}},\n",
              " {'rouge-1': {'r': 0.36363636363636365,\n",
              "   'p': 0.5714285714285714,\n",
              "   'f': 0.44444443969135805},\n",
              "  'rouge-2': {'r': 0.1, 'p': 0.14285714285714285, 'f': 0.11764705397923896},\n",
              "  'rouge-l': {'r': 0.36363636363636365,\n",
              "   'p': 0.5714285714285714,\n",
              "   'f': 0.44444443969135805}},\n",
              " {'rouge-1': {'r': 0.75, 'p': 0.9230769230769231, 'f': 0.8275862019500595},\n",
              "  'rouge-2': {'r': 0.6, 'p': 0.75, 'f': 0.6666666617283951},\n",
              "  'rouge-l': {'r': 0.75, 'p': 0.9230769230769231, 'f': 0.8275862019500595}}]"
            ]
          },
          "metadata": {},
          "execution_count": 91
        }
      ]
    },
    {
      "cell_type": "code",
      "source": [
        "r1 = []\n",
        "r2 = []\n",
        "rl = []\n",
        "for i in rouge_score:\n",
        "  for key in i:\n",
        "      # print(f'{key}: {i[key]}')\n",
        "      if key == 'rouge-1':\n",
        "        r1.append(i[key])\n",
        "      elif key == 'rouge-2':\n",
        "        r2.append(i[key])\n",
        "      elif key == 'rouge-l':\n",
        "        rl.append(i[key])"
      ],
      "metadata": {
        "id": "gzkSKpe3vKu-"
      },
      "execution_count": null,
      "outputs": []
    },
    {
      "cell_type": "code",
      "source": [
        "from statistics import mean\n",
        "\n",
        "recall = []\n",
        "precision = []\n",
        "f1 = []\n",
        "for j1 in r1:\n",
        "  for key in j1:\n",
        "      # print(f'{key}: {j1[key]}')\n",
        "      if key == 'r':\n",
        "        recall.append(j1[key])\n",
        "      elif key == 'p':\n",
        "        precision.append(j1[key])\n",
        "      elif key == 'f':\n",
        "        f1.append(j1[key])\n",
        "\n",
        "print(\"Recall Score: \" + str(mean(recall)))\n",
        "print(\"Precision: \" + str(mean(precision)))\n",
        "print(\"F1: \" + str(mean(f1)))"
      ],
      "metadata": {
        "id": "FJdUGBFkvJw5",
        "colab": {
          "base_uri": "https://localhost:8080/"
        },
        "outputId": "5d88aebd-c2e1-42b0-d678-e0aed4e637fd"
      },
      "execution_count": null,
      "outputs": [
        {
          "output_type": "stream",
          "name": "stdout",
          "text": [
            "Recall Score: 0.4797077922077922\n",
            "Precision: 0.6747985347985348\n",
            "F1: 0.5571106555411653\n"
          ]
        }
      ]
    },
    {
      "cell_type": "markdown",
      "source": [
        "# Results"
      ],
      "metadata": {
        "id": "DujDrKSFim4H"
      }
    },
    {
      "cell_type": "code",
      "source": [
        "documents = df_train['Article']\n",
        "summary = df_train['Heading']\n",
        "print(documents.shape[0])\n",
        "print(summary.shape[0])"
      ],
      "metadata": {
        "id": "D7C3HFrNio-o"
      },
      "execution_count": null,
      "outputs": []
    },
    {
      "cell_type": "code",
      "source": [
        "docs = []\n",
        "summ = []\n",
        "pred = []\n",
        "for i in range(100):\n",
        "  pred.append(summarize(documents[i]))\n",
        "  docs.append(' '.join(documents[i].split(' ')[:100]))\n",
        "  summ.append(summary[i])\n",
        "\n",
        "result_df = pd.DataFrame({'Input': docs, 'Reference Summary': summ, 'Model Output Summary': pred})\n",
        "result_df[['Input', 'Reference Summary', 'Model Output Summary']]\n",
        "result_df.style.set_properties(subset=['Input'], **{'width': '500px'})"
      ],
      "metadata": {
        "id": "xfVeRxoQhDki"
      },
      "execution_count": null,
      "outputs": []
    },
    {
      "cell_type": "code",
      "source": [
        "!pip install rouge"
      ],
      "metadata": {
        "id": "WrqmBsvrsIyF"
      },
      "execution_count": null,
      "outputs": []
    },
    {
      "cell_type": "code",
      "source": [
        "from rouge import Rouge\n",
        "rouge = Rouge()\n",
        "\n",
        "summary = result_df['Model Output Summary']\n",
        "reference = result_df['Reference Summary']\n",
        "\n",
        "rouge_score = rouge.get_scores(summary,reference)\n",
        "rouge_score"
      ],
      "metadata": {
        "id": "aFAVEwesj-vC"
      },
      "execution_count": null,
      "outputs": []
    },
    {
      "cell_type": "code",
      "source": [
        "r1 = []\n",
        "r2 = []\n",
        "rl = []\n",
        "for i in rouge_score:\n",
        "  for key in i:\n",
        "      # print(f'{key}: {i[key]}')\n",
        "      if key == 'rouge-1':\n",
        "        r1.append(i[key])\n",
        "      elif key == 'rouge-2':\n",
        "        r2.append(i[key])\n",
        "      elif key == 'rouge-l':\n",
        "        rl.append(i[key])"
      ],
      "metadata": {
        "id": "PtdPhIrkmEKX"
      },
      "execution_count": null,
      "outputs": []
    },
    {
      "cell_type": "code",
      "source": [
        "from statistics import mean\n",
        "\n",
        "recall = []\n",
        "precision = []\n",
        "f1 = []\n",
        "for j1 in r1:\n",
        "  for key in j1:\n",
        "      # print(f'{key}: {j1[key]}')\n",
        "      if key == 'r':\n",
        "        recall.append(j1[key])\n",
        "      elif key == 'p':\n",
        "        precision.append(j1[key])\n",
        "      elif key == 'f':\n",
        "        f1.append(j1[key])\n",
        "\n",
        "print(\"Recall Score: \" + str(mean(recall)))\n",
        "print(\"Precision: \" + str(mean(precision)))\n",
        "print(\"F1: \" + str(mean(f1)))"
      ],
      "metadata": {
        "id": "RLVvZZtEt3sm"
      },
      "execution_count": null,
      "outputs": []
    }
  ]
}