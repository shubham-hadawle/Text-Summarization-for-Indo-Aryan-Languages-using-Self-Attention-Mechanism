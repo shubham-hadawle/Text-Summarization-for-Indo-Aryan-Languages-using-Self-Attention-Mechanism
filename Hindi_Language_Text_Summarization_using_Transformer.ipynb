{
  "cells": [
    {
      "cell_type": "markdown",
      "metadata": {
        "id": "26YA1Ta-f1li"
      },
      "source": [
        "# Loading Data"
      ]
    },
    {
      "cell_type": "code",
      "execution_count": null,
      "metadata": {
        "colab": {
          "base_uri": "https://localhost:8080/"
        },
        "id": "WGWAneqTrwcl",
        "outputId": "130efd43-fe4c-4439-a822-1da934d45e12"
      },
      "outputs": [
        {
          "output_type": "stream",
          "name": "stdout",
          "text": [
            "Mounted at /content/drive\n"
          ]
        }
      ],
      "source": [
        "from google.colab import drive\n",
        "drive.mount('/content/drive')"
      ]
    },
    {
      "cell_type": "code",
      "execution_count": null,
      "metadata": {
        "id": "sZa8IaKYugey"
      },
      "outputs": [],
      "source": [
        "import pandas as pd\n",
        "import torch\n",
        "import random\n",
        "import numpy as np\n",
        "import matplotlib.pyplot as plt"
      ]
    },
    {
      "cell_type": "code",
      "execution_count": null,
      "metadata": {
        "colab": {
          "base_uri": "https://localhost:8080/",
          "height": 293
        },
        "id": "1zxKxZBZuhy8",
        "outputId": "63da6ef0-6780-4273-91bf-7c836a036629"
      },
      "outputs": [
        {
          "output_type": "execute_result",
          "data": {
            "text/plain": [
              "                                 id  \\\n",
              "0  a3d72cd62e7e1b5529dd254a85fa2b5a   \n",
              "1  f8904fd63c1d257dc5ee9b529df4a097   \n",
              "2  4e89ee2300613ae0c0e8db4ed0e2c7aa   \n",
              "3  9a382557dc6afda0dfaf04210d16224f   \n",
              "4  928dcc9264915737630ab0e32f4a9b28   \n",
              "\n",
              "                                                Link  \\\n",
              "0  https://www.indiatv.in/india/national/india-su...   \n",
              "1  https://www.indiatv.in/india/national-covid-19...   \n",
              "2  https://www.indiatv.in/india/uttar-pradesh/bjp...   \n",
              "3  https://www.indiatv.in/india/uttar-pradesh-si-...   \n",
              "4  https://www.indiatv.in/india/politics-farm-law...   \n",
              "\n",
              "                                             Heading  \\\n",
              "0  भारत की बढ़ी ताकत, ‘अग्नि प्राइम’ मिसाइल का हु...   \n",
              "1  Covid-19 Vaccination: देश में कोविड टीके की 40...   \n",
              "2  यूपी में ब्राह्मण वोटरों को साधने की तैयारी कर...   \n",
              "3  बागपत में बिना इजाजत दाढ़ी रखने पर दरोगा सस्पे...   \n",
              "4  कृषि क़ानूनों की वापसी की घोषणा पर मैं अवाक रह...   \n",
              "\n",
              "                                             Summary  \\\n",
              "0  भारत ने शनिवार को ओडिशा के बालासोर तट पर ‘अग्न...   \n",
              "1  केंद्रीय स्वास्थ्य मंत्रालय के मुताबिक, आज शाम...   \n",
              "2  बीजेपी के केंद्र सरकार में ब्राह्मण मंत्रियों,...   \n",
              "3  उत्तर प्रदेश के बागपत में बिना अनुमति के बड़ी ...   \n",
              "4  उमा भारती ने कहा कि अगर तीन कृषि कानूनों की मह...   \n",
              "\n",
              "                                             Article  \n",
              "0  भुवनेश्वर : भारत ने शनिवार को ओडिशा के बालासोर...  \n",
              "1  नई दिल्ली। देश में कोरोना की संभावित तीसरी लहर...  \n",
              "2  बीजेपी यूपी में जनवरी के दूसरे हफ्ते से ब्राह्...  \n",
              "3  बागपत: उत्तर प्रदेश के बागपत में बिना अनुमति क...  \n",
              "4  भोपाल: मध्य प्रदेश की पूर्व मुख्यमंत्री और बीज...  "
            ],
            "text/html": [
              "\n",
              "  <div id=\"df-66cfdda7-d352-484d-9c5e-29f65248f872\" class=\"colab-df-container\">\n",
              "    <div>\n",
              "<style scoped>\n",
              "    .dataframe tbody tr th:only-of-type {\n",
              "        vertical-align: middle;\n",
              "    }\n",
              "\n",
              "    .dataframe tbody tr th {\n",
              "        vertical-align: top;\n",
              "    }\n",
              "\n",
              "    .dataframe thead th {\n",
              "        text-align: right;\n",
              "    }\n",
              "</style>\n",
              "<table border=\"1\" class=\"dataframe\">\n",
              "  <thead>\n",
              "    <tr style=\"text-align: right;\">\n",
              "      <th></th>\n",
              "      <th>id</th>\n",
              "      <th>Link</th>\n",
              "      <th>Heading</th>\n",
              "      <th>Summary</th>\n",
              "      <th>Article</th>\n",
              "    </tr>\n",
              "  </thead>\n",
              "  <tbody>\n",
              "    <tr>\n",
              "      <th>0</th>\n",
              "      <td>a3d72cd62e7e1b5529dd254a85fa2b5a</td>\n",
              "      <td>https://www.indiatv.in/india/national/india-su...</td>\n",
              "      <td>भारत की बढ़ी ताकत, ‘अग्नि प्राइम’ मिसाइल का हु...</td>\n",
              "      <td>भारत ने शनिवार को ओडिशा के बालासोर तट पर ‘अग्न...</td>\n",
              "      <td>भुवनेश्वर : भारत ने शनिवार को ओडिशा के बालासोर...</td>\n",
              "    </tr>\n",
              "    <tr>\n",
              "      <th>1</th>\n",
              "      <td>f8904fd63c1d257dc5ee9b529df4a097</td>\n",
              "      <td>https://www.indiatv.in/india/national-covid-19...</td>\n",
              "      <td>Covid-19 Vaccination: देश में कोविड टीके की 40...</td>\n",
              "      <td>केंद्रीय स्वास्थ्य मंत्रालय के मुताबिक, आज शाम...</td>\n",
              "      <td>नई दिल्ली। देश में कोरोना की संभावित तीसरी लहर...</td>\n",
              "    </tr>\n",
              "    <tr>\n",
              "      <th>2</th>\n",
              "      <td>4e89ee2300613ae0c0e8db4ed0e2c7aa</td>\n",
              "      <td>https://www.indiatv.in/india/uttar-pradesh/bjp...</td>\n",
              "      <td>यूपी में ब्राह्मण वोटरों को साधने की तैयारी कर...</td>\n",
              "      <td>बीजेपी के केंद्र सरकार में ब्राह्मण मंत्रियों,...</td>\n",
              "      <td>बीजेपी यूपी में जनवरी के दूसरे हफ्ते से ब्राह्...</td>\n",
              "    </tr>\n",
              "    <tr>\n",
              "      <th>3</th>\n",
              "      <td>9a382557dc6afda0dfaf04210d16224f</td>\n",
              "      <td>https://www.indiatv.in/india/uttar-pradesh-si-...</td>\n",
              "      <td>बागपत में बिना इजाजत दाढ़ी रखने पर दरोगा सस्पे...</td>\n",
              "      <td>उत्तर प्रदेश के बागपत में बिना अनुमति के बड़ी ...</td>\n",
              "      <td>बागपत: उत्तर प्रदेश के बागपत में बिना अनुमति क...</td>\n",
              "    </tr>\n",
              "    <tr>\n",
              "      <th>4</th>\n",
              "      <td>928dcc9264915737630ab0e32f4a9b28</td>\n",
              "      <td>https://www.indiatv.in/india/politics-farm-law...</td>\n",
              "      <td>कृषि क़ानूनों की वापसी की घोषणा पर मैं अवाक रह...</td>\n",
              "      <td>उमा भारती ने कहा कि अगर तीन कृषि कानूनों की मह...</td>\n",
              "      <td>भोपाल: मध्य प्रदेश की पूर्व मुख्यमंत्री और बीज...</td>\n",
              "    </tr>\n",
              "  </tbody>\n",
              "</table>\n",
              "</div>\n",
              "    <div class=\"colab-df-buttons\">\n",
              "\n",
              "  <div class=\"colab-df-container\">\n",
              "    <button class=\"colab-df-convert\" onclick=\"convertToInteractive('df-66cfdda7-d352-484d-9c5e-29f65248f872')\"\n",
              "            title=\"Convert this dataframe to an interactive table.\"\n",
              "            style=\"display:none;\">\n",
              "\n",
              "  <svg xmlns=\"http://www.w3.org/2000/svg\" height=\"24px\" viewBox=\"0 -960 960 960\">\n",
              "    <path d=\"M120-120v-720h720v720H120Zm60-500h600v-160H180v160Zm220 220h160v-160H400v160Zm0 220h160v-160H400v160ZM180-400h160v-160H180v160Zm440 0h160v-160H620v160ZM180-180h160v-160H180v160Zm440 0h160v-160H620v160Z\"/>\n",
              "  </svg>\n",
              "    </button>\n",
              "\n",
              "  <style>\n",
              "    .colab-df-container {\n",
              "      display:flex;\n",
              "      gap: 12px;\n",
              "    }\n",
              "\n",
              "    .colab-df-convert {\n",
              "      background-color: #E8F0FE;\n",
              "      border: none;\n",
              "      border-radius: 50%;\n",
              "      cursor: pointer;\n",
              "      display: none;\n",
              "      fill: #1967D2;\n",
              "      height: 32px;\n",
              "      padding: 0 0 0 0;\n",
              "      width: 32px;\n",
              "    }\n",
              "\n",
              "    .colab-df-convert:hover {\n",
              "      background-color: #E2EBFA;\n",
              "      box-shadow: 0px 1px 2px rgba(60, 64, 67, 0.3), 0px 1px 3px 1px rgba(60, 64, 67, 0.15);\n",
              "      fill: #174EA6;\n",
              "    }\n",
              "\n",
              "    .colab-df-buttons div {\n",
              "      margin-bottom: 4px;\n",
              "    }\n",
              "\n",
              "    [theme=dark] .colab-df-convert {\n",
              "      background-color: #3B4455;\n",
              "      fill: #D2E3FC;\n",
              "    }\n",
              "\n",
              "    [theme=dark] .colab-df-convert:hover {\n",
              "      background-color: #434B5C;\n",
              "      box-shadow: 0px 1px 3px 1px rgba(0, 0, 0, 0.15);\n",
              "      filter: drop-shadow(0px 1px 2px rgba(0, 0, 0, 0.3));\n",
              "      fill: #FFFFFF;\n",
              "    }\n",
              "  </style>\n",
              "\n",
              "    <script>\n",
              "      const buttonEl =\n",
              "        document.querySelector('#df-66cfdda7-d352-484d-9c5e-29f65248f872 button.colab-df-convert');\n",
              "      buttonEl.style.display =\n",
              "        google.colab.kernel.accessAllowed ? 'block' : 'none';\n",
              "\n",
              "      async function convertToInteractive(key) {\n",
              "        const element = document.querySelector('#df-66cfdda7-d352-484d-9c5e-29f65248f872');\n",
              "        const dataTable =\n",
              "          await google.colab.kernel.invokeFunction('convertToInteractive',\n",
              "                                                    [key], {});\n",
              "        if (!dataTable) return;\n",
              "\n",
              "        const docLinkHtml = 'Like what you see? Visit the ' +\n",
              "          '<a target=\"_blank\" href=https://colab.research.google.com/notebooks/data_table.ipynb>data table notebook</a>'\n",
              "          + ' to learn more about interactive tables.';\n",
              "        element.innerHTML = '';\n",
              "        dataTable['output_type'] = 'display_data';\n",
              "        await google.colab.output.renderOutput(dataTable, element);\n",
              "        const docLink = document.createElement('div');\n",
              "        docLink.innerHTML = docLinkHtml;\n",
              "        element.appendChild(docLink);\n",
              "      }\n",
              "    </script>\n",
              "  </div>\n",
              "\n",
              "\n",
              "<div id=\"df-78daa49b-7801-4c41-a046-e32f9c222e3f\">\n",
              "  <button class=\"colab-df-quickchart\" onclick=\"quickchart('df-78daa49b-7801-4c41-a046-e32f9c222e3f')\"\n",
              "            title=\"Suggest charts\"\n",
              "            style=\"display:none;\">\n",
              "\n",
              "<svg xmlns=\"http://www.w3.org/2000/svg\" height=\"24px\"viewBox=\"0 0 24 24\"\n",
              "     width=\"24px\">\n",
              "    <g>\n",
              "        <path d=\"M19 3H5c-1.1 0-2 .9-2 2v14c0 1.1.9 2 2 2h14c1.1 0 2-.9 2-2V5c0-1.1-.9-2-2-2zM9 17H7v-7h2v7zm4 0h-2V7h2v10zm4 0h-2v-4h2v4z\"/>\n",
              "    </g>\n",
              "</svg>\n",
              "  </button>\n",
              "\n",
              "<style>\n",
              "  .colab-df-quickchart {\n",
              "      --bg-color: #E8F0FE;\n",
              "      --fill-color: #1967D2;\n",
              "      --hover-bg-color: #E2EBFA;\n",
              "      --hover-fill-color: #174EA6;\n",
              "      --disabled-fill-color: #AAA;\n",
              "      --disabled-bg-color: #DDD;\n",
              "  }\n",
              "\n",
              "  [theme=dark] .colab-df-quickchart {\n",
              "      --bg-color: #3B4455;\n",
              "      --fill-color: #D2E3FC;\n",
              "      --hover-bg-color: #434B5C;\n",
              "      --hover-fill-color: #FFFFFF;\n",
              "      --disabled-bg-color: #3B4455;\n",
              "      --disabled-fill-color: #666;\n",
              "  }\n",
              "\n",
              "  .colab-df-quickchart {\n",
              "    background-color: var(--bg-color);\n",
              "    border: none;\n",
              "    border-radius: 50%;\n",
              "    cursor: pointer;\n",
              "    display: none;\n",
              "    fill: var(--fill-color);\n",
              "    height: 32px;\n",
              "    padding: 0;\n",
              "    width: 32px;\n",
              "  }\n",
              "\n",
              "  .colab-df-quickchart:hover {\n",
              "    background-color: var(--hover-bg-color);\n",
              "    box-shadow: 0 1px 2px rgba(60, 64, 67, 0.3), 0 1px 3px 1px rgba(60, 64, 67, 0.15);\n",
              "    fill: var(--button-hover-fill-color);\n",
              "  }\n",
              "\n",
              "  .colab-df-quickchart-complete:disabled,\n",
              "  .colab-df-quickchart-complete:disabled:hover {\n",
              "    background-color: var(--disabled-bg-color);\n",
              "    fill: var(--disabled-fill-color);\n",
              "    box-shadow: none;\n",
              "  }\n",
              "\n",
              "  .colab-df-spinner {\n",
              "    border: 2px solid var(--fill-color);\n",
              "    border-color: transparent;\n",
              "    border-bottom-color: var(--fill-color);\n",
              "    animation:\n",
              "      spin 1s steps(1) infinite;\n",
              "  }\n",
              "\n",
              "  @keyframes spin {\n",
              "    0% {\n",
              "      border-color: transparent;\n",
              "      border-bottom-color: var(--fill-color);\n",
              "      border-left-color: var(--fill-color);\n",
              "    }\n",
              "    20% {\n",
              "      border-color: transparent;\n",
              "      border-left-color: var(--fill-color);\n",
              "      border-top-color: var(--fill-color);\n",
              "    }\n",
              "    30% {\n",
              "      border-color: transparent;\n",
              "      border-left-color: var(--fill-color);\n",
              "      border-top-color: var(--fill-color);\n",
              "      border-right-color: var(--fill-color);\n",
              "    }\n",
              "    40% {\n",
              "      border-color: transparent;\n",
              "      border-right-color: var(--fill-color);\n",
              "      border-top-color: var(--fill-color);\n",
              "    }\n",
              "    60% {\n",
              "      border-color: transparent;\n",
              "      border-right-color: var(--fill-color);\n",
              "    }\n",
              "    80% {\n",
              "      border-color: transparent;\n",
              "      border-right-color: var(--fill-color);\n",
              "      border-bottom-color: var(--fill-color);\n",
              "    }\n",
              "    90% {\n",
              "      border-color: transparent;\n",
              "      border-bottom-color: var(--fill-color);\n",
              "    }\n",
              "  }\n",
              "</style>\n",
              "\n",
              "  <script>\n",
              "    async function quickchart(key) {\n",
              "      const quickchartButtonEl =\n",
              "        document.querySelector('#' + key + ' button');\n",
              "      quickchartButtonEl.disabled = true;  // To prevent multiple clicks.\n",
              "      quickchartButtonEl.classList.add('colab-df-spinner');\n",
              "      try {\n",
              "        const charts = await google.colab.kernel.invokeFunction(\n",
              "            'suggestCharts', [key], {});\n",
              "      } catch (error) {\n",
              "        console.error('Error during call to suggestCharts:', error);\n",
              "      }\n",
              "      quickchartButtonEl.classList.remove('colab-df-spinner');\n",
              "      quickchartButtonEl.classList.add('colab-df-quickchart-complete');\n",
              "    }\n",
              "    (() => {\n",
              "      let quickchartButtonEl =\n",
              "        document.querySelector('#df-78daa49b-7801-4c41-a046-e32f9c222e3f button');\n",
              "      quickchartButtonEl.style.display =\n",
              "        google.colab.kernel.accessAllowed ? 'block' : 'none';\n",
              "    })();\n",
              "  </script>\n",
              "</div>\n",
              "\n",
              "    </div>\n",
              "  </div>\n"
            ]
          },
          "metadata": {},
          "execution_count": 3
        }
      ],
      "source": [
        "filePathTrain = '/content/drive/MyDrive/Indic Language Dataset/Hin_train.csv'\n",
        "df_train = pd.read_csv(filePathTrain)\n",
        "df_train.head()"
      ]
    },
    {
      "cell_type": "code",
      "execution_count": null,
      "metadata": {
        "colab": {
          "base_uri": "https://localhost:8080/",
          "height": 206
        },
        "id": "ppe6QMEfuyns",
        "outputId": "160f8c74-2e32-4f82-d6fd-1a3c2da455b7"
      },
      "outputs": [
        {
          "output_type": "execute_result",
          "data": {
            "text/plain": [
              "                                             Article  \\\n",
              "0  भुवनेश्वर : भारत ने शनिवार को ओडिशा के बालासोर...   \n",
              "1  नई दिल्ली। देश में कोरोना की संभावित तीसरी लहर...   \n",
              "2  बीजेपी यूपी में जनवरी के दूसरे हफ्ते से ब्राह्...   \n",
              "3  बागपत: उत्तर प्रदेश के बागपत में बिना अनुमति क...   \n",
              "4  भोपाल: मध्य प्रदेश की पूर्व मुख्यमंत्री और बीज...   \n",
              "\n",
              "                                             Heading  \n",
              "0  भारत की बढ़ी ताकत, ‘अग्नि प्राइम’ मिसाइल का हु...  \n",
              "1  Covid-19 Vaccination: देश में कोविड टीके की 40...  \n",
              "2  यूपी में ब्राह्मण वोटरों को साधने की तैयारी कर...  \n",
              "3  बागपत में बिना इजाजत दाढ़ी रखने पर दरोगा सस्पे...  \n",
              "4  कृषि क़ानूनों की वापसी की घोषणा पर मैं अवाक रह...  "
            ],
            "text/html": [
              "\n",
              "  <div id=\"df-82f43bb8-5ca5-4f9b-b9a0-1f8228aa7de4\" class=\"colab-df-container\">\n",
              "    <div>\n",
              "<style scoped>\n",
              "    .dataframe tbody tr th:only-of-type {\n",
              "        vertical-align: middle;\n",
              "    }\n",
              "\n",
              "    .dataframe tbody tr th {\n",
              "        vertical-align: top;\n",
              "    }\n",
              "\n",
              "    .dataframe thead th {\n",
              "        text-align: right;\n",
              "    }\n",
              "</style>\n",
              "<table border=\"1\" class=\"dataframe\">\n",
              "  <thead>\n",
              "    <tr style=\"text-align: right;\">\n",
              "      <th></th>\n",
              "      <th>Article</th>\n",
              "      <th>Heading</th>\n",
              "    </tr>\n",
              "  </thead>\n",
              "  <tbody>\n",
              "    <tr>\n",
              "      <th>0</th>\n",
              "      <td>भुवनेश्वर : भारत ने शनिवार को ओडिशा के बालासोर...</td>\n",
              "      <td>भारत की बढ़ी ताकत, ‘अग्नि प्राइम’ मिसाइल का हु...</td>\n",
              "    </tr>\n",
              "    <tr>\n",
              "      <th>1</th>\n",
              "      <td>नई दिल्ली। देश में कोरोना की संभावित तीसरी लहर...</td>\n",
              "      <td>Covid-19 Vaccination: देश में कोविड टीके की 40...</td>\n",
              "    </tr>\n",
              "    <tr>\n",
              "      <th>2</th>\n",
              "      <td>बीजेपी यूपी में जनवरी के दूसरे हफ्ते से ब्राह्...</td>\n",
              "      <td>यूपी में ब्राह्मण वोटरों को साधने की तैयारी कर...</td>\n",
              "    </tr>\n",
              "    <tr>\n",
              "      <th>3</th>\n",
              "      <td>बागपत: उत्तर प्रदेश के बागपत में बिना अनुमति क...</td>\n",
              "      <td>बागपत में बिना इजाजत दाढ़ी रखने पर दरोगा सस्पे...</td>\n",
              "    </tr>\n",
              "    <tr>\n",
              "      <th>4</th>\n",
              "      <td>भोपाल: मध्य प्रदेश की पूर्व मुख्यमंत्री और बीज...</td>\n",
              "      <td>कृषि क़ानूनों की वापसी की घोषणा पर मैं अवाक रह...</td>\n",
              "    </tr>\n",
              "  </tbody>\n",
              "</table>\n",
              "</div>\n",
              "    <div class=\"colab-df-buttons\">\n",
              "\n",
              "  <div class=\"colab-df-container\">\n",
              "    <button class=\"colab-df-convert\" onclick=\"convertToInteractive('df-82f43bb8-5ca5-4f9b-b9a0-1f8228aa7de4')\"\n",
              "            title=\"Convert this dataframe to an interactive table.\"\n",
              "            style=\"display:none;\">\n",
              "\n",
              "  <svg xmlns=\"http://www.w3.org/2000/svg\" height=\"24px\" viewBox=\"0 -960 960 960\">\n",
              "    <path d=\"M120-120v-720h720v720H120Zm60-500h600v-160H180v160Zm220 220h160v-160H400v160Zm0 220h160v-160H400v160ZM180-400h160v-160H180v160Zm440 0h160v-160H620v160ZM180-180h160v-160H180v160Zm440 0h160v-160H620v160Z\"/>\n",
              "  </svg>\n",
              "    </button>\n",
              "\n",
              "  <style>\n",
              "    .colab-df-container {\n",
              "      display:flex;\n",
              "      gap: 12px;\n",
              "    }\n",
              "\n",
              "    .colab-df-convert {\n",
              "      background-color: #E8F0FE;\n",
              "      border: none;\n",
              "      border-radius: 50%;\n",
              "      cursor: pointer;\n",
              "      display: none;\n",
              "      fill: #1967D2;\n",
              "      height: 32px;\n",
              "      padding: 0 0 0 0;\n",
              "      width: 32px;\n",
              "    }\n",
              "\n",
              "    .colab-df-convert:hover {\n",
              "      background-color: #E2EBFA;\n",
              "      box-shadow: 0px 1px 2px rgba(60, 64, 67, 0.3), 0px 1px 3px 1px rgba(60, 64, 67, 0.15);\n",
              "      fill: #174EA6;\n",
              "    }\n",
              "\n",
              "    .colab-df-buttons div {\n",
              "      margin-bottom: 4px;\n",
              "    }\n",
              "\n",
              "    [theme=dark] .colab-df-convert {\n",
              "      background-color: #3B4455;\n",
              "      fill: #D2E3FC;\n",
              "    }\n",
              "\n",
              "    [theme=dark] .colab-df-convert:hover {\n",
              "      background-color: #434B5C;\n",
              "      box-shadow: 0px 1px 3px 1px rgba(0, 0, 0, 0.15);\n",
              "      filter: drop-shadow(0px 1px 2px rgba(0, 0, 0, 0.3));\n",
              "      fill: #FFFFFF;\n",
              "    }\n",
              "  </style>\n",
              "\n",
              "    <script>\n",
              "      const buttonEl =\n",
              "        document.querySelector('#df-82f43bb8-5ca5-4f9b-b9a0-1f8228aa7de4 button.colab-df-convert');\n",
              "      buttonEl.style.display =\n",
              "        google.colab.kernel.accessAllowed ? 'block' : 'none';\n",
              "\n",
              "      async function convertToInteractive(key) {\n",
              "        const element = document.querySelector('#df-82f43bb8-5ca5-4f9b-b9a0-1f8228aa7de4');\n",
              "        const dataTable =\n",
              "          await google.colab.kernel.invokeFunction('convertToInteractive',\n",
              "                                                    [key], {});\n",
              "        if (!dataTable) return;\n",
              "\n",
              "        const docLinkHtml = 'Like what you see? Visit the ' +\n",
              "          '<a target=\"_blank\" href=https://colab.research.google.com/notebooks/data_table.ipynb>data table notebook</a>'\n",
              "          + ' to learn more about interactive tables.';\n",
              "        element.innerHTML = '';\n",
              "        dataTable['output_type'] = 'display_data';\n",
              "        await google.colab.output.renderOutput(dataTable, element);\n",
              "        const docLink = document.createElement('div');\n",
              "        docLink.innerHTML = docLinkHtml;\n",
              "        element.appendChild(docLink);\n",
              "      }\n",
              "    </script>\n",
              "  </div>\n",
              "\n",
              "\n",
              "<div id=\"df-fc8d9625-26f6-459d-bae2-4fa6ea020395\">\n",
              "  <button class=\"colab-df-quickchart\" onclick=\"quickchart('df-fc8d9625-26f6-459d-bae2-4fa6ea020395')\"\n",
              "            title=\"Suggest charts\"\n",
              "            style=\"display:none;\">\n",
              "\n",
              "<svg xmlns=\"http://www.w3.org/2000/svg\" height=\"24px\"viewBox=\"0 0 24 24\"\n",
              "     width=\"24px\">\n",
              "    <g>\n",
              "        <path d=\"M19 3H5c-1.1 0-2 .9-2 2v14c0 1.1.9 2 2 2h14c1.1 0 2-.9 2-2V5c0-1.1-.9-2-2-2zM9 17H7v-7h2v7zm4 0h-2V7h2v10zm4 0h-2v-4h2v4z\"/>\n",
              "    </g>\n",
              "</svg>\n",
              "  </button>\n",
              "\n",
              "<style>\n",
              "  .colab-df-quickchart {\n",
              "      --bg-color: #E8F0FE;\n",
              "      --fill-color: #1967D2;\n",
              "      --hover-bg-color: #E2EBFA;\n",
              "      --hover-fill-color: #174EA6;\n",
              "      --disabled-fill-color: #AAA;\n",
              "      --disabled-bg-color: #DDD;\n",
              "  }\n",
              "\n",
              "  [theme=dark] .colab-df-quickchart {\n",
              "      --bg-color: #3B4455;\n",
              "      --fill-color: #D2E3FC;\n",
              "      --hover-bg-color: #434B5C;\n",
              "      --hover-fill-color: #FFFFFF;\n",
              "      --disabled-bg-color: #3B4455;\n",
              "      --disabled-fill-color: #666;\n",
              "  }\n",
              "\n",
              "  .colab-df-quickchart {\n",
              "    background-color: var(--bg-color);\n",
              "    border: none;\n",
              "    border-radius: 50%;\n",
              "    cursor: pointer;\n",
              "    display: none;\n",
              "    fill: var(--fill-color);\n",
              "    height: 32px;\n",
              "    padding: 0;\n",
              "    width: 32px;\n",
              "  }\n",
              "\n",
              "  .colab-df-quickchart:hover {\n",
              "    background-color: var(--hover-bg-color);\n",
              "    box-shadow: 0 1px 2px rgba(60, 64, 67, 0.3), 0 1px 3px 1px rgba(60, 64, 67, 0.15);\n",
              "    fill: var(--button-hover-fill-color);\n",
              "  }\n",
              "\n",
              "  .colab-df-quickchart-complete:disabled,\n",
              "  .colab-df-quickchart-complete:disabled:hover {\n",
              "    background-color: var(--disabled-bg-color);\n",
              "    fill: var(--disabled-fill-color);\n",
              "    box-shadow: none;\n",
              "  }\n",
              "\n",
              "  .colab-df-spinner {\n",
              "    border: 2px solid var(--fill-color);\n",
              "    border-color: transparent;\n",
              "    border-bottom-color: var(--fill-color);\n",
              "    animation:\n",
              "      spin 1s steps(1) infinite;\n",
              "  }\n",
              "\n",
              "  @keyframes spin {\n",
              "    0% {\n",
              "      border-color: transparent;\n",
              "      border-bottom-color: var(--fill-color);\n",
              "      border-left-color: var(--fill-color);\n",
              "    }\n",
              "    20% {\n",
              "      border-color: transparent;\n",
              "      border-left-color: var(--fill-color);\n",
              "      border-top-color: var(--fill-color);\n",
              "    }\n",
              "    30% {\n",
              "      border-color: transparent;\n",
              "      border-left-color: var(--fill-color);\n",
              "      border-top-color: var(--fill-color);\n",
              "      border-right-color: var(--fill-color);\n",
              "    }\n",
              "    40% {\n",
              "      border-color: transparent;\n",
              "      border-right-color: var(--fill-color);\n",
              "      border-top-color: var(--fill-color);\n",
              "    }\n",
              "    60% {\n",
              "      border-color: transparent;\n",
              "      border-right-color: var(--fill-color);\n",
              "    }\n",
              "    80% {\n",
              "      border-color: transparent;\n",
              "      border-right-color: var(--fill-color);\n",
              "      border-bottom-color: var(--fill-color);\n",
              "    }\n",
              "    90% {\n",
              "      border-color: transparent;\n",
              "      border-bottom-color: var(--fill-color);\n",
              "    }\n",
              "  }\n",
              "</style>\n",
              "\n",
              "  <script>\n",
              "    async function quickchart(key) {\n",
              "      const quickchartButtonEl =\n",
              "        document.querySelector('#' + key + ' button');\n",
              "      quickchartButtonEl.disabled = true;  // To prevent multiple clicks.\n",
              "      quickchartButtonEl.classList.add('colab-df-spinner');\n",
              "      try {\n",
              "        const charts = await google.colab.kernel.invokeFunction(\n",
              "            'suggestCharts', [key], {});\n",
              "      } catch (error) {\n",
              "        console.error('Error during call to suggestCharts:', error);\n",
              "      }\n",
              "      quickchartButtonEl.classList.remove('colab-df-spinner');\n",
              "      quickchartButtonEl.classList.add('colab-df-quickchart-complete');\n",
              "    }\n",
              "    (() => {\n",
              "      let quickchartButtonEl =\n",
              "        document.querySelector('#df-fc8d9625-26f6-459d-bae2-4fa6ea020395 button');\n",
              "      quickchartButtonEl.style.display =\n",
              "        google.colab.kernel.accessAllowed ? 'block' : 'none';\n",
              "    })();\n",
              "  </script>\n",
              "</div>\n",
              "\n",
              "    </div>\n",
              "  </div>\n"
            ]
          },
          "metadata": {},
          "execution_count": 4
        }
      ],
      "source": [
        "df_train = df_train[['Article',  'Heading']]\n",
        "df_train.head()"
      ]
    },
    {
      "cell_type": "code",
      "execution_count": null,
      "metadata": {
        "colab": {
          "base_uri": "https://localhost:8080/",
          "height": 206
        },
        "id": "dV4f-QXOzXrJ",
        "outputId": "4c62054f-5f22-45a0-b0d7-cdd208e06926"
      },
      "outputs": [
        {
          "output_type": "execute_result",
          "data": {
            "text/plain": [
              "                                             Article\n",
              "0  जम्मू कश्मीर के पुलिस महानिदेशक (डीजीपी) दिलबा...\n",
              "1  लखनऊ: समाजवादी पार्टी (सपा) ने तीन विवादास्पद ...\n",
              "2  नई दिल्ली। भारत ने अपनी सैन्य शक्ति में इजाफा ...\n",
              "3  चमोली: जल प्रलय ने उत्तराखंड के चमोली में जो व...\n",
              "4  नई दिल्ली। भारत में नए वर्ष 2021 की शुरुआत हो ..."
            ],
            "text/html": [
              "\n",
              "  <div id=\"df-9e1b015b-e735-4bf8-b6cd-2c742d895e79\" class=\"colab-df-container\">\n",
              "    <div>\n",
              "<style scoped>\n",
              "    .dataframe tbody tr th:only-of-type {\n",
              "        vertical-align: middle;\n",
              "    }\n",
              "\n",
              "    .dataframe tbody tr th {\n",
              "        vertical-align: top;\n",
              "    }\n",
              "\n",
              "    .dataframe thead th {\n",
              "        text-align: right;\n",
              "    }\n",
              "</style>\n",
              "<table border=\"1\" class=\"dataframe\">\n",
              "  <thead>\n",
              "    <tr style=\"text-align: right;\">\n",
              "      <th></th>\n",
              "      <th>Article</th>\n",
              "    </tr>\n",
              "  </thead>\n",
              "  <tbody>\n",
              "    <tr>\n",
              "      <th>0</th>\n",
              "      <td>जम्मू कश्मीर के पुलिस महानिदेशक (डीजीपी) दिलबा...</td>\n",
              "    </tr>\n",
              "    <tr>\n",
              "      <th>1</th>\n",
              "      <td>लखनऊ: समाजवादी पार्टी (सपा) ने तीन विवादास्पद ...</td>\n",
              "    </tr>\n",
              "    <tr>\n",
              "      <th>2</th>\n",
              "      <td>नई दिल्ली। भारत ने अपनी सैन्य शक्ति में इजाफा ...</td>\n",
              "    </tr>\n",
              "    <tr>\n",
              "      <th>3</th>\n",
              "      <td>चमोली: जल प्रलय ने उत्तराखंड के चमोली में जो व...</td>\n",
              "    </tr>\n",
              "    <tr>\n",
              "      <th>4</th>\n",
              "      <td>नई दिल्ली। भारत में नए वर्ष 2021 की शुरुआत हो ...</td>\n",
              "    </tr>\n",
              "  </tbody>\n",
              "</table>\n",
              "</div>\n",
              "    <div class=\"colab-df-buttons\">\n",
              "\n",
              "  <div class=\"colab-df-container\">\n",
              "    <button class=\"colab-df-convert\" onclick=\"convertToInteractive('df-9e1b015b-e735-4bf8-b6cd-2c742d895e79')\"\n",
              "            title=\"Convert this dataframe to an interactive table.\"\n",
              "            style=\"display:none;\">\n",
              "\n",
              "  <svg xmlns=\"http://www.w3.org/2000/svg\" height=\"24px\" viewBox=\"0 -960 960 960\">\n",
              "    <path d=\"M120-120v-720h720v720H120Zm60-500h600v-160H180v160Zm220 220h160v-160H400v160Zm0 220h160v-160H400v160ZM180-400h160v-160H180v160Zm440 0h160v-160H620v160ZM180-180h160v-160H180v160Zm440 0h160v-160H620v160Z\"/>\n",
              "  </svg>\n",
              "    </button>\n",
              "\n",
              "  <style>\n",
              "    .colab-df-container {\n",
              "      display:flex;\n",
              "      gap: 12px;\n",
              "    }\n",
              "\n",
              "    .colab-df-convert {\n",
              "      background-color: #E8F0FE;\n",
              "      border: none;\n",
              "      border-radius: 50%;\n",
              "      cursor: pointer;\n",
              "      display: none;\n",
              "      fill: #1967D2;\n",
              "      height: 32px;\n",
              "      padding: 0 0 0 0;\n",
              "      width: 32px;\n",
              "    }\n",
              "\n",
              "    .colab-df-convert:hover {\n",
              "      background-color: #E2EBFA;\n",
              "      box-shadow: 0px 1px 2px rgba(60, 64, 67, 0.3), 0px 1px 3px 1px rgba(60, 64, 67, 0.15);\n",
              "      fill: #174EA6;\n",
              "    }\n",
              "\n",
              "    .colab-df-buttons div {\n",
              "      margin-bottom: 4px;\n",
              "    }\n",
              "\n",
              "    [theme=dark] .colab-df-convert {\n",
              "      background-color: #3B4455;\n",
              "      fill: #D2E3FC;\n",
              "    }\n",
              "\n",
              "    [theme=dark] .colab-df-convert:hover {\n",
              "      background-color: #434B5C;\n",
              "      box-shadow: 0px 1px 3px 1px rgba(0, 0, 0, 0.15);\n",
              "      filter: drop-shadow(0px 1px 2px rgba(0, 0, 0, 0.3));\n",
              "      fill: #FFFFFF;\n",
              "    }\n",
              "  </style>\n",
              "\n",
              "    <script>\n",
              "      const buttonEl =\n",
              "        document.querySelector('#df-9e1b015b-e735-4bf8-b6cd-2c742d895e79 button.colab-df-convert');\n",
              "      buttonEl.style.display =\n",
              "        google.colab.kernel.accessAllowed ? 'block' : 'none';\n",
              "\n",
              "      async function convertToInteractive(key) {\n",
              "        const element = document.querySelector('#df-9e1b015b-e735-4bf8-b6cd-2c742d895e79');\n",
              "        const dataTable =\n",
              "          await google.colab.kernel.invokeFunction('convertToInteractive',\n",
              "                                                    [key], {});\n",
              "        if (!dataTable) return;\n",
              "\n",
              "        const docLinkHtml = 'Like what you see? Visit the ' +\n",
              "          '<a target=\"_blank\" href=https://colab.research.google.com/notebooks/data_table.ipynb>data table notebook</a>'\n",
              "          + ' to learn more about interactive tables.';\n",
              "        element.innerHTML = '';\n",
              "        dataTable['output_type'] = 'display_data';\n",
              "        await google.colab.output.renderOutput(dataTable, element);\n",
              "        const docLink = document.createElement('div');\n",
              "        docLink.innerHTML = docLinkHtml;\n",
              "        element.appendChild(docLink);\n",
              "      }\n",
              "    </script>\n",
              "  </div>\n",
              "\n",
              "\n",
              "<div id=\"df-94edf885-10b5-4502-bea3-6fb50d0b3d5a\">\n",
              "  <button class=\"colab-df-quickchart\" onclick=\"quickchart('df-94edf885-10b5-4502-bea3-6fb50d0b3d5a')\"\n",
              "            title=\"Suggest charts\"\n",
              "            style=\"display:none;\">\n",
              "\n",
              "<svg xmlns=\"http://www.w3.org/2000/svg\" height=\"24px\"viewBox=\"0 0 24 24\"\n",
              "     width=\"24px\">\n",
              "    <g>\n",
              "        <path d=\"M19 3H5c-1.1 0-2 .9-2 2v14c0 1.1.9 2 2 2h14c1.1 0 2-.9 2-2V5c0-1.1-.9-2-2-2zM9 17H7v-7h2v7zm4 0h-2V7h2v10zm4 0h-2v-4h2v4z\"/>\n",
              "    </g>\n",
              "</svg>\n",
              "  </button>\n",
              "\n",
              "<style>\n",
              "  .colab-df-quickchart {\n",
              "      --bg-color: #E8F0FE;\n",
              "      --fill-color: #1967D2;\n",
              "      --hover-bg-color: #E2EBFA;\n",
              "      --hover-fill-color: #174EA6;\n",
              "      --disabled-fill-color: #AAA;\n",
              "      --disabled-bg-color: #DDD;\n",
              "  }\n",
              "\n",
              "  [theme=dark] .colab-df-quickchart {\n",
              "      --bg-color: #3B4455;\n",
              "      --fill-color: #D2E3FC;\n",
              "      --hover-bg-color: #434B5C;\n",
              "      --hover-fill-color: #FFFFFF;\n",
              "      --disabled-bg-color: #3B4455;\n",
              "      --disabled-fill-color: #666;\n",
              "  }\n",
              "\n",
              "  .colab-df-quickchart {\n",
              "    background-color: var(--bg-color);\n",
              "    border: none;\n",
              "    border-radius: 50%;\n",
              "    cursor: pointer;\n",
              "    display: none;\n",
              "    fill: var(--fill-color);\n",
              "    height: 32px;\n",
              "    padding: 0;\n",
              "    width: 32px;\n",
              "  }\n",
              "\n",
              "  .colab-df-quickchart:hover {\n",
              "    background-color: var(--hover-bg-color);\n",
              "    box-shadow: 0 1px 2px rgba(60, 64, 67, 0.3), 0 1px 3px 1px rgba(60, 64, 67, 0.15);\n",
              "    fill: var(--button-hover-fill-color);\n",
              "  }\n",
              "\n",
              "  .colab-df-quickchart-complete:disabled,\n",
              "  .colab-df-quickchart-complete:disabled:hover {\n",
              "    background-color: var(--disabled-bg-color);\n",
              "    fill: var(--disabled-fill-color);\n",
              "    box-shadow: none;\n",
              "  }\n",
              "\n",
              "  .colab-df-spinner {\n",
              "    border: 2px solid var(--fill-color);\n",
              "    border-color: transparent;\n",
              "    border-bottom-color: var(--fill-color);\n",
              "    animation:\n",
              "      spin 1s steps(1) infinite;\n",
              "  }\n",
              "\n",
              "  @keyframes spin {\n",
              "    0% {\n",
              "      border-color: transparent;\n",
              "      border-bottom-color: var(--fill-color);\n",
              "      border-left-color: var(--fill-color);\n",
              "    }\n",
              "    20% {\n",
              "      border-color: transparent;\n",
              "      border-left-color: var(--fill-color);\n",
              "      border-top-color: var(--fill-color);\n",
              "    }\n",
              "    30% {\n",
              "      border-color: transparent;\n",
              "      border-left-color: var(--fill-color);\n",
              "      border-top-color: var(--fill-color);\n",
              "      border-right-color: var(--fill-color);\n",
              "    }\n",
              "    40% {\n",
              "      border-color: transparent;\n",
              "      border-right-color: var(--fill-color);\n",
              "      border-top-color: var(--fill-color);\n",
              "    }\n",
              "    60% {\n",
              "      border-color: transparent;\n",
              "      border-right-color: var(--fill-color);\n",
              "    }\n",
              "    80% {\n",
              "      border-color: transparent;\n",
              "      border-right-color: var(--fill-color);\n",
              "      border-bottom-color: var(--fill-color);\n",
              "    }\n",
              "    90% {\n",
              "      border-color: transparent;\n",
              "      border-bottom-color: var(--fill-color);\n",
              "    }\n",
              "  }\n",
              "</style>\n",
              "\n",
              "  <script>\n",
              "    async function quickchart(key) {\n",
              "      const quickchartButtonEl =\n",
              "        document.querySelector('#' + key + ' button');\n",
              "      quickchartButtonEl.disabled = true;  // To prevent multiple clicks.\n",
              "      quickchartButtonEl.classList.add('colab-df-spinner');\n",
              "      try {\n",
              "        const charts = await google.colab.kernel.invokeFunction(\n",
              "            'suggestCharts', [key], {});\n",
              "      } catch (error) {\n",
              "        console.error('Error during call to suggestCharts:', error);\n",
              "      }\n",
              "      quickchartButtonEl.classList.remove('colab-df-spinner');\n",
              "      quickchartButtonEl.classList.add('colab-df-quickchart-complete');\n",
              "    }\n",
              "    (() => {\n",
              "      let quickchartButtonEl =\n",
              "        document.querySelector('#df-94edf885-10b5-4502-bea3-6fb50d0b3d5a button');\n",
              "      quickchartButtonEl.style.display =\n",
              "        google.colab.kernel.accessAllowed ? 'block' : 'none';\n",
              "    })();\n",
              "  </script>\n",
              "</div>\n",
              "\n",
              "    </div>\n",
              "  </div>\n"
            ]
          },
          "metadata": {},
          "execution_count": 5
        }
      ],
      "source": [
        "filePathTest = '/content/drive/MyDrive/Indic Language Dataset/Hin_val_article.csv'\n",
        "df_test = pd.read_csv(filePathTest)\n",
        "df_test = df_test[['Article']]\n",
        "df_test.head()"
      ]
    },
    {
      "cell_type": "markdown",
      "metadata": {
        "id": "5G0mqcrPwuFI"
      },
      "source": [
        "# Cleaning the Data"
      ]
    },
    {
      "cell_type": "code",
      "execution_count": null,
      "metadata": {
        "id": "8wm1SXSsw10n"
      },
      "outputs": [],
      "source": [
        "import re\n",
        "def remove_emojis(data):\n",
        "    emoj = re.compile(\"[\"\n",
        "        u\"\\U0001F600-\\U0001F64F\"  # emoticons\n",
        "        u\"\\U0001F300-\\U0001F5FF\"  # symbols & pictographs\n",
        "        u\"\\U0001F680-\\U0001F6FF\"  # transport & map symbols\n",
        "        u\"\\U0001F1E0-\\U0001F1FF\"  # flags (iOS)\n",
        "        u\"\\U00002500-\\U00002BEF\"  # chinese char\n",
        "        u\"\\U00002702-\\U000027B0\"\n",
        "        u\"\\U00002702-\\U000027B0\"\n",
        "        u\"\\U000024C2-\\U0001F251\"\n",
        "        u\"\\U0001f926-\\U0001f937\"\n",
        "        u\"\\U00010000-\\U0010ffff\"\n",
        "        u\"\\u2640-\\u2642\"\n",
        "        u\"\\u2600-\\u2B55\"\n",
        "        u\"\\u200d\"\n",
        "        u\"\\u23cf\"\n",
        "        u\"\\u23e9\"\n",
        "        u\"\\u231a\"\n",
        "        u\"\\ufe0f\"  # dingbats\n",
        "        u\"\\u3030\"\n",
        "                      \"]+\", re.UNICODE)\n",
        "    return re.sub(emoj, ' ', data)\n",
        "\n",
        "def preprocess_tokenize(text):\n",
        "    # for removing punctuation from sentences\n",
        "    text = str(text)\n",
        "    text = re.sub(r'(\\d+)', r'', text)\n",
        "\n",
        "    text = text.replace('\\n', ' ')\n",
        "    text = text.replace('\\r', ' ')\n",
        "    text = text.replace('\\t', ' ')\n",
        "    text = text.replace('\\u200d', '')\n",
        "    text=re.sub(\"(__+)\", ' ', str(text)).lower()   #remove _ if it occors more than one time consecutively\n",
        "    text=re.sub(\"(--+)\", ' ', str(text)).lower()   #remove - if it occors more than one time consecutively\n",
        "    text=re.sub(\"(~~+)\", ' ', str(text)).lower()   #remove ~ if it occors more than one time consecutively\n",
        "    text=re.sub(\"(\\+\\++)\", ' ', str(text)).lower()   #remove + if it occors more than one time consecutively\n",
        "    text=re.sub(\"(\\.\\.+)\", ' ', str(text)).lower()   #remove . if it occors more than one time consecutively\n",
        "    text=re.sub(r\"[<>()|&©@#ø\\[\\]\\'\\\",;:?.~*!]\", ' ', str(text)).lower() #remove <>()|&©ø\"',;?~*!\n",
        "    text = re.sub(r\"[‘’।:]\", \" \", str(text)) #removing other special characters\n",
        "    text = re.sub(\"([a-zA-Z])\",' ',str(text)).lower()\n",
        "    text = re.sub(\"(\\s+)\",' ',str(text)).lower()\n",
        "    text = remove_emojis(text)\n",
        "    return text"
      ]
    },
    {
      "cell_type": "code",
      "execution_count": null,
      "metadata": {
        "id": "lLzYHVG8w7ep"
      },
      "outputs": [],
      "source": [
        "df_train_target = df_train['Heading']\n",
        "df_train_source = df_train['Article']"
      ]
    },
    {
      "cell_type": "code",
      "execution_count": null,
      "metadata": {
        "id": "6keAP8UTxRJE"
      },
      "outputs": [],
      "source": [
        "tokenized_corpus_target = [preprocess_tokenize(x) for x in df_train_target]  #these are headlines\n",
        "tokenized_corpus_source = [preprocess_tokenize(x) for x in df_train_source]  #these are articles"
      ]
    },
    {
      "cell_type": "code",
      "execution_count": null,
      "metadata": {
        "colab": {
          "base_uri": "https://localhost:8080/"
        },
        "id": "k2PwUXL7xnzs",
        "outputId": "0ddb5281-79b1-43e0-8d28-91c133ad263f"
      },
      "outputs": [
        {
          "output_type": "stream",
          "name": "stdout",
          "text": [
            "भारत की बढ़ी ताकत अग्नि प्राइम मिसाइल का हुआ सफल परीक्षण मारक क्षमता से किलोमीटर\n",
            "भुवनेश्वर भारत ने शनिवार को ओडिशा के बालासोर तट पर अग्नि प्राइम मिसाइल का सफल परीक्षण किया सरकारी अधिकारियों ने इसकी जानकारी दी अग्नि प्राइम मिसाइल अग्नि सीरीज की नए जनरेशन वाली एडवांस मिसाइल है इसकी मारक क्षमता से किलोमीटर के बीच है मिसाइल को रक्षा अनुसंधान और विकास संगठन द्वारा डिजाइन और विकसित किया गया है अग्नि प्राइम अल्ट्रा मॉर्डन टेक्निक से लैस होने की वजह से बहुत हल्के वजन की मिसाइल है आपको बता दें कि इसी सप्ताह भारत सुपरसोनिक मिसाइल असिस्टेड टॉरपीडो सिस्टम का भी सफलतापूर्वक प्रक्षेपण किया था इस मिसाइल का प्रक्षेपण ओडिशा तट से दूर अब्दुल कलाम द्वीप से किया गया था \n"
          ]
        }
      ],
      "source": [
        "print(tokenized_corpus_target[0])\n",
        "print(tokenized_corpus_source[0])"
      ]
    },
    {
      "cell_type": "markdown",
      "metadata": {
        "id": "xn0bOX9Jygju"
      },
      "source": [
        "# Visualing Data"
      ]
    },
    {
      "cell_type": "code",
      "execution_count": null,
      "metadata": {
        "colab": {
          "base_uri": "https://localhost:8080/",
          "height": 515
        },
        "id": "uVAXff6dyj2E",
        "outputId": "104a4608-7fb4-4a91-c02b-576fb570d79e"
      },
      "outputs": [
        {
          "output_type": "display_data",
          "data": {
            "text/plain": [
              "<Figure size 1000x500 with 2 Axes>"
            ],
            "image/png": "[encoded data removed]"
          },
          "metadata": {}
        }
      ],
      "source": [
        "text_word_count = []\n",
        "summary_word_count = []\n",
        "\n",
        "# populate the lists with sentence lengths\n",
        "for i in tokenized_corpus_source[:df_train.shape[0]]:\n",
        "      text_word_count.append(len(i.split()))\n",
        "\n",
        "for i in tokenized_corpus_target[:df_train.shape[0]]:\n",
        "      summary_word_count.append(len(i.split()))\n",
        "\n",
        "fig , ax = plt.subplots(1,2)\n",
        "fig.set_size_inches(10,5)\n",
        "ax[0].hist(text_word_count, bins=25, range=[0, 1000])\n",
        "ax[1].hist(summary_word_count, bins=25, range=[0, 80])\n",
        "ax[0].set_xlabel(\"No. of words in Text\")\n",
        "ax[0].set_ylabel(\"Frequency\")\n",
        "ax[1].set_xlabel(\"No. of words in Summary\")\n",
        "ax[1].set_ylabel(\"Frequency\")\n",
        "fig.suptitle('Distribution of training data')\n",
        "plt.show()"
      ]
    },
    {
      "cell_type": "code",
      "execution_count": null,
      "metadata": {
        "colab": {
          "base_uri": "https://localhost:8080/",
          "height": 515
        },
        "id": "MCkH0AcLzNZM",
        "outputId": "302a3889-9984-407a-f4c5-35558db55ce1"
      },
      "outputs": [
        {
          "output_type": "display_data",
          "data": {
            "text/plain": [
              "<Figure size 1000x500 with 2 Axes>"
            ],
            "image/png": "[encoded data removed]"
          },
          "metadata": {}
        }
      ],
      "source": [
        "for i in tokenized_corpus_source[:-df_test.shape[0]]:\n",
        "      text_word_count.append(len(i.split()))\n",
        "\n",
        "for i in tokenized_corpus_target[:-df_test.shape[0]]:\n",
        "      summary_word_count.append(len(i.split()))\n",
        "\n",
        "fig , ax = plt.subplots(1,2)\n",
        "fig.set_size_inches(10,5)\n",
        "ax[0].hist(text_word_count, bins=25, range=[0, 1000])\n",
        "ax[1].hist(summary_word_count, bins=25, range=[0, 80])\n",
        "ax[0].set_xlabel(\"No. of words in Text\")\n",
        "ax[0].set_ylabel(\"Frequency\")\n",
        "ax[1].set_xlabel(\"No. of words in Summary\")\n",
        "ax[1].set_ylabel(\"Frequency\")\n",
        "fig.suptitle('Distribution of Testing data')\n",
        "plt.show()"
      ]
    },
    {
      "cell_type": "code",
      "execution_count": null,
      "metadata": {
        "colab": {
          "base_uri": "https://localhost:8080/"
        },
        "id": "vXQk26ts1Qhs",
        "outputId": "5451f68f-5624-4cc7-c165-2309960a2a4f"
      },
      "outputs": [
        {
          "output_type": "stream",
          "name": "stdout",
          "text": [
            "::::: Text_Cleaned :::::\n",
            "0    भुवनेश्वर भारत ने शनिवार को ओडिशा के बालासोर त...\n",
            "1    नई दिल्ली देश में कोरोना की संभावित तीसरी लहर ...\n",
            "2    बीजेपी यूपी में जनवरी के दूसरे हफ्ते से ब्राह्...\n",
            "3    बागपत उत्तर प्रदेश के बागपत में बिना अनुमति के...\n",
            "4    भोपाल मध्य प्रदेश की पूर्व मुख्यमंत्री और बीजे...\n",
            "Name: Text_Cleaned, dtype: object \n",
            "\n",
            "::::: Summary :::::\n",
            "0    भारत की बढ़ी ताकत अग्नि प्राइम मिसाइल का हुआ स...\n",
            "1     - देश में कोविड टीके की करोड़ से अधिक खुराक द...\n",
            "2    यूपी में ब्राह्मण वोटरों को साधने की तैयारी कर...\n",
            "3    बागपत में बिना इजाजत दाढ़ी रखने पर दरोगा सस्पे...\n",
            "4    कृषि क़ानूनों की वापसी की घोषणा पर मैं अवाक रह...\n",
            "Name: Summary_Cleaned, dtype: object \n",
            "\n"
          ]
        }
      ],
      "source": [
        "news = df_train\n",
        "news['Text_Cleaned'] = tokenized_corpus_source\n",
        "print(\"::::: Text_Cleaned :::::\")\n",
        "print(news['Text_Cleaned'][0:5], \"\\n\")\n",
        "\n",
        "\n",
        "news['Summary_Cleaned'] =  tokenized_corpus_target\n",
        "print(\"::::: Summary :::::\")\n",
        "print(news['Summary_Cleaned'][0:5], \"\\n\")\n",
        "\n",
        "corpus = list(news['Text_Cleaned'])"
      ]
    },
    {
      "cell_type": "code",
      "execution_count": null,
      "metadata": {
        "id": "szsFNlT12BpL"
      },
      "outputs": [],
      "source": [
        "text_count = []\n",
        "summary_count = []\n",
        "\n",
        "for sent in news['Text_Cleaned']:\n",
        "    text_count.append(len(sent.split()))\n",
        "for sent in news['Summary_Cleaned']:\n",
        "    summary_count.append(len(sent.split()))\n",
        "\n",
        "graph_df = pd.DataFrame()\n",
        "graph_df['text'] = text_count\n",
        "graph_df['summary'] = summary_count"
      ]
    },
    {
      "cell_type": "code",
      "execution_count": null,
      "metadata": {
        "colab": {
          "base_uri": "https://localhost:8080/"
        },
        "id": "jRllKkC52Dv2",
        "outputId": "ff66c3c0-dad1-4c58-a33a-b892239645a0"
      },
      "outputs": [
        {
          "output_type": "execute_result",
          "data": {
            "text/plain": [
              "count    7957.000000\n",
              "mean      403.807842\n",
              "std       267.977574\n",
              "min        15.000000\n",
              "25%       246.000000\n",
              "50%       335.000000\n",
              "75%       479.000000\n",
              "max      3072.000000\n",
              "Name: text, dtype: float64"
            ]
          },
          "metadata": {},
          "execution_count": 14
        }
      ],
      "source": [
        "graph_df['text'].describe()"
      ]
    },
    {
      "cell_type": "code",
      "execution_count": null,
      "metadata": {
        "colab": {
          "base_uri": "https://localhost:8080/"
        },
        "id": "PYyiXPij2IJC",
        "outputId": "8c920a6c-24e7-43c4-9660-70cebb4de6d8"
      },
      "outputs": [
        {
          "output_type": "execute_result",
          "data": {
            "text/plain": [
              "count    7957.000000\n",
              "mean       14.534247\n",
              "std         2.931639\n",
              "min         4.000000\n",
              "25%        13.000000\n",
              "50%        14.000000\n",
              "75%        16.000000\n",
              "max        29.000000\n",
              "Name: summary, dtype: float64"
            ]
          },
          "metadata": {},
          "execution_count": 15
        }
      ],
      "source": [
        "graph_df['summary'].describe()"
      ]
    },
    {
      "cell_type": "code",
      "execution_count": null,
      "metadata": {
        "colab": {
          "base_uri": "https://localhost:8080/",
          "height": 430
        },
        "id": "7H5FSJeh2MGU",
        "outputId": "2109055b-5673-460f-d48b-5ceac0a0f611"
      },
      "outputs": [
        {
          "output_type": "display_data",
          "data": {
            "text/plain": [
              "<Figure size 640x480 with 1 Axes>"
            ],
            "image/png": "[encoded data removed]"
          },
          "metadata": {}
        }
      ],
      "source": [
        "graph_df['text'].hist(bins = 25, range=(0, 1000))\n",
        "plt.show()"
      ]
    },
    {
      "cell_type": "code",
      "execution_count": null,
      "metadata": {
        "colab": {
          "base_uri": "https://localhost:8080/",
          "height": 430
        },
        "id": "5DoDRlTg2P_h",
        "outputId": "8d848c60-759b-4582-f709-b3e211c7c0ce"
      },
      "outputs": [
        {
          "output_type": "display_data",
          "data": {
            "text/plain": [
              "<Figure size 640x480 with 1 Axes>"
            ],
            "image/png": "[encoded data removed]"
          },
          "metadata": {}
        }
      ],
      "source": [
        "graph_df['summary'].hist(bins = 15, range=(0, 25))\n",
        "plt.show()"
      ]
    },
    {
      "cell_type": "code",
      "execution_count": null,
      "metadata": {
        "id": "R-GsP6O825Lb"
      },
      "outputs": [],
      "source": [
        "max_text_len = 1000\n",
        "max_summary_len = 25"
      ]
    },
    {
      "cell_type": "code",
      "execution_count": null,
      "metadata": {
        "id": "laWB7Jte3JYv"
      },
      "outputs": [],
      "source": [
        "cleaned_text = np.array(news['Text_Cleaned'])\n",
        "cleaned_summary = np.array(news['Summary_Cleaned'])\n",
        "\n",
        "short_text = []\n",
        "short_summary = []\n",
        "\n",
        "for i in range(len(cleaned_text)):\n",
        "    if(len(cleaned_summary[i].split()) <= max_summary_len\n",
        "       and len(cleaned_summary[i].split()) > 1\n",
        "       and len(cleaned_text[i].split()) <= max_text_len):\n",
        "        short_text.append(cleaned_text[i])\n",
        "        short_summary.append(cleaned_summary[i])\n",
        "    elif((len(cleaned_summary[i].split()) > max_summary_len) or (len(cleaned_text[i].split()) > max_text_len)):\n",
        "        summ = cleaned_summary[i].split()\n",
        "        txt = cleaned_text[i].split()\n",
        "        if(len(summ)>max_summary_len):\n",
        "          short_summary.append(' '.join(summ[:max_summary_len]))\n",
        "        else:\n",
        "          short_summary.append(cleaned_summary[i])\n",
        "        if(len(txt)>max_text_len):\n",
        "          short_text.append(' '.join(txt[:max_text_len]))\n",
        "        else:\n",
        "          short_text.append(cleaned_text[i])\n",
        "\n",
        "post_pre = pd.DataFrame({'text':short_text,'summary':short_summary})"
      ]
    },
    {
      "cell_type": "code",
      "execution_count": null,
      "metadata": {
        "colab": {
          "base_uri": "https://localhost:8080/"
        },
        "id": "LrPcZQ9f3Qo7",
        "outputId": "f6c31a9d-c534-4d5f-cd53-ed30e04a2516"
      },
      "outputs": [
        {
          "output_type": "stream",
          "name": "stdout",
          "text": [
            "Cleaned Text's size - 7957\n",
            "Cleaned Summary's size - 7957\n"
          ]
        }
      ],
      "source": [
        "post_pre['summary'] = post_pre['summary'].apply(lambda x : 'sostok '+ x + ' eostok')\n",
        "post_pre['text'] = post_pre['text'].apply(lambda x: 'sostok ' + x + ' eostok')\n",
        "cleaned_summary = np.array(post_pre['summary'])\n",
        "cleaned_text = np.array(post_pre['text'])\n",
        "print(\"Cleaned Text's size -\", cleaned_text.shape[0])\n",
        "print(\"Cleaned Summary's size -\", cleaned_summary.shape[0])"
      ]
    },
    {
      "cell_type": "markdown",
      "metadata": {
        "id": "okbKsZjd3qIg"
      },
      "source": [
        "# Tokenization, Padding and Saving Final Input File"
      ]
    },
    {
      "cell_type": "code",
      "execution_count": null,
      "metadata": {
        "id": "8I7_KpZT3uJy"
      },
      "outputs": [],
      "source": [
        "from keras.preprocessing.text import Tokenizer\n",
        "from keras.preprocessing.sequence import pad_sequences"
      ]
    },
    {
      "cell_type": "code",
      "execution_count": null,
      "metadata": {
        "id": "-s-g6GRD34RU"
      },
      "outputs": [],
      "source": [
        "#Tokenize text to get the vocab count\n",
        "#prepare a tokenizer for training data\n",
        "text_tokenizer = Tokenizer()\n",
        "text_tokenizer.fit_on_texts(list(cleaned_text))\n",
        "\n",
        "#prepare a tokenizer for reviews on training data\n",
        "summary_tokenizer = Tokenizer()\n",
        "summary_tokenizer.fit_on_texts(list(cleaned_summary))"
      ]
    },
    {
      "cell_type": "code",
      "execution_count": null,
      "metadata": {
        "colab": {
          "base_uri": "https://localhost:8080/"
        },
        "id": "3rgLJoVp361C",
        "outputId": "ac96b7f7-b6bd-4512-ed3e-37d051f981e3"
      },
      "outputs": [
        {
          "output_type": "stream",
          "name": "stdout",
          "text": [
            "{'कुमानम': 44778, 'बासा': 46250, 'उथलपुथल': 24121, 'लीवर': 6769, 'गूढ़': 19507, 'ब्राजीलियाई': 22013, 'मित्रवत': 25926, 'ठा': 14556, 'टाडा': 30407, 'इलाक़ा': 39828}\n",
            "Length of Vocab - 50667\n"
          ]
        }
      ],
      "source": [
        "vocab = text_tokenizer.word_index\n",
        "import random\n",
        "def sample_from_dict(d, sample=10):\n",
        "    keys = random.sample(list(d), sample)\n",
        "    values = [d[k] for k in keys]\n",
        "    return dict(zip(keys, values))\n",
        "\n",
        "print(sample_from_dict(vocab))\n",
        "print(\"Length of Vocab -\", len(vocab))"
      ]
    },
    {
      "cell_type": "code",
      "execution_count": null,
      "metadata": {
        "colab": {
          "base_uri": "https://localhost:8080/"
        },
        "id": "-07TV0rM4ID-",
        "outputId": "0d869934-b351-435c-9c1a-03384fc79603"
      },
      "outputs": [
        {
          "output_type": "stream",
          "name": "stdout",
          "text": [
            "% of rare words in vocabulary in Text: 63.412082815244645\n",
            "Total Coverage of rare words in Text: 1.5382609609641984\n"
          ]
        }
      ],
      "source": [
        "thresh=4\n",
        "cnt=0\n",
        "tot_cnt=0\n",
        "freq=0\n",
        "tot_freq=0\n",
        "\n",
        "for key,value in text_tokenizer.word_counts.items():\n",
        "    tot_cnt=tot_cnt+1\n",
        "    tot_freq=tot_freq+value\n",
        "    if(value<thresh):\n",
        "        cnt=cnt+1\n",
        "        freq=freq+value\n",
        "\n",
        "print(\"% of rare words in vocabulary in Text:\",(cnt/tot_cnt)*100)\n",
        "print(\"Total Coverage of rare words in Text:\",(freq/tot_freq)*100)"
      ]
    },
    {
      "cell_type": "code",
      "execution_count": null,
      "metadata": {
        "colab": {
          "base_uri": "https://localhost:8080/"
        },
        "id": "MFITHqE34Oxb",
        "outputId": "0a9205cc-6d5e-43b7-8ff8-8537e434fc81"
      },
      "outputs": [
        {
          "output_type": "stream",
          "name": "stdout",
          "text": [
            "Size of vocabulary in Text = 18539\n"
          ]
        }
      ],
      "source": [
        "# #prepare a tokenizer for reviews on training data\n",
        "text_tokenizer = Tokenizer(num_words = tot_cnt - cnt)\n",
        "text_tokenizer.fit_on_texts(list(cleaned_text))\n",
        "\n",
        "#convert text sequences into integer sequences (i.e one-hot encodeing all the words)\n",
        "text__seq    =   text_tokenizer.texts_to_sequences(cleaned_text)\n",
        "#padding zero upto maximum length\n",
        "cleaned_text    =   pad_sequences(text__seq,  maxlen=max_text_len, padding='post')\n",
        "\n",
        "#size of vocabulary ( +1 for padding token)\n",
        "text_voc   =  text_tokenizer.num_words + 1\n",
        "\n",
        "print(\"Size of vocabulary in Text = {}\".format(text_voc))"
      ]
    },
    {
      "cell_type": "code",
      "execution_count": null,
      "metadata": {
        "colab": {
          "base_uri": "https://localhost:8080/"
        },
        "id": "98zauWyK4SaS",
        "outputId": "19ad0772-d01b-4338-f491-7940ba6ba704"
      },
      "outputs": [
        {
          "output_type": "stream",
          "name": "stdout",
          "text": [
            "% of rare words in vocabulary in Summary: 68.35260115606935\n",
            "Total Coverage of rare words in Summary: 7.785197298688713\n"
          ]
        }
      ],
      "source": [
        "thresh=4\n",
        "cnt=0\n",
        "tot_cnt=0\n",
        "freq=0\n",
        "tot_freq=0\n",
        "\n",
        "for key,value in summary_tokenizer.word_counts.items():\n",
        "    tot_cnt=tot_cnt+1\n",
        "    tot_freq=tot_freq+value\n",
        "    if(value<thresh):\n",
        "        cnt=cnt+1\n",
        "        freq=freq+value\n",
        "\n",
        "print(\"% of rare words in vocabulary in Summary:\",(cnt/tot_cnt)*100)\n",
        "print(\"Total Coverage of rare words in Summary:\",(freq/tot_freq)*100)"
      ]
    },
    {
      "cell_type": "code",
      "execution_count": null,
      "metadata": {
        "colab": {
          "base_uri": "https://localhost:8080/"
        },
        "id": "LrpYlfBL4lHi",
        "outputId": "148e898e-07b3-48b4-af95-93dc713d76e9"
      },
      "outputs": [
        {
          "output_type": "stream",
          "name": "stdout",
          "text": [
            "Size of vocabulary in Summary = 3286\n"
          ]
        }
      ],
      "source": [
        "#prepare a tokenizer for reviews on training data\n",
        "summary_tokenizer = Tokenizer(num_words = tot_cnt - cnt)\n",
        "summary_tokenizer.fit_on_texts(list(cleaned_summary))\n",
        "\n",
        "#convert text sequences into integer sequences (i.e one-hot encodeing all the words)\n",
        "summary__seq    =   summary_tokenizer.texts_to_sequences(cleaned_summary)\n",
        "#padding zero upto maximum length\n",
        "cleaned_summary    =   pad_sequences(summary__seq,  maxlen=max_summary_len, padding='post')\n",
        "\n",
        "#size of vocabulary ( +1 for padding token)\n",
        "summary_voc   =  summary_tokenizer.num_words + 1\n",
        "\n",
        "print(\"Size of vocabulary in Summary = {}\".format(summary_voc))"
      ]
    },
    {
      "cell_type": "code",
      "execution_count": null,
      "metadata": {
        "colab": {
          "base_uri": "https://localhost:8080/"
        },
        "id": "SHqGyFqM458X",
        "outputId": "40dc7bbe-92bc-41dc-d1ae-12580a584103"
      },
      "outputs": [
        {
          "output_type": "execute_result",
          "data": {
            "text/plain": [
              "(7957, 7957)"
            ]
          },
          "metadata": {},
          "execution_count": 30
        }
      ],
      "source": [
        "summary_tokenizer.word_counts['sostok'], len(cleaned_summary)"
      ]
    },
    {
      "cell_type": "code",
      "execution_count": null,
      "metadata": {
        "id": "qGUgQ2OR5EFH"
      },
      "outputs": [],
      "source": [
        "import pickle\n",
        "pathToFolder = '/content/drive/MyDrive/Languages/Hindi Language Text Summarization/'\n",
        "with open(pathToFolder + 'text_tokenizer.pickle', 'wb') as handle:\n",
        "    pickle.dump(text_tokenizer, handle, protocol=pickle.HIGHEST_PROTOCOL)\n",
        "\n",
        "with open(pathToFolder + 'summary_tokenizer.pickle', 'wb') as handle:\n",
        "    pickle.dump(summary_tokenizer, handle, protocol=pickle.HIGHEST_PROTOCOL)"
      ]
    },
    {
      "cell_type": "code",
      "execution_count": null,
      "metadata": {
        "id": "lf4w5L9-5Z2s"
      },
      "outputs": [],
      "source": [
        "ind=[]\n",
        "for i in range(len(cleaned_summary)):\n",
        "    cnt=0\n",
        "    for j in cleaned_summary[i]:\n",
        "        if j!=0:\n",
        "            cnt=cnt+1\n",
        "    if(cnt==2):\n",
        "        ind.append(i)\n",
        "\n",
        "cleaned_text = np.delete(cleaned_text, ind, axis=0)\n",
        "cleaned_summary = np.delete(cleaned_summary, ind, axis=0)"
      ]
    },
    {
      "cell_type": "code",
      "execution_count": null,
      "metadata": {
        "colab": {
          "base_uri": "https://localhost:8080/"
        },
        "id": "G--mVGgb5dRH",
        "outputId": "ff478e25-bc63-468b-81a3-43c37eda2fc4"
      },
      "outputs": [
        {
          "output_type": "stream",
          "name": "stdout",
          "text": [
            "cleaned text's size  (7957, 1000)\n",
            "cleaned summary's size  (7957, 25)\n"
          ]
        }
      ],
      "source": [
        "print(\"cleaned text's size \",cleaned_text.shape)\n",
        "print(\"cleaned summary's size \",cleaned_summary.shape)"
      ]
    },
    {
      "cell_type": "code",
      "execution_count": null,
      "metadata": {
        "colab": {
          "base_uri": "https://localhost:8080/"
        },
        "id": "BU1vsQih5gc0",
        "outputId": "4f90d055-be77-433f-94b7-623c2e612e46"
      },
      "outputs": [
        {
          "output_type": "execute_result",
          "data": {
            "text/plain": [
              "array([[   40,  2227,    43, ...,     0,     0,     0],\n",
              "       [   40,    86,    33, ...,     0,     0,     0],\n",
              "       [   40,   231,   249, ...,     0,     0,     0],\n",
              "       ...,\n",
              "       [   40,    86,    33, ...,     0,     0,     0],\n",
              "       [   40, 17364,    77, ...,     0,     0,     0],\n",
              "       [   40,    77,    49, ...,     0,     0,     0]], dtype=int32)"
            ]
          },
          "metadata": {},
          "execution_count": 34
        }
      ],
      "source": [
        "cleaned_text"
      ]
    },
    {
      "cell_type": "code",
      "execution_count": null,
      "metadata": {
        "colab": {
          "base_uri": "https://localhost:8080/"
        },
        "id": "1qR_odSz5x3p",
        "outputId": "779c7c0c-621e-47aa-d2c2-5e1a851c776e"
      },
      "outputs": [
        {
          "output_type": "execute_result",
          "data": {
            "text/plain": [
              "array([[  1,  23,   5, ...,   0,   0,   0],\n",
              "       [  1,  41,   3, ...,   0,   0,   0],\n",
              "       [  1,  38,   3, ...,   0,   0,   0],\n",
              "       ...,\n",
              "       [  1,  41,   3, ...,   0,   0,   0],\n",
              "       [  1,   6,   8, ...,   0,   0,   0],\n",
              "       [  1, 319, 145, ...,   0,   0,   0]], dtype=int32)"
            ]
          },
          "metadata": {},
          "execution_count": 35
        }
      ],
      "source": [
        "cleaned_summary"
      ]
    },
    {
      "cell_type": "code",
      "execution_count": null,
      "metadata": {
        "id": "DvBkRvMC55eq"
      },
      "outputs": [],
      "source": [
        "#Saving Final Input Text\n",
        "with open(pathToFolder + 'cleaned_text.pickle', 'wb') as file:\n",
        "    pickle.dump(cleaned_text, file, protocol=pickle.HIGHEST_PROTOCOL)\n",
        "\n",
        "with open(pathToFolder + 'cleaned_summary.pickle', 'wb') as file:\n",
        "    pickle.dump(cleaned_summary, file, protocol=pickle.HIGHEST_PROTOCOL)"
      ]
    },
    {
      "cell_type": "markdown",
      "metadata": {
        "id": "SX2v535D7aFh"
      },
      "source": [
        "# Embedding Space"
      ]
    },
    {
      "cell_type": "code",
      "execution_count": null,
      "metadata": {
        "colab": {
          "base_uri": "https://localhost:8080/"
        },
        "id": "NFTSv2Be7k_W",
        "outputId": "3af61c4b-a6f5-4506-d9cb-34a8157d2e50"
      },
      "outputs": [
        {
          "output_type": "stream",
          "name": "stdout",
          "text": [
            "Collecting fasttext\n",
            "  Downloading fasttext-0.9.2.tar.gz (68 kB)\n",
            "\u001b[?25l     \u001b[90m━━━━━━━━━━━━━━━━━━━━━━━━━━━━━━━━━━━━━━━━\u001b[0m \u001b[32m0.0/68.8 kB\u001b[0m \u001b[31m?\u001b[0m eta \u001b[36m-:--:--\u001b[0m\r\u001b[2K     \u001b[90m━━━━━━━━━━━━━━━━━━━━━━━━━━━━━━━━━━━━━━━━\u001b[0m \u001b[32m68.8/68.8 kB\u001b[0m \u001b[31m2.2 MB/s\u001b[0m eta \u001b[36m0:00:00\u001b[0m\n",
            "\u001b[?25h  Preparing metadata (setup.py) ... \u001b[?25l\u001b[?25hdone\n",
            "Collecting pybind11>=2.2 (from fasttext)\n",
            "  Using cached pybind11-2.11.1-py3-none-any.whl (227 kB)\n",
            "Requirement already satisfied: setuptools>=0.7.0 in /usr/local/lib/python3.10/dist-packages (from fasttext) (67.7.2)\n",
            "Requirement already satisfied: numpy in /usr/local/lib/python3.10/dist-packages (from fasttext) (1.23.5)\n",
            "Building wheels for collected packages: fasttext\n",
            "  Building wheel for fasttext (setup.py) ... \u001b[?25l\u001b[?25hdone\n",
            "  Created wheel for fasttext: filename=fasttext-0.9.2-cp310-cp310-linux_x86_64.whl size=4199773 sha256=40e2c42a31dba708546e8492cfcef43f0d9d8cffdd7e7672884ab646f67661e3\n",
            "  Stored in directory: /root/.cache/pip/wheels/a5/13/75/f811c84a8ab36eedbaef977a6a58a98990e8e0f1967f98f394\n",
            "Successfully built fasttext\n",
            "Installing collected packages: pybind11, fasttext\n",
            "Successfully installed fasttext-0.9.2 pybind11-2.11.1\n"
          ]
        }
      ],
      "source": [
        "!pip install fasttext"
      ]
    },
    {
      "cell_type": "code",
      "execution_count": null,
      "metadata": {
        "id": "XiYdiM9x7sTF"
      },
      "outputs": [],
      "source": [
        "# 'fastText' is a library for learning of word embeddings and text classification created by Facebook's (Meta) AI Research lab.\n",
        "import fasttext.util\n",
        "\n",
        "# Link to fastText Models for different Languages: https://fasttext.cc/docs/en/crawl-vectors.html\n",
        "# !gzip -d /content/drive/MyDrive/fastText/cc.hi.300.bin.gz"
      ]
    },
    {
      "cell_type": "code",
      "execution_count": null,
      "metadata": {
        "colab": {
          "base_uri": "https://localhost:8080/"
        },
        "id": "US_JgxnHKL7d",
        "outputId": "31b55b37-7c74-4b65-bb34-0c31537bc606"
      },
      "outputs": [
        {
          "output_type": "stream",
          "name": "stderr",
          "text": [
            "Warning : `load_model` does not return WordVectorModel or SupervisedModel any more, but a `FastText` object which is very similar.\n"
          ]
        }
      ],
      "source": [
        "ft = fasttext.load_model('/content/drive/MyDrive/fastText/cc.hi.300.bin')"
      ]
    },
    {
      "cell_type": "code",
      "execution_count": null,
      "metadata": {
        "colab": {
          "base_uri": "https://localhost:8080/"
        },
        "id": "xB4aXCVFKW_C",
        "outputId": "90d96546-f85a-4561-ce2c-c6abd66600a5"
      },
      "outputs": [
        {
          "output_type": "stream",
          "name": "stdout",
          "text": [
            "Embedding vector shape of खुशी  is 300\n"
          ]
        }
      ],
      "source": [
        "word = \"खुशी\"\n",
        "print(\"Embedding vector shape of\", word, \" is {}\".format(ft.get_word_vector(word).shape[0]))"
      ]
    },
    {
      "cell_type": "markdown",
      "metadata": {
        "id": "ZopRw5uTLHx1"
      },
      "source": [
        "# Embedding Matrix"
      ]
    },
    {
      "cell_type": "code",
      "execution_count": null,
      "metadata": {
        "id": "MvKIJSpxLVBW"
      },
      "outputs": [],
      "source": [
        "def create_weight_matrix(model, DICT_SIZE, tokenizer):\n",
        "  '''\n",
        "  Accepts word embedding model and the second model, if provided returns weight matrix of size m*n, where\n",
        "  m - size of the dictionary\n",
        "  n - size of the word embedding vector\n",
        "  '''\n",
        "  vector_size = model.get_word_vector(\"खुशी\").shape[0]\n",
        "  w_matrix = np.zeros((DICT_SIZE, vector_size))\n",
        "  unk_words = []\n",
        "  text_words = []\n",
        "  for word, index in tokenizer.word_index.items():\n",
        "    if index < DICT_SIZE:\n",
        "      if word in model.words:\n",
        "        w_matrix[index] = model.get_word_vector(word)\n",
        "        text_words.append(word)\n",
        "      else:\n",
        "        w_matrix[index] = np.random.rand(1, vector_size)\n",
        "        unk_words.append(word)\n",
        "\n",
        "\n",
        "  print('{} words were considered as they were found in embedding space:'.format(len(text_words)))\n",
        "  print('{} are some such words'.format(text_words[:10]))\n",
        "  print()\n",
        "  print('{} words were randomly alloted as they were not found in embedding space:'.format(len(unk_words)))\n",
        "  print('{} are some such words'.format(unk_words[:10]))\n",
        "\n",
        "  return w_matrix"
      ]
    },
    {
      "cell_type": "code",
      "execution_count": null,
      "metadata": {
        "colab": {
          "base_uri": "https://localhost:8080/"
        },
        "id": "2zO-3BX5Lry_",
        "outputId": "15844469-54d0-482b-e695-e600e9662d1d"
      },
      "outputs": [
        {
          "output_type": "stream",
          "name": "stdout",
          "text": [
            "18114 words were considered as they were found in embedding space:\n",
            "['के', 'में', 'की', 'है', 'को', 'से', 'ने', 'और', 'कि', 'का'] are some such words\n",
            "\n",
            "424 words were randomly alloted as they were not found in embedding space:\n",
            "['sostok', 'eostok', 'कोविड', 'कोवैक्सीन', 'कोविशील्ड', 'सिंघू', 'ओमीक्रोन', 'गलवान', 'रेमडेसिविर', 'पृथकवास'] are some such words\n"
          ]
        }
      ],
      "source": [
        "text_matrix = create_weight_matrix(ft, text_voc, text_tokenizer)"
      ]
    },
    {
      "cell_type": "code",
      "execution_count": null,
      "metadata": {
        "colab": {
          "base_uri": "https://localhost:8080/"
        },
        "id": "JfwGKA-iLuXE",
        "outputId": "329c96aa-1cbb-4e5e-ec57-edd65918d6ad"
      },
      "outputs": [
        {
          "output_type": "stream",
          "name": "stdout",
          "text": [
            "3273 words were considered as they were found in embedding space:\n",
            "['में', 'के', 'की', 'ने', 'से', 'को', 'का', 'पर', 'और', 'कोरोना'] are some such words\n",
            "\n",
            "12 words were randomly alloted as they were not found in embedding space:\n",
            "['sostok', 'eostok', 'कोविड', 'कोवैक्सीन', 'गलवान', 'कोविशील्ड', 'सिंघू', 'रोहिंग्याओं', 'पैगसस', 'रेमडेसिविर'] are some such words\n"
          ]
        }
      ],
      "source": [
        "summ_matrix = create_weight_matrix(ft, summary_voc, summary_tokenizer)"
      ]
    },
    {
      "cell_type": "code",
      "execution_count": null,
      "metadata": {
        "id": "QIZKSd8jLzcu"
      },
      "outputs": [],
      "source": [
        "with open(pathToFolder + 'text_matrix.pickle', 'wb') as handle:\n",
        "    pickle.dump(text_matrix, handle, protocol=pickle.HIGHEST_PROTOCOL)\n",
        "\n",
        "with open(pathToFolder + 'summ_matrix.pickle', 'wb') as handle:\n",
        "    pickle.dump(summ_matrix, handle, protocol=pickle.HIGHEST_PROTOCOL)"
      ]
    },
    {
      "cell_type": "markdown",
      "metadata": {
        "id": "12m5eijBNuxp"
      },
      "source": [
        "# Modelling"
      ]
    },
    {
      "cell_type": "code",
      "execution_count": null,
      "metadata": {
        "id": "0wemKHB_MDxF"
      },
      "outputs": [],
      "source": [
        "import pandas as pd\n",
        "import numpy as np\n",
        "import tensorflow as tf\n",
        "import keras\n",
        "import time\n",
        "import re\n",
        "import pickle\n",
        "import matplotlib.pyplot as plt"
      ]
    },
    {
      "cell_type": "code",
      "execution_count": null,
      "metadata": {
        "id": "44P8XFqjMIip"
      },
      "outputs": [],
      "source": [
        "BUFFER_SIZE = 20000\n",
        "BATCH_SIZE = 16"
      ]
    },
    {
      "cell_type": "code",
      "execution_count": null,
      "metadata": {
        "colab": {
          "base_uri": "https://localhost:8080/"
        },
        "id": "yqrnFEuoMLDk",
        "outputId": "d7b3412c-32da-4740-c1a8-c0ff3bcc7853"
      },
      "outputs": [
        {
          "output_type": "execute_result",
          "data": {
            "text/plain": [
              "(7957, 1000)"
            ]
          },
          "metadata": {},
          "execution_count": 156
        }
      ],
      "source": [
        "with open(pathToFolder + 'cleaned_text.pickle', 'rb') as handle:\n",
        "    cleaned_text = pickle.load(handle)\n",
        "with open(pathToFolder + 'cleaned_summary.pickle', 'rb') as handle:\n",
        "    cleaned_summary = pickle.load(handle)\n",
        "\n",
        "cleaned_text.shape"
      ]
    },
    {
      "cell_type": "code",
      "execution_count": null,
      "metadata": {
        "id": "aKn8HfmxMYZC"
      },
      "outputs": [],
      "source": [
        "x_train, y_train = cleaned_text[:cleaned_text.shape[0]-df_test.shape[0], :], cleaned_summary[:cleaned_summary.shape[0]-df_test.shape[0], :]\n",
        "x_test, y_test = cleaned_text[:-df_test.shape[0], :], cleaned_summary[:-df_test.shape[0], :]"
      ]
    },
    {
      "cell_type": "code",
      "execution_count": null,
      "metadata": {
        "id": "k_DJaTwbMaWB"
      },
      "outputs": [],
      "source": [
        "dataset = tf.data.Dataset.from_tensor_slices((x_train, y_train)).shuffle(BUFFER_SIZE).batch(BATCH_SIZE)\n",
        "test_dataset = tf.data.Dataset.from_tensor_slices((x_test, y_test)).batch(BATCH_SIZE)"
      ]
    },
    {
      "cell_type": "code",
      "execution_count": null,
      "metadata": {
        "id": "4aM45Ce8Mx_W"
      },
      "outputs": [],
      "source": [
        "def get_angles(position, i, d_model):\n",
        "    angle_rates = 1 / np.power(10000, (2 * (i // 2)) / np.float32(d_model))\n",
        "    return position * angle_rates"
      ]
    },
    {
      "cell_type": "code",
      "execution_count": null,
      "metadata": {
        "id": "KQxI5SyVM3UZ"
      },
      "outputs": [],
      "source": [
        "def positional_encoding(position, d_model):\n",
        "    angle_rads = get_angles(\n",
        "        np.arange(position)[:, np.newaxis],\n",
        "        np.arange(d_model)[np.newaxis, :],\n",
        "        d_model\n",
        "    )\n",
        "\n",
        "    # apply sin to even indices in the array; 2i\n",
        "    angle_rads[:, 0::2] = np.sin(angle_rads[:, 0::2])\n",
        "\n",
        "    # apply cos to odd indices in the array; 2i+1\n",
        "    angle_rads[:, 1::2] = np.cos(angle_rads[:, 1::2])\n",
        "\n",
        "    pos_encoding = angle_rads[np.newaxis, ...]\n",
        "\n",
        "    return tf.cast(pos_encoding, dtype=tf.float32)"
      ]
    },
    {
      "cell_type": "code",
      "execution_count": null,
      "metadata": {
        "id": "5YyGDnJjM81y"
      },
      "outputs": [],
      "source": [
        "def create_padding_mask(seq):\n",
        "    seq = tf.cast(tf.math.equal(seq, 0), tf.float32)\n",
        "    return seq[:, tf.newaxis, tf.newaxis, :]"
      ]
    },
    {
      "cell_type": "code",
      "execution_count": null,
      "metadata": {
        "id": "C_q6L6VmM_gR"
      },
      "outputs": [],
      "source": [
        "def create_look_ahead_mask(size):\n",
        "    mask = 1 - tf.linalg.band_part(tf.ones((size, size)), -1, 0)\n",
        "    return mask"
      ]
    },
    {
      "cell_type": "markdown",
      "metadata": {
        "id": "ugwS5_VDNzdp"
      },
      "source": [
        "# Building the Model"
      ]
    },
    {
      "cell_type": "markdown",
      "metadata": {
        "id": "CM1Bxhg_N_QM"
      },
      "source": [
        "Scalar Dot Product"
      ]
    },
    {
      "cell_type": "code",
      "execution_count": null,
      "metadata": {
        "id": "_wfGc1YBOBLm"
      },
      "outputs": [],
      "source": [
        "def scaled_dot_product_attention(q, k, v, mask):\n",
        "    matmul_qk = tf.matmul(q, k, transpose_b=True)\n",
        "\n",
        "    dk = tf.cast(tf.shape(k)[-1], tf.float32)\n",
        "    scaled_attention_logits = matmul_qk / tf.math.sqrt(dk)\n",
        "\n",
        "    if mask is not None:\n",
        "        scaled_attention_logits += (mask * -1e9)\n",
        "\n",
        "    attention_weights = tf.nn.softmax(scaled_attention_logits, axis=-1)\n",
        "\n",
        "    output = tf.matmul(attention_weights, v)\n",
        "    return output, attention_weights"
      ]
    },
    {
      "cell_type": "markdown",
      "metadata": {
        "id": "PXog7A0WOEOh"
      },
      "source": [
        "Multi-Head Attention"
      ]
    },
    {
      "cell_type": "code",
      "execution_count": null,
      "metadata": {
        "id": "_rbnCDZPOHTd"
      },
      "outputs": [],
      "source": [
        "class MultiHeadAttention(tf.keras.layers.Layer):\n",
        "    def __init__(self, d_model, num_heads):\n",
        "        super(MultiHeadAttention, self).__init__()\n",
        "        self.num_heads = num_heads\n",
        "        self.d_model = d_model\n",
        "\n",
        "        assert d_model % self.num_heads == 0\n",
        "\n",
        "        self.depth = d_model // self.num_heads\n",
        "\n",
        "        self.wq = tf.keras.layers.Dense(d_model)\n",
        "        self.wk = tf.keras.layers.Dense(d_model)\n",
        "        self.wv = tf.keras.layers.Dense(d_model)\n",
        "\n",
        "        self.dense = tf.keras.layers.Dense(d_model)\n",
        "\n",
        "    def split_heads(self, x, batch_size):\n",
        "        x = tf.reshape(x, (batch_size, -1, self.num_heads, self.depth))\n",
        "        return tf.transpose(x, perm=[0, 2, 1, 3])\n",
        "\n",
        "    def call(self, v, k, q, mask):\n",
        "        batch_size = tf.shape(q)[0]\n",
        "\n",
        "        q = self.wq(q)\n",
        "        k = self.wk(k)\n",
        "        v = self.wv(v)\n",
        "\n",
        "        q = self.split_heads(q, batch_size)\n",
        "        k = self.split_heads(k, batch_size)\n",
        "        v = self.split_heads(v, batch_size)\n",
        "\n",
        "        scaled_attention, attention_weights = scaled_dot_product_attention(\n",
        "            q, k, v, mask)\n",
        "\n",
        "        scaled_attention = tf.transpose(scaled_attention, perm=[0, 2, 1, 3])\n",
        "\n",
        "        concat_attention = tf.reshape(scaled_attention, (batch_size, -1, self.d_model))\n",
        "        output = self.dense(concat_attention)\n",
        "\n",
        "        return output, attention_weights"
      ]
    },
    {
      "cell_type": "markdown",
      "metadata": {
        "id": "Kc-EGAqiOWME"
      },
      "source": [
        "Feed Forwrad Network"
      ]
    },
    {
      "cell_type": "code",
      "execution_count": null,
      "metadata": {
        "id": "-B_ELDBCOR_P"
      },
      "outputs": [],
      "source": [
        "def point_wise_feed_forward_network(d_model, dff):\n",
        "    return tf.keras.Sequential([\n",
        "        tf.keras.layers.Dense(dff, activation='relu'),\n",
        "        tf.keras.layers.Dense(d_model)\n",
        "    ])"
      ]
    },
    {
      "cell_type": "markdown",
      "metadata": {
        "id": "M5C_OA7vOmzZ"
      },
      "source": [
        "Single Encoder Layer"
      ]
    },
    {
      "cell_type": "code",
      "execution_count": null,
      "metadata": {
        "id": "i_65UDVNOcxM"
      },
      "outputs": [],
      "source": [
        "class EncoderLayer(tf.keras.layers.Layer):\n",
        "    def __init__(self, d_model, num_heads, dff, rate=0.1):\n",
        "        super(EncoderLayer, self).__init__()\n",
        "\n",
        "        self.mha = MultiHeadAttention(d_model, num_heads)\n",
        "        self.ffn = point_wise_feed_forward_network(d_model, dff)\n",
        "\n",
        "        self.layernorm1 = tf.keras.layers.LayerNormalization(epsilon=1e-6)\n",
        "        self.layernorm2 = tf.keras.layers.LayerNormalization(epsilon=1e-6)\n",
        "\n",
        "        self.dropout1 = tf.keras.layers.Dropout(rate)\n",
        "        self.dropout2 = tf.keras.layers.Dropout(rate)\n",
        "\n",
        "    def call(self, x, training, mask):\n",
        "        attn_output, _ = self.mha(x, x, x, mask)\n",
        "        attn_output = self.dropout1(attn_output, training=training)\n",
        "        out1 = self.layernorm1(x + attn_output)\n",
        "\n",
        "        ffn_output = self.ffn(out1)\n",
        "        ffn_output = self.dropout2(ffn_output, training=training)\n",
        "        out2 = self.layernorm2(out1 + ffn_output)\n",
        "\n",
        "        return out2"
      ]
    },
    {
      "cell_type": "markdown",
      "metadata": {
        "id": "yxQr0wOJOy8k"
      },
      "source": [
        "Single Decoder Layer"
      ]
    },
    {
      "cell_type": "code",
      "execution_count": null,
      "metadata": {
        "id": "lVABDKktOrG4"
      },
      "outputs": [],
      "source": [
        "class DecoderLayer(tf.keras.layers.Layer):\n",
        "    def __init__(self, d_model, num_heads, dff, rate=0.1):\n",
        "        super(DecoderLayer, self).__init__()\n",
        "\n",
        "        self.mha1 = MultiHeadAttention(d_model, num_heads)\n",
        "        self.mha2 = MultiHeadAttention(d_model, num_heads)\n",
        "\n",
        "        self.ffn = point_wise_feed_forward_network(d_model, dff)\n",
        "\n",
        "        self.layernorm1 = tf.keras.layers.LayerNormalization(epsilon=1e-6)\n",
        "        self.layernorm2 = tf.keras.layers.LayerNormalization(epsilon=1e-6)\n",
        "        self.layernorm3 = tf.keras.layers.LayerNormalization(epsilon=1e-6)\n",
        "\n",
        "        self.dropout1 = tf.keras.layers.Dropout(rate)\n",
        "        self.dropout2 = tf.keras.layers.Dropout(rate)\n",
        "        self.dropout3 = tf.keras.layers.Dropout(rate)\n",
        "\n",
        "\n",
        "    def call(self, x, enc_output, training, look_ahead_mask, padding_mask):\n",
        "        attn1, attn_weights_block1 = self.mha1(x, x, x, look_ahead_mask)\n",
        "        attn1 = self.dropout1(attn1, training=training)\n",
        "        out1 = self.layernorm1(attn1 + x)\n",
        "\n",
        "        attn2, attn_weights_block2 = self.mha2(enc_output, enc_output, out1, padding_mask)\n",
        "        attn2 = self.dropout2(attn2, training=training)\n",
        "        out2 = self.layernorm2(attn2 + out1)\n",
        "\n",
        "        ffn_output = self.ffn(out2)\n",
        "        ffn_output = self.dropout3(ffn_output, training=training)\n",
        "        out3 = self.layernorm3(ffn_output + out2)\n",
        "\n",
        "        return out3, attn_weights_block1, attn_weights_block2"
      ]
    },
    {
      "cell_type": "markdown",
      "metadata": {
        "id": "R5O10N3aPIHq"
      },
      "source": [
        "Encoder"
      ]
    },
    {
      "cell_type": "code",
      "execution_count": null,
      "metadata": {
        "id": "FXOqO22vO22B"
      },
      "outputs": [],
      "source": [
        "class Encoder(tf.keras.layers.Layer):\n",
        "    def __init__(self, num_layers, d_model, num_heads, dff, input_vocab_size, maximum_position_encoding, emb_matrix, max_len, rate=0.1):\n",
        "        super(Encoder, self).__init__()\n",
        "\n",
        "        self.d_model = d_model\n",
        "        self.num_layers = num_layers\n",
        "\n",
        "        self.embedding = tf.keras.layers.Embedding(input_dim = input_vocab_size,\n",
        "                      output_dim = d_model,\n",
        "                      input_length = max_len, # max_len of text sequence - 300\n",
        "                      weights=[emb_matrix],\n",
        "                      trainable=False) # static weights to be assigned from pretrained embedding\n",
        "        #self.embedding = tf.keras.layers.Embedding(input_vocab_size, d_model)\n",
        "        self.pos_encoding = positional_encoding(maximum_position_encoding, self.d_model)\n",
        "\n",
        "        self.enc_layers = [EncoderLayer(d_model, num_heads, dff, rate) for _ in range(num_layers)]\n",
        "\n",
        "        self.dropout = tf.keras.layers.Dropout(rate)\n",
        "\n",
        "    def call(self, x, training, mask):\n",
        "        seq_len = tf.shape(x)[1]\n",
        "\n",
        "        x = self.embedding(x)\n",
        "        x *= tf.math.sqrt(tf.cast(self.d_model, tf.float32))\n",
        "        x += self.pos_encoding[:, :seq_len, :]\n",
        "\n",
        "        x = self.dropout(x, training=training)\n",
        "\n",
        "        for i in range(self.num_layers):\n",
        "            x = self.enc_layers[i](x, training, mask)\n",
        "\n",
        "        return x"
      ]
    },
    {
      "cell_type": "markdown",
      "metadata": {
        "id": "-R1W2I_XPSVk"
      },
      "source": [
        "Decoder"
      ]
    },
    {
      "cell_type": "code",
      "execution_count": null,
      "metadata": {
        "id": "H-WWK2xnPWrz"
      },
      "outputs": [],
      "source": [
        "class Decoder(tf.keras.layers.Layer):\n",
        "    def __init__(self, num_layers, d_model, num_heads, dff, target_vocab_size, maximum_position_encoding, emb_matrix, max_len, rate=0.1):\n",
        "        super(Decoder, self).__init__()\n",
        "\n",
        "        self.d_model = d_model\n",
        "        self.num_layers = num_layers\n",
        "\n",
        "        #self.embedding = tf.keras.layers.Embedding(target_vocab_size, d_model)\n",
        "        self.embedding = tf.keras.layers.Embedding(input_dim = target_vocab_size,\n",
        "                      output_dim = d_model,\n",
        "                      input_length = max_len, # max_len of summ sequence - 16\n",
        "                      weights=[emb_matrix],\n",
        "                      trainable=False)\n",
        "        self.pos_encoding = positional_encoding(maximum_position_encoding, d_model)\n",
        "\n",
        "        self.dec_layers = [DecoderLayer(d_model, num_heads, dff, rate) for _ in range(num_layers)]\n",
        "        self.dropout = tf.keras.layers.Dropout(rate)\n",
        "\n",
        "    def call(self, x, enc_output, training, look_ahead_mask, padding_mask):\n",
        "        seq_len = tf.shape(x)[1]\n",
        "        attention_weights = {}\n",
        "\n",
        "        x = self.embedding(x)\n",
        "        x *= tf.math.sqrt(tf.cast(self.d_model, tf.float32))\n",
        "        x += self.pos_encoding[:, :seq_len, :]\n",
        "\n",
        "        x = self.dropout(x, training=training)\n",
        "\n",
        "        for i in range(self.num_layers):\n",
        "            x, block1, block2 = self.dec_layers[i](x, enc_output, training, look_ahead_mask, padding_mask)\n",
        "\n",
        "            attention_weights['decoder_layer{}_block1'.format(i+1)] = block1\n",
        "            attention_weights['decoder_layer{}_block2'.format(i+1)] = block2\n",
        "\n",
        "        return x, attention_weights"
      ]
    },
    {
      "cell_type": "markdown",
      "metadata": {
        "id": "N3CEZf-rPaGL"
      },
      "source": [
        "Transformer Model"
      ]
    },
    {
      "cell_type": "code",
      "execution_count": null,
      "metadata": {
        "id": "NG40JDztPgAr"
      },
      "outputs": [],
      "source": [
        "class Transformer(tf.keras.Model):\n",
        "    def __init__(self, num_layers, d_model, num_heads, dff, input_vocab_size, target_vocab_size, pe_input, pe_target, text_matrix, max_len_text, summ_matrix, max_len_summ, rate=0.1):\n",
        "        super(Transformer, self).__init__()\n",
        "\n",
        "        self.encoder = Encoder(num_layers, d_model, num_heads, dff, input_vocab_size, pe_input, text_matrix, max_len_text, rate)\n",
        "        self.decoder = Decoder(num_layers, d_model, num_heads, dff, target_vocab_size, pe_target, summ_matrix, max_len_summ, rate)\n",
        "        self.final_layer = tf.keras.layers.Dense(target_vocab_size)\n",
        "\n",
        "    def call(self, inp, tar, training, enc_padding_mask, look_ahead_mask, dec_padding_mask):\n",
        "        enc_output = self.encoder(inp, training, enc_padding_mask)\n",
        "        dec_output, attention_weights = self.decoder(tar, enc_output, training, look_ahead_mask, dec_padding_mask)\n",
        "        final_output = self.final_layer(dec_output)\n",
        "\n",
        "        return final_output, attention_weights"
      ]
    },
    {
      "cell_type": "markdown",
      "metadata": {
        "id": "2TipSMpAQZKe"
      },
      "source": [
        "# Training"
      ]
    },
    {
      "cell_type": "code",
      "execution_count": null,
      "metadata": {
        "id": "G30W9q5CQgr1"
      },
      "outputs": [],
      "source": [
        "with open(pathToFolder + 'text_matrix.pickle', 'rb') as handle:\n",
        "    text_matrix = pickle.load(handle)\n",
        "with open(pathToFolder + 'summ_matrix.pickle', 'rb') as handle:\n",
        "    summ_matrix = pickle.load(handle)"
      ]
    },
    {
      "cell_type": "code",
      "execution_count": null,
      "metadata": {
        "id": "TR_RNqUdQuko"
      },
      "outputs": [],
      "source": [
        "# hyper-params\n",
        "num_layers = 4\n",
        "d_model = text_matrix.shape[1]\n",
        "dff = 512\n",
        "num_heads = 10\n",
        "EPOCHS = 20\n",
        "max_len_text = 1000\n",
        "max_len_summ = 25"
      ]
    },
    {
      "cell_type": "code",
      "execution_count": null,
      "metadata": {
        "id": "ejXEn8juQw5h"
      },
      "outputs": [],
      "source": [
        "encoder_vocab_size = text_voc\n",
        "decoder_vocab_size = summary_voc"
      ]
    },
    {
      "cell_type": "code",
      "execution_count": null,
      "metadata": {
        "id": "Wp4RsKjmQzZy"
      },
      "outputs": [],
      "source": [
        "# Custom Scheduler\n",
        "class CustomSchedule(tf.keras.optimizers.schedules.LearningRateSchedule):\n",
        "    def __init__(self, d_model, warmup_steps=4000):\n",
        "        super(CustomSchedule, self).__init__()\n",
        "\n",
        "        self.d_model = d_model\n",
        "        self.d_model = tf.cast(self.d_model, dtype=tf.float32)\n",
        "        self.warmup_steps = warmup_steps\n",
        "\n",
        "    def __call__(self, step):\n",
        "        self.step = tf.cast(step, dtype=tf.float32)\n",
        "        arg1 = tf.math.rsqrt(self.step)\n",
        "        arg2 = step * (self.warmup_steps ** -1.5)\n",
        "\n",
        "        return tf.math.rsqrt(self.d_model) * tf.math.minimum(arg1, arg2)"
      ]
    },
    {
      "cell_type": "code",
      "execution_count": null,
      "metadata": {
        "colab": {
          "base_uri": "https://localhost:8080/",
          "height": 467
        },
        "id": "Yh6KITmmc6Vv",
        "outputId": "80fcf0cc-8139-4f30-b793-33a5fb704139"
      },
      "outputs": [
        {
          "output_type": "execute_result",
          "data": {
            "text/plain": [
              "Text(0.5, 0, 'Train Step')"
            ]
          },
          "metadata": {},
          "execution_count": 175
        },
        {
          "output_type": "display_data",
          "data": {
            "text/plain": [
              "<Figure size 640x480 with 1 Axes>"
            ],
            "image/png": "[encoded data removed]"
          },
          "metadata": {}
        }
      ],
      "source": [
        "temp_learning_rate_schedule = CustomSchedule(d_model)\n",
        "\n",
        "plt.plot(temp_learning_rate_schedule(tf.range(40000, dtype=tf.float32)))\n",
        "plt.ylabel(\"Learning Rate\")\n",
        "plt.xlabel(\"Train Step\")"
      ]
    },
    {
      "cell_type": "code",
      "execution_count": null,
      "metadata": {
        "id": "EF1ticB7REQ5"
      },
      "outputs": [],
      "source": [
        "# Creating Adam Optimizer with Custom Learning Rate\n",
        "learning_rate = 0.0001\n",
        "optimizer = tf.keras.optimizers.Adam(learning_rate, beta_1=0.9, beta_2=0.98, epsilon=1e-9)"
      ]
    },
    {
      "cell_type": "code",
      "execution_count": null,
      "metadata": {
        "id": "e5hZgW8YRPmD"
      },
      "outputs": [],
      "source": [
        "loss_object = tf.keras.losses.SparseCategoricalCrossentropy(from_logits=True, reduction='none')"
      ]
    },
    {
      "cell_type": "code",
      "execution_count": null,
      "metadata": {
        "id": "EYJdJNCDRTVy"
      },
      "outputs": [],
      "source": [
        "def loss_function(real, pred):\n",
        "    mask = tf.math.logical_not(tf.math.equal(real, 0))\n",
        "    loss_ = loss_object(real, pred)\n",
        "\n",
        "    mask = tf.cast(mask, dtype=loss_.dtype)\n",
        "    loss_ *= mask\n",
        "\n",
        "    return tf.reduce_sum(loss_)/tf.reduce_sum(mask)"
      ]
    },
    {
      "cell_type": "code",
      "execution_count": null,
      "metadata": {
        "id": "GHXkqtKWRZdA"
      },
      "outputs": [],
      "source": [
        "train_loss = tf.keras.metrics.Mean(name='train_loss')\n",
        "val_loss = tf.keras.metrics.Mean(name='val_loss')"
      ]
    },
    {
      "cell_type": "code",
      "execution_count": null,
      "metadata": {
        "id": "zmpE7RzHRcHA"
      },
      "outputs": [],
      "source": [
        "transformer = Transformer(\n",
        "    num_layers,\n",
        "    d_model,\n",
        "    num_heads,\n",
        "    dff,\n",
        "    encoder_vocab_size,\n",
        "    decoder_vocab_size,\n",
        "    pe_input = encoder_vocab_size,\n",
        "    pe_target = decoder_vocab_size,\n",
        "    text_matrix = text_matrix,\n",
        "    max_len_text = max_len_text,\n",
        "    summ_matrix = summ_matrix,\n",
        "    max_len_summ = max_len_summ\n",
        ")"
      ]
    },
    {
      "cell_type": "code",
      "execution_count": null,
      "metadata": {
        "id": "PTb1me1hRlWr"
      },
      "outputs": [],
      "source": [
        "def create_masks(inp, tar):\n",
        "    enc_padding_mask = create_padding_mask(inp)\n",
        "    dec_padding_mask = create_padding_mask(inp)\n",
        "\n",
        "    look_ahead_mask = create_look_ahead_mask(tf.shape(tar)[1])\n",
        "    dec_target_padding_mask = create_padding_mask(tar)\n",
        "    combined_mask = tf.maximum(dec_target_padding_mask, look_ahead_mask)\n",
        "\n",
        "    return enc_padding_mask, combined_mask, dec_padding_mask"
      ]
    },
    {
      "cell_type": "code",
      "execution_count": null,
      "metadata": {
        "colab": {
          "base_uri": "https://localhost:8080/"
        },
        "id": "viPalroeRpok",
        "outputId": "ffb48d65-7aec-4ca3-8c3f-af9a49f4b579"
      },
      "outputs": [
        {
          "output_type": "stream",
          "name": "stdout",
          "text": [
            "Latest checkpoint restored!!\n"
          ]
        }
      ],
      "source": [
        "checkpoint_path = pathToFolder + \"checkpoints\"\n",
        "\n",
        "ckpt = tf.train.Checkpoint(transformer=transformer, optimizer=optimizer)\n",
        "\n",
        "ckpt_manager = tf.train.CheckpointManager(ckpt, checkpoint_path, max_to_keep=5)\n",
        "\n",
        "if ckpt_manager.latest_checkpoint:\n",
        "    ckpt.restore(ckpt_manager.latest_checkpoint)\n",
        "    print ('Latest checkpoint restored!!')"
      ]
    },
    {
      "cell_type": "code",
      "execution_count": null,
      "metadata": {
        "id": "uS1QvrM-RxyL"
      },
      "outputs": [],
      "source": [
        "# Training\n",
        "@tf.function\n",
        "def train_step(inp, tar):\n",
        "    tar_inp = tar[:, :-1]\n",
        "    tar_real = tar[:, 1:]\n",
        "\n",
        "    enc_padding_mask, combined_mask, dec_padding_mask = create_masks(inp, tar_inp)\n",
        "\n",
        "    with tf.GradientTape() as tape:\n",
        "        predictions, _ = transformer(\n",
        "            inp, tar_inp,\n",
        "            True,\n",
        "            enc_padding_mask,\n",
        "            combined_mask,\n",
        "            dec_padding_mask\n",
        "        )\n",
        "        loss = loss_function(tar_real, predictions)\n",
        "\n",
        "    gradients = tape.gradient(loss, transformer.trainable_variables)\n",
        "    optimizer.apply_gradients(zip(gradients, transformer.trainable_variables))\n",
        "\n",
        "    train_loss(loss)"
      ]
    },
    {
      "cell_type": "code",
      "execution_count": null,
      "metadata": {
        "id": "AtW4qh4sd7uO"
      },
      "outputs": [],
      "source": [
        "# Validation\n",
        "@tf.function\n",
        "def val_step(inp, tar):\n",
        "    tar_inp = tar[:, :-1]\n",
        "    tar_real = tar[:, 1:]\n",
        "\n",
        "    enc_padding_mask, combined_mask, dec_padding_mask = create_masks(inp, tar_inp)\n",
        "\n",
        "    with tf.GradientTape() as tape:\n",
        "        predictions, _ = transformer(\n",
        "            inp, tar_inp,\n",
        "            False,\n",
        "            enc_padding_mask,\n",
        "            combined_mask,\n",
        "            dec_padding_mask\n",
        "        )\n",
        "        loss = loss_function(tar_real, predictions)\n",
        "    val_loss(loss)"
      ]
    },
    {
      "cell_type": "code",
      "execution_count": null,
      "metadata": {
        "colab": {
          "base_uri": "https://localhost:8080/",
          "height": 1000
        },
        "id": "2RNsMkpZec7M",
        "outputId": "102807fa-fbe1-465b-dc01-1c3e8595131e"
      },
      "outputs": [
        {
          "output_type": "error",
          "ename": "InvalidArgumentError",
          "evalue": "in user code:\n\n    File \"<ipython-input-151-27c1bfca62e0>\", line 10, in train_step  *\n        predictions, _ = transformer(\n    File \"/usr/local/lib/python3.10/dist-packages/keras/src/utils/traceback_utils.py\", line 70, in error_handler  **\n        raise e.with_traceback(filtered_tb) from None\n\n    InvalidArgumentError: Exception encountered when calling layer 'transformer_6' (type Transformer).\n    \n    in user code:\n    \n        File \"<ipython-input-61-39e0f6ed1fbf>\", line 10, in call  *\n            enc_output = self.encoder(inp, training, enc_padding_mask)\n        File \"/usr/local/lib/python3.10/dist-packages/keras/src/utils/traceback_utils.py\", line 70, in error_handler  **\n            raise e.with_traceback(filtered_tb) from None\n    \n        InvalidArgumentError: Exception encountered when calling layer 'encoder_6' (type Encoder).\n        \n        in user code:\n        \n            File \"<ipython-input-59-c29993253f3e>\", line 23, in call  *\n                x = self.embedding(x)\n            File \"/usr/local/lib/python3.10/dist-packages/keras/src/utils/traceback_utils.py\", line 70, in error_handler  **\n                raise e.with_traceback(filtered_tb) from None\n            File \"/usr/local/lib/python3.10/dist-packages/keras/src/backend.py\", line 4359, in _assign_value_to_variable\n                variable.assign(value)\n        \n            InvalidArgumentError: {{function_node __wrapped__AssignVariableOp_device_/job:localhost/replica:0/task:0/device:GPU:0}} Trying to assign to variable with tensor with wrong shape. Expected [15587,300] got [18539,300] [Op:AssignVariableOp] name: \n        \n        \n        Call arguments received by layer 'encoder_6' (type Encoder):\n          • x=tf.Tensor(shape=(16, 1000), dtype=int32)\n          • training=True\n          • mask=tf.Tensor(shape=(16, 1, 1, 1000), dtype=float32)\n    \n    \n    Call arguments received by layer 'transformer_6' (type Transformer):\n      • inp=tf.Tensor(shape=(16, 1000), dtype=int32)\n      • tar=tf.Tensor(shape=(16, 24), dtype=int32)\n      • training=True\n      • enc_padding_mask=tf.Tensor(shape=(16, 1, 1, 1000), dtype=float32)\n      • look_ahead_mask=tf.Tensor(shape=(16, 1, 24, 24), dtype=float32)\n      • dec_padding_mask=tf.Tensor(shape=(16, 1, 1, 1000), dtype=float32)\n",
          "traceback": [
            "\u001b[0;31m---------------------------------------------------------------------------\u001b[0m",
            "\u001b[0;31mInvalidArgumentError\u001b[0m                      Traceback (most recent call last)",
            "\u001b[0;32m<ipython-input-185-9468cd4a5dfe>\u001b[0m in \u001b[0;36m<cell line: 3>\u001b[0;34m()\u001b[0m\n\u001b[1;32m      8\u001b[0m     \u001b[0;31m#training set - forward prop, loss fn, (gradient descent and optimization) backprop\u001b[0m\u001b[0;34m\u001b[0m\u001b[0;34m\u001b[0m\u001b[0m\n\u001b[1;32m      9\u001b[0m     \u001b[0;32mfor\u001b[0m \u001b[0;34m(\u001b[0m\u001b[0mbatch\u001b[0m\u001b[0;34m,\u001b[0m \u001b[0;34m(\u001b[0m\u001b[0minp\u001b[0m\u001b[0;34m,\u001b[0m \u001b[0mtar\u001b[0m\u001b[0;34m)\u001b[0m\u001b[0;34m)\u001b[0m \u001b[0;32min\u001b[0m \u001b[0menumerate\u001b[0m\u001b[0;34m(\u001b[0m\u001b[0mdataset\u001b[0m\u001b[0;34m)\u001b[0m\u001b[0;34m:\u001b[0m\u001b[0;34m\u001b[0m\u001b[0;34m\u001b[0m\u001b[0m\n\u001b[0;32m---> 10\u001b[0;31m         \u001b[0mtrain_step\u001b[0m\u001b[0;34m(\u001b[0m\u001b[0minp\u001b[0m\u001b[0;34m,\u001b[0m \u001b[0mtar\u001b[0m\u001b[0;34m)\u001b[0m\u001b[0;34m\u001b[0m\u001b[0;34m\u001b[0m\u001b[0m\n\u001b[0m\u001b[1;32m     11\u001b[0m \u001b[0;34m\u001b[0m\u001b[0m\n\u001b[1;32m     12\u001b[0m         \u001b[0;31m# 85k samples\u001b[0m\u001b[0;34m\u001b[0m\u001b[0;34m\u001b[0m\u001b[0m\n",
            "\u001b[0;32m/usr/local/lib/python3.10/dist-packages/tensorflow/python/util/traceback_utils.py\u001b[0m in \u001b[0;36merror_handler\u001b[0;34m(*args, **kwargs)\u001b[0m\n\u001b[1;32m    151\u001b[0m     \u001b[0;32mexcept\u001b[0m \u001b[0mException\u001b[0m \u001b[0;32mas\u001b[0m \u001b[0me\u001b[0m\u001b[0;34m:\u001b[0m\u001b[0;34m\u001b[0m\u001b[0;34m\u001b[0m\u001b[0m\n\u001b[1;32m    152\u001b[0m       \u001b[0mfiltered_tb\u001b[0m \u001b[0;34m=\u001b[0m \u001b[0m_process_traceback_frames\u001b[0m\u001b[0;34m(\u001b[0m\u001b[0me\u001b[0m\u001b[0;34m.\u001b[0m\u001b[0m__traceback__\u001b[0m\u001b[0;34m)\u001b[0m\u001b[0;34m\u001b[0m\u001b[0;34m\u001b[0m\u001b[0m\n\u001b[0;32m--> 153\u001b[0;31m       \u001b[0;32mraise\u001b[0m \u001b[0me\u001b[0m\u001b[0;34m.\u001b[0m\u001b[0mwith_traceback\u001b[0m\u001b[0;34m(\u001b[0m\u001b[0mfiltered_tb\u001b[0m\u001b[0;34m)\u001b[0m \u001b[0;32mfrom\u001b[0m \u001b[0;32mNone\u001b[0m\u001b[0;34m\u001b[0m\u001b[0;34m\u001b[0m\u001b[0m\n\u001b[0m\u001b[1;32m    154\u001b[0m     \u001b[0;32mfinally\u001b[0m\u001b[0;34m:\u001b[0m\u001b[0;34m\u001b[0m\u001b[0;34m\u001b[0m\u001b[0m\n\u001b[1;32m    155\u001b[0m       \u001b[0;32mdel\u001b[0m \u001b[0mfiltered_tb\u001b[0m\u001b[0;34m\u001b[0m\u001b[0;34m\u001b[0m\u001b[0m\n",
            "\u001b[0;32m/usr/local/lib/python3.10/dist-packages/tensorflow/python/eager/polymorphic_function/autograph_util.py\u001b[0m in \u001b[0;36mautograph_handler\u001b[0;34m(*args, **kwargs)\u001b[0m\n\u001b[1;32m     50\u001b[0m     \u001b[0;32mexcept\u001b[0m \u001b[0mException\u001b[0m \u001b[0;32mas\u001b[0m \u001b[0me\u001b[0m\u001b[0;34m:\u001b[0m  \u001b[0;31m# pylint:disable=broad-except\u001b[0m\u001b[0;34m\u001b[0m\u001b[0;34m\u001b[0m\u001b[0m\n\u001b[1;32m     51\u001b[0m       \u001b[0;32mif\u001b[0m \u001b[0mhasattr\u001b[0m\u001b[0;34m(\u001b[0m\u001b[0me\u001b[0m\u001b[0;34m,\u001b[0m \u001b[0;34m\"ag_error_metadata\"\u001b[0m\u001b[0;34m)\u001b[0m\u001b[0;34m:\u001b[0m\u001b[0;34m\u001b[0m\u001b[0;34m\u001b[0m\u001b[0m\n\u001b[0;32m---> 52\u001b[0;31m         \u001b[0;32mraise\u001b[0m \u001b[0me\u001b[0m\u001b[0;34m.\u001b[0m\u001b[0mag_error_metadata\u001b[0m\u001b[0;34m.\u001b[0m\u001b[0mto_exception\u001b[0m\u001b[0;34m(\u001b[0m\u001b[0me\u001b[0m\u001b[0;34m)\u001b[0m\u001b[0;34m\u001b[0m\u001b[0;34m\u001b[0m\u001b[0m\n\u001b[0m\u001b[1;32m     53\u001b[0m       \u001b[0;32melse\u001b[0m\u001b[0;34m:\u001b[0m\u001b[0;34m\u001b[0m\u001b[0;34m\u001b[0m\u001b[0m\n\u001b[1;32m     54\u001b[0m         \u001b[0;32mraise\u001b[0m\u001b[0;34m\u001b[0m\u001b[0;34m\u001b[0m\u001b[0m\n",
            "\u001b[0;31mInvalidArgumentError\u001b[0m: in user code:\n\n    File \"<ipython-input-151-27c1bfca62e0>\", line 10, in train_step  *\n        predictions, _ = transformer(\n    File \"/usr/local/lib/python3.10/dist-packages/keras/src/utils/traceback_utils.py\", line 70, in error_handler  **\n        raise e.with_traceback(filtered_tb) from None\n\n    InvalidArgumentError: Exception encountered when calling layer 'transformer_6' (type Transformer).\n    \n    in user code:\n    \n        File \"<ipython-input-61-39e0f6ed1fbf>\", line 10, in call  *\n            enc_output = self.encoder(inp, training, enc_padding_mask)\n        File \"/usr/local/lib/python3.10/dist-packages/keras/src/utils/traceback_utils.py\", line 70, in error_handler  **\n            raise e.with_traceback(filtered_tb) from None\n    \n        InvalidArgumentError: Exception encountered when calling layer 'encoder_6' (type Encoder).\n        \n        in user code:\n        \n            File \"<ipython-input-59-c29993253f3e>\", line 23, in call  *\n                x = self.embedding(x)\n            File \"/usr/local/lib/python3.10/dist-packages/keras/src/utils/traceback_utils.py\", line 70, in error_handler  **\n                raise e.with_traceback(filtered_tb) from None\n            File \"/usr/local/lib/python3.10/dist-packages/keras/src/backend.py\", line 4359, in _assign_value_to_variable\n                variable.assign(value)\n        \n            InvalidArgumentError: {{function_node __wrapped__AssignVariableOp_device_/job:localhost/replica:0/task:0/device:GPU:0}} Trying to assign to variable with tensor with wrong shape. Expected [15587,300] got [18539,300] [Op:AssignVariableOp] name: \n        \n        \n        Call arguments received by layer 'encoder_6' (type Encoder):\n          • x=tf.Tensor(shape=(16, 1000), dtype=int32)\n          • training=True\n          • mask=tf.Tensor(shape=(16, 1, 1, 1000), dtype=float32)\n    \n    \n    Call arguments received by layer 'transformer_6' (type Transformer):\n      • inp=tf.Tensor(shape=(16, 1000), dtype=int32)\n      • tar=tf.Tensor(shape=(16, 24), dtype=int32)\n      • training=True\n      • enc_padding_mask=tf.Tensor(shape=(16, 1, 1, 1000), dtype=float32)\n      • look_ahead_mask=tf.Tensor(shape=(16, 1, 24, 24), dtype=float32)\n      • dec_padding_mask=tf.Tensor(shape=(16, 1, 1, 1000), dtype=float32)\n"
          ]
        }
      ],
      "source": [
        "train_loss_values = []\n",
        "test_loss_values = []\n",
        "for epoch in range(EPOCHS):\n",
        "    start = time.time()\n",
        "\n",
        "    train_loss.reset_states()\n",
        "    val_loss.reset_states()\n",
        "    #training set - forward prop, loss fn, (gradient descent and optimization) backprop\n",
        "    for (batch, (inp, tar)) in enumerate(dataset):\n",
        "        train_step(inp, tar)\n",
        "\n",
        "        # 85k samples\n",
        "        # we display 3 batch results -- 0th, middle and last one (approx)\n",
        "        # 85k / 64 ~ 1328; 1328 / 2 ~ 664\n",
        "        if batch % 2601 == 0:\n",
        "            print ('Epoch {} ========> Batch {} Loss {:.4f}'.format(epoch + 1, batch, train_loss.result().numpy()))\n",
        "\n",
        "    if (epoch + 1) % 2 == 0:\n",
        "        ckpt_save_path = ckpt_manager.save()\n",
        "        print ('Saving checkpoint for epoch {} at {}'.format(epoch+1, ckpt_save_path))\n",
        "\n",
        "    train_loss_values.append(train_loss.result().numpy())\n",
        "\n",
        "    #test set - forward pass, loss fn (no backward pass)\n",
        "    for (batch, (inp, tar)) in enumerate(test_dataset):\n",
        "        val_step(inp, tar)\n",
        "\n",
        "    test_loss_values.append(val_loss.result().numpy())\n",
        "\n",
        "    print ('Epoch {}/{} ========> Training Loss {:.4f} Test/Validation Loss {:.4f}'.format(epoch + 1, EPOCHS, train_loss.result().numpy(), val_loss.result().numpy()))\n",
        "\n",
        "    print ('Time taken for epoch {}: {:.2f} secs\\n'.format(epoch+1, time.time() - start))"
      ]
    },
    {
      "cell_type": "code",
      "execution_count": null,
      "metadata": {
        "id": "yVoiQPpbhue8"
      },
      "outputs": [],
      "source": [
        "no_of_epochs = [i for i in range(EPOCHS)]\n",
        "fig , ax = plt.subplots(1,1)\n",
        "fig.set_size_inches(7,4)\n",
        "ax.plot(no_of_epochs, test_loss_values, label = 'Testing Loss')\n",
        "ax.plot(no_of_epochs, train_loss_values, label = 'Training Loss')\n",
        "ax.set_title('Categorical Crossentropy Loss vs No. of Epochs')\n",
        "ax.legend()\n",
        "ax.set_xlabel(\"No. of Epochs\")\n",
        "plt.show()"
      ]
    },
    {
      "cell_type": "code",
      "execution_count": null,
      "metadata": {
        "id": "GkbNAQ42iJKv"
      },
      "outputs": [],
      "source": [
        "with open(pathToFolder + 'text_tokenizer.pickle', 'rb') as handle:\n",
        "    text_tokenizer = pickle.load(handle)\n",
        "with open(pathToFolder + 'summary_tokenizer.pickle', 'rb') as handle:\n",
        "    summary_tokenizer = pickle.load(handle)\n",
        "max_text_len = 300\n",
        "max_summary_len = 16"
      ]
    },
    {
      "cell_type": "code",
      "execution_count": null,
      "metadata": {
        "id": "wpN_qrhbiNLy"
      },
      "outputs": [],
      "source": [
        "def predict(input_document):\n",
        "    # #clean\n",
        "    #input_document = preprocess_tokenize(input_document)\n",
        "    input_document = \"sostok \"+input_document+\" eostok\"\n",
        "    #tokenize\n",
        "    input_document = text_tokenizer.texts_to_sequences([input_document])\n",
        "    #padding\n",
        "    input_document = tf.keras.preprocessing.sequence.pad_sequences(input_document, maxlen=max_text_len, padding='post', truncating='post')\n",
        "\n",
        "    encoder_input = tf.expand_dims(input_document[0], 0)\n",
        "\n",
        "    decoder_input = [summary_tokenizer.word_index[\"sostok\"]]\n",
        "    output = tf.expand_dims(decoder_input, 0)\n",
        "\n",
        "    for i in range(max_summary_len):\n",
        "        enc_padding_mask, combined_mask, dec_padding_mask = create_masks(encoder_input, output)\n",
        "\n",
        "        predictions, attention_weights = transformer(\n",
        "            encoder_input,\n",
        "            output,\n",
        "            False,\n",
        "            enc_padding_mask,\n",
        "            combined_mask,\n",
        "            dec_padding_mask,\n",
        "        )\n",
        "\n",
        "        predictions = predictions[: ,-1:, :]\n",
        "        predicted_id = tf.cast(tf.argmax(predictions, axis=-1), tf.int32)\n",
        "\n",
        "        if predicted_id == summary_tokenizer.word_index[\"eostok\"]:\n",
        "            return tf.squeeze(output, axis=0), attention_weights\n",
        "\n",
        "        output = tf.concat([output, predicted_id], axis=-1)\n",
        "\n",
        "    return tf.squeeze(output, axis=0), attention_weights"
      ]
    },
    {
      "cell_type": "code",
      "execution_count": null,
      "metadata": {
        "id": "IqiL98QHiUfq"
      },
      "outputs": [],
      "source": [
        "def summarize(input_document):\n",
        "    # not considering attention weights for now, can be used to plot attention heatmaps in the future\n",
        "    summarized = predict(input_document=input_document)[0].numpy()\n",
        "    summarized = np.expand_dims(summarized[1:], 0)  # not printing <go> token\n",
        "    return summary_tokenizer.sequences_to_texts(summarized)[0]  # since there is just one translated document"
      ]
    },
    {
      "cell_type": "code",
      "execution_count": null,
      "metadata": {
        "id": "cwnkhZF0iWT4"
      },
      "outputs": [],
      "source": [
        "summarize(\"पूर्व प्रधानमंत्री और कांग्रेस के दिग्गज नेता राजीव गांधी की आज 75वीं जयंती है. इस मौके पर कांग्रेस अध्यक्ष राहुल गांधी, यूपीए चेयरपर्सन सोनिया गांधी, प्रियंका गांधी, पूर्व प्रधानमंत्री मनमोहन सिंह समेत कई बड़े कांग्रेस नेताओं ने उन्हें श्रद्धांजलि अर्पित की. प्रधानमंत्री नरेंद्र मोदी ने भी ट्वीट कर उन्हें श्रद्धांजलि दी. बता दें कि राजीव गांधी का जन्म आज ही के दिन 1944 में हुआ था. 21 मई, 1991 को उनकी हत्या कर दी गई थी. राजीव गांधी 1984 से 1989 तक प्रधानमंत्री रहे. तमिलनाडु के श्रीपेरंबुदुर में 21 मई, 1991 को आम चुनाव के प्रचार के दौरान एलटीटीई के एक आत्मघाती हमलावर ने राजीव गांधी की हत्या कर दी थी. 1984 में इंदिरा गांधी की हत्या के बाद वह भारी बहुमत के साथ प्रधानमंत्री बने. राजीव गांधी की राजनीति में कोई रूचि नहीं थी और वो एक एयरलाइन पायलट की नौकरी करते थे और उसी में खुश थे. लेकिन आपातकाल के उपरान्त जब इंदिरा गांधी को सत्ता छोड़नी पड़ी थी. वहीं साल 1980 में छोटे भाई संजय गांधी की हवाई जहाज दुर्घटना में मृत्यु हो जाने के बाद माता इंदिरा का सहयोग देने के लिए उन्होंने राजनीति में प्रवेश कर लिया.\")"
      ]
    },
    {
      "cell_type": "markdown",
      "metadata": {
        "id": "DujDrKSFim4H"
      },
      "source": [
        "# Testing"
      ]
    },
    {
      "cell_type": "code",
      "execution_count": null,
      "metadata": {
        "colab": {
          "background_save": true
        },
        "id": "D7C3HFrNio-o"
      },
      "outputs": [],
      "source": [
        "documents = df_train['Article']\n",
        "summary = df_train['Heading']"
      ]
    },
    {
      "cell_type": "code",
      "execution_count": null,
      "metadata": {
        "colab": {
          "background_save": true
        },
        "id": "Oi927BRGitSm"
      },
      "outputs": [],
      "source": [
        "samples = [17, 35, 69, 21, 26]\n",
        "docs = []\n",
        "summ = []\n",
        "pred = []\n",
        "for i in samples:\n",
        "  pred.append(summarize(documents[i]))\n",
        "  docs.append(' '.join(documents[i].split(' ')[:100]))\n",
        "  summ.append(summary[i])\n",
        "\n",
        "\n",
        "result_df = pd.DataFrame({'Input': docs, 'Reference Summary': summ, 'Model Output Summary': pred})\n",
        "result_df[['Input', 'Reference Summary', 'Model Output Summary']] #17, 69, 21, 26, 35\n",
        "result_df.style.set_properties(subset=['Input'], **{'width': '400px'})"
      ]
    },
    {
      "cell_type": "markdown",
      "metadata": {
        "id": "-AUsCZhvj9Pa"
      },
      "source": [
        "# Evaluation Metrics"
      ]
    },
    {
      "cell_type": "code",
      "execution_count": null,
      "metadata": {
        "colab": {
          "base_uri": "https://localhost:8080/"
        },
        "id": "G3bHSTGSkBHi",
        "outputId": "e06b1c1c-e9d1-4578-9478-91bb568e5185"
      },
      "outputs": [
        {
          "name": "stdout",
          "output_type": "stream",
          "text": [
            "Collecting rouge\n",
            "  Downloading rouge-1.0.1-py3-none-any.whl (13 kB)\n",
            "Requirement already satisfied: six in /usr/local/lib/python3.10/dist-packages (from rouge) (1.16.0)\n",
            "Installing collected packages: rouge\n",
            "Successfully installed rouge-1.0.1\n"
          ]
        }
      ],
      "source": [
        "!pip install rouge"
      ]
    },
    {
      "cell_type": "code",
      "execution_count": null,
      "metadata": {
        "id": "td9HbBdPkB0b"
      },
      "outputs": [],
      "source": [
        "from rouge import Rouge\n",
        "rouge = Rouge()\n",
        "\n",
        "summary = result_df['Model Output Summary']\n",
        "reference = result_df['Reference Summary']\n",
        "\n",
        "rouge_score = rouge.get_scores(summary,reference)\n",
        "rouge_score\n",
        "# plt.plot(rouge_score)"
      ]
    },
    {
      "cell_type": "code",
      "execution_count": null,
      "metadata": {
        "id": "gtaSFjTnvTCp"
      },
      "outputs": [],
      "source": [
        "import matplotlib.pyplot as plt\n",
        "rouge_1, rouge_2, rouge_l = [], [], []\n",
        "\n",
        "for r in rouge_score:\n",
        "  for key, value in r.items():\n",
        "    if key == 'rouge-1':\n",
        "      rouge_1.append(value)\n",
        "    elif key == 'rouge-2':\n",
        "      rouge_2.append(value)\n",
        "    elif key == 'rouge-l':\n",
        "      rouge_l.append(value)\n",
        "\n",
        "# Plotting the scores\n",
        "def plotRougeScore(rouge, title):\n",
        "  fig, ax = plt.subplots(1,5)\n",
        "  fig.set_size_inches(15,3)\n",
        "  i=0\n",
        "  for r1 in rouge:\n",
        "      ax[i].bar(r1.keys(), r1.values())\n",
        "      ax[i].set_ylim(0, 1)\n",
        "      ax[i].set_title(title)\n",
        "      i+=1\n",
        "  plt.show()\n",
        "\n",
        "plotRougeScore(rouge_1, 'Rouge-1 Score')\n",
        "plotRougeScore(rouge_2, 'Rouge-2 Score')\n",
        "plotRougeScore(rouge_l, 'Rouge-l Score')"
      ]
    }
  ],
  "metadata": {
    "accelerator": "GPU",
    "colab": {
      "collapsed_sections": [
        "26YA1Ta-f1li",
        "5G0mqcrPwuFI",
        "xn0bOX9Jygju",
        "okbKsZjd3qIg",
        "SX2v535D7aFh",
        "ZopRw5uTLHx1",
        "12m5eijBNuxp",
        "ugwS5_VDNzdp",
        "2TipSMpAQZKe"
      ],
      "provenance": []
    },
    "kernelspec": {
      "display_name": "Python 3",
      "name": "python3"
    },
    "language_info": {
      "name": "python"
    }
  },
  "nbformat": 4,
  "nbformat_minor": 0
}